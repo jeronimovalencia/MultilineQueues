{
 "cells": [
  {
   "cell_type": "markdown",
   "metadata": {},
   "source": [
    "# Multiline Diagrams"
   ]
  },
  {
   "cell_type": "code",
   "execution_count": 53,
   "metadata": {},
   "outputs": [],
   "source": [
    "%run MultilineDiagrams.ipynb"
   ]
  },
  {
   "cell_type": "markdown",
   "metadata": {},
   "source": [
    "## Object Construction"
   ]
  },
  {
   "cell_type": "code",
   "execution_count": 54,
   "metadata": {},
   "outputs": [
    {
     "name": "stdout",
     "output_type": "stream",
     "text": [
      "Initial ball arrangement:\n"
     ]
    },
    {
     "data": {
      "image/png": "[encoded data removed]",
      "text/plain": [
       "Graphics object consisting of 20 graphics primitives"
      ]
     },
     "metadata": {},
     "output_type": "display_data"
    },
    {
     "name": "stdout",
     "output_type": "stream",
     "text": [
      "Column word\n",
      "11311221213\n",
      "Charge\n",
      "2\n",
      "Cocharge\n",
      "5\n",
      "\n",
      "\n",
      "After pairing:\n",
      "\n",
      "\n",
      "[3, 3, 2, 1, 1, 1]\n",
      "tilde maj\n",
      "q^5\n"
     ]
    },
    {
     "data": {
      "image/png": "[encoded data removed]",
      "text/plain": [
       "Graphics object consisting of 37 graphics primitives"
      ]
     },
     "metadata": {},
     "output_type": "display_data"
    },
    {
     "name": "stdout",
     "output_type": "stream",
     "text": [
      "Recording tableau:\n",
      "\n",
      "\n",
      "\n",
      "\n",
      "\n",
      "\n",
      "\n",
      "\n",
      "\n",
      "\n",
      "\n",
      "Charge\n"
     ]
    },
    {
     "ename": "ValueError",
     "evalue": "a tableau must not have empty rows",
     "output_type": "error",
     "traceback": [
      "\u001b[0;31m---------------------------------------------------------------------------\u001b[0m",
      "\u001b[0;31mValueError\u001b[0m                                Traceback (most recent call last)",
      "Cell \u001b[0;32mIn[54], line 61\u001b[0m\n\u001b[1;32m     59\u001b[0m print_list_of_lists(\u001b[38;5;28mlist\u001b[39m(\u001b[38;5;28mreversed\u001b[39m(T)))\n\u001b[1;32m     60\u001b[0m \u001b[38;5;28mprint\u001b[39m(\u001b[38;5;124m\"\u001b[39m\u001b[38;5;124mCharge\u001b[39m\u001b[38;5;124m\"\u001b[39m)\n\u001b[0;32m---> 61\u001b[0m \u001b[38;5;28mprint\u001b[39m(\u001b[43mTableau\u001b[49m\u001b[43m(\u001b[49m\u001b[43mT\u001b[49m\u001b[43m)\u001b[49m\u001b[38;5;241m.\u001b[39mcharge())\n\u001b[1;32m     62\u001b[0m \u001b[38;5;28mprint\u001b[39m(\u001b[38;5;124m\"\u001b[39m\u001b[38;5;124mCocharge\u001b[39m\u001b[38;5;124m\"\u001b[39m)\n\u001b[1;32m     63\u001b[0m \u001b[38;5;28mprint\u001b[39m(Tableau(T)\u001b[38;5;241m.\u001b[39mcocharge())\n",
      "File \u001b[0;32m~/miniforge3/envs/sage/lib/python3.12/site-packages/sage/misc/classcall_metaclass.pyx:321\u001b[0m, in \u001b[0;36msage.misc.classcall_metaclass.ClasscallMetaclass.__call__ (build/cythonized/sage/misc/classcall_metaclass.c:3190)\u001b[0;34m()\u001b[0m\n\u001b[1;32m    319\u001b[0m \"\"\"\n\u001b[1;32m    320\u001b[0m if cls.classcall is not None:\n\u001b[0;32m--> 321\u001b[0m     return cls.classcall(cls, *args, **kwds)\n\u001b[1;32m    322\u001b[0m else:\n\u001b[1;32m    323\u001b[0m     # Fast version of type.__call__(cls, *args, **kwds)\n",
      "File \u001b[0;32m~/miniforge3/envs/sage/lib/python3.12/site-packages/sage/combinat/tableau.py:211\u001b[0m, in \u001b[0;36mTableau.__classcall_private__\u001b[0;34m(cls, t)\u001b[0m\n\u001b[1;32m    208\u001b[0m \u001b[38;5;28;01mexcept\u001b[39;00m \u001b[38;5;167;01mTypeError\u001b[39;00m:\n\u001b[1;32m    209\u001b[0m     \u001b[38;5;28;01mraise\u001b[39;00m \u001b[38;5;167;01mValueError\u001b[39;00m(\u001b[38;5;124m\"\u001b[39m\u001b[38;5;124ma tableau must be a list of iterables\u001b[39m\u001b[38;5;124m\"\u001b[39m)\n\u001b[0;32m--> 211\u001b[0m \u001b[38;5;28;01mreturn\u001b[39;00m \u001b[43mTableaux_all\u001b[49m\u001b[43m(\u001b[49m\u001b[43m)\u001b[49m\u001b[38;5;241;43m.\u001b[39;49m\u001b[43melement_class\u001b[49m\u001b[43m(\u001b[49m\u001b[43mTableaux_all\u001b[49m\u001b[43m(\u001b[49m\u001b[43m)\u001b[49m\u001b[43m,\u001b[49m\u001b[43m \u001b[49m\u001b[43mt\u001b[49m\u001b[43m)\u001b[49m\n",
      "File \u001b[0;32m~/miniforge3/envs/sage/lib/python3.12/site-packages/sage/misc/classcall_metaclass.pyx:324\u001b[0m, in \u001b[0;36msage.misc.classcall_metaclass.ClasscallMetaclass.__call__ (build/cythonized/sage/misc/classcall_metaclass.c:3216)\u001b[0;34m()\u001b[0m\n\u001b[1;32m    322\u001b[0m     else:\n\u001b[1;32m    323\u001b[0m         # Fast version of type.__call__(cls, *args, **kwds)\n\u001b[0;32m--> 324\u001b[0m         return (<PyTypeObject*>type).tp_call(cls, args, kwds)\n\u001b[1;32m    325\u001b[0m \n\u001b[1;32m    326\u001b[0m def __get__(cls, instance, owner):\n",
      "File \u001b[0;32m~/miniforge3/envs/sage/lib/python3.12/site-packages/sage/combinat/tableau.py:255\u001b[0m, in \u001b[0;36mTableau.__init__\u001b[0;34m(self, parent, t, check)\u001b[0m\n\u001b[1;32m    252\u001b[0m \u001b[38;5;66;03m# Normalize t to be a list of tuples.\u001b[39;00m\n\u001b[1;32m    253\u001b[0m t \u001b[38;5;241m=\u001b[39m [\u001b[38;5;28mtuple\u001b[39m(_) \u001b[38;5;28;01mfor\u001b[39;00m _ \u001b[38;5;129;01min\u001b[39;00m t]\n\u001b[0;32m--> 255\u001b[0m \u001b[43mClonableList\u001b[49m\u001b[38;5;241;43m.\u001b[39;49m\u001b[38;5;21;43m__init__\u001b[39;49m\u001b[43m(\u001b[49m\u001b[38;5;28;43mself\u001b[39;49m\u001b[43m,\u001b[49m\u001b[43m \u001b[49m\u001b[43mparent\u001b[49m\u001b[43m,\u001b[49m\u001b[43m \u001b[49m\u001b[43mt\u001b[49m\u001b[43m,\u001b[49m\u001b[43m \u001b[49m\u001b[43mcheck\u001b[49m\u001b[38;5;241;43m=\u001b[39;49m\u001b[43mcheck\u001b[49m\u001b[43m)\u001b[49m\n",
      "File \u001b[0;32m~/miniforge3/envs/sage/lib/python3.12/site-packages/sage/structure/list_clone.pyx:556\u001b[0m, in \u001b[0;36msage.structure.list_clone.ClonableArray.__init__ (build/cythonized/sage/structure/list_clone.c:9809)\u001b[0;34m()\u001b[0m\n\u001b[1;32m    554\u001b[0m     self._is_immutable = immutable\n\u001b[1;32m    555\u001b[0m     if check:\n\u001b[0;32m--> 556\u001b[0m         self.check()\n\u001b[1;32m    557\u001b[0m \n\u001b[1;32m    558\u001b[0m def _repr_(self):\n",
      "File \u001b[0;32m~/miniforge3/envs/sage/lib/python3.12/site-packages/sage/structure/list_clone.pyx:893\u001b[0m, in \u001b[0;36msage.structure.list_clone.ClonableArray.check (build/cythonized/sage/structure/list_clone.c:12804)\u001b[0;34m()\u001b[0m\n\u001b[1;32m    891\u001b[0m     return res\n\u001b[1;32m    892\u001b[0m \n\u001b[0;32m--> 893\u001b[0m cpdef check(self):\n\u001b[1;32m    894\u001b[0m     \"\"\"\n\u001b[1;32m    895\u001b[0m     Check that ``self`` fulfill the invariants.\n",
      "File \u001b[0;32m~/miniforge3/envs/sage/lib/python3.12/site-packages/sage/combinat/tableau.py:338\u001b[0m, in \u001b[0;36mTableau.check\u001b[0;34m(self)\u001b[0m\n\u001b[1;32m    336\u001b[0m         \u001b[38;5;28;01mraise\u001b[39;00m \u001b[38;5;167;01mValueError\u001b[39;00m(\u001b[38;5;124m\"\u001b[39m\u001b[38;5;124ma tableau must be a list of iterables of weakly decreasing length\u001b[39m\u001b[38;5;124m\"\u001b[39m)\n\u001b[1;32m    337\u001b[0m \u001b[38;5;28;01mif\u001b[39;00m lens \u001b[38;5;129;01mand\u001b[39;00m lens[\u001b[38;5;241m-\u001b[39m\u001b[38;5;241m1\u001b[39m] \u001b[38;5;241m==\u001b[39m \u001b[38;5;241m0\u001b[39m:\n\u001b[0;32m--> 338\u001b[0m     \u001b[38;5;28;01mraise\u001b[39;00m \u001b[38;5;167;01mValueError\u001b[39;00m(\u001b[38;5;124m\"\u001b[39m\u001b[38;5;124ma tableau must not have empty rows\u001b[39m\u001b[38;5;124m\"\u001b[39m)\n",
      "\u001b[0;31mValueError\u001b[0m: a tableau must not have empty rows"
     ]
    }
   ],
   "source": [
    "#balls = [[2,1,0,2,0],[1,0,1,0,2],[1,0,1,1,0],[0,3,0,0,0],[1,0,0,0,1],[0,0,0,2,0]]\n",
    "balls = [[2,0,0,1],[1,1,1,0],[0,1,2,0],[1,0,0,2]]\n",
    "#balls = [[3,0,2,2],[0,2,1,1],[0,0,1,1],[0,0,0,0]]\n",
    "\n",
    "\n",
    "#balls = [[0,1,0,0],[1,0,0,0],[1,0,0,0],[0,0,0,1],[1,0,0,0],[0,1,0,0],[0,0,1,0]]\n",
    "#balls = [[0,0,3],[0,1,1],[1,0,0],[0,1,0]]\n",
    "\n",
    "#balls = [[1,0,0,0],[0,1,0,0],[0,0,0,1],[0,1,0,0],[0,0,1,0],[1,0,0,0],[1,0,0,0]]\n",
    "\n",
    "#balls = [[1,1,2,2],[0,1,2,0],[1,0,0,1]]\n",
    "\n",
    "#balls = list(reversed([[0,0,1,0,1],[0,1,0,1,0],[1,0,0,1,0],[0,1,1,0,0],[1,0,0,0,1]]))\n",
    "#balls = list(([[0,1,1,1,1,1,1,1,1],[1,0,1,1,1,0,0,1,0],[1,1,0,0,1,0,1,0,0],[0,1,0,1,0,1,0,0,0],[0,0,1,0,1,0,0,0,0],[1,0,1,0,0,0,0,0,0],[0,1,0,0,0,0,0,0,0]]))\n",
    "\n",
    "#balls = [[2,0,0,1],[1,1,1,0],[0,1,2,0],[1,0,0,2]]\n",
    "\n",
    "balls = [[1,1,2,2],[0,1,2,0],[1,0,0,1]]\n",
    "\n",
    "\n",
    "print(\"Initial ball arrangement:\")\n",
    "D = MultilineDiagram(balls)\n",
    "D.draw(0.35,\"numbers\")\n",
    "#D.draw(0.075,\"balls\")\n",
    "colword = Word(D.cw())\n",
    "\n",
    "\n",
    "print(\"Column word\")\n",
    "print(colword)\n",
    "print(\"Charge\")\n",
    "print(colword.charge())\n",
    "print(\"Cocharge\")\n",
    "print(colword.cocharge())\n",
    "print(\"\\n\")\n",
    "\n",
    "# Pairing case:\n",
    "case = 0\n",
    "\n",
    "print(\"After pairing:\")\n",
    "print(\"\\n\")\n",
    "D.pair(case)\n",
    "\n",
    "print(D.partition())\n",
    "\n",
    "print(\"tilde maj\")\n",
    "print(D.comaj())\n",
    "\n",
    "D.draw(0.15,\"numbers\")\n",
    "#D.draw(0.1,\"balls\")\n",
    "\n",
    "#print(D.qweight())\n",
    "#print(D.comaj())\n",
    "\n",
    "print(\"Recording tableau:\")\n",
    "\n",
    "\n",
    "\n",
    "T = D.QM\n",
    "print_list_of_lists(list(reversed(T)))\n",
    "print(\"Charge\")\n",
    "print(Tableau(T).charge())\n",
    "print(\"Cocharge\")\n",
    "print(Tableau(T).cocharge())\n",
    "\n",
    "print(D.xweight())"
   ]
  },
  {
   "cell_type": "code",
   "execution_count": null,
   "metadata": {},
   "outputs": [],
   "source": []
  },
  {
   "cell_type": "code",
   "execution_count": 11,
   "metadata": {},
   "outputs": [
    {
     "name": "stdout",
     "output_type": "stream",
     "text": [
      "Initial ball arrangement:\n"
     ]
    },
    {
     "data": {
      "image/png": "[encoded data removed]",
      "text/plain": [
       "Graphics object consisting of 23 graphics primitives"
      ]
     },
     "metadata": {},
     "output_type": "display_data"
    },
    {
     "name": "stdout",
     "output_type": "stream",
     "text": [
      "After pairing:\n",
      "\n",
      "\n"
     ]
    },
    {
     "data": {
      "image/png": "[encoded data removed]",
      "text/plain": [
       "Graphics object consisting of 40 graphics primitives"
      ]
     },
     "metadata": {},
     "output_type": "display_data"
    },
    {
     "name": "stdout",
     "output_type": "stream",
     "text": [
      "Recording tableau:\n",
      " 3  3\n",
      " 2  2  3  4\n",
      " 1  1  1  1  2  2  3\n"
     ]
    }
   ],
   "source": [
    "balls = [[2,0,0,2],[0,1,3,0],[1,0,1,2],[0,1,0,0]]\n",
    "\n",
    "print(\"Initial ball arrangement:\")\n",
    "D = MultilineDiagram(balls)\n",
    "D.draw(0.2,\"numbers\")\n",
    "\n",
    "\n",
    "# Pairing case:\n",
    "case = 1\n",
    "\n",
    "print(\"After pairing:\")\n",
    "print(\"\\n\")\n",
    "D.pair(case)\n",
    "\n",
    "D.draw(0.25,\"numbers\")\n",
    "\n",
    "print(\"Recording tableau:\")\n",
    "\n",
    "T = D.QM\n",
    "print_list_of_lists(list(reversed(T)))"
   ]
  },
  {
   "cell_type": "code",
   "execution_count": 28,
   "metadata": {},
   "outputs": [
    {
     "name": "stdout",
     "output_type": "stream",
     "text": [
      "Initial ball arrangement:\n"
     ]
    },
    {
     "data": {
      "image/png": "[encoded data removed]",
      "text/plain": [
       "Graphics object consisting of 22 graphics primitives"
      ]
     },
     "metadata": {},
     "output_type": "display_data"
    },
    {
     "name": "stdout",
     "output_type": "stream",
     "text": [
      "After pairing:\n",
      "\n",
      "\n"
     ]
    },
    {
     "data": {
      "image/png": "[encoded data removed]",
      "text/plain": [
       "Graphics object consisting of 39 graphics primitives"
      ]
     },
     "metadata": {},
     "output_type": "display_data"
    },
    {
     "name": "stdout",
     "output_type": "stream",
     "text": [
      "Recording tableau:\n",
      " 3  4\n",
      " 2  2  3  4\n",
      " 1  1  1  3  3  4  4\n"
     ]
    }
   ],
   "source": [
    "balls = rotate_counterclockwise([[3,0,2,2],[0,2,1,1],[0,0,1,1]])\n",
    "#balls = [[2,0,0],[0,1,0],[0,0,1],[2,0,0],[0,1,0],[0,0,1],[0,2,0],[3,0,0]]\n",
    "\n",
    "print(\"Initial ball arrangement:\")\n",
    "D = MultilineDiagram(balls)\n",
    "D.draw(0.2,\"numbers\")\n",
    "\n",
    "\n",
    "# Pairing case:\n",
    "case = 4\n",
    "\n",
    "print(\"After pairing:\")\n",
    "print(\"\\n\")\n",
    "D.pair(case)\n",
    "\n",
    "D.draw(0.25,\"numbers\")\n",
    "\n",
    "print(\"Recording tableau:\")\n",
    "\n",
    "T = D.QM\n",
    "print_list_of_lists(list(reversed(T)))\n"
   ]
  },
  {
   "cell_type": "markdown",
   "metadata": {},
   "source": [
    "## Multiline Diagrams RSK"
   ]
  },
  {
   "cell_type": "code",
   "execution_count": 8,
   "metadata": {},
   "outputs": [
    {
     "name": "stdout",
     "output_type": "stream",
     "text": [
      "Original integer matrix\n"
     ]
    },
    {
     "data": {
      "image/png": "[encoded data removed]",
      "text/plain": [
       "Graphics object consisting of 24 graphics primitives"
      ]
     },
     "metadata": {},
     "output_type": "display_data"
    },
    {
     "name": "stdout",
     "output_type": "stream",
     "text": [
      "Collapse Down\n"
     ]
    },
    {
     "data": {
      "image/png": "[encoded data removed]",
      "text/plain": [
       "Graphics object consisting of 38 graphics primitives"
      ]
     },
     "metadata": {},
     "output_type": "display_data"
    },
    {
     "name": "stdout",
     "output_type": "stream",
     "text": [
      "Recording Tableau\n",
      " 3  3\n",
      " 2  2  3\n",
      " 1  1  1  1  1  2  2  4\n",
      "\n",
      "\n",
      "Collapse Left\n"
     ]
    },
    {
     "data": {
      "image/png": "[encoded data removed]",
      "text/plain": [
       "Graphics object consisting of 37 graphics primitives"
      ]
     },
     "metadata": {},
     "output_type": "display_data"
    },
    {
     "name": "stdout",
     "output_type": "stream",
     "text": [
      "Recording Tableau\n",
      " 5  5\n",
      " 3  3  5\n",
      " 1  2  2  2  2  3  3  4\n",
      "\n",
      "\n",
      "Collapse Left-Down\n"
     ]
    },
    {
     "data": {
      "image/png": "[encoded data removed]",
      "text/plain": [
       "Graphics object consisting of 36 graphics primitives"
      ]
     },
     "metadata": {},
     "output_type": "display_data"
    },
    {
     "name": "stdout",
     "output_type": "stream",
     "text": [
      "Recording Tableau\n",
      " 3  3\n",
      " 2  2  3\n",
      " 1  1  1  1  1  2  2  4\n",
      "\n",
      "\n",
      "Collapse Down-Left\n"
     ]
    },
    {
     "data": {
      "image/png": "[encoded data removed]",
      "text/plain": [
       "Graphics object consisting of 36 graphics primitives"
      ]
     },
     "metadata": {},
     "output_type": "display_data"
    },
    {
     "name": "stdout",
     "output_type": "stream",
     "text": [
      "Recording Tableau\n",
      " 5  5\n",
      " 3  3  5\n",
      " 1  2  2  2  2  3  3  4\n",
      "\n",
      "\n",
      "Check that the inverse works:\n"
     ]
    },
    {
     "data": {
      "image/png": "[encoded data removed]",
      "text/plain": [
       "Graphics object consisting of 24 graphics primitives"
      ]
     },
     "metadata": {},
     "output_type": "display_data"
    }
   ],
   "source": [
    "#balls = [[0,0,0,0,0,1,2],[0,0,1,1,1,0,2],[0,2,1,0,1,1,0],[1,1,0,1,1,0,3],[1,0,1,0,1,2,0]]\n",
    "\n",
    "#balls = [[1,0,1,1,1,0],[2,0,2,0,0,1],[0,1,0,3,1,0],[0,2,0,1,0,2],[1,0,3,0,1,0]]\n",
    "\n",
    "balls = [[2,0,0,2,1],[1,0,3,0,0],[0,0,1,2,0],[0,1,0,0,0]]\n",
    "\n",
    "dRSK(balls,2)"
   ]
  },
  {
   "cell_type": "code",
   "execution_count": null,
   "metadata": {},
   "outputs": [],
   "source": [
    "#balls = [[3, 2, 0, 3, 0], [0, 3, 2, 0, 3], [0, 0, 3, 2, 0], [0, 0, 0, 2, 1], [0, 0, 0, 0, 1]]\n",
    "#balls = [[5, 1, 3, 0], [0, 3, 0, 0], [0, 0, 0, 1]]\n",
    "balls = [[0, 0, 0, 0, 0, 1, 7], [0, 0, 1, 1, 3, 3, 0], [0, 2, 1, 1, 1, 0, 0], [1, 1, 1, 0, 0, 0, 0], [1, 0, 0, 0, 0, 0, 0]]\n",
    "\n",
    "case = 4\n",
    "\n",
    "M = MultilineDiagram(balls)\n",
    "M.pair(case)\n",
    "print(\"Multiline Diagram\")\n",
    "M.draw(0.2,\"numbers\")\n",
    "\n",
    "#Qtab = [[1, 1, 1, 1, 1, 1, 1, 2], [2, 2, 2, 3, 3, 3, 4, 5], [3, 4, 5, 6, 6], [5, 6, 7], [7]]\n",
    "#Qtab = [[1, 2, 2, 2, 3, 3, 5, 5, 5], [2, 3, 3], [4]]\n",
    "Qtab = [[1, 1, 1, 2, 2, 4, 4, 4], [2, 2, 2, 3, 3, 5, 5, 5], [3, 3, 3, 4, 4], [4, 4, 5], [5]]\n",
    "\n",
    "print(\"Tableau\")\n",
    "print_list_of_lists(list(reversed(Qtab)))\n",
    "print(\"\\n\")\n",
    "\n",
    "balls_inv = list(mRSK_inverse(M,Qtab,case))\n",
    "binInv = MultilineDiagram(balls_inv)\n",
    "binInv.draw(0.2,\"numbers\")"
   ]
  },
  {
   "cell_type": "markdown",
   "metadata": {},
   "source": [
    "## Algebraic Combinatorics"
   ]
  },
  {
   "cell_type": "code",
   "execution_count": null,
   "metadata": {},
   "outputs": [],
   "source": [
    "##   Test   ##\n",
    "\n",
    "#Schur Polynomials\n",
    "\n",
    "n = 7\n",
    "R=PolynomialRing(coeffs_field,n,'x')\n",
    "xs = R.gens()\n",
    "shape = [2,2,1]\n",
    "\n",
    "print(schur_mld(n,shape))"
   ]
  },
  {
   "cell_type": "code",
   "execution_count": null,
   "metadata": {},
   "outputs": [],
   "source": [
    "n = 7\n",
    "R=PolynomialRing(coeffs_field,n,'x')\n",
    "xs = R.gens()\n",
    "\n",
    "#Kotska-Foulkes Polynomials\n",
    "\n",
    "lam = Partition([4,2,1])\n",
    "mu = Partition([5,2])\n",
    "#print(KostKaFoulkesPol_mld(n,lam,mu))\n",
    "\n",
    "\n",
    "#print(s(W(mu.conjugate())))\n",
    "print(s(Ht(lam)))\n",
    "#print(s(sym.from_polynomial(cocharge_gen(n,mu))))\n",
    "#Modified Kotska-Foulkes Polynomials\n",
    "\n",
    "print(modifiedKostkaFoulkesPol_mld(n,mu,lam.conjugate()))\n",
    "#print(KostkaFoulkesPolynomial(lam,mu,q))\n",
    "#print(KostkaFoulkesPolynomial(lam,mu,q))\n",
    "#print(modifiedKostkaFoulkesPol_mld(n,mu.conjugate(),lam.conjugate()))"
   ]
  },
  {
   "cell_type": "code",
   "execution_count": null,
   "metadata": {},
   "outputs": [],
   "source": [
    "lam = Partition([3,2])\n",
    "mu = Partition([4,1]).conjugate()\n",
    "print(q**6*KostkaFoulkesPolynomial(lam,mu,q**(-1)))\n",
    "print(modifiedKostkaFoulkesPol_mld(n,lam,mu))"
   ]
  },
  {
   "cell_type": "code",
   "execution_count": null,
   "metadata": {},
   "outputs": [],
   "source": [
    "lam = [2,1]\n",
    "n = 3\n",
    "\n",
    "f = cocharge_gen(n,lam)\n",
    "\n",
    "print(f)\n",
    "print(Ht(lam).expand(n))"
   ]
  },
  {
   "cell_type": "code",
   "execution_count": null,
   "metadata": {},
   "outputs": [],
   "source": [
    "lam = [2,1]\n",
    "n = 3\n",
    "\n",
    "f = charge_gen(n,lam)\n",
    "\n",
    "print(f)\n",
    "print(Ht(lam).expand(n))"
   ]
  },
  {
   "cell_type": "code",
   "execution_count": null,
   "metadata": {},
   "outputs": [],
   "source": [
    "print(s(W([4,2,1])))"
   ]
  },
  {
   "cell_type": "code",
   "execution_count": null,
   "metadata": {},
   "outputs": [],
   "source": []
  }
 ],
 "metadata": {
  "kernelspec": {
   "display_name": "SageMath 10.6",
   "language": "sage",
   "name": "sagemath"
  },
  "language_info": {
   "codemirror_mode": {
    "name": "ipython",
    "version": 3
   },
   "file_extension": ".py",
   "mimetype": "text/x-python",
   "name": "python",
   "nbconvert_exporter": "python",
   "pygments_lexer": "ipython3",
   "version": "3.12.10"
  }
 },
 "nbformat": 4,
 "nbformat_minor": 4
}
