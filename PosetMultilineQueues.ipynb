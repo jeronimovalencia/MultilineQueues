{
 "cells": [
  {
   "cell_type": "markdown",
   "metadata": {},
   "source": [
    "# Poset Multiline Queues"
   ]
  },
  {
   "cell_type": "markdown",
   "metadata": {},
   "source": [
    "## General packages"
   ]
  },
  {
   "cell_type": "code",
   "execution_count": 16,
   "metadata": {},
   "outputs": [],
   "source": [
    "import itertools \n",
    "import copy\n",
    "from sage.combinat.q_analogues import *\n",
    "from sage.combinat.sf.sf import *\n",
    "from sage.combinat.ncsf_qsym.qsym import *\n",
    "from sage.rings.rational_field import *\n",
    "from sage.combinat.subset import *\n",
    "from sage.combinat.permutation import *\n",
    "from sage.misc.latex import *\n",
    "\n",
    "import sage.combinat.permutation as permutation\n",
    "from sage.combinat.sf.macdonald import qt_kostka\n",
    "from sage.combinat.sf.ns_macdonald import E\n",
    "from sage.rings.polynomial.polydict import ETuple\n",
    "\n",
    "coeffs_ring = ZZ['q','t']\n",
    "\n",
    "q = coeffs_ring.gens()[0]\n",
    "t = coeffs_ring.gens()[1]\n",
    "\n",
    "coeffs_field = coeffs_ring.fraction_field()\n",
    "R=PolynomialRing(coeffs_field,11,'x')\n",
    "xs=list(R.gens())\n",
    "\n",
    "sym = SymmetricFunctions(coeffs_field)\n",
    "h = sym.homogeneous()\n",
    "m = sym.monomial()\n",
    "s = sym.schur()\n",
    "e = sym.elementary()\n",
    "p = sym.power()\n",
    "Ht = sym.macdonald().Ht()\n",
    "H = sym.macdonald().H()\n",
    "W = sym.macdonald(t=0).P()\n",
    "S = sym.macdonald(q=0).S()\n",
    "\n",
    "MJ = sym.macdonald().J()\n",
    "HLP = sym.hall_littlewood(t).P()\n",
    "HLQ = sym.hall_littlewood(t).Q();\n",
    "HLQp = sym.hall_littlewood(t).Qp();\n",
    "JJ = sym.jack().J()\n",
    "qsym = QuasiSymmetricFunctions(coeffs_field)\n",
    "F = qsym.Fundamental()\n",
    "M = qsym.Monomial()\n",
    "QS = qsym.QS()\n",
    "YQS = qsym.YQS()\n",
    "\n",
    "%display latex"
   ]
  },
  {
   "cell_type": "markdown",
   "metadata": {},
   "source": [
    "### Posets"
   ]
  },
  {
   "cell_type": "code",
   "execution_count": 2,
   "metadata": {
    "scrolled": false
   },
   "outputs": [
    {
     "data": {
      "image/png": "[encoded data removed]",
      "text/plain": [
       "Graphics object consisting of 11 graphics primitives"
      ]
     },
     "metadata": {},
     "output_type": "display_data"
    },
    {
     "name": "stdout",
     "output_type": "stream",
     "text": [
      "[[], [1], [1, 2], [1, 2, 3], [1, 2, 3, 5], [1, 2, 5], [1, 3], [1, 3, 5], [1, 4], [1, 4, 5], [1, 5], [2], [2, 3], [2, 3, 5], [2, 5], [3], [3, 5], [4], [4, 5], [5]]\n"
     ]
    }
   ],
   "source": [
    "##  Definition of a poset  ##\n",
    "\n",
    "#elms = [1,2,3,4]\n",
    "#rels = [[1,2],[1,3],[2,4],[3,4]]\n",
    "\n",
    "elms = [1,2,3,4,5]\n",
    "#rels = [[1,2],[1,3],[1,4],[2,5],[3,5],[4,5]]\n",
    "rels = [[1,2],[2,3],[3,5],[1,4],[4,5]]\n",
    "\n",
    "\n",
    "P = Poset((elms, rels), cover_relations = True)\n",
    "\n",
    "\n",
    "##  Hasse diagrams  ##\n",
    "\n",
    "H = P.hasse_diagram()\n",
    "#H.plot(layout = 'acyclic')\n",
    "H.show(layout = 'acyclic')\n",
    "\n",
    "\n",
    "##  Comparing elements  ##\n",
    "\n",
    "#print(P.is_less_than(2,3))\n",
    "#print(P.is_less_than(1,4))\n",
    "#print(P(2) <= P(4))\n",
    "\n",
    "\n",
    "##  Chains  ##\n",
    "\n",
    "#print(list(P.chains()))\n",
    "#print(list(P.,maximal_chains()))\n",
    "\n",
    "\n",
    "##  Linear extensions  ##\n",
    "\n",
    "#print(list(P.linear_extensions()))\n",
    "\n",
    "\n",
    "##  idk  ##\n",
    "\n",
    "print(list(P.chains()))"
   ]
  },
  {
   "cell_type": "markdown",
   "metadata": {},
   "source": [
    "## Poset Tableaux"
   ]
  },
  {
   "cell_type": "code",
   "execution_count": 3,
   "metadata": {},
   "outputs": [],
   "source": [
    "# Gives the set of multichains of a poset P of size L\n",
    "\n",
    "def multichains(P,L):\n",
    "    C = list(P.chains())\n",
    "    N = P.cardinality()\n",
    "    \n",
    "    multichains = []\n",
    "    \n",
    "    for c in C:\n",
    "        mults = [comp for comp in Compositions(L) if len(comp) == len(c)]\n",
    "        for m in mults:\n",
    "            multi = []\n",
    "            for j in range(len(m)):\n",
    "                multi += [c[j] for k in range(m[j])]\n",
    "            multichains.append(multi)\n",
    "    \n",
    "    return(multichains)\n",
    "\n",
    "\n",
    "# Decides if a given array arr (of partition shape) is a P-tableau\n",
    "\n",
    "def is_P_tableau(P,arr):\n",
    "    ans = True\n",
    "    \n",
    "    for l in range(1,len(arr)):\n",
    "        cant = len(arr[l])\n",
    "        for i in range(cant):\n",
    "            a = arr[l-1][i]\n",
    "            b = arr[l][i]\n",
    "            \n",
    "            #Version1: incomparable elements can be in the same column\n",
    "            #if (P.is_less_than(b,a) or P(a) == P(b)):\n",
    "                \n",
    "            #Version2: columns are chains\n",
    "            if (not P.is_less_than(a,b)):\n",
    "                ans = False\n",
    "                break\n",
    "                \n",
    "        if(not ans):\n",
    "            break\n",
    "            \n",
    "    return(ans)\n",
    "    \n",
    "\n",
    "\n",
    "# For a poset P, gives the set of P-tableaux of shape lam \n",
    "\n",
    "def PosetTableaux(P,lam):\n",
    "    n = P.cardinality()\n",
    "    nums = list(range(1,n+1))\n",
    "    \n",
    "    # Construct the arrays of numbers with multichains in rows\n",
    "    \n",
    "    parts = [[] for i in range(len(lam))]\n",
    "    for j in range(len(lam)):\n",
    "        parts[j] = multichains(P,lam[j])\n",
    "    \n",
    "    P_arrays = list(itertools.product(*parts))\n",
    "    \n",
    "    #print(P_arrays)\n",
    "    \n",
    "    # Verify which arrays are a P-tableau\n",
    "    \n",
    "    P_tab = []\n",
    "    \n",
    "    for arr in P_arrays:\n",
    "        if is_P_tableau(P,arr):\n",
    "            #print(arr)\n",
    "            P_tab.append(arr)\n",
    "            \n",
    "            \n",
    "    # Construct the arrays of numbers with chains in columns\n",
    "    \n",
    "    return(P_tab)\n",
    "\n",
    "\n",
    "# Returns the x-weigth of a tableau\n",
    "\n",
    "def tab_x_weight(T,xs):\n",
    "    w = 1\n",
    "    \n",
    "    for i in range(len(T)):\n",
    "        row = T[i]\n",
    "        for j in range(len(row)):\n",
    "            num = row[j]\n",
    "            w *= xs[num-1]\n",
    "    return(w)\n",
    "    \n",
    "# Computes the Poset Schur Function of shape lam\n",
    "\n",
    "def PosetSchur(P,lam):\n",
    "    Ptab = PosetTableaux(P,lam)\n",
    "    N = P.cardinality()\n",
    "    \n",
    "    coeffs_ring = ZZ['q','t']\n",
    "    q = coeffs_ring.gens()[0]\n",
    "    t = coeffs_ring.gens()[1]\n",
    "\n",
    "    coeffs_field = coeffs_ring.fraction_field()\n",
    "    R=PolynomialRing(coeffs_field,N,'x')\n",
    "    xs=list(R.gens())\n",
    "    \n",
    "    poly = 0\n",
    "    \n",
    "    for T in Ptab:\n",
    "        poly += tab_x_weight(T,xs)\n",
    "        \n",
    "    return(poly)\n",
    "\n",
    "\n",
    "def monomial(xs,tup,comp):\n",
    "    ans = xs[0]**0\n",
    "    for i in range(len(tup)):\n",
    "        ans *= xs[tup[i]-1]**comp[i]\n",
    "    return(ans)\n",
    "\n",
    "\n",
    "\n",
    "def is_P_quasisymmetric(xs,P,f,lam):\n",
    "    p = Partition(lam)\n",
    "    M = p.size()\n",
    "    N = P.cardinality()\n",
    "    \n",
    "    ans = True\n",
    "    \n",
    "    comps = [c for c in Compositions(M) if len(c) == len(lam)]\n",
    "    subs = [s for s in Subsets(range(1,N+1)) if len(s) == len(lam)]\n",
    "    \n",
    "    for comp in comps:\n",
    "        for s1 in subs:\n",
    "            m1 = monomial(xs,s1,comp)\n",
    "            P1 = P.subposet(s1)\n",
    "            for s2 in subs:\n",
    "                P2 = P.subposet(s2)\n",
    "                \n",
    "                if(P1.is_isomorphic(P2)):\n",
    "                    m2 = monomial(xs,s2,comp)\n",
    "                    \n",
    "                    if((f.coefficient(m1)) != (f.coefficient(m2))):\n",
    "                        print(m1)\n",
    "                        print(m2)\n",
    "                        ans = False\n",
    "                        break\n",
    "                        \n",
    "            if(ans == False):\n",
    "                break\n",
    "        \n",
    "        if(ans == False):\n",
    "                break\n",
    "    \n",
    "    return(ans)\n",
    "\n",
    "def is_P_symmetric(xs,P,f,lam):\n",
    "    p = Partition(lam)\n",
    "    M = p.size()\n",
    "    N = P.cardinality()\n",
    "    \n",
    "    ans = True\n",
    "    \n",
    "    comps = [c for c in Compositions(M) if len(c) == len(lam)]\n",
    "    subs = [s for s in Subsets(range(1,N+1)) if len(s) == len(lam)]\n",
    "    \n",
    "    for comp in comps:\n",
    "        for s1 in subs:\n",
    "            m1 = monomial(xs,s1,comp)\n",
    "            P1 = P.subposet(s1)\n",
    "            for s2 in subs:\n",
    "                P2 = P.subposet(s2)\n",
    "                \n",
    "                if(P1.is_isomorphic(P2)):\n",
    "                    m2 = monomial(xs,s2,comp)\n",
    "                    \n",
    "                    if((f.coefficient(m1)) != (f.coefficient(m2))):\n",
    "                        print(m1)\n",
    "                        print(m2)\n",
    "                        ans = False\n",
    "                        break\n",
    "                        \n",
    "            if(ans == False):\n",
    "                break\n",
    "        \n",
    "        if(ans == False):\n",
    "                break\n",
    "    \n",
    "    return(ans)\n",
    "    \n",
    "    "
   ]
  },
  {
   "cell_type": "code",
   "execution_count": 4,
   "metadata": {
    "scrolled": false
   },
   "outputs": [
    {
     "name": "stdout",
     "output_type": "stream",
     "text": [
      "---\n",
      "2\n",
      "---\n",
      "[2]\n",
      "9\n",
      "[([1, 1],), ([1, 2],), ([1, 3],), ([1, 4],), ([2, 2],), ([2, 4],), ([3, 3],), ([3, 4],), ([4, 4],)]\n",
      "[1, 1]\n",
      "5\n",
      "[([1], [2]), ([1], [3]), ([1], [4]), ([2], [4]), ([3], [4])]\n",
      "---\n",
      "3\n",
      "---\n",
      "[3]\n",
      "16\n",
      "[([1, 1, 1],), ([1, 2, 2],), ([1, 1, 2],), ([1, 2, 4],), ([1, 3, 3],), ([1, 1, 3],), ([1, 3, 4],), ([1, 4, 4],), ([1, 1, 4],), ([2, 2, 2],), ([2, 4, 4],), ([2, 2, 4],), ([3, 3, 3],), ([3, 4, 4],), ([3, 3, 4],), ([4, 4, 4],)]\n",
      "[2, 1]\n",
      "16\n",
      "[([1, 1], [2]), ([1, 1], [3]), ([1, 1], [4]), ([1, 2], [2]), ([1, 2], [3]), ([1, 2], [4]), ([1, 3], [2]), ([1, 3], [3]), ([1, 3], [4]), ([1, 4], [2]), ([1, 4], [3]), ([1, 4], [4]), ([2, 2], [4]), ([2, 4], [4]), ([3, 3], [4]), ([3, 4], [4])]\n",
      "[1, 1, 1]\n",
      "2\n",
      "[([1], [2], [4]), ([1], [3], [4])]\n",
      "---\n",
      "4\n",
      "---\n",
      "[4]\n",
      "25\n",
      "[([1, 1, 1, 1],), ([1, 2, 2, 2],), ([1, 1, 2, 2],), ([1, 1, 1, 2],), ([1, 2, 4, 4],), ([1, 2, 2, 4],), ([1, 1, 2, 4],), ([1, 3, 3, 3],), ([1, 1, 3, 3],), ([1, 1, 1, 3],), ([1, 3, 4, 4],), ([1, 3, 3, 4],), ([1, 1, 3, 4],), ([1, 4, 4, 4],), ([1, 1, 4, 4],), ([1, 1, 1, 4],), ([2, 2, 2, 2],), ([2, 4, 4, 4],), ([2, 2, 4, 4],), ([2, 2, 2, 4],), ([3, 3, 3, 3],), ([3, 4, 4, 4],), ([3, 3, 4, 4],), ([3, 3, 3, 4],), ([4, 4, 4, 4],)]\n",
      "[3, 1]\n",
      "33\n",
      "[([1, 1, 1], [2]), ([1, 1, 1], [3]), ([1, 1, 1], [4]), ([1, 2, 2], [2]), ([1, 2, 2], [3]), ([1, 2, 2], [4]), ([1, 1, 2], [2]), ([1, 1, 2], [3]), ([1, 1, 2], [4]), ([1, 2, 4], [2]), ([1, 2, 4], [3]), ([1, 2, 4], [4]), ([1, 3, 3], [2]), ([1, 3, 3], [3]), ([1, 3, 3], [4]), ([1, 1, 3], [2]), ([1, 1, 3], [3]), ([1, 1, 3], [4]), ([1, 3, 4], [2]), ([1, 3, 4], [3]), ([1, 3, 4], [4]), ([1, 4, 4], [2]), ([1, 4, 4], [3]), ([1, 4, 4], [4]), ([1, 1, 4], [2]), ([1, 1, 4], [3]), ([1, 1, 4], [4]), ([2, 2, 2], [4]), ([2, 4, 4], [4]), ([2, 2, 4], [4]), ([3, 3, 3], [4]), ([3, 4, 4], [4]), ([3, 3, 4], [4])]\n",
      "[2, 2]\n",
      "13\n",
      "[([1, 1], [2, 2]), ([1, 1], [2, 4]), ([1, 1], [3, 3]), ([1, 1], [3, 4]), ([1, 1], [4, 4]), ([1, 2], [2, 4]), ([1, 2], [3, 4]), ([1, 2], [4, 4]), ([1, 3], [2, 4]), ([1, 3], [3, 4]), ([1, 3], [4, 4]), ([2, 2], [4, 4]), ([3, 3], [4, 4])]\n",
      "[2, 1, 1]\n",
      "8\n",
      "[([1, 1], [2], [4]), ([1, 1], [3], [4]), ([1, 2], [2], [4]), ([1, 2], [3], [4]), ([1, 3], [2], [4]), ([1, 3], [3], [4]), ([1, 4], [2], [4]), ([1, 4], [3], [4])]\n",
      "[1, 1, 1, 1]\n",
      "0\n",
      "[]\n",
      "---\n",
      "5\n",
      "---\n",
      "[5]\n",
      "36\n",
      "[([1, 1, 1, 1, 1],), ([1, 2, 2, 2, 2],), ([1, 1, 2, 2, 2],), ([1, 1, 1, 2, 2],), ([1, 1, 1, 1, 2],), ([1, 2, 4, 4, 4],), ([1, 2, 2, 4, 4],), ([1, 2, 2, 2, 4],), ([1, 1, 2, 4, 4],), ([1, 1, 2, 2, 4],), ([1, 1, 1, 2, 4],), ([1, 3, 3, 3, 3],), ([1, 1, 3, 3, 3],), ([1, 1, 1, 3, 3],), ([1, 1, 1, 1, 3],), ([1, 3, 4, 4, 4],), ([1, 3, 3, 4, 4],), ([1, 3, 3, 3, 4],), ([1, 1, 3, 4, 4],), ([1, 1, 3, 3, 4],), ([1, 1, 1, 3, 4],), ([1, 4, 4, 4, 4],), ([1, 1, 4, 4, 4],), ([1, 1, 1, 4, 4],), ([1, 1, 1, 1, 4],), ([2, 2, 2, 2, 2],), ([2, 4, 4, 4, 4],), ([2, 2, 4, 4, 4],), ([2, 2, 2, 4, 4],), ([2, 2, 2, 2, 4],), ([3, 3, 3, 3, 3],), ([3, 4, 4, 4, 4],), ([3, 3, 4, 4, 4],), ([3, 3, 3, 4, 4],), ([3, 3, 3, 3, 4],), ([4, 4, 4, 4, 4],)]\n",
      "[4, 1]\n",
      "56\n",
      "[([1, 1, 1, 1], [2]), ([1, 1, 1, 1], [3]), ([1, 1, 1, 1], [4]), ([1, 2, 2, 2], [2]), ([1, 2, 2, 2], [3]), ([1, 2, 2, 2], [4]), ([1, 1, 2, 2], [2]), ([1, 1, 2, 2], [3]), ([1, 1, 2, 2], [4]), ([1, 1, 1, 2], [2]), ([1, 1, 1, 2], [3]), ([1, 1, 1, 2], [4]), ([1, 2, 4, 4], [2]), ([1, 2, 4, 4], [3]), ([1, 2, 4, 4], [4]), ([1, 2, 2, 4], [2]), ([1, 2, 2, 4], [3]), ([1, 2, 2, 4], [4]), ([1, 1, 2, 4], [2]), ([1, 1, 2, 4], [3]), ([1, 1, 2, 4], [4]), ([1, 3, 3, 3], [2]), ([1, 3, 3, 3], [3]), ([1, 3, 3, 3], [4]), ([1, 1, 3, 3], [2]), ([1, 1, 3, 3], [3]), ([1, 1, 3, 3], [4]), ([1, 1, 1, 3], [2]), ([1, 1, 1, 3], [3]), ([1, 1, 1, 3], [4]), ([1, 3, 4, 4], [2]), ([1, 3, 4, 4], [3]), ([1, 3, 4, 4], [4]), ([1, 3, 3, 4], [2]), ([1, 3, 3, 4], [3]), ([1, 3, 3, 4], [4]), ([1, 1, 3, 4], [2]), ([1, 1, 3, 4], [3]), ([1, 1, 3, 4], [4]), ([1, 4, 4, 4], [2]), ([1, 4, 4, 4], [3]), ([1, 4, 4, 4], [4]), ([1, 1, 4, 4], [2]), ([1, 1, 4, 4], [3]), ([1, 1, 4, 4], [4]), ([1, 1, 1, 4], [2]), ([1, 1, 1, 4], [3]), ([1, 1, 1, 4], [4]), ([2, 2, 2, 2], [4]), ([2, 4, 4, 4], [4]), ([2, 2, 4, 4], [4]), ([2, 2, 2, 4], [4]), ([3, 3, 3, 3], [4]), ([3, 4, 4, 4], [4]), ([3, 3, 4, 4], [4]), ([3, 3, 3, 4], [4])]\n",
      "[3, 2]\n",
      "36\n",
      "[([1, 1, 1], [2, 2]), ([1, 1, 1], [2, 4]), ([1, 1, 1], [3, 3]), ([1, 1, 1], [3, 4]), ([1, 1, 1], [4, 4]), ([1, 2, 2], [2, 4]), ([1, 2, 2], [3, 4]), ([1, 2, 2], [4, 4]), ([1, 1, 2], [2, 2]), ([1, 1, 2], [2, 4]), ([1, 1, 2], [3, 3]), ([1, 1, 2], [3, 4]), ([1, 1, 2], [4, 4]), ([1, 2, 4], [2, 4]), ([1, 2, 4], [3, 4]), ([1, 2, 4], [4, 4]), ([1, 3, 3], [2, 4]), ([1, 3, 3], [3, 4]), ([1, 3, 3], [4, 4]), ([1, 1, 3], [2, 2]), ([1, 1, 3], [2, 4]), ([1, 1, 3], [3, 3]), ([1, 1, 3], [3, 4]), ([1, 1, 3], [4, 4]), ([1, 3, 4], [2, 4]), ([1, 3, 4], [3, 4]), ([1, 3, 4], [4, 4]), ([1, 1, 4], [2, 2]), ([1, 1, 4], [2, 4]), ([1, 1, 4], [3, 3]), ([1, 1, 4], [3, 4]), ([1, 1, 4], [4, 4]), ([2, 2, 2], [4, 4]), ([2, 2, 4], [4, 4]), ([3, 3, 3], [4, 4]), ([3, 3, 4], [4, 4])]\n",
      "[3, 1, 1]\n",
      "18\n",
      "[([1, 1, 1], [2], [4]), ([1, 1, 1], [3], [4]), ([1, 2, 2], [2], [4]), ([1, 2, 2], [3], [4]), ([1, 1, 2], [2], [4]), ([1, 1, 2], [3], [4]), ([1, 2, 4], [2], [4]), ([1, 2, 4], [3], [4]), ([1, 3, 3], [2], [4]), ([1, 3, 3], [3], [4]), ([1, 1, 3], [2], [4]), ([1, 1, 3], [3], [4]), ([1, 3, 4], [2], [4]), ([1, 3, 4], [3], [4]), ([1, 4, 4], [2], [4]), ([1, 4, 4], [3], [4]), ([1, 1, 4], [2], [4]), ([1, 1, 4], [3], [4])]\n",
      "[2, 2, 1]\n",
      "8\n",
      "[([1, 1], [2, 2], [4]), ([1, 1], [2, 4], [4]), ([1, 1], [3, 3], [4]), ([1, 1], [3, 4], [4]), ([1, 2], [2, 4], [4]), ([1, 2], [3, 4], [4]), ([1, 3], [2, 4], [4]), ([1, 3], [3, 4], [4])]\n",
      "[2, 1, 1, 1]\n",
      "0\n",
      "[]\n",
      "[1, 1, 1, 1, 1]\n",
      "0\n",
      "[]\n",
      "---\n",
      "6\n",
      "---\n",
      "[6]\n",
      "49\n",
      "[([1, 1, 1, 1, 1, 1],), ([1, 2, 2, 2, 2, 2],), ([1, 1, 2, 2, 2, 2],), ([1, 1, 1, 2, 2, 2],), ([1, 1, 1, 1, 2, 2],), ([1, 1, 1, 1, 1, 2],), ([1, 2, 4, 4, 4, 4],), ([1, 2, 2, 4, 4, 4],), ([1, 2, 2, 2, 4, 4],), ([1, 2, 2, 2, 2, 4],), ([1, 1, 2, 4, 4, 4],), ([1, 1, 2, 2, 4, 4],), ([1, 1, 2, 2, 2, 4],), ([1, 1, 1, 2, 4, 4],), ([1, 1, 1, 2, 2, 4],), ([1, 1, 1, 1, 2, 4],), ([1, 3, 3, 3, 3, 3],), ([1, 1, 3, 3, 3, 3],), ([1, 1, 1, 3, 3, 3],), ([1, 1, 1, 1, 3, 3],), ([1, 1, 1, 1, 1, 3],), ([1, 3, 4, 4, 4, 4],), ([1, 3, 3, 4, 4, 4],), ([1, 3, 3, 3, 4, 4],), ([1, 3, 3, 3, 3, 4],), ([1, 1, 3, 4, 4, 4],), ([1, 1, 3, 3, 4, 4],), ([1, 1, 3, 3, 3, 4],), ([1, 1, 1, 3, 4, 4],), ([1, 1, 1, 3, 3, 4],), ([1, 1, 1, 1, 3, 4],), ([1, 4, 4, 4, 4, 4],), ([1, 1, 4, 4, 4, 4],), ([1, 1, 1, 4, 4, 4],), ([1, 1, 1, 1, 4, 4],), ([1, 1, 1, 1, 1, 4],), ([2, 2, 2, 2, 2, 2],), ([2, 4, 4, 4, 4, 4],), ([2, 2, 4, 4, 4, 4],), ([2, 2, 2, 4, 4, 4],), ([2, 2, 2, 2, 4, 4],), ([2, 2, 2, 2, 2, 4],), ([3, 3, 3, 3, 3, 3],), ([3, 4, 4, 4, 4, 4],), ([3, 3, 4, 4, 4, 4],), ([3, 3, 3, 4, 4, 4],), ([3, 3, 3, 3, 4, 4],), ([3, 3, 3, 3, 3, 4],), ([4, 4, 4, 4, 4, 4],)]\n",
      "[5, 1]\n",
      "85\n",
      "[([1, 1, 1, 1, 1], [2]), ([1, 1, 1, 1, 1], [3]), ([1, 1, 1, 1, 1], [4]), ([1, 2, 2, 2, 2], [2]), ([1, 2, 2, 2, 2], [3]), ([1, 2, 2, 2, 2], [4]), ([1, 1, 2, 2, 2], [2]), ([1, 1, 2, 2, 2], [3]), ([1, 1, 2, 2, 2], [4]), ([1, 1, 1, 2, 2], [2]), ([1, 1, 1, 2, 2], [3]), ([1, 1, 1, 2, 2], [4]), ([1, 1, 1, 1, 2], [2]), ([1, 1, 1, 1, 2], [3]), ([1, 1, 1, 1, 2], [4]), ([1, 2, 4, 4, 4], [2]), ([1, 2, 4, 4, 4], [3]), ([1, 2, 4, 4, 4], [4]), ([1, 2, 2, 4, 4], [2]), ([1, 2, 2, 4, 4], [3]), ([1, 2, 2, 4, 4], [4]), ([1, 2, 2, 2, 4], [2]), ([1, 2, 2, 2, 4], [3]), ([1, 2, 2, 2, 4], [4]), ([1, 1, 2, 4, 4], [2]), ([1, 1, 2, 4, 4], [3]), ([1, 1, 2, 4, 4], [4]), ([1, 1, 2, 2, 4], [2]), ([1, 1, 2, 2, 4], [3]), ([1, 1, 2, 2, 4], [4]), ([1, 1, 1, 2, 4], [2]), ([1, 1, 1, 2, 4], [3]), ([1, 1, 1, 2, 4], [4]), ([1, 3, 3, 3, 3], [2]), ([1, 3, 3, 3, 3], [3]), ([1, 3, 3, 3, 3], [4]), ([1, 1, 3, 3, 3], [2]), ([1, 1, 3, 3, 3], [3]), ([1, 1, 3, 3, 3], [4]), ([1, 1, 1, 3, 3], [2]), ([1, 1, 1, 3, 3], [3]), ([1, 1, 1, 3, 3], [4]), ([1, 1, 1, 1, 3], [2]), ([1, 1, 1, 1, 3], [3]), ([1, 1, 1, 1, 3], [4]), ([1, 3, 4, 4, 4], [2]), ([1, 3, 4, 4, 4], [3]), ([1, 3, 4, 4, 4], [4]), ([1, 3, 3, 4, 4], [2]), ([1, 3, 3, 4, 4], [3]), ([1, 3, 3, 4, 4], [4]), ([1, 3, 3, 3, 4], [2]), ([1, 3, 3, 3, 4], [3]), ([1, 3, 3, 3, 4], [4]), ([1, 1, 3, 4, 4], [2]), ([1, 1, 3, 4, 4], [3]), ([1, 1, 3, 4, 4], [4]), ([1, 1, 3, 3, 4], [2]), ([1, 1, 3, 3, 4], [3]), ([1, 1, 3, 3, 4], [4]), ([1, 1, 1, 3, 4], [2]), ([1, 1, 1, 3, 4], [3]), ([1, 1, 1, 3, 4], [4]), ([1, 4, 4, 4, 4], [2]), ([1, 4, 4, 4, 4], [3]), ([1, 4, 4, 4, 4], [4]), ([1, 1, 4, 4, 4], [2]), ([1, 1, 4, 4, 4], [3]), ([1, 1, 4, 4, 4], [4]), ([1, 1, 1, 4, 4], [2]), ([1, 1, 1, 4, 4], [3]), ([1, 1, 1, 4, 4], [4]), ([1, 1, 1, 1, 4], [2]), ([1, 1, 1, 1, 4], [3]), ([1, 1, 1, 1, 4], [4]), ([2, 2, 2, 2, 2], [4]), ([2, 4, 4, 4, 4], [4]), ([2, 2, 4, 4, 4], [4]), ([2, 2, 2, 4, 4], [4]), ([2, 2, 2, 2, 4], [4]), ([3, 3, 3, 3, 3], [4]), ([3, 4, 4, 4, 4], [4]), ([3, 3, 4, 4, 4], [4]), ([3, 3, 3, 4, 4], [4]), ([3, 3, 3, 3, 4], [4])]\n",
      "[4, 2]\n",
      "69\n",
      "[([1, 1, 1, 1], [2, 2]), ([1, 1, 1, 1], [2, 4]), ([1, 1, 1, 1], [3, 3]), ([1, 1, 1, 1], [3, 4]), ([1, 1, 1, 1], [4, 4]), ([1, 2, 2, 2], [2, 4]), ([1, 2, 2, 2], [3, 4]), ([1, 2, 2, 2], [4, 4]), ([1, 1, 2, 2], [2, 2]), ([1, 1, 2, 2], [2, 4]), ([1, 1, 2, 2], [3, 3]), ([1, 1, 2, 2], [3, 4]), ([1, 1, 2, 2], [4, 4]), ([1, 1, 1, 2], [2, 2]), ([1, 1, 1, 2], [2, 4]), ([1, 1, 1, 2], [3, 3]), ([1, 1, 1, 2], [3, 4]), ([1, 1, 1, 2], [4, 4]), ([1, 2, 4, 4], [2, 4]), ([1, 2, 4, 4], [3, 4]), ([1, 2, 4, 4], [4, 4]), ([1, 2, 2, 4], [2, 4]), ([1, 2, 2, 4], [3, 4]), ([1, 2, 2, 4], [4, 4]), ([1, 1, 2, 4], [2, 2]), ([1, 1, 2, 4], [2, 4]), ([1, 1, 2, 4], [3, 3]), ([1, 1, 2, 4], [3, 4]), ([1, 1, 2, 4], [4, 4]), ([1, 3, 3, 3], [2, 4]), ([1, 3, 3, 3], [3, 4]), ([1, 3, 3, 3], [4, 4]), ([1, 1, 3, 3], [2, 2]), ([1, 1, 3, 3], [2, 4]), ([1, 1, 3, 3], [3, 3]), ([1, 1, 3, 3], [3, 4]), ([1, 1, 3, 3], [4, 4]), ([1, 1, 1, 3], [2, 2]), ([1, 1, 1, 3], [2, 4]), ([1, 1, 1, 3], [3, 3]), ([1, 1, 1, 3], [3, 4]), ([1, 1, 1, 3], [4, 4]), ([1, 3, 4, 4], [2, 4]), ([1, 3, 4, 4], [3, 4]), ([1, 3, 4, 4], [4, 4]), ([1, 3, 3, 4], [2, 4]), ([1, 3, 3, 4], [3, 4]), ([1, 3, 3, 4], [4, 4]), ([1, 1, 3, 4], [2, 2]), ([1, 1, 3, 4], [2, 4]), ([1, 1, 3, 4], [3, 3]), ([1, 1, 3, 4], [3, 4]), ([1, 1, 3, 4], [4, 4]), ([1, 1, 4, 4], [2, 2]), ([1, 1, 4, 4], [2, 4]), ([1, 1, 4, 4], [3, 3]), ([1, 1, 4, 4], [3, 4]), ([1, 1, 4, 4], [4, 4]), ([1, 1, 1, 4], [2, 2]), ([1, 1, 1, 4], [2, 4]), ([1, 1, 1, 4], [3, 3]), ([1, 1, 1, 4], [3, 4]), ([1, 1, 1, 4], [4, 4]), ([2, 2, 2, 2], [4, 4]), ([2, 2, 4, 4], [4, 4]), ([2, 2, 2, 4], [4, 4]), ([3, 3, 3, 3], [4, 4]), ([3, 3, 4, 4], [4, 4]), ([3, 3, 3, 4], [4, 4])]\n",
      "[4, 1, 1]\n",
      "32\n",
      "[([1, 1, 1, 1], [2], [4]), ([1, 1, 1, 1], [3], [4]), ([1, 2, 2, 2], [2], [4]), ([1, 2, 2, 2], [3], [4]), ([1, 1, 2, 2], [2], [4]), ([1, 1, 2, 2], [3], [4]), ([1, 1, 1, 2], [2], [4]), ([1, 1, 1, 2], [3], [4]), ([1, 2, 4, 4], [2], [4]), ([1, 2, 4, 4], [3], [4]), ([1, 2, 2, 4], [2], [4]), ([1, 2, 2, 4], [3], [4]), ([1, 1, 2, 4], [2], [4]), ([1, 1, 2, 4], [3], [4]), ([1, 3, 3, 3], [2], [4]), ([1, 3, 3, 3], [3], [4]), ([1, 1, 3, 3], [2], [4]), ([1, 1, 3, 3], [3], [4]), ([1, 1, 1, 3], [2], [4]), ([1, 1, 1, 3], [3], [4]), ([1, 3, 4, 4], [2], [4]), ([1, 3, 4, 4], [3], [4]), ([1, 3, 3, 4], [2], [4]), ([1, 3, 3, 4], [3], [4]), ([1, 1, 3, 4], [2], [4]), ([1, 1, 3, 4], [3], [4]), ([1, 4, 4, 4], [2], [4]), ([1, 4, 4, 4], [3], [4]), ([1, 1, 4, 4], [2], [4]), ([1, 1, 4, 4], [3], [4]), ([1, 1, 1, 4], [2], [4]), ([1, 1, 1, 4], [3], [4])]\n",
      "[3, 3]\n",
      "25\n",
      "[([1, 1, 1], [2, 2, 2]), ([1, 1, 1], [2, 4, 4]), ([1, 1, 1], [2, 2, 4]), ([1, 1, 1], [3, 3, 3]), ([1, 1, 1], [3, 4, 4]), ([1, 1, 1], [3, 3, 4]), ([1, 1, 1], [4, 4, 4]), ([1, 2, 2], [2, 4, 4]), ([1, 2, 2], [3, 4, 4]), ([1, 2, 2], [4, 4, 4]), ([1, 1, 2], [2, 4, 4]), ([1, 1, 2], [2, 2, 4]), ([1, 1, 2], [3, 4, 4]), ([1, 1, 2], [3, 3, 4]), ([1, 1, 2], [4, 4, 4]), ([1, 3, 3], [2, 4, 4]), ([1, 3, 3], [3, 4, 4]), ([1, 3, 3], [4, 4, 4]), ([1, 1, 3], [2, 4, 4]), ([1, 1, 3], [2, 2, 4]), ([1, 1, 3], [3, 4, 4]), ([1, 1, 3], [3, 3, 4]), ([1, 1, 3], [4, 4, 4]), ([2, 2, 2], [4, 4, 4]), ([3, 3, 3], [4, 4, 4])]\n",
      "[3, 2, 1]\n",
      "24\n",
      "[([1, 1, 1], [2, 2], [4]), ([1, 1, 1], [2, 4], [4]), ([1, 1, 1], [3, 3], [4]), ([1, 1, 1], [3, 4], [4]), ([1, 2, 2], [2, 4], [4]), ([1, 2, 2], [3, 4], [4]), ([1, 1, 2], [2, 2], [4]), ([1, 1, 2], [2, 4], [4]), ([1, 1, 2], [3, 3], [4]), ([1, 1, 2], [3, 4], [4]), ([1, 2, 4], [2, 4], [4]), ([1, 2, 4], [3, 4], [4]), ([1, 3, 3], [2, 4], [4]), ([1, 3, 3], [3, 4], [4]), ([1, 1, 3], [2, 2], [4]), ([1, 1, 3], [2, 4], [4]), ([1, 1, 3], [3, 3], [4]), ([1, 1, 3], [3, 4], [4]), ([1, 3, 4], [2, 4], [4]), ([1, 3, 4], [3, 4], [4]), ([1, 1, 4], [2, 2], [4]), ([1, 1, 4], [2, 4], [4]), ([1, 1, 4], [3, 3], [4]), ([1, 1, 4], [3, 4], [4])]\n",
      "[3, 1, 1, 1]\n",
      "0\n",
      "[]\n",
      "[2, 2, 2]\n",
      "2\n",
      "[([1, 1], [2, 2], [4, 4]), ([1, 1], [3, 3], [4, 4])]\n",
      "[2, 2, 1, 1]\n",
      "0\n",
      "[]\n",
      "[2, 1, 1, 1, 1]\n",
      "0\n",
      "[]\n",
      "[1, 1, 1, 1, 1, 1]\n",
      "0\n",
      "[]\n"
     ]
    }
   ],
   "source": [
    "elms = [1,2,3,4]\n",
    "rels = [[1,2],[1,3],[2,4],[3,4]]\n",
    "\n",
    "#elms = [1,2,3,4,5]\n",
    "#rels = [[1,2],[1,3],[1,4],[2,5],[3,5],[4,5]]\n",
    "#rels = [[1,2],[2,3],[3,5],[1,4],[4,5]]\n",
    "\n",
    "P = Poset((elms, rels), cover_relations = True)\n",
    "\n",
    "for n in range(2,7):\n",
    "    print(\"---\")\n",
    "    print(n)\n",
    "    print(\"---\")\n",
    "    for lam in Partitions(n):\n",
    "        Ptab = PosetTableaux(P,lam)\n",
    "        print(lam)\n",
    "        print(len(Ptab))\n",
    "        print(Ptab)"
   ]
  },
  {
   "cell_type": "code",
   "execution_count": 5,
   "metadata": {
    "scrolled": false
   },
   "outputs": [
    {
     "data": {
      "image/png": "[encoded data removed]",
      "text/plain": [
       "Graphics object consisting of 11 graphics primitives"
      ]
     },
     "metadata": {},
     "output_type": "display_data"
    },
    {
     "name": "stdout",
     "output_type": "stream",
     "text": [
      "x0^4*x1^2 + x0^3*x1^3 + x0^2*x1^4 + x0^4*x1*x2 + 2*x0^3*x1^2*x2 + 2*x0^2*x1^3*x2 + x0*x1^4*x2 + x0^4*x2^2 + 2*x0^3*x1*x2^2 + 3*x0^2*x1^2*x2^2 + 2*x0*x1^3*x2^2 + x1^4*x2^2 + x0^3*x2^3 + 2*x0^2*x1*x2^3 + 2*x0*x1^2*x2^3 + x1^3*x2^3 + x0^2*x2^4 + x0*x1*x2^4 + x1^2*x2^4 + x0^3*x1^2*x3 + x0^3*x1*x2*x3 + x0^3*x2^2*x3 + x0^4*x3^2 + x0^3*x1*x3^2 + 2*x0^2*x1^2*x3^2 + x0^3*x2*x3^2 + 2*x0^2*x1*x2*x3^2 + 2*x0^2*x2^2*x3^2 + x0^3*x3^3 + x0^2*x3^4 + x0^4*x1*x4 + 2*x0^3*x1^2*x4 + 2*x0^2*x1^3*x4 + x0*x1^4*x4 + x0^4*x2*x4 + 3*x0^3*x1*x2*x4 + 4*x0^2*x1^2*x2*x4 + 3*x0*x1^3*x2*x4 + x1^4*x2*x4 + 2*x0^3*x2^2*x4 + 4*x0^2*x1*x2^2*x4 + 4*x0*x1^2*x2^2*x4 + 2*x1^3*x2^2*x4 + 2*x0^2*x2^3*x4 + 3*x0*x1*x2^3*x4 + 2*x1^2*x2^3*x4 + x0*x2^4*x4 + x1*x2^4*x4 + x0^4*x3*x4 + 2*x0^3*x1*x3*x4 + 2*x0^2*x1^2*x3*x4 + x0*x1^3*x3*x4 + 2*x0^3*x2*x3*x4 + 2*x0^2*x1*x2*x3*x4 + x0*x1^2*x2*x3*x4 + 2*x0^2*x2^2*x3*x4 + x0*x1*x2^2*x3*x4 + x0*x2^3*x3*x4 + 2*x0^3*x3^2*x4 + 2*x0^2*x1*x3^2*x4 + 2*x0^2*x2*x3^2*x4 + 2*x0^2*x3^3*x4 + x0*x1*x3^3*x4 + x0*x2*x3^3*x4 + x0*x3^4*x4 + x0^4*x4^2 + 2*x0^3*x1*x4^2 + 3*x0^2*x1^2*x4^2 + 2*x0*x1^3*x4^2 + x1^4*x4^2 + 2*x0^3*x2*x4^2 + 4*x0^2*x1*x2*x4^2 + 4*x0*x1^2*x2*x4^2 + 2*x1^3*x2*x4^2 + 3*x0^2*x2^2*x4^2 + 4*x0*x1*x2^2*x4^2 + 3*x1^2*x2^2*x4^2 + 2*x0*x2^3*x4^2 + 2*x1*x2^3*x4^2 + x2^4*x4^2 + 2*x0^3*x3*x4^2 + 2*x0^2*x1*x3*x4^2 + x0*x1^2*x3*x4^2 + 2*x0^2*x2*x3*x4^2 + x0*x1*x2*x3*x4^2 + x0*x2^2*x3*x4^2 + 3*x0^2*x3^2*x4^2 + x0*x1*x3^2*x4^2 + x0*x2*x3^2*x4^2 + 2*x0*x3^3*x4^2 + x3^4*x4^2 + x0^3*x4^3 + 2*x0^2*x1*x4^3 + 2*x0*x1^2*x4^3 + x1^3*x4^3 + 2*x0^2*x2*x4^3 + 3*x0*x1*x2*x4^3 + 2*x1^2*x2*x4^3 + 2*x0*x2^2*x4^3 + 2*x1*x2^2*x4^3 + x2^3*x4^3 + 2*x0^2*x3*x4^3 + 2*x0*x1*x3*x4^3 + 2*x0*x2*x3*x4^3 + 2*x0*x3^2*x4^3 + x3^3*x4^3 + x0^2*x4^4 + x0*x1*x4^4 + x1^2*x4^4 + x0*x2*x4^4 + x1*x2*x4^4 + x2^2*x4^4 + x0*x3*x4^4 + x3^2*x4^4\n",
      "---\n",
      "x0^2*x1 + x0*x1^2 + x0^2*x2 + 2*x0*x1*x2 + x1^2*x2 + x0*x2^2 + x1*x2^2 + x0^2*x3 + 2*x0*x1*x3 + 2*x0*x2*x3 + x0*x3^2 + x0^2*x4 + 2*x0*x1*x4 + x1^2*x4 + 2*x0*x2*x4 + 2*x1*x2*x4 + x2^2*x4 + 2*x0*x3*x4 + x3^2*x4 + x0*x4^2 + x1*x4^2 + x2*x4^2 + x3*x4^2\n",
      "---\n",
      "x0^6*x1^3 + 2*x0^5*x1^4 + 2*x0^4*x1^5 + x0^3*x1^6 + 2*x0^6*x1^2*x2 + 6*x0^5*x1^3*x2 + 8*x0^4*x1^4*x2 + 6*x0^3*x1^5*x2 + 2*x0^2*x1^6*x2 + 2*x0^6*x1*x2^2 + 8*x0^5*x1^2*x2^2 + 14*x0^4*x1^3*x2^2 + 14*x0^3*x1^4*x2^2 + 8*x0^2*x1^5*x2^2 + 2*x0*x1^6*x2^2 + x0^6*x2^3 + 6*x0^5*x1*x2^3 + 14*x0^4*x1^2*x2^3 + 18*x0^3*x1^3*x2^3 + 14*x0^2*x1^4*x2^3 + 6*x0*x1^5*x2^3 + x1^6*x2^3 + 2*x0^5*x2^4 + 8*x0^4*x1*x2^4 + 14*x0^3*x1^2*x2^4 + 14*x0^2*x1^3*x2^4 + 8*x0*x1^4*x2^4 + 2*x1^5*x2^4 + 2*x0^4*x2^5 + 6*x0^3*x1*x2^5 + 8*x0^2*x1^2*x2^5 + 6*x0*x1^3*x2^5 + 2*x1^4*x2^5 + x0^3*x2^6 + 2*x0^2*x1*x2^6 + 2*x0*x1^2*x2^6 + x1^3*x2^6 + x0^6*x1^2*x3 + 4*x0^5*x1^3*x3 + 4*x0^4*x1^4*x3 + 2*x0^3*x1^5*x3 + x0^6*x1*x2*x3 + 8*x0^5*x1^2*x2*x3 + 11*x0^4*x1^3*x2*x3 + 8*x0^3*x1^4*x2*x3 + 2*x0^2*x1^5*x2*x3 + x0^6*x2^2*x3 + 8*x0^5*x1*x2^2*x3 + 15*x0^4*x1^2*x2^2*x3 + 14*x0^3*x1^3*x2^2*x3 + 7*x0^2*x1^4*x2^2*x3 + 2*x0*x1^5*x2^2*x3 + 4*x0^5*x2^3*x3 + 11*x0^4*x1*x2^3*x3 + 14*x0^3*x1^2*x2^3*x3 + 9*x0^2*x1^3*x2^3*x3 + 4*x0*x1^4*x2^3*x3 + 4*x0^4*x2^4*x3 + 8*x0^3*x1*x2^4*x3 + 7*x0^2*x1^2*x2^4*x3 + 4*x0*x1^3*x2^4*x3 + 2*x0^3*x2^5*x3 + 2*x0^2*x1*x2^5*x3 + 2*x0*x1^2*x2^5*x3 + x0^6*x1*x3^2 + 4*x0^5*x1^2*x3^2 + 6*x0^4*x1^3*x3^2 + 3*x0^3*x1^4*x3^2 + x0^6*x2*x3^2 + 6*x0^5*x1*x2*x3^2 + 14*x0^4*x1^2*x2*x3^2 + 9*x0^3*x1^3*x2*x3^2 + 3*x0^2*x1^4*x2*x3^2 + 4*x0^5*x2^2*x3^2 + 14*x0^4*x1*x2^2*x3^2 + 13*x0^3*x1^2*x2^2*x3^2 + 6*x0^2*x1^3*x2^2*x3^2 + x0*x1^4*x2^2*x3^2 + 6*x0^4*x2^3*x3^2 + 9*x0^3*x1*x2^3*x3^2 + 6*x0^2*x1^2*x2^3*x3^2 + x0*x1^3*x2^3*x3^2 + 3*x0^3*x2^4*x3^2 + 3*x0^2*x1*x2^4*x3^2 + x0*x1^2*x2^4*x3^2 + x0^6*x3^3 + 4*x0^5*x1*x3^3 + 6*x0^4*x1^2*x3^3 + 4*x0^3*x1^3*x3^3 + 4*x0^5*x2*x3^3 + 9*x0^4*x1*x2*x3^3 + 9*x0^3*x1^2*x2*x3^3 + 6*x0^4*x2^2*x3^3 + 9*x0^3*x1*x2^2*x3^3 + 4*x0^3*x2^3*x3^3 + 2*x0^5*x3^4 + 4*x0^4*x1*x3^4 + 3*x0^3*x1^2*x3^4 + 4*x0^4*x2*x3^4 + 4*x0^3*x1*x2*x3^4 + x0^2*x1^2*x2*x3^4 + 3*x0^3*x2^2*x3^4 + x0^2*x1*x2^2*x3^4 + 2*x0^4*x3^5 + 2*x0^3*x1*x3^5 + 2*x0^3*x2*x3^5 + x0^3*x3^6 + 2*x0^6*x1^2*x4 + 6*x0^5*x1^3*x4 + 8*x0^4*x1^4*x4 + 6*x0^3*x1^5*x4 + 2*x0^2*x1^6*x4 + 3*x0^6*x1*x2*x4 + 14*x0^5*x1^2*x2*x4 + 25*x0^4*x1^3*x2*x4 + 25*x0^3*x1^4*x2*x4 + 14*x0^2*x1^5*x2*x4 + 3*x0*x1^6*x2*x4 + 2*x0^6*x2^2*x4 + 14*x0^5*x1*x2^2*x4 + 35*x0^4*x1^2*x2^2*x4 + 45*x0^3*x1^3*x2^2*x4 + 35*x0^2*x1^4*x2^2*x4 + 14*x0*x1^5*x2^2*x4 + 2*x1^6*x2^2*x4 + 6*x0^5*x2^3*x4 + 25*x0^4*x1*x2^3*x4 + 45*x0^3*x1^2*x2^3*x4 + 45*x0^2*x1^3*x2^3*x4 + 25*x0*x1^4*x2^3*x4 + 6*x1^5*x2^3*x4 + 8*x0^4*x2^4*x4 + 25*x0^3*x1*x2^4*x4 + 35*x0^2*x1^2*x2^4*x4 + 25*x0*x1^3*x2^4*x4 + 8*x1^4*x2^4*x4 + 6*x0^3*x2^5*x4 + 14*x0^2*x1*x2^5*x4 + 14*x0*x1^2*x2^5*x4 + 6*x1^3*x2^5*x4 + 2*x0^2*x2^6*x4 + 3*x0*x1*x2^6*x4 + 2*x1^2*x2^6*x4 + 2*x0^6*x1*x3*x4 + 10*x0^5*x1^2*x3*x4 + 14*x0^4*x1^3*x3*x4 + 11*x0^3*x1^4*x3*x4 + 3*x0^2*x1^5*x3*x4 + 2*x0^6*x2*x3*x4 + 16*x0^5*x1*x2*x3*x4 + 33*x0^4*x1^2*x2*x3*x4 + 32*x0^3*x1^3*x2*x3*x4 + 16*x0^2*x1^4*x2*x3*x4 + 3*x0*x1^5*x2*x3*x4 + 10*x0^5*x2^2*x3*x4 + 33*x0^4*x1*x2^2*x3*x4 + 44*x0^3*x1^2*x2^2*x3*x4 + 28*x0^2*x1^3*x2^2*x3*x4 + 10*x0*x1^4*x2^2*x3*x4 + 14*x0^4*x2^3*x3*x4 + 32*x0^3*x1*x2^3*x3*x4 + 28*x0^2*x1^2*x2^3*x3*x4 + 12*x0*x1^3*x2^3*x3*x4 + 11*x0^3*x2^4*x3*x4 + 16*x0^2*x1*x2^4*x3*x4 + 10*x0*x1^2*x2^4*x3*x4 + 3*x0^2*x2^5*x3*x4 + 3*x0*x1*x2^5*x3*x4 + 2*x0^6*x3^2*x4 + 10*x0^5*x1*x3^2*x4 + 20*x0^4*x1^2*x3^2*x4 + 15*x0^3*x1^3*x3^2*x4 + 6*x0^2*x1^4*x3^2*x4 + 10*x0^5*x2*x3^2*x4 + 32*x0^4*x1*x2*x3^2*x4 + 34*x0^3*x1^2*x2*x3^2*x4 + 17*x0^2*x1^3*x2*x3^2*x4 + 2*x0*x1^4*x2*x3^2*x4 + 20*x0^4*x2^2*x3^2*x4 + 34*x0^3*x1*x2^2*x3^2*x4 + 23*x0^2*x1^2*x2^2*x3^2*x4 + 4*x0*x1^3*x2^2*x3^2*x4 + x1^4*x2^2*x3^2*x4 + 15*x0^3*x2^3*x3^2*x4 + 17*x0^2*x1*x2^3*x3^2*x4 + 4*x0*x1^2*x2^3*x3^2*x4 + x1^3*x2^3*x3^2*x4 + 6*x0^2*x2^4*x3^2*x4 + 2*x0*x1*x2^4*x3^2*x4 + x1^2*x2^4*x3^2*x4 + 6*x0^5*x3^3*x4 + 14*x0^4*x1*x3^3*x4 + 15*x0^3*x1^2*x3^3*x4 + 2*x0^2*x1^3*x3^3*x4 + 14*x0^4*x2*x3^3*x4 + 23*x0^3*x1*x2*x3^3*x4 + 6*x0^2*x1^2*x2*x3^3*x4 + x0*x1^3*x2*x3^3*x4 + 15*x0^3*x2^2*x3^3*x4 + 6*x0^2*x1*x2^2*x3^3*x4 + 2*x0*x1^2*x2^2*x3^3*x4 + 2*x0^2*x2^3*x3^3*x4 + x0*x1*x2^3*x3^3*x4 + 8*x0^4*x3^4*x4 + 11*x0^3*x1*x3^4*x4 + 6*x0^2*x1^2*x3^4*x4 + 11*x0^3*x2*x3^4*x4 + 10*x0^2*x1*x2*x3^4*x4 + x0*x1^2*x2*x3^4*x4 + 6*x0^2*x2^2*x3^4*x4 + x0*x1*x2^2*x3^4*x4 + 6*x0^3*x3^5*x4 + 3*x0^2*x1*x3^5*x4 + 3*x0^2*x2*x3^5*x4 + 2*x0^2*x3^6*x4 + 2*x0^6*x1*x4^2 + 8*x0^5*x1^2*x4^2 + 14*x0^4*x1^3*x4^2 + 14*x0^3*x1^4*x4^2 + 8*x0^2*x1^5*x4^2 + 2*x0*x1^6*x4^2 + 2*x0^6*x2*x4^2 + 14*x0^5*x1*x2*x4^2 + 35*x0^4*x1^2*x2*x4^2 + 45*x0^3*x1^3*x2*x4^2 + 35*x0^2*x1^4*x2*x4^2 + 14*x0*x1^5*x2*x4^2 + 2*x1^6*x2*x4^2 + 8*x0^5*x2^2*x4^2 + 35*x0^4*x1*x2^2*x4^2 + 63*x0^3*x1^2*x2^2*x4^2 + 63*x0^2*x1^3*x2^2*x4^2 + 35*x0*x1^4*x2^2*x4^2 + 8*x1^5*x2^2*x4^2 + 14*x0^4*x2^3*x4^2 + 45*x0^3*x1*x2^3*x4^2 + 63*x0^2*x1^2*x2^3*x4^2 + 45*x0*x1^3*x2^3*x4^2 + 14*x1^4*x2^3*x4^2 + 14*x0^3*x2^4*x4^2 + 35*x0^2*x1*x2^4*x4^2 + 35*x0*x1^2*x2^4*x4^2 + 14*x1^3*x2^4*x4^2 + 8*x0^2*x2^5*x4^2 + 14*x0*x1*x2^5*x4^2 + 8*x1^2*x2^5*x4^2 + 2*x0*x2^6*x4^2 + 2*x1*x2^6*x4^2 + 2*x0^6*x3*x4^2 + 12*x0^5*x1*x3*x4^2 + 24*x0^4*x1^2*x3*x4^2 + 24*x0^3*x1^3*x3*x4^2 + 13*x0^2*x1^4*x3*x4^2 + 3*x0*x1^5*x3*x4^2 + 12*x0^5*x2*x3*x4^2 + 40*x0^4*x1*x2*x3*x4^2 + 55*x0^3*x1^2*x2*x3*x4^2 + 37*x0^2*x1^3*x2*x3*x4^2 + 13*x0*x1^4*x2*x3*x4^2 + 24*x0^4*x2^2*x3*x4^2 + 55*x0^3*x1*x2^2*x3*x4^2 + 50*x0^2*x1^2*x2^2*x3*x4^2 + 22*x0*x1^3*x2^2*x3*x4^2 + x1^4*x2^2*x3*x4^2 + 24*x0^3*x2^3*x3*x4^2 + 37*x0^2*x1*x2^3*x3*x4^2 + 22*x0*x1^2*x2^3*x3*x4^2 + x1^3*x2^3*x3*x4^2 + 13*x0^2*x2^4*x3*x4^2 + 13*x0*x1*x2^4*x3*x4^2 + x1^2*x2^4*x3*x4^2 + 3*x0*x2^5*x3*x4^2 + 8*x0^5*x3^2*x4^2 + 24*x0^4*x1*x3^2*x4^2 + 28*x0^3*x1^2*x3^2*x4^2 + 13*x0^2*x1^3*x3^2*x4^2 + 2*x0*x1^4*x3^2*x4^2 + 24*x0^4*x2*x3^2*x4^2 + 45*x0^3*x1*x2*x3^2*x4^2 + 30*x0^2*x1^2*x2*x3^2*x4^2 + 6*x0*x1^3*x2*x3^2*x4^2 + x1^4*x2*x3^2*x4^2 + 28*x0^3*x2^2*x3^2*x4^2 + 30*x0^2*x1*x2^2*x3^2*x4^2 + 9*x0*x1^2*x2^2*x3^2*x4^2 + 2*x1^3*x2^2*x3^2*x4^2 + 13*x0^2*x2^3*x3^2*x4^2 + 6*x0*x1*x2^3*x3^2*x4^2 + 2*x1^2*x2^3*x3^2*x4^2 + 2*x0*x2^4*x3^2*x4^2 + x1*x2^4*x3^2*x4^2 + 14*x0^4*x3^3*x4^2 + 24*x0^3*x1*x3^3*x4^2 + 13*x0^2*x1^2*x3^3*x4^2 + 2*x0*x1^3*x3^3*x4^2 + 24*x0^3*x2*x3^3*x4^2 + 21*x0^2*x1*x2*x3^3*x4^2 + 6*x0*x1^2*x2*x3^3*x4^2 + 13*x0^2*x2^2*x3^3*x4^2 + 6*x0*x1*x2^2*x3^3*x4^2 + 2*x0*x2^3*x3^3*x4^2 + 14*x0^3*x3^4*x4^2 + 13*x0^2*x1*x3^4*x4^2 + 2*x0*x1^2*x3^4*x4^2 + 13*x0^2*x2*x3^4*x4^2 + 4*x0*x1*x2*x3^4*x4^2 + x1^2*x2*x3^4*x4^2 + 2*x0*x2^2*x3^4*x4^2 + x1*x2^2*x3^4*x4^2 + 8*x0^2*x3^5*x4^2 + 3*x0*x1*x3^5*x4^2 + 3*x0*x2*x3^5*x4^2 + 2*x0*x3^6*x4^2 + x0^6*x4^3 + 6*x0^5*x1*x4^3 + 14*x0^4*x1^2*x4^3 + 18*x0^3*x1^3*x4^3 + 14*x0^2*x1^4*x4^3 + 6*x0*x1^5*x4^3 + x1^6*x4^3 + 6*x0^5*x2*x4^3 + 25*x0^4*x1*x2*x4^3 + 45*x0^3*x1^2*x2*x4^3 + 45*x0^2*x1^3*x2*x4^3 + 25*x0*x1^4*x2*x4^3 + 6*x1^5*x2*x4^3 + 14*x0^4*x2^2*x4^3 + 45*x0^3*x1*x2^2*x4^3 + 63*x0^2*x1^2*x2^2*x4^3 + 45*x0*x1^3*x2^2*x4^3 + 14*x1^4*x2^2*x4^3 + 18*x0^3*x2^3*x4^3 + 45*x0^2*x1*x2^3*x4^3 + 45*x0*x1^2*x2^3*x4^3 + 18*x1^3*x2^3*x4^3 + 14*x0^2*x2^4*x4^3 + 25*x0*x1*x2^4*x4^3 + 14*x1^2*x2^4*x4^3 + 6*x0*x2^5*x4^3 + 6*x1*x2^5*x4^3 + x2^6*x4^3 + 6*x0^5*x3*x4^3 + 20*x0^4*x1*x3*x4^3 + 29*x0^3*x1^2*x3*x4^3 + 20*x0^2*x1^3*x3*x4^3 + 7*x0*x1^4*x3*x4^3 + 20*x0^4*x2*x3*x4^3 + 49*x0^3*x1*x2*x3*x4^3 + 47*x0^2*x1^2*x2*x3*x4^3 + 20*x0*x1^3*x2*x3*x4^3 + x1^4*x2*x3*x4^3 + 29*x0^3*x2^2*x3*x4^3 + 47*x0^2*x1*x2^2*x3*x4^3 + 28*x0*x1^2*x2^2*x3*x4^3 + 2*x1^3*x2^2*x3*x4^3 + 20*x0^2*x2^3*x3*x4^3 + 20*x0*x1*x2^3*x3*x4^3 + 2*x1^2*x2^3*x3*x4^3 + 7*x0*x2^4*x3*x4^3 + x1*x2^4*x3*x4^3 + 14*x0^4*x3^2*x4^3 + 29*x0^3*x1*x3^2*x4^3 + 22*x0^2*x1^2*x3^2*x4^3 + 5*x0*x1^3*x3^2*x4^3 + x1^4*x3^2*x4^3 + 29*x0^3*x2*x3^2*x4^3 + 37*x0^2*x1*x2*x3^2*x4^3 + 12*x0*x1^2*x2*x3^2*x4^3 + 2*x1^3*x2*x3^2*x4^3 + 22*x0^2*x2^2*x3^2*x4^3 + 12*x0*x1*x2^2*x3^2*x4^3 + 3*x1^2*x2^2*x3^2*x4^3 + 5*x0*x2^3*x3^2*x4^3 + 2*x1*x2^3*x3^2*x4^3 + x2^4*x3^2*x4^3 + 18*x0^3*x3^3*x4^3 + 20*x0^2*x1*x3^3*x4^3 + 5*x0*x1^2*x3^3*x4^3 + 20*x0^2*x2*x3^3*x4^3 + 9*x0*x1*x2*x3^3*x4^3 + x1^2*x2*x3^3*x4^3 + 5*x0*x2^2*x3^3*x4^3 + x1*x2^2*x3^3*x4^3 + 14*x0^2*x3^4*x4^3 + 7*x0*x1*x3^4*x4^3 + x1^2*x3^4*x4^3 + 7*x0*x2*x3^4*x4^3 + 2*x1*x2*x3^4*x4^3 + x2^2*x3^4*x4^3 + 6*x0*x3^5*x4^3 + x3^6*x4^3 + 2*x0^5*x4^4 + 8*x0^4*x1*x4^4 + 14*x0^3*x1^2*x4^4 + 14*x0^2*x1^3*x4^4 + 8*x0*x1^4*x4^4 + 2*x1^5*x4^4 + 8*x0^4*x2*x4^4 + 25*x0^3*x1*x2*x4^4 + 35*x0^2*x1^2*x2*x4^4 + 25*x0*x1^3*x2*x4^4 + 8*x1^4*x2*x4^4 + 14*x0^3*x2^2*x4^4 + 35*x0^2*x1*x2^2*x4^4 + 35*x0*x1^2*x2^2*x4^4 + 14*x1^3*x2^2*x4^4 + 14*x0^2*x2^3*x4^4 + 25*x0*x1*x2^3*x4^4 + 14*x1^2*x2^3*x4^4 + 8*x0*x2^4*x4^4 + 8*x1*x2^4*x4^4 + 2*x2^5*x4^4 + 8*x0^4*x3*x4^4 + 20*x0^3*x1*x3*x4^4 + 20*x0^2*x1^2*x3*x4^4 + 9*x0*x1^3*x3*x4^4 + x1^4*x3*x4^4 + 20*x0^3*x2*x3*x4^4 + 34*x0^2*x1*x2*x3*x4^4 + 21*x0*x1^2*x2*x3*x4^4 + 2*x1^3*x2*x3*x4^4 + 20*x0^2*x2^2*x3*x4^4 + 21*x0*x1*x2^2*x3*x4^4 + 3*x1^2*x2^2*x3*x4^4 + 9*x0*x2^3*x3*x4^4 + 2*x1*x2^3*x3*x4^4 + x2^4*x3*x4^4 + 14*x0^3*x3^2*x4^4 + 20*x0^2*x1*x3^2*x4^4 + 8*x0*x1^2*x3^2*x4^4 + x1^3*x3^2*x4^4 + 20*x0^2*x2*x3^2*x4^4 + 13*x0*x1*x2*x3^2*x4^4 + 3*x1^2*x2*x3^2*x4^4 + 8*x0*x2^2*x3^2*x4^4 + 3*x1*x2^2*x3^2*x4^4 + x2^3*x3^2*x4^4 + 14*x0^2*x3^3*x4^4 + 9*x0*x1*x3^3*x4^4 + x1^2*x3^3*x4^4 + 9*x0*x2*x3^3*x4^4 + 2*x1*x2*x3^3*x4^4 + x2^2*x3^3*x4^4 + 8*x0*x3^4*x4^4 + x1*x3^4*x4^4 + x2*x3^4*x4^4 + 2*x3^5*x4^4 + 2*x0^4*x4^5 + 6*x0^3*x1*x4^5 + 8*x0^2*x1^2*x4^5 + 6*x0*x1^3*x4^5 + 2*x1^4*x4^5 + 6*x0^3*x2*x4^5 + 14*x0^2*x1*x2*x4^5 + 14*x0*x1^2*x2*x4^5 + 6*x1^3*x2*x4^5 + 8*x0^2*x2^2*x4^5 + 14*x0*x1*x2^2*x4^5 + 8*x1^2*x2^2*x4^5 + 6*x0*x2^3*x4^5 + 6*x1*x2^3*x4^5 + 2*x2^4*x4^5 + 6*x0^3*x3*x4^5 + 10*x0^2*x1*x3*x4^5 + 7*x0*x1^2*x3*x4^5 + x1^3*x3*x4^5 + 10*x0^2*x2*x3*x4^5 + 11*x0*x1*x2*x3*x4^5 + 2*x1^2*x2*x3*x4^5 + 7*x0*x2^2*x3*x4^5 + 2*x1*x2^2*x3*x4^5 + x2^3*x3*x4^5 + 8*x0^2*x3^2*x4^5 + 7*x0*x1*x3^2*x4^5 + 2*x1^2*x3^2*x4^5 + 7*x0*x2*x3^2*x4^5 + 3*x1*x2*x3^2*x4^5 + 2*x2^2*x3^2*x4^5 + 6*x0*x3^3*x4^5 + x1*x3^3*x4^5 + x2*x3^3*x4^5 + 2*x3^4*x4^5 + x0^3*x4^6 + 2*x0^2*x1*x4^6 + 2*x0*x1^2*x4^6 + x1^3*x4^6 + 2*x0^2*x2*x4^6 + 3*x0*x1*x2*x4^6 + 2*x1^2*x2*x4^6 + 2*x0*x2^2*x4^6 + 2*x1*x2^2*x4^6 + x2^3*x4^6 + 2*x0^2*x3*x4^6 + 2*x0*x1*x3*x4^6 + x1^2*x3*x4^6 + 2*x0*x2*x3*x4^6 + x1*x2*x3*x4^6 + x2^2*x3*x4^6 + 2*x0*x3^2*x4^6 + x1*x3^2*x4^6 + x2*x3^2*x4^6 + x3^3*x4^6\n",
      "---\n"
     ]
    },
    {
     "name": "stdout",
     "output_type": "stream",
     "text": [
      "True\n",
      "194\n"
     ]
    }
   ],
   "source": [
    "#elms = [1,2,3,4]\n",
    "#rels = [[1,2],[1,3],[2,4],[3,4]]\n",
    "\n",
    "elms = [1,2,3,4,5]\n",
    "#rels = [[1,2],[1,3],[1,4],[2,5],[3,5],[4,5]]\n",
    "rels = [[1,2],[2,3],[3,5],[1,4],[4,5]]\n",
    "\n",
    "P = Poset((elms, rels), cover_relations = True)\n",
    "\n",
    "H = P.hasse_diagram()\n",
    "#H.plot(layout = 'acyclic')\n",
    "H.show(layout = 'acyclic')\n",
    "\n",
    "## --- ##\n",
    "\n",
    "N = P.cardinality()\n",
    "coeffs_ring = ZZ['q','t']\n",
    "q = coeffs_ring.gens()[0]\n",
    "t = coeffs_ring.gens()[1]\n",
    "\n",
    "coeffs_field = coeffs_ring.fraction_field()\n",
    "R=PolynomialRing(coeffs_field,N,'x')\n",
    "xs=list(R.gens())\n",
    "\n",
    "lam = [4,2]\n",
    "mu = [2,1]\n",
    "\n",
    "#print(PosetSchur(P,[7,3,1]))\n",
    "\n",
    "f = PosetSchur(P,lam)\n",
    "g = PosetSchur(P,mu)\n",
    "print(f)\n",
    "print(\"---\")\n",
    "print(g)\n",
    "print(\"---\")\n",
    "print(f*g)\n",
    "print(\"---\")\n",
    "print(is_P_symmetric(xs,P,f*g,[6,3]))\n",
    "print(len(PosetTableaux(P,lam)))"
   ]
  },
  {
   "cell_type": "code",
   "execution_count": 5,
   "metadata": {},
   "outputs": [
    {
     "name": "stdout",
     "output_type": "stream",
     "text": [
      "False\n",
      "x1^2*x2^2\n"
     ]
    }
   ],
   "source": [
    "elms = [1,2,3,4]\n",
    "#rels = [[1,2],[1,3],[2,4],[3,4]]\n",
    "rels = [[1,2],[2,3],[3,4]]\n",
    "\n",
    "P = Poset((elms, rels), cover_relations = True)\n",
    "\n",
    "N = P.cardinality()\n",
    "    \n",
    "coeffs_ring = ZZ['q','t']\n",
    "q = coeffs_ring.gens()[0]\n",
    "t = coeffs_ring.gens()[1]\n",
    "\n",
    "coeffs_field = coeffs_ring.fraction_field()\n",
    "R=PolynomialRing(coeffs_field,N,'x')\n",
    "xs=list(R.gens())\n",
    "\n",
    "arr = [[3,3],[2,2]]\n",
    "\n",
    "print(is_P_tableau(P,arr))\n",
    "print(tab_x_weight(arr,xs))"
   ]
  },
  {
   "cell_type": "code",
   "execution_count": 6,
   "metadata": {
    "scrolled": false
   },
   "outputs": [
    {
     "name": "stdout",
     "output_type": "stream",
     "text": [
      "x0^2*x1 + x0*x1^2 + x0^2*x2 + 2*x0*x1*x2 + x0*x2^2 + x0^2*x3 + 2*x0*x1*x3 + x1^2*x3 + 2*x0*x2*x3 + x2^2*x3 + x0*x3^2 + x1*x3^2 + x2*x3^2\n",
      ".\n",
      "---\n",
      "x0*x1 + x0*x2 + x0*x3 + x1*x3 + x2*x3\n",
      "----\n",
      "x0^3*x1^2 + x0^2*x1^3 + 2*x0^3*x1*x2 + 3*x0^2*x1^2*x2 + x0^3*x2^2 + 3*x0^2*x1*x2^2 + x0^2*x2^3 + 2*x0^3*x1*x3 + 4*x0^2*x1^2*x3 + 2*x0*x1^3*x3 + 2*x0^3*x2*x3 + 8*x0^2*x1*x2*x3 + 4*x0*x1^2*x2*x3 + 4*x0^2*x2^2*x3 + 4*x0*x1*x2^2*x3 + 2*x0*x2^3*x3 + x0^3*x3^2 + 4*x0^2*x1*x3^2 + 4*x0*x1^2*x3^2 + x1^3*x3^2 + 4*x0^2*x2*x3^2 + 6*x0*x1*x2*x3^2 + x1^2*x2*x3^2 + 4*x0*x2^2*x3^2 + x1*x2^2*x3^2 + x2^3*x3^2 + x0^2*x3^3 + 2*x0*x1*x3^3 + x1^2*x3^3 + 2*x0*x2*x3^3 + 2*x1*x2*x3^3 + x2^2*x3^3\n",
      "True\n"
     ]
    }
   ],
   "source": [
    "elms = [1,2,3,4]\n",
    "\n",
    "rels = [[1,2],[1,3],[2,4],[3,4]]\n",
    "\n",
    "# Chain relations\n",
    "#rels = [[1,2],[2,3],[3,4]]\n",
    "\n",
    "P = Poset((elms, rels), cover_relations = True)\n",
    "N = P.cardinality()\n",
    "    \n",
    "coeffs_ring = ZZ['q','t']\n",
    "q = coeffs_ring.gens()[0]\n",
    "t = coeffs_ring.gens()[1]\n",
    "\n",
    "coeffs_field = coeffs_ring.fraction_field()\n",
    "R=PolynomialRing(coeffs_field,N,'x')\n",
    "xs=list(R.gens())\n",
    "\n",
    "\n",
    "lam = [2,1]\n",
    "mu = [1,1]\n",
    "\n",
    "#Ptab = PosetTableaux(P,lam)\n",
    "#print(Ptab)\n",
    "#print(len(Ptab))\n",
    "\n",
    "PSchur_1 = PosetSchur(P,lam)\n",
    "\n",
    "print((PSchur_1))\n",
    "print(\".\")\n",
    "\n",
    "print(\"---\")\n",
    "\n",
    "PSchur_2 = PosetSchur(P,mu)\n",
    "\n",
    "print(PSchur_2)\n",
    "\n",
    "print(\"----\")\n",
    "\n",
    "f = PSchur_1 * PSchur_2\n",
    "\n",
    "print(f)\n",
    "\n",
    "print(is_P_symmetric(xs,P,f,[5]))\n"
   ]
  },
  {
   "cell_type": "code",
   "execution_count": 7,
   "metadata": {},
   "outputs": [
    {
     "data": {
      "text/plain": [
       "x0^2*x1^2*x3 + x0^2*x2^2*x3 + x0^2*x1*x3^2 + x0*x1^2*x3^2 + x0^2*x2*x3^2 + 2*x0*x1*x2*x3^2 + x0*x2^2*x3^2"
      ]
     },
     "execution_count": 7,
     "metadata": {},
     "output_type": "execute_result"
    }
   ],
   "source": [
    "PosetSchur(P,[2,2,1])"
   ]
  },
  {
   "cell_type": "code",
   "execution_count": 8,
   "metadata": {},
   "outputs": [
    {
     "name": "stdout",
     "output_type": "stream",
     "text": [
      "[\n",
      "[a1 == 0, a2 == 0, a3 == 1, a4 == 1, a5 == (2*x0^2*x1*x2^2 + 2*x1*x2*x3^3 + (x0^2*x1 + x0*x1^2 + (x0 + x1)*x2^2 + (x0^2 + 2*x0*x1 + x1^2)*x2)*x3^2 + 2*(x0^3*x1 + x0^2*x1^2)*x2 + (x0^2*x1^2 + (x0^2 + 2*x0*x1)*x2^2 + 2*(2*x0^2*x1 + x0*x1^2)*x2)*x3)/((x0^2*x1 + x0*x1^2 + x0*x2^2 + (x0^2 + 2*x0*x1)*x2)*x3^2 + (x0^2*x1^2 + x0^2*x2^2)*x3), a6 == r2, a7 == r1]\n",
      "]\n"
     ]
    }
   ],
   "source": [
    "var(['a1','a2','a3','a4','a5','a6','a7','a8','a9','a10'])\n",
    "\n",
    "f = PSchur_1 * PSchur_2 - a1*PosetSchur(P,[5])- a2*PosetSchur(P,[4,1]) - a3*PosetSchur(P,[3,2]) - a4*PosetSchur(P,[3,1,1]) - a5*PosetSchur(P,[2,2,1])- a6*PosetSchur(P,[2,1,1,1]) - a7*PosetSchur(P,[1,1,1,1,1])    \n",
    "     \n",
    "print(solve([f==0, a1 == 0, a2==0, a3==1, a4==1],a1,a2,a3,a4,a5,a6,a7))"
   ]
  },
  {
   "cell_type": "code",
   "execution_count": 9,
   "metadata": {
    "scrolled": true
   },
   "outputs": [
    {
     "name": "stdout",
     "output_type": "stream",
     "text": [
      "x0^3*x1^2 + x0^2*x1^3 + x0^2*x1^2*x2 + x0^3*x2^2 + x0^2*x1*x2^2 + x0^2*x2^3 + x0^3*x1*x3 + 2*x0^2*x1^2*x3 + x0*x1^3*x3 + x0^3*x2*x3 + 2*x0^2*x1*x2*x3 + x0*x1^2*x2*x3 + 2*x0^2*x2^2*x3 + x0*x1*x2^2*x3 + x0*x2^3*x3 + x0^3*x3^2 + 2*x0^2*x1*x3^2 + 2*x0*x1^2*x3^2 + x1^3*x3^2 + 2*x0^2*x2*x3^2 + 2*x0*x1*x2*x3^2 + 2*x0*x2^2*x3^2 + x2^3*x3^2 + x0^2*x3^3 + x0*x1*x3^3 + x1^2*x3^3 + x0*x2*x3^3 + x2^2*x3^3\n"
     ]
    }
   ],
   "source": [
    "print(PosetSchur(P,[3,2]))"
   ]
  },
  {
   "cell_type": "markdown",
   "metadata": {},
   "source": [
    "## Poset Multiline queues"
   ]
  },
  {
   "cell_type": "code",
   "execution_count": 6,
   "metadata": {},
   "outputs": [],
   "source": [
    "# Ball coordinates are pairs (i,j) where i is the label of the poset element and j is the height in the grid\n",
    "# i is in {1,2,3,...,n}\n",
    "# j is in {1,2,3,...,\\ell(lambda)}\n",
    "\n",
    "\n",
    "def balls_coordinates(P,balls):\n",
    "    coords = []\n",
    "    w = len(balls)\n",
    "    l = len(balls[0])\n",
    "    for i in range(w):\n",
    "        for j in range(l):\n",
    "            if balls[i][j] == 1: \n",
    "                coords.append([j+1,i+1])\n",
    "    return(coords)\n",
    "\n",
    "# word is a ternary word with 0,1,2 and 1=(, 2=) and 0=blank, to perform parenthesis matching algorithm\n",
    "# returns the leftover letters from row1 after matching all possible 1s and 2s, and deleting unmatched 2s\n",
    "def match_parenthesis(P,w):\n",
    "    word = w.copy()\n",
    "    boo = True\n",
    "    while boo:\n",
    "        p2 = -1\n",
    "        p1 = -1\n",
    "        for i in range(len(word)):\n",
    "            #Find the first 2\n",
    "            if word[i] == 2:\n",
    "                p2 = i\n",
    "            if p2 != -1:\n",
    "                #Find the closest 1 that is comparable in the Poset\n",
    "                crop = word[:p2+1]\n",
    "                to_revise = [k for k in range(len(crop)) if crop[k] == 1]\n",
    "                #print(\"lel\")\n",
    "                #print(to_revise)\n",
    "                for j in reversed(range(len(crop))):\n",
    "                    if crop[j] == 1:\n",
    "                        p1 = j\n",
    "                    if p1 != -1 and j in to_revise:\n",
    "                        e1 = floor((p1)/2.0)+1\n",
    "                        e2 = floor((p2)/2.0)+1\n",
    "                        \n",
    "                        #print(e1,e2)\n",
    "                        \n",
    "                        if (P.is_less_than(e1,e2) or e1==e2):\n",
    "                            word[p2] = 0\n",
    "                            word[p1] = 0   \n",
    "                            break\n",
    "                        else:\n",
    "                            to_revise.remove(j)\n",
    "                    if (j==0 and to_revise == []):\n",
    "                        word[p2] = 0\n",
    "                break\n",
    "        if p2==-1:\n",
    "            boo = False\n",
    "    return(word)\n",
    "    \n",
    "# collapse row 1 on top of row 2\n",
    "# this method updates row1 and row2\n",
    "# wit is a boolean variable that says if a collapse occurred or not\n",
    "def two_row_collapse(P,row1,row2):\n",
    "    par_word = []\n",
    "    wit = False\n",
    "    # Create the parenthesis word to do the matching algorithm\n",
    "    for i in range(len(row1)):\n",
    "        if row1[i]==1:\n",
    "            par_word.append(1)\n",
    "        else:\n",
    "            par_word.append(0)\n",
    "        if row2[i]==1:\n",
    "            par_word.append(2)\n",
    "        else:\n",
    "            par_word.append(0)\n",
    "    # Apply parenthesis matching\n",
    "    red_par_word = match_parenthesis(P,par_word)\n",
    "    # Find indices on row1 to collapse\n",
    "    coll = [red_par_word[i] for i in range(len(red_par_word)) if i%2==0] \n",
    "    pos = -1\n",
    "    for i in range(len(row1)):\n",
    "        if coll[i] == 1:\n",
    "            pos = i\n",
    "            wit = True\n",
    "            row1[i] = 0\n",
    "            row2[i] = 1\n",
    "    #pos is the position of the collapse\n",
    "    return(row1.copy(),row2.copy(),wit,pos)\n",
    "\n",
    "\n",
    "class PosetMultilineQueue:\n",
    "    queues = []\n",
    "    n = 0\n",
    "    \n",
    "    def __init__(self,P,balls):\n",
    "        self.balls = balls\n",
    "        self.P = P\n",
    "        self.size = [len(balls[0]),len(balls)]\n",
    "        self.balls_coordinates = balls_coordinates(P,balls)\n",
    "                \n",
    "        self.n = self.P.cardinality()\n",
    "        \n",
    "    # This method creates the queues\n",
    "    # \n",
    "    # case=0:   pairing to the right with (possibly) wrapping conditions\n",
    "    #           pairing is done according to the linear order of the poset\n",
    "    #           queues are given as sequences of coordinates starting from the top\n",
    "    #\n",
    "    # case=1:   minimal distance insertion-pairing to the right with no-wrapping\n",
    "    #           collapses ball arrangement and pairs using case 0\n",
    "    #\n",
    "    # case=2:   \n",
    "    #\n",
    "    #    \n",
    "        \n",
    "    def pair(self,case):\n",
    "        self.queues = []\n",
    "        if case==0:       \n",
    "            to_queue = []\n",
    "            w = self.size[1]\n",
    "            l = self.size[0]\n",
    "            for i in range(w):\n",
    "                for j in reversed(range(l)):\n",
    "                    if self.balls[i][j] == 1: \n",
    "                        to_queue.append([j+1,i+1])\n",
    "            \n",
    "            #print(to_queue)\n",
    "            cont = True\n",
    "            while cont:\n",
    "                b = to_queue[-1]\n",
    "                #print(b)\n",
    "                queue = [b]\n",
    "                to_queue.remove(b)\n",
    "                done = False\n",
    "                b0 = b.copy()\n",
    "                while not done:\n",
    "                    j = b0[1]-1\n",
    "                    l = [m for m in range(b0[0],self.P.cardinality()+1) \n",
    "                         if ((self.P.is_less_than(b0[0],m) or b0[0] == m) and ([m,j] in to_queue))]\n",
    "                    #if b0 is at the bottom\n",
    "                    if b0[1] == 1:\n",
    "                        done = True\n",
    "                    #otherwise\n",
    "                    else:\n",
    "                        #case 1: wrapping\n",
    "                        if l==[]:\n",
    "                            c = min([m for m in range(1,self.P.cardinality()+1) if ([m,j] in to_queue)])\n",
    "                        #case 2: non-wrapping\n",
    "                        else:\n",
    "                            c = min(l)\n",
    "                        \n",
    "                        \n",
    "                        \n",
    "                        \n",
    "                        queue.append([c,j])\n",
    "                        to_queue.remove([c,j])\n",
    "                        b0 = [c,j]\n",
    "                self.queues.append(queue)\n",
    "                if len(to_queue) == 0:\n",
    "                    cont = False\n",
    "                    \n",
    "        if case == 1:\n",
    "            self.collapse()\n",
    "            while (self.size[0])*[0] in self.balls:\n",
    "                self.balls.remove((self.size[0])*[0])\n",
    "            self.size = [len(self.balls[0]),len(self.balls)]\n",
    "            self.balls_coordinates = balls_coordinates(self.P,self.balls)\n",
    "            self.pair(0)\n",
    "            \n",
    "                    \n",
    "                    \n",
    "    # \n",
    "    def insert_par(self,x):\n",
    "        new_row = [0 for l in range(self.size[0])]\n",
    "        new_row[x-1] = 1\n",
    "        self.balls.append(new_row)\n",
    "        self.size = [len(self.balls[0]),len(self.balls)]\n",
    "        self.collapse()\n",
    "        while (self.size[0])*[0] in self.balls:\n",
    "                self.balls.remove((self.size[0])*[0])\n",
    "        self.size = [len(self.balls[0]),len(self.balls)]\n",
    "        self.balls_coordinates = balls_coordinates(self.P,self.balls)\n",
    "        self.pair(0)\n",
    "        \n",
    "        \n",
    "    def insert(self,x):\n",
    "        new_row = [0 for l in range(self.size[0])]\n",
    "        new_row[x-1] = 1\n",
    "        self.balls.append(new_row)\n",
    "        self.size = [len(self.balls[0]),len(self.balls)]\n",
    "        self.collapse_and_update_queues(x)\n",
    "        while (self.size[0])*[0] in self.balls:\n",
    "                self.balls.remove((self.size[0])*[0])\n",
    "        self.size = [len(self.balls[0]),len(self.balls)]\n",
    "        self.balls_coordinates = balls_coordinates(self.P,self.balls)\n",
    "        self.pair(1)\n",
    "        \n",
    "    \n",
    "    def insert2(self,x):\n",
    "        new_row = [0 for l in range(self.size[0])]\n",
    "        new_row[x-1] = 1\n",
    "        self.balls.append(new_row)\n",
    "        self.size = [len(self.balls[0]),len(self.balls)]\n",
    "        self.collapse_and_update_queues2(x)\n",
    "        \n",
    "        self.update_balls()\n",
    "        \n",
    "        \n",
    "        while (self.size[0])*[0] in self.balls:\n",
    "                self.balls.remove((self.size[0])*[0])\n",
    "        self.size = [len(self.balls[0]),len(self.balls)]\n",
    "        self.balls_coordinates = balls_coordinates(self.P,self.balls)\n",
    "        \n",
    "    \n",
    "    \n",
    "    # Collapsing procedure for the ball arrangement.\n",
    "    # WARNING: This changes the original balls so that the new arrangement is non-wrapping\n",
    "    #          \n",
    "    \n",
    "    def collapse(self):\n",
    "        L = self.size[1]\n",
    "        for i in range(1,L):\n",
    "            for j in reversed(range(1,i+1)):\n",
    "                row1 = self.balls[j-1].copy()\n",
    "                row2 = self.balls[j].copy()\n",
    "                [self.balls[j],self.balls[j-1],wit,num] = two_row_collapse(self.P,row2,row1)\n",
    "        \n",
    "        \n",
    "    # Collapse of a single new ball, and keep old queues, while updating according to bumping\n",
    "    def collapse_and_update_queues(self,x):\n",
    "        L = self.size[1]\n",
    "        for i in range(1,2):\n",
    "            for j in reversed(range(1,L)):\n",
    "                #Collapse the rows\n",
    "                row1 = self.balls[j-1].copy()\n",
    "                row2 = self.balls[j].copy()\n",
    "                [self.balls[j],self.balls[j-1],wit,pos] = two_row_collapse(self.P,row2,row1)\n",
    "                \n",
    "                coll_ball = [pos+1,j+1]\n",
    "                #print(pos)\n",
    "                #print(coll_ball)\n",
    "                \n",
    "                #Update the queues\n",
    "                if pos == -1:\n",
    "                    self.pair(1)                             \n",
    "                \n",
    "                else:\n",
    "                    if j==1:\n",
    "                        self.queues.append([[pos+1,j]])\n",
    "                        #print(\"Collapse\")\n",
    "                        #print(coll_ball)\n",
    "                        #print(self.queues)\n",
    "\n",
    "                        for q in self.queues:\n",
    "                            #Check if the collapsed ball was in a queue\n",
    "                            if (coll_ball in q):\n",
    "                                #print(\"here\")\n",
    "                                ind = q.index(coll_ball)\n",
    "                                q[ind] = [x,j+1]\n",
    "                        \n",
    "                        \n",
    "                    else:\n",
    "                        #print(\"Collapse\")\n",
    "                        #print(coll_ball)\n",
    "                        #print(self.queues)\n",
    "\n",
    "                        for q in self.queues:\n",
    "                            #Check if the collapsed ball was in a queue\n",
    "                            if (coll_ball in q):\n",
    "                                #print(\"here\")\n",
    "                                ind = q.index(coll_ball)\n",
    "                                q[ind] = [x,j+1]\n",
    "                    \n",
    "    \n",
    "    ## :::::: ##\n",
    "    \n",
    "    def update_balls(self):\n",
    "        M = max([q[0][1] for q in self.queues])\n",
    "        empty_row = [0 for i in range(self.P.cardinality())]\n",
    "        new_balls = [empty_row.copy() for j in range(M)]\n",
    "        for q in self.queues:\n",
    "            for b in q:\n",
    "                el = b[0]\n",
    "                h = b[1] \n",
    "                new_balls[h-1][el-1] = 1\n",
    "        \n",
    "        self.balls = new_balls\n",
    "            \n",
    "    \n",
    "    \n",
    "    def collapse_and_update_queues2(self,x):\n",
    "        L = self.size[1]\n",
    "        \n",
    "        #List of balls to be inserted\n",
    "        to_insert = [[x,L]]\n",
    "        \n",
    "        while (not to_insert == []):\n",
    "            #print(\"to_insert\")\n",
    "            #print(to_insert)\n",
    "            for b in to_insert:\n",
    "                #print(\"Ball to be inserted\")\n",
    "                #print(b)\n",
    "                if(b[1]==1):\n",
    "                    to_insert.remove(b)\n",
    "                    self.queues.append([b])\n",
    "                    break\n",
    "                \n",
    "                #Possible balls to pair b\n",
    "                possible_pairings = []\n",
    "                for q in self.queues:\n",
    "                    for part in q:\n",
    "                        z = part[0]\n",
    "                        h = part[1]\n",
    "                        if(h==b[1]-1 and (self.P.is_less_than(b[0],z) or b[0] == z)):\n",
    "                            possible_pairings.append([z,h])\n",
    "                \n",
    "                #print(\"Possible pairings\")\n",
    "                #print(possible_pairings)\n",
    "            \n",
    "                # Different cases of pairing possibilities:\n",
    "                \n",
    "                #Case 1: No balls to pair\n",
    "                if possible_pairings == []:\n",
    "                    #print(b)\n",
    "                    to_insert.remove(b)\n",
    "                    to_insert.append([b[0],b[1]-1])\n",
    "                \n",
    "                else:\n",
    "                    #Put the possibilities to pair in increasing order\n",
    "                    pairing_elems = [part[0] for part in possible_pairings]\n",
    "                    pairing_elems.sort()\n",
    "                    ordered_pairing_balls = []\n",
    "                    for p in pairing_elems:\n",
    "                        for ball in possible_pairings:\n",
    "                            if(ball[0] == p):\n",
    "                                ordered_pairing_balls.append([p,ball[1]])\n",
    "                                break\n",
    "                    #print(\"ordered\")\n",
    "                    #print(ordered_pairing_balls)\n",
    "                    \n",
    "                    #First, look for a pairing ball that is unmatched above\n",
    "                    done = False\n",
    "                    for p in ordered_pairing_balls:\n",
    "                        #print(\"Looking for unmatched\")\n",
    "                        #print(\"Particle:\")\n",
    "                        #print(p)\n",
    "                        upper_queue = []\n",
    "                        for q in self.queues:\n",
    "                            if p in q:\n",
    "                                ind = q.index(p)\n",
    "                                upper_queue = q[:ind]\n",
    "                                break\n",
    "                        #print(\"Upper queue\")\n",
    "                        #print(upper_queue)\n",
    "                        if(upper_queue == []):\n",
    "                            done = True\n",
    "                            to_insert.remove(b)\n",
    "                            for q in self.queues:\n",
    "                                if p in q:\n",
    "                                    q.insert(0,b)\n",
    "                                    break\n",
    "                        if(done):\n",
    "                            break\n",
    "                            \n",
    "                    # If no pairing ball is unmatched above, pair with the closest one if possible      \n",
    "                    if( not done ):\n",
    "                        #print(\"Bumping\")\n",
    "                        pai = ordered_pairing_balls[0]\n",
    "                        #print(pai)\n",
    "                        upper_queue = []\n",
    "                        for q in self.queues:\n",
    "                            if pai in q:\n",
    "                                ind = q.index(pai)\n",
    "                                upper_queue = q[:ind]\n",
    "                                befo = upper_queue[-1]\n",
    "                                #Case 1: Bumping\n",
    "                                if(befo[0] < b[0]):\n",
    "                                    for el in reversed(upper_queue):\n",
    "                                        q.remove(el)\n",
    "                                        to_insert.append(el)\n",
    "\n",
    "                                    to_insert.remove(b)\n",
    "                                    q.insert(0,b)\n",
    "                                    break\n",
    "                                \n",
    "                                else:\n",
    "                                    to_insert.remove(b)\n",
    "                                    to_insert.append([b[0],b[1]-1])\n",
    "                                    break\n",
    "                                \n",
    "                                    \n",
    "                    \n",
    "            \n",
    "    ##  ALGEBRAIC COMBINATORICS  ##\n",
    "    \n",
    "    #returns the x-weight of the multiline queue. Does not need to be paired\n",
    "    def xweight(self):\n",
    "        wei = xs[0]**0\n",
    "        for b in self.balls_coordinates:\n",
    "            wei *= xs[b[0]-1]\n",
    "        return(wei)\n",
    "        \n",
    "    #Computes the major index of the MLQ\n",
    "    def maj(self):\n",
    "        wei = q**0\n",
    "        for queue in self.queues:\n",
    "            l = queue[0][1]\n",
    "            for i in range(1,len(queue)):\n",
    "                ci = queue[i-1][0]\n",
    "                cf = queue[i][0]\n",
    "                if not (self.P.is_less_than(ci,cf) or ci==cf):\n",
    "                    wei *= q**(l+1-queue[i-1][1])\n",
    "        return(wei)\n",
    "    \n",
    "    #Gives the partition type of the MLQ\n",
    "    def partition(self):\n",
    "        lam_prime = [sum(b) for b in self.balls]\n",
    "        lam_p = Partition(lam_prime)\n",
    "        return(lam_p.conjugate())\n",
    "\n",
    "\n",
    "def are_equal(M1,M2):\n",
    "    b = True\n",
    "    Q1 = M1.queues\n",
    "    Q2 = M2.queues\n",
    "    \n",
    "    for q1 in Q1:\n",
    "        if q1 not in Q2:\n",
    "            b = False\n",
    "            break\n",
    "            \n",
    "    for q2 in Q2:\n",
    "        if q2 not in Q1:\n",
    "            b = False\n",
    "            break\n",
    "    \n",
    "    return(b and M1.balls == M2.balls)\n",
    "\n",
    "                        \n",
    "def rho(P,word):\n",
    "    n0 = word[0]\n",
    "    word_c = word[1:]\n",
    "    balls = []\n",
    "    balls.append([0 for i in range((P.cardinality()))])\n",
    "    balls[0][n0-1] = 1\n",
    "    \n",
    "    M = PosetMultilineQueue(P,balls)  \n",
    "    M.pair(0)\n",
    "    \n",
    "    for w in word_c:\n",
    "        M.insert(w)\n",
    "        \n",
    "    return(M)  \n",
    "\n",
    "def rho2(P,word):\n",
    "    n0 = word[0]\n",
    "    word_c = word[1:]\n",
    "    balls = []\n",
    "    balls.append([0 for i in range((P.cardinality()))])\n",
    "    balls[0][n0-1] = 1\n",
    "    \n",
    "    M = PosetMultilineQueue(P,balls)  \n",
    "    M.pair(0)\n",
    "    \n",
    "    for w in word_c:\n",
    "        M.insert2(w)\n",
    "        \n",
    "    return(M)  \n",
    "\n",
    "def rho_par(P,word):\n",
    "    n0 = word[0]\n",
    "    word_c = word[1:]\n",
    "    balls = []\n",
    "    balls.append([0 for i in range((P.cardinality()))])\n",
    "    balls[0][n0-1] = 1\n",
    "    \n",
    "    M = PosetMultilineQueue(P,balls)  \n",
    "    M.pair(0)\n",
    "    \n",
    "    for w in word_c:\n",
    "        M.insert_par(w)\n",
    "        \n",
    "    return(M)  "
   ]
  },
  {
   "cell_type": "code",
   "execution_count": 7,
   "metadata": {
    "scrolled": false
   },
   "outputs": [
    {
     "name": "stdout",
     "output_type": "stream",
     "text": [
      "Original PMLQ\n",
      "[[0, 1, 0, 0]]\n",
      "[[[2, 1]]]\n",
      "---\n",
      "Insertion of 1\n",
      "[[0, 1, 0, 0], [1, 0, 0, 0]]\n",
      "[[[1, 2], [2, 1]]]\n",
      "---\n",
      "Insertion of 3\n",
      "[[0, 1, 1, 0], [1, 0, 0, 0]]\n",
      "[[[1, 2], [2, 1]], [[3, 1]]]\n",
      "---\n",
      "Insertion of 2\n",
      "[[0, 1, 1, 0], [1, 1, 0, 0]]\n",
      "[[[1, 2], [2, 1]], [[2, 2], [3, 1]]]\n",
      "---\n"
     ]
    }
   ],
   "source": [
    "elms = [1,2,3,4]\n",
    "rels = [[1,2],[1,3],[2,4],[3,4]]\n",
    "#rels = [[1,2],[2,3],[3,4]]\n",
    "P = Poset((elms, rels), cover_relations = True)\n",
    "\n",
    "#balls = [[0,0,1,0],[1,0,0,0]]\n",
    "#balls = [[1,0,1,0],[1,1,0,0],[1,0,0,1]]\n",
    "#balls = [[0,0,1,1],[1,1,0,1]]\n",
    "\n",
    "#balls = [[0,0,1,0],[1,0,0,0],[1,1,0,0]]\n",
    "#balls = [[0,1,0,0],[1,0,0,0],[1,0,1,0]]\n",
    "\n",
    "balls = [[0,1,0,0]]\n",
    "\n",
    "M = PosetMultilineQueue(P,balls)\n",
    "M.pair(0)\n",
    "\n",
    "print(\"Original PMLQ\")\n",
    "print(M.balls)\n",
    "print(M.queues)\n",
    "print(\"---\")\n",
    "\n",
    "word = [1,3,2]\n",
    "\n",
    "for w in word:\n",
    "    print(\"Insertion of \"+str(w))\n",
    "    M.insert_par(w)\n",
    "    print(M.balls)\n",
    "    print(M.queues)\n",
    "    print(\"---\")\n"
   ]
  },
  {
   "cell_type": "code",
   "execution_count": 4,
   "metadata": {},
   "outputs": [
    {
     "name": "stdout",
     "output_type": "stream",
     "text": [
      "[[0, 1, 1, 0], [1, 1, 0, 0]]\n",
      "[[3, 1], [2, 1], [2, 2], [1, 2]]\n",
      "[1, 2]\n",
      "[2, 2]\n",
      "[[[1, 2], [2, 1]], [[2, 2], [3, 1]]]\n"
     ]
    }
   ],
   "source": [
    "elms = [1,2,3,4]\n",
    "rels = [[1,2],[1,3],[2,4],[3,4]]\n",
    "#rels = [[1,2],[2,3],[3,4]]\n",
    "P = Poset((elms, rels), cover_relations = True)\n",
    "\n",
    "#balls = [[0,0,1,0],[1,0,0,0]]\n",
    "#balls = [[1,0,1,0],[1,1,0,0],[1,0,0,1]]\n",
    "#balls = [[0,0,1,1],[1,1,0,1]]\n",
    "\n",
    "#balls = [[0,0,1,0],[1,0,0,0],[1,1,0,0]]\n",
    "#balls = [[0,1,0,0],[1,0,0,0],[1,0,1,0]]\n",
    "\n",
    "balls = [[0, 1, 1, 0], [1, 1, 0, 0]]\n",
    "\n",
    "M = PosetMultilineQueue(P,balls)\n",
    "\n",
    "print(M.balls)\n",
    "\n",
    "M.pair(0)\n",
    "\n",
    "print(M.queues)\n"
   ]
  },
  {
   "cell_type": "code",
   "execution_count": 21,
   "metadata": {},
   "outputs": [
    {
     "name": "stdout",
     "output_type": "stream",
     "text": [
      "[[0, 1, 1, 0], [1, 0, 0, 0], [1, 0, 0, 0]]\n",
      "[[[1, 3], [1, 2], [2, 1]], [[3, 1]]]\n",
      "[[0, 1, 1, 0], [1, 0, 0, 0], [1, 0, 0, 0]]\n",
      "[[[1, 3], [1, 2], [3, 1]], [[2, 1]]]\n",
      "False\n"
     ]
    }
   ],
   "source": [
    "elms = [1,2,3,4]\n",
    "rels = [[1,2],[1,3],[2,4],[3,4]]\n",
    "P = Poset((elms, rels), cover_relations = True)\n",
    "\n",
    "word = [1,1,2,3]\n",
    "\n",
    "M1 = rho2(P,[2,1,1,3])\n",
    "print(M1.balls)\n",
    "print(M1.queues)\n",
    "\n",
    "M2 = rho2(P,[3,1,1,2])\n",
    "print(M2.balls)\n",
    "print(M2.queues)\n",
    "\n",
    "print(are_equal(M1,M2))\n"
   ]
  },
  {
   "cell_type": "code",
   "execution_count": 8,
   "metadata": {},
   "outputs": [],
   "source": [
    "def rho_image(P,ell):\n",
    "    #List of all words in |P| symbols, of length ell\n",
    "    all_words = list(itertools.product(*[range(1,P.cardinality()+1) for j in range(ell)]))\n",
    "    \n",
    "    #List of all multiline queues that we get as an image of rho\n",
    "    MLQ_image = []\n",
    "    \n",
    "    for w in all_words:\n",
    "        M = rho_par(P,w)\n",
    "        already_in = False\n",
    "        for N in MLQ_image:\n",
    "            if are_equal(M,N):\n",
    "                already_in = True\n",
    "                break\n",
    "        \n",
    "        if not already_in:\n",
    "            MLQ_image.append(M)\n",
    "            #print(w)\n",
    "            #print(M.balls)\n",
    "            #print(M.queues)\n",
    "            #print(M.xweight())\n",
    "            #print(\"-----\")\n",
    "\n",
    "    return(MLQ_image)\n",
    "    \n",
    "def PSchurMLQ(P,shape):\n",
    "    n = P.cardinality()\n",
    "    R=PolynomialRing(coeffs_field,n,'x')\n",
    "    xs = R.gens()\n",
    "\n",
    "    part = Partition(shape)\n",
    "    ell = sum(part)\n",
    "    \n",
    "    PMLQ_complete_list = rho_image(P,ell)\n",
    "\n",
    "    poly = 0\n",
    "    \n",
    "    for M in PMLQ_complete_list:\n",
    "        if M.partition() == part:\n",
    "            #print(M.balls)\n",
    "            #print(M.queues)\n",
    "            #print(M.xweight())\n",
    "            #print(\"----\")\n",
    "            poly += M.xweight()\n",
    "            \n",
    "    return(poly)\n",
    "\n"
   ]
  },
  {
   "cell_type": "code",
   "execution_count": 9,
   "metadata": {},
   "outputs": [
    {
     "name": "stdout",
     "output_type": "stream",
     "text": [
      "[[0, 1, 1, 0], [1, 1, 0, 0], [1, 0, 0, 0], [1, 0, 0, 0]]\n",
      "[[[2, 2], [2, 1]], [[1, 4], [1, 3], [1, 2], [3, 1]]]\n",
      "[[1, 1, 1, 0], [0, 1, 0, 0], [1, 0, 0, 0], [1, 0, 0, 0]]\n",
      "[[[1, 4], [1, 3], [2, 2], [2, 1]], [[1, 1]], [[3, 1]]]\n"
     ]
    }
   ],
   "source": [
    "elms = [1,2,3,4]\n",
    "rels = [[1,2],[1,3],[2,4],[3,4]]\n",
    "P = Poset((elms, rels), cover_relations = True)\n",
    "\n",
    "M = rho2(P,[2,1,3,2,1,1])\n",
    "print(M.balls)\n",
    "print(M.queues)\n",
    "\n",
    "M = rho2(P,[2,1,2,3,1,1])\n",
    "print(M.balls)\n",
    "print(M.queues)"
   ]
  },
  {
   "cell_type": "code",
   "execution_count": 10,
   "metadata": {
    "scrolled": false
   },
   "outputs": [
    {
     "name": "stdout",
     "output_type": "stream",
     "text": [
      "x0^2*x1*x2 + x0*x1^2*x2 + x0*x1*x2^2 + x0^2*x1*x3 + x0*x1^2*x3 + x0^2*x2*x3 + 3*x0*x1*x2*x3 + x1^2*x2*x3 + x0*x2^2*x3 + x1*x2^2*x3 + x0*x1*x3^2 + x0*x2*x3^2 + x1*x2*x3^2\n",
      "True\n"
     ]
    }
   ],
   "source": [
    "elms = [1,2,3,4]\n",
    "rels = [[1,2],[1,3],[2,4],[3,4]]\n",
    "P = Poset((elms, rels), cover_relations = True)\n",
    "\n",
    "lam = [2,1,1]\n",
    "\n",
    "pol = PSchurMLQ(P,lam)\n",
    "\n",
    "print(pol)\n",
    "\n",
    "print(is_P_symmetric(xs,P,pol,lam))\n",
    "\n"
   ]
  },
  {
   "cell_type": "code",
   "execution_count": 16,
   "metadata": {},
   "outputs": [
    {
     "data": {
      "image/png": "[encoded data removed]",
      "text/plain": [
       "Graphics object consisting of 12 graphics primitives"
      ]
     },
     "metadata": {},
     "output_type": "display_data"
    },
    {
     "name": "stdout",
     "output_type": "stream",
     "text": [
      "x0*x1 + x0*x2 + x1*x2 + x0*x3 + x1*x3 + x2*x3 + x0*x4 + x1*x4 + x2*x4 + x3*x4\n",
      "True\n",
      "---\n",
      "x0^2 + x0*x1 + x1^2 + x0*x2 + x2^2 + x0*x3 + x3^2 + x0*x4 + x1*x4 + x2*x4 + x3*x4 + x4^2\n",
      "True\n",
      "---\n",
      "x0^3*x1 + x0^2*x1^2 + x0*x1^3 + x0^3*x2 + 3*x0^2*x1*x2 + 2*x0*x1^2*x2 + x1^3*x2 + x0^2*x2^2 + 2*x0*x1*x2^2 + x0*x2^3 + x1*x2^3 + x0^3*x3 + 3*x0^2*x1*x3 + 2*x0*x1^2*x3 + x1^3*x3 + 3*x0^2*x2*x3 + 3*x0*x1*x2*x3 + x1^2*x2*x3 + 2*x0*x2^2*x3 + x1*x2^2*x3 + x2^3*x3 + x0^2*x3^2 + 2*x0*x1*x3^2 + 2*x0*x2*x3^2 + x1*x2*x3^2 + x0*x3^3 + x1*x3^3 + x2*x3^3 + x0^3*x4 + 3*x0^2*x1*x4 + 3*x0*x1^2*x4 + x1^3*x4 + 3*x0^2*x2*x4 + 5*x0*x1*x2*x4 + 2*x1^2*x2*x4 + 3*x0*x2^2*x4 + 2*x1*x2^2*x4 + x2^3*x4 + 3*x0^2*x3*x4 + 5*x0*x1*x3*x4 + 2*x1^2*x3*x4 + 5*x0*x2*x3*x4 + 3*x1*x2*x3*x4 + 2*x2^2*x3*x4 + 3*x0*x3^2*x4 + 2*x1*x3^2*x4 + 2*x2*x3^2*x4 + x3^3*x4 + x0^2*x4^2 + 3*x0*x1*x4^2 + x1^2*x4^2 + 3*x0*x2*x4^2 + 3*x1*x2*x4^2 + x2^2*x4^2 + 3*x0*x3*x4^2 + 3*x1*x3*x4^2 + 3*x2*x3*x4^2 + x3^2*x4^2 + x0*x4^3 + x1*x4^3 + x2*x4^3 + x3*x4^3\n",
      "[4]\n",
      "True\n",
      "[3, 1]\n",
      "True\n",
      "[2, 2]\n",
      "True\n",
      "[2, 1, 1]\n",
      "True\n",
      "[1, 1, 1, 1]\n",
      "True\n"
     ]
    }
   ],
   "source": [
    "#elms = [1,2,3,4]\n",
    "#rels = [[1,2],[1,3],[2,4],[3,4]]\n",
    "#rels = [[1,2],[2,3],[3,4]]\n",
    "\n",
    "elms = [1,2,3,4,5]\n",
    "rels = [[1,2],[1,3],[1,4],[2,5],[3,5],[4,5]]\n",
    "#rels = [[1,2],[2,3],[3,5],[1,4],[4,5]]\n",
    "P = Poset((elms, rels), cover_relations = True)\n",
    "\n",
    "P.show(layout = \"acyclic\")\n",
    "\n",
    "n = P.cardinality()\n",
    "coeffs_ring = ZZ['q','t']\n",
    "q = coeffs_ring.gens()[0]\n",
    "t = coeffs_ring.gens()[1]\n",
    "coeffs_field = coeffs_ring.fraction_field()\n",
    "R=PolynomialRing(coeffs_field,n,'x')\n",
    "xs=list(R.gens())\n",
    "\n",
    "lam = [1,1]\n",
    "mu = [2]\n",
    "\n",
    "s1 = PSchurMLQ(P,lam)\n",
    "s2 = PSchurMLQ(P,mu)\n",
    "\n",
    "print(s1)\n",
    "print(is_P_symmetric(xs,P,s1,lam))\n",
    "print(\"---\")\n",
    "print(s2)\n",
    "print(is_P_symmetric(xs,P,s2,mu))\n",
    "print(\"---\")\n",
    "s = s1*s2\n",
    "print(s)\n",
    "for part in Partitions(4):\n",
    "    print(part)\n",
    "    print(is_P_symmetric(xs,P,s2,part))"
   ]
  },
  {
   "cell_type": "code",
   "execution_count": 15,
   "metadata": {},
   "outputs": [
    {
     "ename": "TypeError",
     "evalue": "x must be of correct length",
     "output_type": "error",
     "traceback": [
      "\u001b[0;31m---------------------------------------------------------------------------\u001b[0m",
      "\u001b[0;31mTypeError\u001b[0m                                 Traceback (most recent call last)",
      "\u001b[0;32m<ipython-input-15-00b6c6fe33b3>\u001b[0m in \u001b[0;36m<module>\u001b[0;34m\u001b[0m\n\u001b[0;32m----> 1\u001b[0;31m \u001b[0ms\u001b[0m\u001b[0;34m(\u001b[0m\u001b[0;34m[\u001b[0m\u001b[0mInteger\u001b[0m\u001b[0;34m(\u001b[0m\u001b[0;36m2\u001b[0m\u001b[0;34m)\u001b[0m\u001b[0;34m]\u001b[0m\u001b[0;34m)\u001b[0m\u001b[0;34m.\u001b[0m\u001b[0mexpand\u001b[0m\u001b[0;34m(\u001b[0m\u001b[0mInteger\u001b[0m\u001b[0;34m(\u001b[0m\u001b[0;36m4\u001b[0m\u001b[0;34m)\u001b[0m\u001b[0;34m)\u001b[0m\u001b[0;34m\u001b[0m\u001b[0;34m\u001b[0m\u001b[0m\n\u001b[0m",
      "\u001b[0;32m/opt/sagemath-9.3/local/lib/python3.7/site-packages/sage/rings/polynomial/multi_polynomial_element.py\u001b[0m in \u001b[0;36m__call__\u001b[0;34m(self, *x, **kwds)\u001b[0m\n\u001b[1;32m    149\u001b[0m         \u001b[0mn\u001b[0m \u001b[0;34m=\u001b[0m \u001b[0mself\u001b[0m\u001b[0;34m.\u001b[0m\u001b[0mparent\u001b[0m\u001b[0;34m(\u001b[0m\u001b[0;34m)\u001b[0m\u001b[0;34m.\u001b[0m\u001b[0mngens\u001b[0m\u001b[0;34m(\u001b[0m\u001b[0;34m)\u001b[0m\u001b[0;34m\u001b[0m\u001b[0;34m\u001b[0m\u001b[0m\n\u001b[1;32m    150\u001b[0m         \u001b[0;32mif\u001b[0m \u001b[0mlen\u001b[0m\u001b[0;34m(\u001b[0m\u001b[0mx\u001b[0m\u001b[0;34m)\u001b[0m \u001b[0;34m!=\u001b[0m \u001b[0mn\u001b[0m\u001b[0;34m:\u001b[0m\u001b[0;34m\u001b[0m\u001b[0;34m\u001b[0m\u001b[0m\n\u001b[0;32m--> 151\u001b[0;31m             \u001b[0;32mraise\u001b[0m \u001b[0mTypeError\u001b[0m\u001b[0;34m(\u001b[0m\u001b[0;34m\"x must be of correct length\"\u001b[0m\u001b[0;34m)\u001b[0m\u001b[0;34m\u001b[0m\u001b[0;34m\u001b[0m\u001b[0m\n\u001b[0m\u001b[1;32m    152\u001b[0m         \u001b[0;32mif\u001b[0m \u001b[0mn\u001b[0m \u001b[0;34m==\u001b[0m \u001b[0;36m0\u001b[0m\u001b[0;34m:\u001b[0m\u001b[0;34m\u001b[0m\u001b[0;34m\u001b[0m\u001b[0m\n\u001b[1;32m    153\u001b[0m             \u001b[0;32mreturn\u001b[0m \u001b[0mself\u001b[0m\u001b[0;34m.\u001b[0m\u001b[0mconstant_coefficient\u001b[0m\u001b[0;34m(\u001b[0m\u001b[0;34m)\u001b[0m\u001b[0;34m\u001b[0m\u001b[0;34m\u001b[0m\u001b[0m\n",
      "\u001b[0;31mTypeError\u001b[0m: x must be of correct length"
     ]
    }
   ],
   "source": [
    "s([2]).expand(4)"
   ]
  },
  {
   "cell_type": "code",
   "execution_count": 32,
   "metadata": {
    "scrolled": true
   },
   "outputs": [
    {
     "name": "stdout",
     "output_type": "stream",
     "text": [
      "[\n",
      "[a1 == 0, a2 == 1, a3 == 0, a4 == 1, a5 == x0/x3]\n",
      "]\n"
     ]
    }
   ],
   "source": [
    "elms = [1,2,3,4]\n",
    "rels = [[1,2],[1,3],[2,4],[3,4]]\n",
    "#rels = [[1,2],[2,3],[3,4]]\n",
    "\n",
    "P = Poset((elms, rels), cover_relations = True)\n",
    "\n",
    "lam = [1,1]\n",
    "mu = [2]\n",
    "\n",
    "s1 = PSchurMLQ(P,lam)\n",
    "s2 = PSchurMLQ(P,mu)\n",
    "\n",
    "var(['a1','a2','a3','a4','a5','a6','a7','a8','a9','a10'])\n",
    "\n",
    "f = s1*s2 - a1*PSchurMLQ(P,[4]) - a2*PSchurMLQ(P,[3,1]) - a3*PSchurMLQ(P,[2,2]) - a4*PSchurMLQ(P,[2,1,1]) - a5*PSchurMLQ(P,[1,1,1,1])\n",
    "\n",
    "#f = s1 * s2 - a1*PSchurMLQ(P,[5]) - a2*PSchurMLQ(P,[4,1]) - a3*PSchurMLQ(P,[3,2]) - a4*PSchurMLQ(P,[3,1,1]) - a5*PSchurMLQ(P,[2,2,1])- a6*PSchurMLQ(P,[2,1,1,1])\n",
    "     \n",
    "print(solve([f==0,a1==0,a2==1,a3==0,a4==1],a1,a2,a3,a4,a5))"
   ]
  },
  {
   "cell_type": "code",
   "execution_count": 35,
   "metadata": {
    "scrolled": false
   },
   "outputs": [
    {
     "data": {
      "image/png": "[encoded data removed]",
      "text/plain": [
       "Graphics object consisting of 11 graphics primitives"
      ]
     },
     "metadata": {},
     "output_type": "display_data"
    },
    {
     "name": "stdout",
     "output_type": "stream",
     "text": [
      "[\n",
      "[a1 == 0, a2 == 1, a3 == 0, a4 == 1, a5 == (x0^2*x1 + (x0^2 + x0*x1)*x2)*x3/(x0*x1*x2*x3 + (x0*x1*x2 + (x0*x1 + (x0 + x1)*x2)*x3)*x4)]\n",
      "]\n"
     ]
    }
   ],
   "source": [
    "elms = [1,2,3,4,5]\n",
    "#rels = [[1,2],[1,3],[1,4],[2,5],[3,5],[4,5]]\n",
    "rels = [[1,2],[2,3],[3,5],[1,4],[4,5]]\n",
    "\n",
    "P = Poset((elms, rels), cover_relations = True)\n",
    "P.show(layout = \"acyclic\")\n",
    "\n",
    "n = P.cardinality()\n",
    "coeffs_ring = ZZ['q','t']\n",
    "q = coeffs_ring.gens()[0]\n",
    "t = coeffs_ring.gens()[1]\n",
    "coeffs_field = coeffs_ring.fraction_field()\n",
    "R=PolynomialRing(coeffs_field,n,'x')\n",
    "xs=list(R.gens())\n",
    "\n",
    "lam = [1,1]\n",
    "mu = [2]\n",
    "\n",
    "s1 = PSchurMLQ(P,lam)\n",
    "s2 = PSchurMLQ(P,mu)\n",
    "\n",
    "var(['a1','a2','a3','a4','a5','a6','a7','a8','a9','a10'])\n",
    "\n",
    "f = s1*s2 - a1*PSchurMLQ(P,[4]) - a2*PSchurMLQ(P,[3,1]) - a3*PSchurMLQ(P,[2,2]) - a4*PSchurMLQ(P,[2,1,1]) - a5*PSchurMLQ(P,[1,1,1,1])\n",
    "\n",
    "#f = s1 * s2 - a1*PSchurMLQ(P,[5]) - a2*PSchurMLQ(P,[4,1]) - a3*PSchurMLQ(P,[3,2]) - a4*PSchurMLQ(P,[3,1,1]) - a5*PSchurMLQ(P,[2,2,1])- a6*PSchurMLQ(P,[2,1,1,1])\n",
    "     \n",
    "print(solve([f==0,a1==0,a2==1,a3==0,a4==1,],a1,a2,a3,a4,a5))"
   ]
  },
  {
   "cell_type": "code",
   "execution_count": 131,
   "metadata": {},
   "outputs": [
    {
     "name": "stdout",
     "output_type": "stream",
     "text": [
      "x0^2*x1*x2*x3 + x0*x1^2*x2*x3 + x0*x1*x2^2*x3 + x0*x1*x2*x3^2\n"
     ]
    }
   ],
   "source": [
    "print(PSchurMLQ(P,[2,1,1,1]))"
   ]
  },
  {
   "cell_type": "code",
   "execution_count": 495,
   "metadata": {},
   "outputs": [
    {
     "name": "stdout",
     "output_type": "stream",
     "text": [
      "3\n"
     ]
    }
   ],
   "source": [
    "print((s1*s2).coefficient(xs[0]*xs[0]*xs[2]*xs[3]))"
   ]
  },
  {
   "cell_type": "code",
   "execution_count": 504,
   "metadata": {
    "scrolled": true
   },
   "outputs": [
    {
     "name": "stdout",
     "output_type": "stream",
     "text": [
      "(1, 1, 1, 1)\n",
      "[[1, 0, 0, 0], [1, 0, 0, 0], [1, 0, 0, 0], [1, 0, 0, 0]]\n",
      "[[[1, 4], [1, 3], [1, 2], [1, 1]]]\n",
      "x0^4\n",
      "-----\n",
      "(1, 1, 1, 2)\n",
      "[[1, 1, 0, 0], [1, 0, 0, 0], [1, 0, 0, 0]]\n",
      "[[[1, 3], [1, 2], [1, 1]], [[2, 1]]]\n",
      "x0^3*x1\n",
      "-----\n",
      "(1, 1, 1, 3)\n",
      "[[1, 0, 1, 0], [1, 0, 0, 0], [1, 0, 0, 0]]\n",
      "[[[1, 3], [1, 2], [1, 1]], [[3, 1]]]\n",
      "x0^3*x2\n",
      "-----\n",
      "(1, 1, 1, 4)\n",
      "[[1, 0, 0, 1], [1, 0, 0, 0], [1, 0, 0, 0]]\n",
      "[[[1, 3], [1, 2], [1, 1]], [[4, 1]]]\n",
      "x0^3*x3\n",
      "-----\n",
      "(1, 1, 2, 2)\n",
      "[[1, 1, 0, 0], [1, 1, 0, 0]]\n",
      "[[[1, 2], [1, 1]], [[2, 2], [2, 1]]]\n",
      "x0^2*x1^2\n",
      "-----\n",
      "(1, 1, 2, 3)\n",
      "[[1, 1, 1, 0], [1, 0, 0, 0]]\n",
      "[[[1, 2], [1, 1]], [[2, 1]], [[3, 1]]]\n",
      "x0^2*x1*x2\n",
      "-----\n",
      "(1, 1, 2, 4)\n",
      "[[1, 1, 0, 1], [1, 0, 0, 0]]\n",
      "[[[1, 2], [1, 1]], [[2, 1]], [[4, 1]]]\n",
      "x0^2*x1*x3\n",
      "-----\n",
      "(1, 1, 3, 3)\n",
      "[[1, 0, 1, 0], [1, 0, 1, 0]]\n",
      "[[[1, 2], [1, 1]], [[3, 2], [3, 1]]]\n",
      "x0^2*x2^2\n",
      "-----\n",
      "(1, 1, 3, 4)\n",
      "[[1, 0, 1, 1], [1, 0, 0, 0]]\n",
      "[[[1, 2], [1, 1]], [[3, 1]], [[4, 1]]]\n",
      "x0^2*x2*x3\n",
      "-----\n",
      "(1, 1, 4, 2)\n",
      "[[1, 0, 0, 1], [1, 1, 0, 0]]\n",
      "[[[1, 2], [1, 1]], [[2, 2], [4, 1]]]\n",
      "x0^2*x1*x3\n",
      "-----\n",
      "(1, 1, 4, 3)\n",
      "[[1, 0, 0, 1], [1, 0, 1, 0]]\n",
      "[[[1, 2], [1, 1]], [[3, 2], [4, 1]]]\n",
      "x0^2*x2*x3\n",
      "-----\n",
      "(1, 1, 4, 4)\n",
      "[[1, 0, 0, 1], [1, 0, 0, 1]]\n",
      "[[[1, 2], [1, 1]], [[4, 2], [4, 1]]]\n",
      "x0^2*x3^2\n",
      "-----\n",
      "(1, 2, 2, 1)\n",
      "[[1, 1, 0, 0], [0, 1, 0, 0], [1, 0, 0, 0]]\n",
      "[[[1, 3], [2, 2], [2, 1]], [[1, 1]]]\n",
      "x0^2*x1^2\n",
      "-----\n",
      "(1, 2, 2, 2)\n",
      "[[1, 1, 0, 0], [0, 1, 0, 0], [0, 1, 0, 0]]\n",
      "[[[2, 3], [2, 2], [2, 1]], [[1, 1]]]\n",
      "x0*x1^3\n",
      "-----\n",
      "(1, 2, 2, 3)\n",
      "[[1, 1, 1, 0], [0, 1, 0, 0]]\n",
      "[[[2, 2], [2, 1]], [[1, 1]], [[3, 1]]]\n",
      "x0*x1^2*x2\n",
      "-----\n",
      "(1, 2, 2, 4)\n",
      "[[1, 1, 0, 1], [0, 1, 0, 0]]\n",
      "[[[2, 2], [2, 1]], [[1, 1]], [[4, 1]]]\n",
      "x0*x1^2*x3\n",
      "-----\n",
      "(1, 2, 3, 3)\n",
      "[[1, 1, 1, 0], [0, 0, 1, 0]]\n",
      "[[[3, 2], [3, 1]], [[1, 1]], [[2, 1]]]\n",
      "x0*x1*x2^2\n",
      "-----\n",
      "(1, 2, 3, 4)\n",
      "[[1, 1, 1, 1]]\n",
      "[[[1, 1]], [[2, 1]], [[3, 1]], [[4, 1]]]\n",
      "x0*x1*x2*x3\n",
      "-----\n",
      "(1, 2, 4, 3)\n",
      "[[1, 1, 0, 1], [0, 0, 1, 0]]\n",
      "[[[3, 2], [4, 1]], [[1, 1]], [[2, 1]]]\n",
      "x0*x1*x2*x3\n",
      "-----\n",
      "(1, 2, 4, 4)\n",
      "[[1, 1, 0, 1], [0, 0, 0, 1]]\n",
      "[[[4, 2], [4, 1]], [[1, 1]], [[2, 1]]]\n",
      "x0*x1*x3^2\n",
      "-----\n",
      "(1, 3, 3, 1)\n",
      "[[1, 0, 1, 0], [0, 0, 1, 0], [1, 0, 0, 0]]\n",
      "[[[1, 3], [3, 2], [3, 1]], [[1, 1]]]\n",
      "x0^2*x2^2\n",
      "-----\n",
      "(1, 3, 3, 3)\n",
      "[[1, 0, 1, 0], [0, 0, 1, 0], [0, 0, 1, 0]]\n",
      "[[[3, 3], [3, 2], [3, 1]], [[1, 1]]]\n",
      "x0*x2^3\n",
      "-----\n",
      "(1, 3, 3, 4)\n",
      "[[1, 0, 1, 1], [0, 0, 1, 0]]\n",
      "[[[3, 2], [3, 1]], [[1, 1]], [[4, 1]]]\n",
      "x0*x2^2*x3\n",
      "-----\n",
      "(1, 3, 4, 2)\n",
      "[[1, 0, 1, 1], [0, 1, 0, 0]]\n",
      "[[[2, 2], [4, 1]], [[1, 1]], [[3, 1]]]\n",
      "x0*x1*x2*x3\n",
      "-----\n",
      "(1, 3, 4, 4)\n",
      "[[1, 0, 1, 1], [0, 0, 0, 1]]\n",
      "[[[4, 2], [4, 1]], [[1, 1]], [[3, 1]]]\n",
      "x0*x2*x3^2\n",
      "-----\n",
      "(1, 4, 2, 1)\n",
      "[[1, 0, 0, 1], [0, 1, 0, 0], [1, 0, 0, 0]]\n",
      "[[[1, 3], [2, 2], [4, 1]], [[1, 1]]]\n",
      "x0^2*x1*x3\n",
      "-----\n",
      "(1, 4, 2, 2)\n",
      "[[1, 0, 0, 1], [0, 1, 0, 0], [0, 1, 0, 0]]\n",
      "[[[2, 3], [2, 2], [4, 1]], [[1, 1]]]\n",
      "x0*x1^2*x3\n",
      "-----\n",
      "(1, 4, 3, 1)\n",
      "[[1, 0, 0, 1], [0, 0, 1, 0], [1, 0, 0, 0]]\n",
      "[[[1, 3], [3, 2], [4, 1]], [[1, 1]]]\n",
      "x0^2*x2*x3\n",
      "-----\n",
      "(1, 4, 3, 3)\n",
      "[[1, 0, 0, 1], [0, 0, 1, 0], [0, 0, 1, 0]]\n",
      "[[[3, 3], [3, 2], [4, 1]], [[1, 1]]]\n",
      "x0*x2^2*x3\n",
      "-----\n",
      "(1, 4, 4, 1)\n",
      "[[1, 0, 0, 1], [0, 0, 0, 1], [1, 0, 0, 0]]\n",
      "[[[1, 3], [4, 2], [4, 1]], [[1, 1]]]\n",
      "x0^2*x3^2\n",
      "-----\n",
      "(1, 4, 4, 2)\n",
      "[[1, 0, 0, 1], [0, 0, 0, 1], [0, 1, 0, 0]]\n",
      "[[[2, 3], [4, 2], [4, 1]], [[1, 1]]]\n",
      "x0*x1*x3^2\n",
      "-----\n",
      "(1, 4, 4, 3)\n",
      "[[1, 0, 0, 1], [0, 0, 0, 1], [0, 0, 1, 0]]\n",
      "[[[3, 3], [4, 2], [4, 1]], [[1, 1]]]\n",
      "x0*x2*x3^2\n",
      "-----\n",
      "(1, 4, 4, 4)\n",
      "[[1, 0, 0, 1], [0, 0, 0, 1], [0, 0, 0, 1]]\n",
      "[[[4, 3], [4, 2], [4, 1]], [[1, 1]]]\n",
      "x0*x3^3\n",
      "-----\n",
      "(2, 1, 1, 1)\n",
      "[[0, 1, 0, 0], [1, 0, 0, 0], [1, 0, 0, 0], [1, 0, 0, 0]]\n",
      "[[[1, 4], [1, 3], [1, 2], [2, 1]]]\n",
      "x0^3*x1\n",
      "-----\n",
      "(2, 1, 1, 3)\n",
      "[[0, 1, 1, 0], [1, 0, 0, 0], [1, 0, 0, 0]]\n",
      "[[[1, 3], [1, 2], [2, 1]], [[3, 1]]]\n",
      "x0^2*x1*x2\n",
      "-----\n",
      "(2, 1, 1, 4)\n",
      "[[0, 1, 0, 1], [1, 0, 0, 0], [1, 0, 0, 0]]\n",
      "[[[1, 3], [1, 2], [2, 1]], [[4, 1]]]\n",
      "x0^2*x1*x3\n",
      "-----\n",
      "(2, 1, 3, 2)\n",
      "[[0, 1, 1, 0], [1, 1, 0, 0]]\n",
      "[[[1, 2], [2, 1]], [[2, 2], [3, 1]]]\n",
      "x0*x1^2*x2\n",
      "-----\n",
      "(2, 1, 3, 3)\n",
      "[[0, 1, 1, 0], [1, 0, 1, 0]]\n",
      "[[[1, 2], [2, 1]], [[3, 2], [3, 1]]]\n",
      "x0*x1*x2^2\n",
      "-----\n",
      "(2, 1, 3, 4)\n",
      "[[0, 1, 1, 1], [1, 0, 0, 0]]\n",
      "[[[1, 2], [2, 1]], [[3, 1]], [[4, 1]]]\n",
      "x0*x1*x2*x3\n",
      "-----\n",
      "(2, 1, 4, 2)\n",
      "[[0, 1, 0, 1], [1, 1, 0, 0]]\n",
      "[[[1, 2], [2, 1]], [[2, 2], [4, 1]]]\n",
      "x0*x1^2*x3\n",
      "-----\n",
      "(2, 1, 4, 3)\n",
      "[[0, 1, 0, 1], [1, 0, 1, 0]]\n",
      "[[[1, 2], [2, 1]], [[3, 2], [4, 1]]]\n",
      "x0*x1*x2*x3\n",
      "-----\n",
      "(2, 1, 4, 4)\n",
      "[[0, 1, 0, 1], [1, 0, 0, 1]]\n",
      "[[[1, 2], [2, 1]], [[4, 2], [4, 1]]]\n",
      "x0*x1*x3^2\n",
      "-----\n",
      "(2, 2, 1, 1)\n",
      "[[0, 1, 0, 0], [0, 1, 0, 0], [1, 0, 0, 0], [1, 0, 0, 0]]\n",
      "[[[1, 4], [1, 3], [2, 2], [2, 1]]]\n",
      "x0^2*x1^2\n",
      "-----\n",
      "(2, 2, 1, 3)\n",
      "[[0, 1, 1, 0], [0, 1, 0, 0], [1, 0, 0, 0]]\n",
      "[[[1, 3], [2, 2], [2, 1]], [[3, 1]]]\n",
      "x0*x1^2*x2\n",
      "-----\n",
      "(2, 2, 1, 4)\n",
      "[[0, 1, 0, 1], [0, 1, 0, 0], [1, 0, 0, 0]]\n",
      "[[[1, 3], [2, 2], [2, 1]], [[4, 1]]]\n",
      "x0*x1^2*x3\n",
      "-----\n",
      "(2, 2, 2, 1)\n",
      "[[0, 1, 0, 0], [0, 1, 0, 0], [0, 1, 0, 0], [1, 0, 0, 0]]\n",
      "[[[1, 4], [2, 3], [2, 2], [2, 1]]]\n",
      "x0*x1^3\n",
      "-----\n",
      "(2, 2, 2, 2)\n",
      "[[0, 1, 0, 0], [0, 1, 0, 0], [0, 1, 0, 0], [0, 1, 0, 0]]\n",
      "[[[2, 4], [2, 3], [2, 2], [2, 1]]]\n",
      "x1^4\n",
      "-----\n",
      "(2, 2, 2, 3)\n",
      "[[0, 1, 1, 0], [0, 1, 0, 0], [0, 1, 0, 0]]\n",
      "[[[2, 3], [2, 2], [2, 1]], [[3, 1]]]\n",
      "x1^3*x2\n",
      "-----\n",
      "(2, 2, 2, 4)\n",
      "[[0, 1, 0, 1], [0, 1, 0, 0], [0, 1, 0, 0]]\n",
      "[[[2, 3], [2, 2], [2, 1]], [[4, 1]]]\n",
      "x1^3*x3\n",
      "-----\n",
      "(2, 2, 3, 3)\n",
      "[[0, 1, 1, 0], [0, 1, 1, 0]]\n",
      "[[[2, 2], [2, 1]], [[3, 2], [3, 1]]]\n",
      "x1^2*x2^2\n",
      "-----\n",
      "(2, 2, 3, 4)\n",
      "[[0, 1, 1, 1], [0, 1, 0, 0]]\n",
      "[[[2, 2], [2, 1]], [[3, 1]], [[4, 1]]]\n",
      "x1^2*x2*x3\n",
      "-----\n",
      "(2, 2, 4, 3)\n",
      "[[0, 1, 0, 1], [0, 1, 1, 0]]\n",
      "[[[2, 2], [2, 1]], [[3, 2], [4, 1]]]\n",
      "x1^2*x2*x3\n",
      "-----\n",
      "(2, 2, 4, 4)\n",
      "[[0, 1, 0, 1], [0, 1, 0, 1]]\n",
      "[[[2, 2], [2, 1]], [[4, 2], [4, 1]]]\n",
      "x1^2*x3^2\n",
      "-----\n",
      "(2, 3, 3, 1)\n",
      "[[0, 1, 1, 0], [0, 0, 1, 0], [1, 0, 0, 0]]\n",
      "[[[1, 3], [3, 2], [3, 1]], [[2, 1]]]\n",
      "x0*x1*x2^2\n",
      "-----\n",
      "(2, 3, 3, 3)\n",
      "[[0, 1, 1, 0], [0, 0, 1, 0], [0, 0, 1, 0]]\n",
      "[[[3, 3], [3, 2], [3, 1]], [[2, 1]]]\n",
      "x1*x2^3\n",
      "-----\n",
      "(2, 3, 3, 4)\n",
      "[[0, 1, 1, 1], [0, 0, 1, 0]]\n",
      "[[[3, 2], [3, 1]], [[2, 1]], [[4, 1]]]\n",
      "x1*x2^2*x3\n",
      "-----\n",
      "(2, 3, 4, 4)\n",
      "[[0, 1, 1, 1], [0, 0, 0, 1]]\n",
      "[[[4, 2], [4, 1]], [[2, 1]], [[3, 1]]]\n",
      "x1*x2*x3^2\n",
      "-----\n",
      "(2, 4, 3, 1)\n",
      "[[0, 1, 0, 1], [0, 0, 1, 0], [1, 0, 0, 0]]\n",
      "[[[1, 3], [3, 2], [4, 1]], [[2, 1]]]\n",
      "x0*x1*x2*x3\n",
      "-----\n",
      "(2, 4, 3, 3)\n",
      "[[0, 1, 0, 1], [0, 0, 1, 0], [0, 0, 1, 0]]\n",
      "[[[3, 3], [3, 2], [4, 1]], [[2, 1]]]\n",
      "x1*x2^2*x3\n",
      "-----\n",
      "(2, 4, 4, 1)\n",
      "[[0, 1, 0, 1], [0, 0, 0, 1], [1, 0, 0, 0]]\n",
      "[[[1, 3], [4, 2], [4, 1]], [[2, 1]]]\n",
      "x0*x1*x3^2\n",
      "-----\n",
      "(2, 4, 4, 2)\n",
      "[[0, 1, 0, 1], [0, 0, 0, 1], [0, 1, 0, 0]]\n",
      "[[[2, 3], [4, 2], [4, 1]], [[2, 1]]]\n",
      "x1^2*x3^2\n",
      "-----\n",
      "(2, 4, 4, 3)\n",
      "[[0, 1, 0, 1], [0, 0, 0, 1], [0, 0, 1, 0]]\n",
      "[[[3, 3], [4, 2], [4, 1]], [[2, 1]]]\n",
      "x1*x2*x3^2\n",
      "-----\n",
      "(2, 4, 4, 4)\n",
      "[[0, 1, 0, 1], [0, 0, 0, 1], [0, 0, 0, 1]]\n",
      "[[[4, 3], [4, 2], [4, 1]], [[2, 1]]]\n",
      "x1*x3^3\n",
      "-----\n",
      "(3, 1, 1, 1)\n",
      "[[0, 0, 1, 0], [1, 0, 0, 0], [1, 0, 0, 0], [1, 0, 0, 0]]\n",
      "[[[1, 4], [1, 3], [1, 2], [3, 1]]]\n",
      "x0^3*x2\n",
      "-----\n",
      "(3, 1, 1, 4)\n",
      "[[0, 0, 1, 1], [1, 0, 0, 0], [1, 0, 0, 0]]\n",
      "[[[1, 3], [1, 2], [3, 1]], [[4, 1]]]\n",
      "x0^2*x2*x3\n",
      "-----\n",
      "(3, 1, 4, 2)\n",
      "[[0, 0, 1, 1], [1, 1, 0, 0]]\n",
      "[[[1, 2], [3, 1]], [[2, 2], [4, 1]]]\n",
      "x0*x1*x2*x3\n",
      "-----\n",
      "(3, 1, 4, 3)\n",
      "[[0, 0, 1, 1], [1, 0, 1, 0]]\n",
      "[[[1, 2], [3, 1]], [[3, 2], [4, 1]]]\n",
      "x0*x2^2*x3\n",
      "-----\n",
      "(3, 1, 4, 4)\n",
      "[[0, 0, 1, 1], [1, 0, 0, 1]]\n",
      "[[[1, 2], [3, 1]], [[4, 2], [4, 1]]]\n",
      "x0*x2*x3^2\n",
      "-----\n",
      "(3, 3, 1, 1)\n",
      "[[0, 0, 1, 0], [0, 0, 1, 0], [1, 0, 0, 0], [1, 0, 0, 0]]\n",
      "[[[1, 4], [1, 3], [3, 2], [3, 1]]]\n",
      "x0^2*x2^2\n",
      "-----\n",
      "(3, 3, 1, 4)\n",
      "[[0, 0, 1, 1], [0, 0, 1, 0], [1, 0, 0, 0]]\n",
      "[[[1, 3], [3, 2], [3, 1]], [[4, 1]]]\n",
      "x0*x2^2*x3\n",
      "-----\n",
      "(3, 3, 3, 1)\n",
      "[[0, 0, 1, 0], [0, 0, 1, 0], [0, 0, 1, 0], [1, 0, 0, 0]]\n",
      "[[[1, 4], [3, 3], [3, 2], [3, 1]]]\n",
      "x0*x2^3\n",
      "-----\n",
      "(3, 3, 3, 3)\n",
      "[[0, 0, 1, 0], [0, 0, 1, 0], [0, 0, 1, 0], [0, 0, 1, 0]]\n",
      "[[[3, 4], [3, 3], [3, 2], [3, 1]]]\n",
      "x2^4\n",
      "-----\n",
      "(3, 3, 3, 4)\n",
      "[[0, 0, 1, 1], [0, 0, 1, 0], [0, 0, 1, 0]]\n",
      "[[[3, 3], [3, 2], [3, 1]], [[4, 1]]]\n",
      "x2^3*x3\n",
      "-----\n",
      "(3, 3, 4, 2)\n",
      "[[0, 0, 1, 1], [0, 1, 1, 0]]\n",
      "[[[2, 2], [4, 1]], [[3, 2], [3, 1]]]\n",
      "x1*x2^2*x3\n",
      "-----\n",
      "(3, 3, 4, 4)\n",
      "[[0, 0, 1, 1], [0, 0, 1, 1]]\n",
      "[[[3, 2], [3, 1]], [[4, 2], [4, 1]]]\n",
      "x2^2*x3^2\n",
      "-----\n",
      "(3, 4, 2, 1)\n",
      "[[0, 0, 1, 1], [0, 1, 0, 0], [1, 0, 0, 0]]\n",
      "[[[1, 3], [2, 2], [4, 1]], [[3, 1]]]\n",
      "x0*x1*x2*x3\n",
      "-----\n",
      "(3, 4, 2, 2)\n",
      "[[0, 0, 1, 1], [0, 1, 0, 0], [0, 1, 0, 0]]\n",
      "[[[2, 3], [2, 2], [4, 1]], [[3, 1]]]\n",
      "x1^2*x2*x3\n",
      "-----\n",
      "(3, 4, 4, 1)\n",
      "[[0, 0, 1, 1], [0, 0, 0, 1], [1, 0, 0, 0]]\n",
      "[[[1, 3], [4, 2], [4, 1]], [[3, 1]]]\n",
      "x0*x2*x3^2\n",
      "-----\n",
      "(3, 4, 4, 2)\n",
      "[[0, 0, 1, 1], [0, 0, 0, 1], [0, 1, 0, 0]]\n",
      "[[[2, 3], [4, 2], [4, 1]], [[3, 1]]]\n",
      "x1*x2*x3^2\n",
      "-----\n",
      "(3, 4, 4, 3)\n",
      "[[0, 0, 1, 1], [0, 0, 0, 1], [0, 0, 1, 0]]\n",
      "[[[3, 3], [4, 2], [4, 1]], [[3, 1]]]\n",
      "x2^2*x3^2\n",
      "-----\n",
      "(3, 4, 4, 4)\n",
      "[[0, 0, 1, 1], [0, 0, 0, 1], [0, 0, 0, 1]]\n",
      "[[[4, 3], [4, 2], [4, 1]], [[3, 1]]]\n",
      "x2*x3^3\n",
      "-----\n",
      "(4, 1, 1, 1)\n",
      "[[0, 0, 0, 1], [1, 0, 0, 0], [1, 0, 0, 0], [1, 0, 0, 0]]\n",
      "[[[1, 4], [1, 3], [1, 2], [4, 1]]]\n",
      "x0^3*x3\n",
      "-----\n",
      "(4, 2, 1, 1)\n",
      "[[0, 0, 0, 1], [0, 1, 0, 0], [1, 0, 0, 0], [1, 0, 0, 0]]\n",
      "[[[1, 4], [1, 3], [2, 2], [4, 1]]]\n",
      "x0^2*x1*x3\n",
      "-----\n",
      "(4, 2, 2, 1)\n",
      "[[0, 0, 0, 1], [0, 1, 0, 0], [0, 1, 0, 0], [1, 0, 0, 0]]\n",
      "[[[1, 4], [2, 3], [2, 2], [4, 1]]]\n",
      "x0*x1^2*x3\n",
      "-----\n",
      "(4, 2, 2, 2)\n",
      "[[0, 0, 0, 1], [0, 1, 0, 0], [0, 1, 0, 0], [0, 1, 0, 0]]\n",
      "[[[2, 4], [2, 3], [2, 2], [4, 1]]]\n",
      "x1^3*x3\n",
      "-----\n",
      "(4, 3, 1, 1)\n",
      "[[0, 0, 0, 1], [0, 0, 1, 0], [1, 0, 0, 0], [1, 0, 0, 0]]\n",
      "[[[1, 4], [1, 3], [3, 2], [4, 1]]]\n",
      "x0^2*x2*x3\n",
      "-----\n",
      "(4, 3, 3, 1)\n",
      "[[0, 0, 0, 1], [0, 0, 1, 0], [0, 0, 1, 0], [1, 0, 0, 0]]\n",
      "[[[1, 4], [3, 3], [3, 2], [4, 1]]]\n",
      "x0*x2^2*x3\n",
      "-----\n",
      "(4, 3, 3, 3)\n",
      "[[0, 0, 0, 1], [0, 0, 1, 0], [0, 0, 1, 0], [0, 0, 1, 0]]\n",
      "[[[3, 4], [3, 3], [3, 2], [4, 1]]]\n",
      "x2^3*x3\n",
      "-----\n",
      "(4, 4, 1, 1)\n",
      "[[0, 0, 0, 1], [0, 0, 0, 1], [1, 0, 0, 0], [1, 0, 0, 0]]\n",
      "[[[1, 4], [1, 3], [4, 2], [4, 1]]]\n",
      "x0^2*x3^2\n",
      "-----\n",
      "(4, 4, 2, 1)\n",
      "[[0, 0, 0, 1], [0, 0, 0, 1], [0, 1, 0, 0], [1, 0, 0, 0]]\n",
      "[[[1, 4], [2, 3], [4, 2], [4, 1]]]\n",
      "x0*x1*x3^2\n",
      "-----\n"
     ]
    },
    {
     "name": "stdout",
     "output_type": "stream",
     "text": [
      "(4, 4, 2, 2)\n",
      "[[0, 0, 0, 1], [0, 0, 0, 1], [0, 1, 0, 0], [0, 1, 0, 0]]\n",
      "[[[2, 4], [2, 3], [4, 2], [4, 1]]]\n",
      "x1^2*x3^2\n",
      "-----\n",
      "(4, 4, 3, 1)\n",
      "[[0, 0, 0, 1], [0, 0, 0, 1], [0, 0, 1, 0], [1, 0, 0, 0]]\n",
      "[[[1, 4], [3, 3], [4, 2], [4, 1]]]\n",
      "x0*x2*x3^2\n",
      "-----\n",
      "(4, 4, 3, 3)\n",
      "[[0, 0, 0, 1], [0, 0, 0, 1], [0, 0, 1, 0], [0, 0, 1, 0]]\n",
      "[[[3, 4], [3, 3], [4, 2], [4, 1]]]\n",
      "x2^2*x3^2\n",
      "-----\n",
      "(4, 4, 4, 1)\n",
      "[[0, 0, 0, 1], [0, 0, 0, 1], [0, 0, 0, 1], [1, 0, 0, 0]]\n",
      "[[[1, 4], [4, 3], [4, 2], [4, 1]]]\n",
      "x0*x3^3\n",
      "-----\n",
      "(4, 4, 4, 2)\n",
      "[[0, 0, 0, 1], [0, 0, 0, 1], [0, 0, 0, 1], [0, 1, 0, 0]]\n",
      "[[[2, 4], [4, 3], [4, 2], [4, 1]]]\n",
      "x1*x3^3\n",
      "-----\n",
      "(4, 4, 4, 3)\n",
      "[[0, 0, 0, 1], [0, 0, 0, 1], [0, 0, 0, 1], [0, 0, 1, 0]]\n",
      "[[[3, 4], [4, 3], [4, 2], [4, 1]]]\n",
      "x2*x3^3\n",
      "-----\n",
      "(4, 4, 4, 4)\n",
      "[[0, 0, 0, 1], [0, 0, 0, 1], [0, 0, 0, 1], [0, 0, 0, 1]]\n",
      "[[[4, 4], [4, 3], [4, 2], [4, 1]]]\n",
      "x3^4\n",
      "-----\n",
      "[[1, 1, 0, 0], [1, 0, 0, 0], [1, 0, 0, 0]]\n",
      "[[[1, 3], [1, 2], [1, 1]], [[2, 1]]]\n",
      "x0^3*x1\n",
      "----\n",
      "[[1, 0, 1, 0], [1, 0, 0, 0], [1, 0, 0, 0]]\n",
      "[[[1, 3], [1, 2], [1, 1]], [[3, 1]]]\n",
      "x0^3*x2\n",
      "----\n",
      "[[1, 0, 0, 1], [1, 0, 0, 0], [1, 0, 0, 0]]\n",
      "[[[1, 3], [1, 2], [1, 1]], [[4, 1]]]\n",
      "x0^3*x3\n",
      "----\n",
      "[[1, 1, 0, 0], [0, 1, 0, 0], [1, 0, 0, 0]]\n",
      "[[[1, 3], [2, 2], [2, 1]], [[1, 1]]]\n",
      "x0^2*x1^2\n",
      "----\n",
      "[[1, 1, 0, 0], [0, 1, 0, 0], [0, 1, 0, 0]]\n",
      "[[[2, 3], [2, 2], [2, 1]], [[1, 1]]]\n",
      "x0*x1^3\n",
      "----\n",
      "[[1, 0, 1, 0], [0, 0, 1, 0], [1, 0, 0, 0]]\n",
      "[[[1, 3], [3, 2], [3, 1]], [[1, 1]]]\n",
      "x0^2*x2^2\n",
      "----\n",
      "[[1, 0, 1, 0], [0, 0, 1, 0], [0, 0, 1, 0]]\n",
      "[[[3, 3], [3, 2], [3, 1]], [[1, 1]]]\n",
      "x0*x2^3\n",
      "----\n",
      "[[1, 0, 0, 1], [0, 1, 0, 0], [1, 0, 0, 0]]\n",
      "[[[1, 3], [2, 2], [4, 1]], [[1, 1]]]\n",
      "x0^2*x1*x3\n",
      "----\n",
      "[[1, 0, 0, 1], [0, 1, 0, 0], [0, 1, 0, 0]]\n",
      "[[[2, 3], [2, 2], [4, 1]], [[1, 1]]]\n",
      "x0*x1^2*x3\n",
      "----\n",
      "[[1, 0, 0, 1], [0, 0, 1, 0], [1, 0, 0, 0]]\n",
      "[[[1, 3], [3, 2], [4, 1]], [[1, 1]]]\n",
      "x0^2*x2*x3\n",
      "----\n",
      "[[1, 0, 0, 1], [0, 0, 1, 0], [0, 0, 1, 0]]\n",
      "[[[3, 3], [3, 2], [4, 1]], [[1, 1]]]\n",
      "x0*x2^2*x3\n",
      "----\n",
      "[[1, 0, 0, 1], [0, 0, 0, 1], [1, 0, 0, 0]]\n",
      "[[[1, 3], [4, 2], [4, 1]], [[1, 1]]]\n",
      "x0^2*x3^2\n",
      "----\n",
      "[[1, 0, 0, 1], [0, 0, 0, 1], [0, 1, 0, 0]]\n",
      "[[[2, 3], [4, 2], [4, 1]], [[1, 1]]]\n",
      "x0*x1*x3^2\n",
      "----\n",
      "[[1, 0, 0, 1], [0, 0, 0, 1], [0, 0, 1, 0]]\n",
      "[[[3, 3], [4, 2], [4, 1]], [[1, 1]]]\n",
      "x0*x2*x3^2\n",
      "----\n",
      "[[1, 0, 0, 1], [0, 0, 0, 1], [0, 0, 0, 1]]\n",
      "[[[4, 3], [4, 2], [4, 1]], [[1, 1]]]\n",
      "x0*x3^3\n",
      "----\n",
      "[[0, 1, 1, 0], [1, 0, 0, 0], [1, 0, 0, 0]]\n",
      "[[[1, 3], [1, 2], [2, 1]], [[3, 1]]]\n",
      "x0^2*x1*x2\n",
      "----\n",
      "[[0, 1, 0, 1], [1, 0, 0, 0], [1, 0, 0, 0]]\n",
      "[[[1, 3], [1, 2], [2, 1]], [[4, 1]]]\n",
      "x0^2*x1*x3\n",
      "----\n",
      "[[0, 1, 1, 0], [0, 1, 0, 0], [1, 0, 0, 0]]\n",
      "[[[1, 3], [2, 2], [2, 1]], [[3, 1]]]\n",
      "x0*x1^2*x2\n",
      "----\n",
      "[[0, 1, 0, 1], [0, 1, 0, 0], [1, 0, 0, 0]]\n",
      "[[[1, 3], [2, 2], [2, 1]], [[4, 1]]]\n",
      "x0*x1^2*x3\n",
      "----\n",
      "[[0, 1, 1, 0], [0, 1, 0, 0], [0, 1, 0, 0]]\n",
      "[[[2, 3], [2, 2], [2, 1]], [[3, 1]]]\n",
      "x1^3*x2\n",
      "----\n",
      "[[0, 1, 0, 1], [0, 1, 0, 0], [0, 1, 0, 0]]\n",
      "[[[2, 3], [2, 2], [2, 1]], [[4, 1]]]\n",
      "x1^3*x3\n",
      "----\n",
      "[[0, 1, 1, 0], [0, 0, 1, 0], [1, 0, 0, 0]]\n",
      "[[[1, 3], [3, 2], [3, 1]], [[2, 1]]]\n",
      "x0*x1*x2^2\n",
      "----\n",
      "[[0, 1, 1, 0], [0, 0, 1, 0], [0, 0, 1, 0]]\n",
      "[[[3, 3], [3, 2], [3, 1]], [[2, 1]]]\n",
      "x1*x2^3\n",
      "----\n",
      "[[0, 1, 0, 1], [0, 0, 1, 0], [1, 0, 0, 0]]\n",
      "[[[1, 3], [3, 2], [4, 1]], [[2, 1]]]\n",
      "x0*x1*x2*x3\n",
      "----\n",
      "[[0, 1, 0, 1], [0, 0, 1, 0], [0, 0, 1, 0]]\n",
      "[[[3, 3], [3, 2], [4, 1]], [[2, 1]]]\n",
      "x1*x2^2*x3\n",
      "----\n",
      "[[0, 1, 0, 1], [0, 0, 0, 1], [1, 0, 0, 0]]\n",
      "[[[1, 3], [4, 2], [4, 1]], [[2, 1]]]\n",
      "x0*x1*x3^2\n",
      "----\n",
      "[[0, 1, 0, 1], [0, 0, 0, 1], [0, 1, 0, 0]]\n",
      "[[[2, 3], [4, 2], [4, 1]], [[2, 1]]]\n",
      "x1^2*x3^2\n",
      "----\n",
      "[[0, 1, 0, 1], [0, 0, 0, 1], [0, 0, 1, 0]]\n",
      "[[[3, 3], [4, 2], [4, 1]], [[2, 1]]]\n",
      "x1*x2*x3^2\n",
      "----\n",
      "[[0, 1, 0, 1], [0, 0, 0, 1], [0, 0, 0, 1]]\n",
      "[[[4, 3], [4, 2], [4, 1]], [[2, 1]]]\n",
      "x1*x3^3\n",
      "----\n",
      "[[0, 0, 1, 1], [1, 0, 0, 0], [1, 0, 0, 0]]\n",
      "[[[1, 3], [1, 2], [3, 1]], [[4, 1]]]\n",
      "x0^2*x2*x3\n",
      "----\n",
      "[[0, 0, 1, 1], [0, 0, 1, 0], [1, 0, 0, 0]]\n",
      "[[[1, 3], [3, 2], [3, 1]], [[4, 1]]]\n",
      "x0*x2^2*x3\n",
      "----\n",
      "[[0, 0, 1, 1], [0, 0, 1, 0], [0, 0, 1, 0]]\n",
      "[[[3, 3], [3, 2], [3, 1]], [[4, 1]]]\n",
      "x2^3*x3\n",
      "----\n",
      "[[0, 0, 1, 1], [0, 1, 0, 0], [1, 0, 0, 0]]\n",
      "[[[1, 3], [2, 2], [4, 1]], [[3, 1]]]\n",
      "x0*x1*x2*x3\n",
      "----\n",
      "[[0, 0, 1, 1], [0, 1, 0, 0], [0, 1, 0, 0]]\n",
      "[[[2, 3], [2, 2], [4, 1]], [[3, 1]]]\n",
      "x1^2*x2*x3\n",
      "----\n",
      "[[0, 0, 1, 1], [0, 0, 0, 1], [1, 0, 0, 0]]\n",
      "[[[1, 3], [4, 2], [4, 1]], [[3, 1]]]\n",
      "x0*x2*x3^2\n",
      "----\n",
      "[[0, 0, 1, 1], [0, 0, 0, 1], [0, 1, 0, 0]]\n",
      "[[[2, 3], [4, 2], [4, 1]], [[3, 1]]]\n",
      "x1*x2*x3^2\n",
      "----\n",
      "[[0, 0, 1, 1], [0, 0, 0, 1], [0, 0, 1, 0]]\n",
      "[[[3, 3], [4, 2], [4, 1]], [[3, 1]]]\n",
      "x2^2*x3^2\n",
      "----\n",
      "[[0, 0, 1, 1], [0, 0, 0, 1], [0, 0, 0, 1]]\n",
      "[[[4, 3], [4, 2], [4, 1]], [[3, 1]]]\n",
      "x2*x3^3\n",
      "----\n",
      "2\n"
     ]
    }
   ],
   "source": [
    "print((PSchurMLQ(P,[3,1]))\n",
    "      .coefficient(xs[0]*xs[0]*xs[2]*xs[3])\n",
    "     )"
   ]
  },
  {
   "cell_type": "code",
   "execution_count": 493,
   "metadata": {},
   "outputs": [
    {
     "name": "stdout",
     "output_type": "stream",
     "text": [
      "False\n"
     ]
    }
   ],
   "source": [
    "print(PSchurMLQ(P,[2,1,1])== Poset_schur_mlq(P,[3,1]))"
   ]
  },
  {
   "cell_type": "markdown",
   "metadata": {},
   "source": [
    "# Algebraic Combinatorics"
   ]
  },
  {
   "cell_type": "code",
   "execution_count": 39,
   "metadata": {},
   "outputs": [],
   "source": [
    "##   Schur functions   ##\n",
    "\n",
    "def Poset_schur_mlq(P,shape):\n",
    "    n = P.cardinality()\n",
    "    R=PolynomialRing(coeffs_field,n,'x')\n",
    "    xs = R.gens()\n",
    "\n",
    "    part = Partition(shape)\n",
    "    mlq_shape = list(part.conjugate())\n",
    "    \n",
    "    aux_list = []\n",
    "    ball_arrangements = []\n",
    "\n",
    "    for i in mlq_shape:\n",
    "        aux_list.append([list(sub) for sub in Subsets(range(n)) if len(sub) == i])\n",
    "\n",
    "    ball_arr_coords = itertools.product(*aux_list)\n",
    "    \n",
    "\n",
    "    for tup in ball_arr_coords:\n",
    "        ball_arr = []\n",
    "        for row in tup:\n",
    "            ball_row = [0 for j in range(n)]\n",
    "            for i in range(n):\n",
    "                if i in row:\n",
    "                    ball_row[i] = 1\n",
    "            ball_arr.append(ball_row.copy())\n",
    "        ball_arrangements.append(ball_arr)\n",
    "            \n",
    "    \n",
    "\n",
    "    # Create all Poset MLQs of given shape & compute the polynomial\n",
    "    poly = 0\n",
    "\n",
    "    for balls in ball_arrangements:\n",
    "        M = PosetMultilineQueue(P,balls.copy())\n",
    "        M.pair(0)\n",
    "        if M.maj() == 1:\n",
    "            #r=0.2\n",
    "            #M.draw(r)\n",
    "            poly += M.xweight()\n",
    "\n",
    "    # Convert polynomial to symmetric function\n",
    "    #f = sym.from_polynomial(poly)\n",
    "    return(poly)\n",
    "\n",
    "\n",
    "def monomial(xs,tup,comp):\n",
    "    ans = xs[0]**0\n",
    "    for i in range(len(tup)):\n",
    "        ans *= xs[tup[i]-1]**comp[i]\n",
    "    return(ans)        \n",
    "        \n",
    "    "
   ]
  },
  {
   "cell_type": "code",
   "execution_count": 40,
   "metadata": {},
   "outputs": [
    {
     "name": "stdout",
     "output_type": "stream",
     "text": [
      "0\n"
     ]
    }
   ],
   "source": [
    "print(Poset_schur_mlq(P,[2,2,2,1,1]))"
   ]
  },
  {
   "cell_type": "code",
   "execution_count": 12,
   "metadata": {},
   "outputs": [
    {
     "data": {
      "image/png": "[encoded data removed]",
      "text/plain": [
       "Graphics object consisting of 9 graphics primitives"
      ]
     },
     "metadata": {},
     "output_type": "display_data"
    },
    {
     "name": "stdout",
     "output_type": "stream",
     "text": [
      "x0^5*x1^4*x2 + x0^4*x1^5*x2 + x0^3*x1^5*x2^2 + x0^2*x1^5*x2^3 + x0^5*x1*x2^4 + x0^4*x1^2*x2^4 + x0^3*x1^3*x2^4 + x0^2*x1^4*x2^4 + x0*x1^5*x2^4 + x0^4*x1*x2^5 + x0^3*x1^2*x2^5 + x0^2*x1^3*x2^5 + x0*x1^4*x2^5 + x0^5*x1^4*x3 + x0^4*x1^5*x3 + x0^5*x1^3*x2*x3 + 2*x0^4*x1^4*x2*x3 + 2*x0^3*x1^5*x2*x3 + x0^3*x1^4*x2^2*x3 + 2*x0^2*x1^5*x2^2*x3 + x0^5*x1*x2^3*x3 + x0^4*x1^2*x2^3*x3 + x0^3*x1^3*x2^3*x3 + 2*x0^2*x1^4*x2^3*x3 + 2*x0*x1^5*x2^3*x3 + x0^5*x2^4*x3 + 3*x0^4*x1*x2^4*x3 + 3*x0^3*x1^2*x2^4*x3 + 3*x0^2*x1^3*x2^4*x3 + 3*x0*x1^4*x2^4*x3 + x1^5*x2^4*x3 + x0^4*x2^5*x3 + 2*x0^3*x1*x2^5*x3 + 2*x0^2*x1^2*x2^5*x3 + 2*x0*x1^3*x2^5*x3 + x1^4*x2^5*x3 + x0^5*x1^3*x3^2 + 2*x0^4*x1^4*x3^2 + x0^3*x1^5*x3^2 + x0^5*x1^2*x2*x3^2 + 2*x0^4*x1^3*x2*x3^2 + 2*x0^3*x1^4*x2*x3^2 + 2*x0^2*x1^5*x2*x3^2 + x0^5*x1*x2^2*x3^2 + 2*x0^4*x1^2*x2^2*x3^2 + 3*x0^3*x1^3*x2^2*x3^2 + 2*x0^2*x1^4*x2^2*x3^2 + 2*x0*x1^5*x2^2*x3^2 + x0^5*x2^3*x3^2 + 2*x0^4*x1*x2^3*x3^2 + 2*x0^3*x1^2*x2^3*x3^2 + 3*x0^2*x1^3*x2^3*x3^2 + 3*x0*x1^4*x2^3*x3^2 + x1^5*x2^3*x3^2 + 2*x0^4*x2^4*x3^2 + 3*x0^3*x1*x2^4*x3^2 + 3*x0^2*x1^2*x2^4*x3^2 + 3*x0*x1^3*x2^4*x3^2 + 2*x1^4*x2^4*x3^2 + x0^3*x2^5*x3^2 + 2*x0^2*x1*x2^5*x3^2 + 2*x0*x1^2*x2^5*x3^2 + x1^3*x2^5*x3^2 + x0^5*x1^2*x3^3 + 2*x0^4*x1^3*x3^3 + 2*x0^3*x1^4*x3^3 + x0^2*x1^5*x3^3 + 2*x0^5*x1*x2*x3^3 + 3*x0^4*x1^2*x2*x3^3 + 3*x0^3*x1^3*x2*x3^3 + 3*x0^2*x1^4*x2*x3^3 + 2*x0*x1^5*x2*x3^3 + x0^5*x2^2*x3^3 + 3*x0^4*x1*x2^2*x3^3 + 4*x0^3*x1^2*x2^2*x3^3 + 3*x0^2*x1^3*x2^2*x3^3 + 2*x0*x1^4*x2^2*x3^3 + x1^5*x2^2*x3^3 + 2*x0^4*x2^3*x3^3 + 3*x0^3*x1*x2^3*x3^3 + 3*x0^2*x1^2*x2^3*x3^3 + 2*x0*x1^3*x2^3*x3^3 + x1^4*x2^3*x3^3 + 2*x0^3*x2^4*x3^3 + 3*x0^2*x1*x2^4*x3^3 + 2*x0*x1^2*x2^4*x3^3 + x1^3*x2^4*x3^3 + x0^2*x2^5*x3^3 + 2*x0*x1*x2^5*x3^3 + x1^2*x2^5*x3^3 + x0^5*x1*x3^4 + 2*x0^4*x1^2*x3^4 + 2*x0^3*x1^3*x3^4 + 2*x0^2*x1^4*x3^4 + x0*x1^5*x3^4 + x0^5*x2*x3^4 + 3*x0^4*x1*x2*x3^4 + 3*x0^3*x1^2*x2*x3^4 + 3*x0^2*x1^3*x2*x3^4 + 3*x0*x1^4*x2*x3^4 + x1^5*x2*x3^4 + 2*x0^4*x2^2*x3^4 + 3*x0^3*x1*x2^2*x3^4 + 2*x0^2*x1^2*x2^2*x3^4 + x0*x1^3*x2^2*x3^4 + x1^4*x2^2*x3^4 + 2*x0^3*x2^3*x3^4 + 3*x0^2*x1*x2^3*x3^4 + x0*x1^2*x2^3*x3^4 + 2*x0^2*x2^4*x3^4 + 3*x0*x1*x2^4*x3^4 + x1^2*x2^4*x3^4 + x0*x2^5*x3^4 + x1*x2^5*x3^4 + x0^4*x1*x3^5 + x0^3*x1^2*x3^5 + x0^2*x1^3*x3^5 + x0*x1^4*x3^5 + x0^4*x2*x3^5 + x0^3*x1*x2*x3^5 + x0^2*x1^2*x2*x3^5 + x0*x1^3*x2*x3^5 + x1^4*x2*x3^5 + x0^3*x2^2*x3^5 + x0^2*x1*x2^2*x3^5 + x0^2*x2^3*x3^5 + x0*x1*x2^3*x3^5 + x0*x2^4*x3^5 + x1*x2^4*x3^5\n",
      "True\n",
      "x0^5*x1^4*x3 + x0^4*x1^5*x3 + x0^4*x1^4*x2*x3 + x0^5*x2^4*x3 + x0^4*x1*x2^4*x3 + x0^4*x2^5*x3 + x0^5*x1^3*x3^2 + 2*x0^4*x1^4*x3^2 + x0^3*x1^5*x3^2 + x0^4*x1^3*x2*x3^2 + x0^3*x1^3*x2^2*x3^2 + x0^5*x2^3*x3^2 + x0^4*x1*x2^3*x3^2 + x0^3*x1^2*x2^3*x3^2 + 2*x0^4*x2^4*x3^2 + x0^3*x2^5*x3^2 + x0^5*x1^2*x3^3 + 2*x0^4*x1^3*x3^3 + 2*x0^3*x1^4*x3^3 + x0^2*x1^5*x3^3 + x0^4*x1^2*x2*x3^3 + x0^3*x1^3*x2*x3^3 + x0^5*x2^2*x3^3 + x0^4*x1*x2^2*x3^3 + 2*x0^3*x1^2*x2^2*x3^3 + x0^2*x1^3*x2^2*x3^3 + 2*x0^4*x2^3*x3^3 + x0^3*x1*x2^3*x3^3 + x0^2*x1^2*x2^3*x3^3 + 2*x0^3*x2^4*x3^3 + x0^2*x2^5*x3^3 + x0^5*x1*x3^4 + 2*x0^4*x1^2*x3^4 + 2*x0^3*x1^3*x3^4 + 2*x0^2*x1^4*x3^4 + x0*x1^5*x3^4 + x0^5*x2*x3^4 + 2*x0^4*x1*x2*x3^4 + 2*x0^3*x1^2*x2*x3^4 + x0^2*x1^3*x2*x3^4 + x0*x1^4*x2*x3^4 + 2*x0^4*x2^2*x3^4 + 2*x0^3*x1*x2^2*x3^4 + 2*x0^2*x1^2*x2^2*x3^4 + 2*x0^3*x2^3*x3^4 + x0^2*x1*x2^3*x3^4 + 2*x0^2*x2^4*x3^4 + x0*x1*x2^4*x3^4 + x0*x2^5*x3^4 + x0^4*x1*x3^5 + x0^3*x1^2*x3^5 + x0^2*x1^3*x3^5 + x0*x1^4*x3^5 + x0^4*x2*x3^5 + 2*x0^3*x1*x2*x3^5 + x0^2*x1^2*x2*x3^5 + x0*x1^3*x2*x3^5 + x0^3*x2^2*x3^5 + x0^2*x1*x2^2*x3^5 + x0^2*x2^3*x3^5 + x0*x1*x2^3*x3^5 + x0*x2^4*x3^5\n"
     ]
    }
   ],
   "source": [
    "elms = [1,2,3,4]\n",
    "rels = [[1,2],[1,3],[2,4],[3,4]]\n",
    "#rels = [[1,2],[2,3],[3,4]]\n",
    "\n",
    "#elms = [1,2,3,4,5]\n",
    "#rels = [[1,2],[1,3],[1,4],[2,5],[3,5],[4,5]]\n",
    "#rels = [[1,2],[2,3],[3,5],[1,4],[4,5]]\n",
    "P = Poset((elms, rels), cover_relations = True)\n",
    "\n",
    "P.show(layout = \"acyclic\")\n",
    "\n",
    "n = P.cardinality()\n",
    "coeffs_ring = ZZ['q','t']\n",
    "q = coeffs_ring.gens()[0]\n",
    "t = coeffs_ring.gens()[1]\n",
    "coeffs_field = coeffs_ring.fraction_field()\n",
    "R=PolynomialRing(coeffs_field,n,'x')\n",
    "xs=list(R.gens())\n",
    "\n",
    "lam = [5,4,1]\n",
    "\n",
    "s1 = Poset_schur_mlq(P,lam)\n",
    "\n",
    "f1 = PosetSchur(P,lam)\n",
    "\n",
    "print(s1)\n",
    "print(is_P_symmetric(xs,P,s1,lam))\n",
    "\n",
    "\n",
    "\n",
    "print(f1)"
   ]
  },
  {
   "cell_type": "code",
   "execution_count": 77,
   "metadata": {
    "scrolled": false
   },
   "outputs": [
    {
     "data": {
      "image/png": "[encoded data removed]",
      "text/plain": [
       "Graphics object consisting of 9 graphics primitives"
      ]
     },
     "metadata": {},
     "output_type": "display_data"
    },
    {
     "name": "stdout",
     "output_type": "stream",
     "text": [
      "x0^2 + x0*x1 + x1^2 + x0*x2 + x2^2 + x0*x3 + x1*x3 + x2*x3 + x3^2\n",
      "---\n",
      "x0*x1 + x0*x2 + x1*x2 + x0*x3 + x1*x3 + x2*x3\n",
      "---\n"
     ]
    },
    {
     "data": {
      "text/html": [
       "<html><script type=\"math/tex; mode=display\">\\newcommand{\\Bold}[1]{\\mathbf{#1}}x_{0}^{3} x_{1} + x_{0}^{2} x_{1}^{2} + x_{0} x_{1}^{3} + x_{0}^{3} x_{2} + 3 x_{0}^{2} x_{1} x_{2} + 2 x_{0} x_{1}^{2} x_{2} + x_{1}^{3} x_{2} + x_{0}^{2} x_{2}^{2} + 2 x_{0} x_{1} x_{2}^{2} + x_{0} x_{2}^{3} + x_{1} x_{2}^{3} + x_{0}^{3} x_{3} + 3 x_{0}^{2} x_{1} x_{3} + 3 x_{0} x_{1}^{2} x_{3} + x_{1}^{3} x_{3} + 3 x_{0}^{2} x_{2} x_{3} + 5 x_{0} x_{1} x_{2} x_{3} + 2 x_{1}^{2} x_{2} x_{3} + 3 x_{0} x_{2}^{2} x_{3} + 2 x_{1} x_{2}^{2} x_{3} + x_{2}^{3} x_{3} + x_{0}^{2} x_{3}^{2} + 3 x_{0} x_{1} x_{3}^{2} + x_{1}^{2} x_{3}^{2} + 3 x_{0} x_{2} x_{3}^{2} + 3 x_{1} x_{2} x_{3}^{2} + x_{2}^{2} x_{3}^{2} + x_{0} x_{3}^{3} + x_{1} x_{3}^{3} + x_{2} x_{3}^{3}</script></html>"
      ],
      "text/latex": [
       "$$\\newcommand{\\Bold}[1]{\\mathbf{#1}}x_{0}^{3} x_{1} + x_{0}^{2} x_{1}^{2} + x_{0} x_{1}^{3} + x_{0}^{3} x_{2} + 3 x_{0}^{2} x_{1} x_{2} + 2 x_{0} x_{1}^{2} x_{2} + x_{1}^{3} x_{2} + x_{0}^{2} x_{2}^{2} + 2 x_{0} x_{1} x_{2}^{2} + x_{0} x_{2}^{3} + x_{1} x_{2}^{3} + x_{0}^{3} x_{3} + 3 x_{0}^{2} x_{1} x_{3} + 3 x_{0} x_{1}^{2} x_{3} + x_{1}^{3} x_{3} + 3 x_{0}^{2} x_{2} x_{3} + 5 x_{0} x_{1} x_{2} x_{3} + 2 x_{1}^{2} x_{2} x_{3} + 3 x_{0} x_{2}^{2} x_{3} + 2 x_{1} x_{2}^{2} x_{3} + x_{2}^{3} x_{3} + x_{0}^{2} x_{3}^{2} + 3 x_{0} x_{1} x_{3}^{2} + x_{1}^{2} x_{3}^{2} + 3 x_{0} x_{2} x_{3}^{2} + 3 x_{1} x_{2} x_{3}^{2} + x_{2}^{2} x_{3}^{2} + x_{0} x_{3}^{3} + x_{1} x_{3}^{3} + x_{2} x_{3}^{3}$$"
      ],
      "text/plain": [
       "x0^3*x1 + x0^2*x1^2 + x0*x1^3 + x0^3*x2 + 3*x0^2*x1*x2 + 2*x0*x1^2*x2 + x1^3*x2 + x0^2*x2^2 + 2*x0*x1*x2^2 + x0*x2^3 + x1*x2^3 + x0^3*x3 + 3*x0^2*x1*x3 + 3*x0*x1^2*x3 + x1^3*x3 + 3*x0^2*x2*x3 + 5*x0*x1*x2*x3 + 2*x1^2*x2*x3 + 3*x0*x2^2*x3 + 2*x1*x2^2*x3 + x2^3*x3 + x0^2*x3^2 + 3*x0*x1*x3^2 + x1^2*x3^2 + 3*x0*x2*x3^2 + 3*x1*x2*x3^2 + x2^2*x3^2 + x0*x3^3 + x1*x3^3 + x2*x3^3"
      ]
     },
     "metadata": {},
     "output_type": "display_data"
    }
   ],
   "source": [
    "elms = [1,2,3,4]\n",
    "rels = [[1,2],[1,3],[2,4],[3,4]]\n",
    "#rels = [[1,2],[2,3],[3,4]]\n",
    "\n",
    "#elms = [1,2,3,4,5]\n",
    "#rels = [[1,2],[1,3],[1,4],[2,5],[3,5],[4,5]]\n",
    "#rels = [[1,2],[2,3],[3,5],[1,4],[4,5]]\n",
    "P = Poset((elms, rels), cover_relations = True)\n",
    "\n",
    "P.show(layout = \"acyclic\")\n",
    "\n",
    "n = P.cardinality()\n",
    "coeffs_ring = ZZ['q','t']\n",
    "q = coeffs_ring.gens()[0]\n",
    "t = coeffs_ring.gens()[1]\n",
    "coeffs_field = coeffs_ring.fraction_field()\n",
    "R=PolynomialRing(coeffs_field,n,'x')\n",
    "xs=list(R.gens())\n",
    "\n",
    "lam = [2]\n",
    "mu = [1,1]\n",
    "\n",
    "s1 = Poset_schur_mlq(P,lam)\n",
    "s2 = Poset_schur_mlq(P,mu)\n",
    "\n",
    "print(s1)\n",
    "print(\"---\")\n",
    "print(s2)\n",
    "print(\"---\")\n",
    "g = s1*s2\n",
    "display(g)"
   ]
  },
  {
   "cell_type": "code",
   "execution_count": 81,
   "metadata": {},
   "outputs": [
    {
     "data": {
      "text/html": [
       "<html><script type=\"math/tex; mode=display\">\\newcommand{\\Bold}[1]{\\mathbf{#1}}x_{0} x_{1} x_{2} x_{3}</script></html>"
      ],
      "text/latex": [
       "$$\\newcommand{\\Bold}[1]{\\mathbf{#1}}x_{0} x_{1} x_{2} x_{3}$$"
      ],
      "text/plain": [
       "x0*x1*x2*x3"
      ]
     },
     "execution_count": 81,
     "metadata": {},
     "output_type": "execute_result"
    }
   ],
   "source": [
    "Poset_schur_mlq(P,[1,1,1,1])"
   ]
  },
  {
   "cell_type": "code",
   "execution_count": 80,
   "metadata": {},
   "outputs": [
    {
     "data": {
      "text/html": [
       "<html><script type=\"math/tex; mode=display\">\\newcommand{\\Bold}[1]{\\mathbf{#1}}x_{0}^{2} x_{1} x_{2}</script></html>"
      ],
      "text/latex": [
       "$$\\newcommand{\\Bold}[1]{\\mathbf{#1}}x_{0}^{2} x_{1} x_{2}$$"
      ],
      "text/plain": [
       "x0^2*x1*x2"
      ]
     },
     "metadata": {},
     "output_type": "display_data"
    }
   ],
   "source": [
    "f = g - Poset_schur_mlq(P,[3,1]) - Poset_schur_mlq(P,[2,1,1]) \n",
    "\n",
    "display(f)"
   ]
  },
  {
   "cell_type": "code",
   "execution_count": 218,
   "metadata": {
    "scrolled": false
   },
   "outputs": [
    {
     "data": {
      "image/png": "[encoded data removed]",
      "text/plain": [
       "Graphics object consisting of 11 graphics primitives"
      ]
     },
     "metadata": {},
     "output_type": "display_data"
    },
    {
     "name": "stdout",
     "output_type": "stream",
     "text": [
      "True\n",
      "0\n",
      "0\n",
      "x0^4*x1^2*x2^2 + x0^3*x1^3*x2^2 + x0^2*x1^4*x2^2 + x0^3*x1^2*x2^3 + x0^2*x1^3*x2^3 + x0^2*x1^2*x2^4 + x0^4*x1^2*x3^2 + x0^3*x1^3*x3^2 + x0^2*x1^4*x3^2 + x0^4*x1*x2*x3^2 + 2*x0^3*x1^2*x2*x3^2 + 2*x0^2*x1^3*x2*x3^2 + x0*x1^4*x2*x3^2 + x0^4*x2^2*x3^2 + 2*x0^3*x1*x2^2*x3^2 + 3*x0^2*x1^2*x2^2*x3^2 + 2*x0*x1^3*x2^2*x3^2 + x1^4*x2^2*x3^2 + x0^3*x2^3*x3^2 + 2*x0^2*x1*x2^3*x3^2 + 2*x0*x1^2*x2^3*x3^2 + x1^3*x2^3*x3^2 + x0^2*x2^4*x3^2 + x0*x1*x2^4*x3^2 + x1^2*x2^4*x3^2 + x0^3*x1^2*x3^3 + x0^3*x1*x2*x3^3 + x0^2*x1^2*x2*x3^3 + x0^3*x2^2*x3^3 + x0^2*x1*x2^2*x3^3 + x0*x1^2*x2^2*x3^3 + x0^2*x1^2*x3^4 + x0^2*x1*x2*x3^4 + x0*x1^2*x2*x3^4 + x0^2*x2^2*x3^4 + x0*x1*x2^2*x3^4 + x1^2*x2^2*x3^4 + x0^4*x1^2*x2*x4 + x0^3*x1^3*x2*x4 + x0^2*x1^4*x2*x4 + x0^4*x1*x2^2*x4 + 3*x0^3*x1^2*x2^2*x4 + 3*x0^2*x1^3*x2^2*x4 + x0*x1^4*x2^2*x4 + x0^3*x1*x2^3*x4 + 3*x0^2*x1^2*x2^3*x4 + x0*x1^3*x2^3*x4 + x0^2*x1*x2^4*x4 + x0*x1^2*x2^4*x4 + x0^4*x1^2*x3*x4 + x0^3*x1^3*x3*x4 + x0^2*x1^4*x3*x4 + x0^4*x1*x2*x3*x4 + 2*x0^3*x1^2*x2*x3*x4 + 3*x0^2*x1^3*x2*x3*x4 + 2*x0*x1^4*x2*x3*x4 + x0^4*x2^2*x3*x4 + 2*x0^3*x1*x2^2*x3*x4 + 4*x0^2*x1^2*x2^2*x3*x4 + 3*x0*x1^3*x2^2*x3*x4 + x1^4*x2^2*x3*x4 + x0^3*x2^3*x3*x4 + 3*x0^2*x1*x2^3*x3*x4 + 3*x0*x1^2*x2^3*x3*x4 + x1^3*x2^3*x3*x4 + x0^2*x2^4*x3*x4 + 2*x0*x1*x2^4*x3*x4 + x1^2*x2^4*x3*x4 + x0^4*x1*x3^2*x4 + 3*x0^3*x1^2*x3^2*x4 + 2*x0^2*x1^3*x3^2*x4 + x0*x1^4*x3^2*x4 + x0^4*x2*x3^2*x4 + 4*x0^3*x1*x2*x3^2*x4 + 5*x0^2*x1^2*x2*x3^2*x4 + 3*x0*x1^3*x2*x3^2*x4 + x1^4*x2*x3^2*x4 + 3*x0^3*x2^2*x3^2*x4 + 5*x0^2*x1*x2^2*x3^2*x4 + 5*x0*x1^2*x2^2*x3^2*x4 + 2*x1^3*x2^2*x3^2*x4 + 2*x0^2*x2^3*x3^2*x4 + 3*x0*x1*x2^3*x3^2*x4 + 2*x1^2*x2^3*x3^2*x4 + x0*x2^4*x3^2*x4 + x1*x2^4*x3^2*x4 + x0^3*x1*x3^3*x4 + 2*x0^2*x1^2*x3^3*x4 + x0^3*x2*x3^3*x4 + 3*x0^2*x1*x2*x3^3*x4 + 2*x0*x1^2*x2*x3^3*x4 + 2*x0^2*x2^2*x3^3*x4 + 2*x0*x1*x2^2*x3^3*x4 + x1^2*x2^2*x3^3*x4 + x0^2*x1*x3^4*x4 + x0*x1^2*x3^4*x4 + x0^2*x2*x3^4*x4 + 2*x0*x1*x2*x3^4*x4 + x1^2*x2*x3^4*x4 + x0*x2^2*x3^4*x4 + x1*x2^2*x3^4*x4 + x0^4*x1^2*x4^2 + x0^3*x1^3*x4^2 + x0^2*x1^4*x4^2 + x0^4*x1*x2*x4^2 + 3*x0^3*x1^2*x2*x4^2 + 3*x0^2*x1^3*x2*x4^2 + x0*x1^4*x2*x4^2 + x0^4*x2^2*x4^2 + 3*x0^3*x1*x2^2*x4^2 + 6*x0^2*x1^2*x2^2*x4^2 + 3*x0*x1^3*x2^2*x4^2 + x1^4*x2^2*x4^2 + x0^3*x2^3*x4^2 + 3*x0^2*x1*x2^3*x4^2 + 3*x0*x1^2*x2^3*x4^2 + x1^3*x2^3*x4^2 + x0^2*x2^4*x4^2 + x0*x1*x2^4*x4^2 + x1^2*x2^4*x4^2 + x0^3*x1^2*x3*x4^2 + x0^2*x1^3*x3*x4^2 + x0*x1^4*x3*x4^2 + x0^3*x1*x2*x3*x4^2 + 2*x0^2*x1^2*x2*x3*x4^2 + x0*x1^3*x2*x3*x4^2 + x0^3*x2^2*x3*x4^2 + 2*x0^2*x1*x2^2*x3*x4^2 + 2*x0*x1^2*x2^2*x3*x4^2 + x0^2*x2^3*x3*x4^2 + x0*x1*x2^3*x3*x4^2 + x0*x2^4*x3*x4^2 + x0^4*x3^2*x4^2 + 2*x0^3*x1*x3^2*x4^2 + 4*x0^2*x1^2*x3^2*x4^2 + 2*x0*x1^3*x3^2*x4^2 + x1^4*x3^2*x4^2 + 2*x0^3*x2*x3^2*x4^2 + 5*x0^2*x1*x2*x3^2*x4^2 + 5*x0*x1^2*x2*x3^2*x4^2 + 2*x1^3*x2*x3^2*x4^2 + 4*x0^2*x2^2*x3^2*x4^2 + 5*x0*x1*x2^2*x3^2*x4^2 + 4*x1^2*x2^2*x3^2*x4^2 + 2*x0*x2^3*x3^2*x4^2 + 2*x1*x2^3*x3^2*x4^2 + x2^4*x3^2*x4^2 + x0^3*x3^3*x4^2 + x0^2*x1*x3^3*x4^2 + x0*x1^2*x3^3*x4^2 + x0^2*x2*x3^3*x4^2 + x0*x1*x2*x3^3*x4^2 + x0*x2^2*x3^3*x4^2 + x0^2*x3^4*x4^2 + x0*x1*x3^4*x4^2 + x1^2*x3^4*x4^2 + x0*x2*x3^4*x4^2 + x1*x2*x3^4*x4^2 + x2^2*x3^4*x4^2 + x0^3*x1^2*x4^3 + x0^2*x1^3*x4^3 + x0^3*x1*x2*x4^3 + 3*x0^2*x1^2*x2*x4^3 + x0*x1^3*x2*x4^3 + x0^3*x2^2*x4^3 + 3*x0^2*x1*x2^2*x4^3 + 3*x0*x1^2*x2^2*x4^3 + x1^3*x2^2*x4^3 + x0^2*x2^3*x4^3 + x0*x1*x2^3*x4^3 + x1^2*x2^3*x4^3 + x0^2*x1^2*x3*x4^3 + x0^2*x1*x2*x3*x4^3 + x0*x1^2*x2*x3*x4^3 + x0^2*x2^2*x3*x4^3 + x0*x1*x2^2*x3*x4^3 + x1^2*x2^2*x3*x4^3 + x0^3*x3^2*x4^3 + 2*x0^2*x1*x3^2*x4^3 + 2*x0*x1^2*x3^2*x4^3 + x1^3*x3^2*x4^3 + 2*x0^2*x2*x3^2*x4^3 + 3*x0*x1*x2*x3^2*x4^3 + 2*x1^2*x2*x3^2*x4^3 + 2*x0*x2^2*x3^2*x4^3 + 2*x1*x2^2*x3^2*x4^3 + x2^3*x3^2*x4^3 + x0^2*x3^3*x4^3 + x0*x1*x3^3*x4^3 + x1^2*x3^3*x4^3 + x0*x2*x3^3*x4^3 + x1*x2*x3^3*x4^3 + x2^2*x3^3*x4^3 + x0^2*x1^2*x4^4 + x0^2*x1*x2*x4^4 + x0*x1^2*x2*x4^4 + x0^2*x2^2*x4^4 + x0*x1*x2^2*x4^4 + x1^2*x2^2*x4^4 + x0^2*x3^2*x4^4 + x0*x1*x3^2*x4^4 + x1^2*x3^2*x4^4 + x0*x2*x3^2*x4^4 + x1*x2*x3^2*x4^4 + x2^2*x3^2*x4^4\n"
     ]
    }
   ],
   "source": [
    "#elms = [1,2,3,4]\n",
    "#rels = [[1,2],[1,3],[2,4],[3,4]]\n",
    "#rels = [[1,2],[2,3],[3,4]]\n",
    "\n",
    "elms = [1,2,3,4,5]\n",
    "#rels = [[1,2],[1,3],[1,4],[2,5],[3,5],[4,5]]\n",
    "rels = [[1,2],[2,3],[3,5],[1,4],[4,5]]\n",
    "P = Poset((elms, rels), cover_relations = True)\n",
    "\n",
    "P.show(layout = \"acyclic\")\n",
    "\n",
    "n = P.cardinality()\n",
    "coeffs_ring = ZZ['q','t']\n",
    "q = coeffs_ring.gens()[0]\n",
    "t = coeffs_ring.gens()[1]\n",
    "coeffs_field = coeffs_ring.fraction_field()\n",
    "R=PolynomialRing(coeffs_field,n,'x')\n",
    "xs=list(R.gens())\n",
    "\n",
    "lam = [4,2,2]\n",
    "#mu = [1,1]\n",
    "\n",
    "s1 = Poset_schur_mlq(P,lam)\n",
    "\n",
    "\n",
    "expo = [4,4]\n",
    "\n",
    "l1 = [1,4]\n",
    "l2 = [2,3]\n",
    "\n",
    "Q = P.subposet(l1)\n",
    "#Q.show(layout = \"acyclic\")\n",
    "R = P.subposet(l2)\n",
    "#R.show(layout = \"acyclic\")\n",
    "\n",
    "print(Q.is_isomorphic(R))\n",
    "\n",
    "print(s1.coefficient(monomial(xs,l1,expo)))\n",
    "print(s1.coefficient(monomial(xs,l2,expo)))\n",
    "\n",
    "\n",
    "print(s1)\n",
    "\n",
    "#s2 = Poset_schur_mlq(P,mu)\n",
    "\n",
    "#print(s1)\n",
    "#print(\"---\")\n",
    "#print(s2)\n",
    "#print(\"---\")\n",
    "#print(s1*s2)"
   ]
  },
  {
   "cell_type": "code",
   "execution_count": 269,
   "metadata": {},
   "outputs": [
    {
     "data": {
      "text/plain": [
       "[[4], [3, 1], [2, 2], [2, 1, 1], [1, 1, 1, 1]]"
      ]
     },
     "execution_count": 269,
     "metadata": {},
     "output_type": "execute_result"
    }
   ],
   "source": [
    "Partitions(4).list()"
   ]
  },
  {
   "cell_type": "code",
   "execution_count": 76,
   "metadata": {
    "scrolled": true
   },
   "outputs": [
    {
     "name": "stdout",
     "output_type": "stream",
     "text": [
      "[\n",
      "[a1 == 0, a2 == 1, a3 == 0, a4 == 1, a5 == x0/x3]\n",
      "]\n"
     ]
    }
   ],
   "source": [
    "elms = [1,2,3,4]\n",
    "rels = [[1,2],[1,3],[2,4],[3,4]]\n",
    "#rels = [[1,2],[2,3],[3,4]]\n",
    "P = Poset((elms, rels), cover_relations = True)\n",
    "\n",
    "lam = [1,1]\n",
    "mu = [2]\n",
    "\n",
    "s1 = Poset_schur_mlq(P,lam)\n",
    "s2 = Poset_schur_mlq(P,mu)\n",
    "\n",
    "var(['a1','a2','a3','a4','a5','a6','a7','a8','a9','a10'])\n",
    "\n",
    "f = s1*s2 - a1*Poset_schur_mlq(P,[4]) - a2*Poset_schur_mlq(P,[3,1]) - a3*Poset_schur_mlq(P,[2,2]) - a4*Poset_schur_mlq(P,[2,1,1]) - a5*Poset_schur_mlq(P,[1,1,1,1])\n",
    "\n",
    "#f = s1 * s2 - a1*Poset_schur_mlq(P,[5]) - a2*Poset_schur_mlq(P,[4,1]) - a3*Poset_schur_mlq(P,[3,2]) - a4*Poset_schur_mlq(P,[3,1,1]) - a5*Poset_schur_mlq(P,[2,2,1])- a6*Poset_schur_mlq(P,[2,1,1,1])\n",
    "     \n",
    "print(solve([f==0,a1==0,a2==1,a3==0,a4==1],a1,a2,a3,a4,a5))"
   ]
  },
  {
   "cell_type": "code",
   "execution_count": 109,
   "metadata": {},
   "outputs": [
    {
     "name": "stdout",
     "output_type": "stream",
     "text": [
      "x0^3*x1*x2 + x0^2*x1^2*x2 + x0*x1^2*x2^2 + x0*x1^2*x2*x3 + x0*x1*x2^2*x3 + x1^2*x2^2*x3 + 2*x0*x1*x2*x3^2 + x1^2*x2*x3^2 + x1*x2^2*x3^2 + x1*x2*x3^3\n"
     ]
    }
   ],
   "source": [
    "print(s1 * s2 \n",
    "      - 0*Poset_schur_mlq(P,[5]) \n",
    "      - 0*Poset_schur_mlq(P,[4,1]) \n",
    "      - 1*Poset_schur_mlq(P,[3,2]) \n",
    "      - 1*Poset_schur_mlq(P,[3,1,1]) \n",
    "      - 1*Poset_schur_mlq(P,[2,2,1])\n",
    "      - 1*Poset_schur_mlq(P,[2,1,1,1])\n",
    ")"
   ]
  },
  {
   "cell_type": "code",
   "execution_count": 103,
   "metadata": {},
   "outputs": [
    {
     "name": "stdout",
     "output_type": "stream",
     "text": [
      "x0^2*x1*x2*x3 + x0*x1^2*x2*x3 + x0*x1*x2^2*x3 + x0*x1*x2*x3^2\n"
     ]
    }
   ],
   "source": [
    "print(Poset_schur_mlq(P,[2,1,1,1]))"
   ]
  },
  {
   "cell_type": "code",
   "execution_count": 90,
   "metadata": {
    "scrolled": true
   },
   "outputs": [
    {
     "name": "stdout",
     "output_type": "stream",
     "text": [
      "x0^2*x1*x2 + x0*x1^2*x2 + x0*x1*x2^2 + x0^2*x1*x3 + x0*x1^2*x3 + x0^2*x2*x3 + 3*x0*x1*x2*x3 + x1^2*x2*x3 + x0*x2^2*x3 + x1*x2^2*x3 + x0*x1*x3^2 + x0*x2*x3^2 + x1*x2*x3^2\n"
     ]
    }
   ],
   "source": [
    "print(Poset_schur_mlq(P,[2,1,1])\n",
    "      #.coefficient(xs[0]**2*xs[1]*xs[2])\n",
    "     )"
   ]
  },
  {
   "cell_type": "code",
   "execution_count": 76,
   "metadata": {
    "scrolled": true
   },
   "outputs": [
    {
     "name": "stdout",
     "output_type": "stream",
     "text": [
      "x1*x2\n"
     ]
    }
   ],
   "source": [
    "lam = [1,1]\n",
    "\n",
    "print(PosetSchur(P,lam) - Poset_schur_mlq(P,lam)\n",
    "      #.coefficient(xs[0]**2*xs[1]*xs[2])\n",
    "     )"
   ]
  },
  {
   "cell_type": "code",
   "execution_count": 50,
   "metadata": {},
   "outputs": [
    {
     "name": "stdout",
     "output_type": "stream",
     "text": [
      "1\n"
     ]
    }
   ],
   "source": [
    "print(Poset_schur_mlq(P,[2,1,1]).coefficient(xs[0]**2*xs[1]*xs[2]))"
   ]
  },
  {
   "cell_type": "code",
   "execution_count": 53,
   "metadata": {},
   "outputs": [
    {
     "name": "stdout",
     "output_type": "stream",
     "text": [
      "3\n"
     ]
    }
   ],
   "source": [
    "print((s1*s2).coefficient(xs[0]**2*xs[1]*xs[2]))"
   ]
  },
  {
   "cell_type": "code",
   "execution_count": 98,
   "metadata": {},
   "outputs": [
    {
     "data": {
      "image/png": "[encoded data removed]",
      "text/plain": [
       "Graphics object consisting of 9 graphics primitives"
      ]
     },
     "metadata": {},
     "output_type": "display_data"
    },
    {
     "name": "stdout",
     "output_type": "stream",
     "text": [
      "13\n",
      "[([1, 1], [2, 2]), ([1, 1], [2, 4]), ([1, 1], [3, 3]), ([1, 1], [3, 4]), ([1, 1], [4, 4]), ([1, 2], [2, 4]), ([1, 2], [3, 4]), ([1, 2], [4, 4]), ([1, 3], [2, 4]), ([1, 3], [3, 4]), ([1, 3], [4, 4]), ([2, 2], [4, 4]), ([3, 3], [4, 4])]\n",
      "18\n"
     ]
    }
   ],
   "source": [
    "#elms = [1,2,3,4,5]\n",
    "#rels = [[1,2],[1,3],[1,4],[2,5],[3,5],[4,5]]\n",
    "#rels = [[1,2],[2,3],[3,5],[1,4],[4,5]]\n",
    "\n",
    "elms = [1,2,3,4]\n",
    "rels = [[1,2],[1,3],[2,4],[3,4]]\n",
    "#rels = [[1,2],[2,3],[3,4]]\n",
    "\n",
    "\n",
    "P = Poset((elms, rels), cover_relations = True)\n",
    "\n",
    "H = P.hasse_diagram()\n",
    "#H.plot(layout = 'acyclic')\n",
    "H.show(layout = 'acyclic')\n",
    "\n",
    "## --- ##\n",
    "\n",
    "N = P.cardinality()\n",
    "coeffs_ring = ZZ['q','t']\n",
    "q = coeffs_ring.gens()[0]\n",
    "t = coeffs_ring.gens()[1]\n",
    "\n",
    "coeffs_field = coeffs_ring.fraction_field()\n",
    "R=PolynomialRing(coeffs_field,N,'x')\n",
    "xs=list(R.gens())\n",
    "\n",
    "lam = [2,2]\n",
    "\n",
    "print(len(PosetTableaux(P,lam)))\n",
    "\n",
    "print(PosetTableaux(P,lam))\n",
    "\n",
    "print(len([M for M in rho_image(P,sum(lam)) if M.partition() == lam]))"
   ]
  },
  {
   "cell_type": "code",
   "execution_count": null,
   "metadata": {},
   "outputs": [],
   "source": [
    "var('A B C D q t')\n",
    "\n",
    "S = solve([A*(1+t) == B*t+C,\n",
    "           B*(1+t) == C*t+A,\n",
    "           C*(1+t) == A*t+C,\n",
    "            ]\n",
    "            ,A,B,C)\n",
    "\n",
    "print(S)"
   ]
  },
  {
   "cell_type": "markdown",
   "metadata": {},
   "source": [
    "# Particle Dynamics"
   ]
  },
  {
   "cell_type": "code",
   "execution_count": 1,
   "metadata": {},
   "outputs": [],
   "source": [
    "%display latex"
   ]
  },
  {
   "cell_type": "code",
   "execution_count": 42,
   "metadata": {},
   "outputs": [
    {
     "name": "stdout",
     "output_type": "stream",
     "text": [
      "[\n",
      "[A == r13, B == r13*t, C == -r13*t + r13, D == r13]\n",
      "]\n"
     ]
    }
   ],
   "source": [
    "var('A B C D q t')\n",
    "\n",
    "S = solve([A*(1+q) == B*q + C*q + D,\n",
    "             B*(1+q) == A*t + D*q*(t),\n",
    "             C*(1+q) == A*(1-t) + D*q*(1-t),\n",
    "             D*(1+q) == A*q + B + C,\n",
    "            ]\n",
    "            ,A,B,C,D)\n",
    "\n",
    "print(S)"
   ]
  },
  {
   "cell_type": "code",
   "execution_count": 68,
   "metadata": {},
   "outputs": [
    {
     "ename": "TypeError",
     "evalue": "ECL says: THROW: The catch MACSYMA-QUIT is undefined.",
     "output_type": "error",
     "traceback": [
      "\u001b[0;31m---------------------------------------------------------------------------\u001b[0m",
      "\u001b[0;31mRuntimeError\u001b[0m                              Traceback (most recent call last)",
      "\u001b[0;32m/opt/sagemath-9.3/local/lib/python3.7/site-packages/sage/interfaces/interface.py\u001b[0m in \u001b[0;36m__init__\u001b[0;34m(self, parent, value, is_name, name)\u001b[0m\n\u001b[1;32m    717\u001b[0m             \u001b[0;32mtry\u001b[0m\u001b[0;34m:\u001b[0m\u001b[0;34m\u001b[0m\u001b[0;34m\u001b[0m\u001b[0m\n\u001b[0;32m--> 718\u001b[0;31m                 \u001b[0mself\u001b[0m\u001b[0;34m.\u001b[0m\u001b[0m_name\u001b[0m \u001b[0;34m=\u001b[0m \u001b[0mparent\u001b[0m\u001b[0;34m.\u001b[0m\u001b[0m_create\u001b[0m\u001b[0;34m(\u001b[0m\u001b[0mvalue\u001b[0m\u001b[0;34m,\u001b[0m \u001b[0mname\u001b[0m\u001b[0;34m=\u001b[0m\u001b[0mname\u001b[0m\u001b[0;34m)\u001b[0m\u001b[0;34m\u001b[0m\u001b[0;34m\u001b[0m\u001b[0m\n\u001b[0m\u001b[1;32m    719\u001b[0m             \u001b[0;32mexcept\u001b[0m \u001b[0;34m(\u001b[0m\u001b[0mTypeError\u001b[0m\u001b[0;34m,\u001b[0m \u001b[0mRuntimeError\u001b[0m\u001b[0;34m,\u001b[0m \u001b[0mValueError\u001b[0m\u001b[0;34m)\u001b[0m \u001b[0;32mas\u001b[0m \u001b[0mx\u001b[0m\u001b[0;34m:\u001b[0m\u001b[0;34m\u001b[0m\u001b[0;34m\u001b[0m\u001b[0m\n",
      "\u001b[0;32m/opt/sagemath-9.3/local/lib/python3.7/site-packages/sage/interfaces/maxima_lib.py\u001b[0m in \u001b[0;36m_create\u001b[0;34m(self, value, name)\u001b[0m\n\u001b[1;32m    603\u001b[0m             \u001b[0;32melse\u001b[0m\u001b[0;34m:\u001b[0m\u001b[0;34m\u001b[0m\u001b[0;34m\u001b[0m\u001b[0m\n\u001b[0;32m--> 604\u001b[0;31m                 \u001b[0mself\u001b[0m\u001b[0;34m.\u001b[0m\u001b[0mset\u001b[0m\u001b[0;34m(\u001b[0m\u001b[0mname\u001b[0m\u001b[0;34m,\u001b[0m \u001b[0mvalue\u001b[0m\u001b[0;34m)\u001b[0m\u001b[0;34m\u001b[0m\u001b[0;34m\u001b[0m\u001b[0m\n\u001b[0m\u001b[1;32m    605\u001b[0m         \u001b[0;32mexcept\u001b[0m \u001b[0mRuntimeError\u001b[0m \u001b[0;32mas\u001b[0m \u001b[0merror\u001b[0m\u001b[0;34m:\u001b[0m\u001b[0;34m\u001b[0m\u001b[0;34m\u001b[0m\u001b[0m\n",
      "\u001b[0;32m/opt/sagemath-9.3/local/lib/python3.7/site-packages/sage/interfaces/maxima_lib.py\u001b[0m in \u001b[0;36mset\u001b[0;34m(self, var, value)\u001b[0m\n\u001b[1;32m    511\u001b[0m         \u001b[0mcmd\u001b[0m \u001b[0;34m=\u001b[0m \u001b[0;34m'%s : %s$'\u001b[0m\u001b[0;34m%\u001b[0m\u001b[0;34m(\u001b[0m\u001b[0mvar\u001b[0m\u001b[0;34m,\u001b[0m \u001b[0mvalue\u001b[0m\u001b[0;34m.\u001b[0m\u001b[0mrstrip\u001b[0m\u001b[0;34m(\u001b[0m\u001b[0;34m';'\u001b[0m\u001b[0;34m)\u001b[0m\u001b[0;34m)\u001b[0m\u001b[0;34m\u001b[0m\u001b[0;34m\u001b[0m\u001b[0m\n\u001b[0;32m--> 512\u001b[0;31m         \u001b[0mself\u001b[0m\u001b[0;34m.\u001b[0m\u001b[0meval\u001b[0m\u001b[0;34m(\u001b[0m\u001b[0mcmd\u001b[0m\u001b[0;34m)\u001b[0m\u001b[0;34m\u001b[0m\u001b[0;34m\u001b[0m\u001b[0m\n\u001b[0m\u001b[1;32m    513\u001b[0m \u001b[0;34m\u001b[0m\u001b[0m\n",
      "\u001b[0;32m/opt/sagemath-9.3/local/lib/python3.7/site-packages/sage/interfaces/maxima_lib.py\u001b[0m in \u001b[0;36m_eval_line\u001b[0;34m(self, line, locals, reformat, **kwds)\u001b[0m\n\u001b[1;32m    457\u001b[0m                 \u001b[0;32mif\u001b[0m \u001b[0mstatement\u001b[0m\u001b[0;34m:\u001b[0m\u001b[0;34m\u001b[0m\u001b[0;34m\u001b[0m\u001b[0m\n\u001b[0;32m--> 458\u001b[0;31m                     \u001b[0mmaxima_eval\u001b[0m\u001b[0;34m(\u001b[0m\u001b[0;34m\"#$%s$\"\u001b[0m \u001b[0;34m%\u001b[0m \u001b[0mstatement\u001b[0m\u001b[0;34m)\u001b[0m\u001b[0;34m\u001b[0m\u001b[0;34m\u001b[0m\u001b[0m\n\u001b[0m\u001b[1;32m    459\u001b[0m         \u001b[0;32mif\u001b[0m \u001b[0;32mnot\u001b[0m \u001b[0mreformat\u001b[0m\u001b[0;34m:\u001b[0m\u001b[0;34m\u001b[0m\u001b[0;34m\u001b[0m\u001b[0m\n",
      "\u001b[0;32m/opt/sagemath-9.3/local/lib/python3.7/site-packages/sage/libs/ecl.pyx\u001b[0m in \u001b[0;36msage.libs.ecl.EclObject.__call__ (build/cythonized/sage/libs/ecl.c:8609)\u001b[0;34m()\u001b[0m\n\u001b[1;32m    852\u001b[0m         \"\"\"\n\u001b[0;32m--> 853\u001b[0;31m         \u001b[0mlispargs\u001b[0m \u001b[0;34m=\u001b[0m \u001b[0mEclObject\u001b[0m\u001b[0;34m(\u001b[0m\u001b[0mlist\u001b[0m\u001b[0;34m(\u001b[0m\u001b[0margs\u001b[0m\u001b[0;34m)\u001b[0m\u001b[0;34m)\u001b[0m\u001b[0;34m\u001b[0m\u001b[0;34m\u001b[0m\u001b[0m\n\u001b[0m\u001b[1;32m    854\u001b[0m         \u001b[0;32mreturn\u001b[0m \u001b[0mecl_wrap\u001b[0m\u001b[0;34m(\u001b[0m\u001b[0mecl_safe_apply\u001b[0m\u001b[0;34m(\u001b[0m\u001b[0mself\u001b[0m\u001b[0;34m.\u001b[0m\u001b[0mobj\u001b[0m\u001b[0;34m,\u001b[0m\u001b[0;34m(\u001b[0m\u001b[0;34m<\u001b[0m\u001b[0mEclObject\u001b[0m\u001b[0;34m>\u001b[0m\u001b[0mlispargs\u001b[0m\u001b[0;34m)\u001b[0m\u001b[0;34m.\u001b[0m\u001b[0mobj\u001b[0m\u001b[0;34m)\u001b[0m\u001b[0;34m)\u001b[0m\u001b[0;34m\u001b[0m\u001b[0;34m\u001b[0m\u001b[0m\n",
      "\u001b[0;32m/opt/sagemath-9.3/local/lib/python3.7/site-packages/sage/libs/ecl.pyx\u001b[0m in \u001b[0;36msage.libs.ecl.EclObject.__init__ (build/cythonized/sage/libs/ecl.c:8072)\u001b[0;34m()\u001b[0m\n\u001b[1;32m    713\u001b[0m         \u001b[0;32melif\u001b[0m \u001b[0mlen\u001b[0m\u001b[0;34m(\u001b[0m\u001b[0margs\u001b[0m\u001b[0;34m)\u001b[0m \u001b[0;34m==\u001b[0m \u001b[0;36m1\u001b[0m\u001b[0;34m:\u001b[0m\u001b[0;34m\u001b[0m\u001b[0;34m\u001b[0m\u001b[0m\n\u001b[0;32m--> 714\u001b[0;31m             \u001b[0mself\u001b[0m\u001b[0;34m.\u001b[0m\u001b[0mset_obj\u001b[0m\u001b[0;34m(\u001b[0m\u001b[0mpython_to_ecl\u001b[0m\u001b[0;34m(\u001b[0m\u001b[0margs\u001b[0m\u001b[0;34m[\u001b[0m\u001b[0;36m0\u001b[0m\u001b[0;34m]\u001b[0m\u001b[0;34m,\u001b[0m \u001b[0;32mTrue\u001b[0m\u001b[0;34m)\u001b[0m\u001b[0;34m)\u001b[0m\u001b[0;34m\u001b[0m\u001b[0;34m\u001b[0m\u001b[0m\n\u001b[0m\u001b[1;32m    715\u001b[0m         \u001b[0;32melif\u001b[0m \u001b[0mlen\u001b[0m\u001b[0;34m(\u001b[0m\u001b[0margs\u001b[0m\u001b[0;34m)\u001b[0m \u001b[0;34m==\u001b[0m \u001b[0;36m2\u001b[0m\u001b[0;34m:\u001b[0m\u001b[0;34m\u001b[0m\u001b[0;34m\u001b[0m\u001b[0m\n",
      "\u001b[0;32m/opt/sagemath-9.3/local/lib/python3.7/site-packages/sage/libs/ecl.pyx\u001b[0m in \u001b[0;36msage.libs.ecl.python_to_ecl (build/cythonized/sage/libs/ecl.c:7058)\u001b[0;34m()\u001b[0m\n\u001b[1;32m    487\u001b[0m         \u001b[0;32melse\u001b[0m\u001b[0;34m:\u001b[0m\u001b[0;34m\u001b[0m\u001b[0;34m\u001b[0m\u001b[0m\n\u001b[0;32m--> 488\u001b[0;31m             \u001b[0mL\u001b[0m \u001b[0;34m=\u001b[0m \u001b[0mcl_cons\u001b[0m\u001b[0;34m(\u001b[0m\u001b[0mpython_to_ecl\u001b[0m\u001b[0;34m(\u001b[0m\u001b[0mpyobj\u001b[0m\u001b[0;34m[\u001b[0m\u001b[0;36m0\u001b[0m\u001b[0;34m]\u001b[0m\u001b[0;34m,\u001b[0m \u001b[0mread_strings\u001b[0m\u001b[0;34m)\u001b[0m\u001b[0;34m,\u001b[0m\u001b[0mCnil\u001b[0m\u001b[0;34m)\u001b[0m\u001b[0;34m\u001b[0m\u001b[0;34m\u001b[0m\u001b[0m\n\u001b[0m\u001b[1;32m    489\u001b[0m             \u001b[0mptr\u001b[0m \u001b[0;34m=\u001b[0m \u001b[0mL\u001b[0m\u001b[0;34m\u001b[0m\u001b[0;34m\u001b[0m\u001b[0m\n",
      "\u001b[0;32m/opt/sagemath-9.3/local/lib/python3.7/site-packages/sage/libs/ecl.pyx\u001b[0m in \u001b[0;36msage.libs.ecl.python_to_ecl (build/cythonized/sage/libs/ecl.c:6695)\u001b[0;34m()\u001b[0m\n\u001b[1;32m    463\u001b[0m         \u001b[0;32mif\u001b[0m \u001b[0mread_strings\u001b[0m\u001b[0;34m:\u001b[0m\u001b[0;34m\u001b[0m\u001b[0;34m\u001b[0m\u001b[0m\n\u001b[0;32m--> 464\u001b[0;31m             \u001b[0;32mreturn\u001b[0m \u001b[0mecl_safe_funcall\u001b[0m\u001b[0;34m(\u001b[0m\u001b[0mread_from_string_clobj\u001b[0m\u001b[0;34m,\u001b[0m \u001b[0mo\u001b[0m\u001b[0;34m)\u001b[0m\u001b[0;34m\u001b[0m\u001b[0;34m\u001b[0m\u001b[0m\n\u001b[0m\u001b[1;32m    465\u001b[0m         \u001b[0;32melse\u001b[0m\u001b[0;34m:\u001b[0m\u001b[0;34m\u001b[0m\u001b[0;34m\u001b[0m\u001b[0m\n",
      "\u001b[0;32m/opt/sagemath-9.3/local/lib/python3.7/site-packages/sage/libs/ecl.pyx\u001b[0m in \u001b[0;36msage.libs.ecl.ecl_safe_funcall (build/cythonized/sage/libs/ecl.c:5743)\u001b[0;34m()\u001b[0m\n\u001b[1;32m    351\u001b[0m     \u001b[0;32mif\u001b[0m \u001b[0merror\u001b[0m \u001b[0;34m!=\u001b[0m \u001b[0mNULL\u001b[0m\u001b[0;34m:\u001b[0m\u001b[0;34m\u001b[0m\u001b[0;34m\u001b[0m\u001b[0m\n\u001b[0;32m--> 352\u001b[0;31m         raise RuntimeError(\"ECL says: {}\".format(\n\u001b[0m\u001b[1;32m    353\u001b[0m             ecl_string_to_python(error)))\n",
      "\u001b[0;31mRuntimeError\u001b[0m: ECL says: THROW: The catch MACSYMA-QUIT is undefined.",
      "\nDuring handling of the above exception, another exception occurred:\n",
      "\u001b[0;31mTypeError\u001b[0m                                 Traceback (most recent call last)",
      "\u001b[0;32m/opt/sagemath-9.3/local/lib/python3.7/site-packages/sage/interfaces/interface.py\u001b[0m in \u001b[0;36m__call__\u001b[0;34m(self, x, name)\u001b[0m\n\u001b[1;32m    308\u001b[0m         \u001b[0;32mtry\u001b[0m\u001b[0;34m:\u001b[0m\u001b[0;34m\u001b[0m\u001b[0;34m\u001b[0m\u001b[0m\n\u001b[0;32m--> 309\u001b[0;31m             \u001b[0mresult\u001b[0m \u001b[0;34m=\u001b[0m \u001b[0mself\u001b[0m\u001b[0;34m.\u001b[0m\u001b[0m_coerce_impl\u001b[0m\u001b[0;34m(\u001b[0m\u001b[0mx\u001b[0m\u001b[0;34m,\u001b[0m \u001b[0muse_special\u001b[0m\u001b[0;34m=\u001b[0m\u001b[0;32mFalse\u001b[0m\u001b[0;34m)\u001b[0m\u001b[0;34m\u001b[0m\u001b[0;34m\u001b[0m\u001b[0m\n\u001b[0m\u001b[1;32m    310\u001b[0m             \u001b[0;32mreturn\u001b[0m \u001b[0mresult\u001b[0m \u001b[0;32mif\u001b[0m \u001b[0mname\u001b[0m \u001b[0;32mis\u001b[0m \u001b[0;32mNone\u001b[0m \u001b[0;32melse\u001b[0m \u001b[0mresult\u001b[0m\u001b[0;34m.\u001b[0m\u001b[0mname\u001b[0m\u001b[0;34m(\u001b[0m\u001b[0mnew_name\u001b[0m\u001b[0;34m=\u001b[0m\u001b[0mname\u001b[0m\u001b[0;34m)\u001b[0m\u001b[0;34m\u001b[0m\u001b[0;34m\u001b[0m\u001b[0m\n",
      "\u001b[0;32m/opt/sagemath-9.3/local/lib/python3.7/site-packages/sage/interfaces/interface.py\u001b[0m in \u001b[0;36m_coerce_impl\u001b[0;34m(self, x, use_special)\u001b[0m\n\u001b[1;32m    357\u001b[0m                 \u001b[0;32melse\u001b[0m\u001b[0;34m:\u001b[0m\u001b[0;34m\u001b[0m\u001b[0;34m\u001b[0m\u001b[0m\n\u001b[0;32m--> 358\u001b[0;31m                     \u001b[0mw\u001b[0m \u001b[0;34m=\u001b[0m \u001b[0mself\u001b[0m\u001b[0;34m(\u001b[0m\u001b[0mv\u001b[0m\u001b[0;34m)\u001b[0m\u001b[0;34m\u001b[0m\u001b[0;34m\u001b[0m\u001b[0m\n\u001b[0m\u001b[1;32m    359\u001b[0m                     \u001b[0mA\u001b[0m\u001b[0;34m.\u001b[0m\u001b[0mappend\u001b[0m\u001b[0;34m(\u001b[0m\u001b[0mw\u001b[0m\u001b[0;34m.\u001b[0m\u001b[0mname\u001b[0m\u001b[0;34m(\u001b[0m\u001b[0;34m)\u001b[0m\u001b[0;34m)\u001b[0m\u001b[0;34m\u001b[0m\u001b[0;34m\u001b[0m\u001b[0m\n",
      "\u001b[0;32m/opt/sagemath-9.3/local/lib/python3.7/site-packages/sage/interfaces/interface.py\u001b[0m in \u001b[0;36m__call__\u001b[0;34m(self, x, name)\u001b[0m\n\u001b[1;32m    294\u001b[0m         \u001b[0;32mif\u001b[0m \u001b[0misinstance\u001b[0m\u001b[0;34m(\u001b[0m\u001b[0mx\u001b[0m\u001b[0;34m,\u001b[0m \u001b[0mstr\u001b[0m\u001b[0;34m)\u001b[0m\u001b[0;34m:\u001b[0m\u001b[0;34m\u001b[0m\u001b[0;34m\u001b[0m\u001b[0m\n\u001b[0;32m--> 295\u001b[0;31m             \u001b[0;32mreturn\u001b[0m \u001b[0mcls\u001b[0m\u001b[0;34m(\u001b[0m\u001b[0mself\u001b[0m\u001b[0;34m,\u001b[0m \u001b[0mx\u001b[0m\u001b[0;34m,\u001b[0m \u001b[0mname\u001b[0m\u001b[0;34m=\u001b[0m\u001b[0mname\u001b[0m\u001b[0;34m)\u001b[0m\u001b[0;34m\u001b[0m\u001b[0;34m\u001b[0m\u001b[0m\n\u001b[0m\u001b[1;32m    296\u001b[0m         \u001b[0;32mtry\u001b[0m\u001b[0;34m:\u001b[0m\u001b[0;34m\u001b[0m\u001b[0;34m\u001b[0m\u001b[0m\n",
      "\u001b[0;32m/opt/sagemath-9.3/local/lib/python3.7/site-packages/sage/interfaces/interface.py\u001b[0m in \u001b[0;36m__init__\u001b[0;34m(self, parent, value, is_name, name)\u001b[0m\n\u001b[1;32m    719\u001b[0m             \u001b[0;32mexcept\u001b[0m \u001b[0;34m(\u001b[0m\u001b[0mTypeError\u001b[0m\u001b[0;34m,\u001b[0m \u001b[0mRuntimeError\u001b[0m\u001b[0;34m,\u001b[0m \u001b[0mValueError\u001b[0m\u001b[0;34m)\u001b[0m \u001b[0;32mas\u001b[0m \u001b[0mx\u001b[0m\u001b[0;34m:\u001b[0m\u001b[0;34m\u001b[0m\u001b[0;34m\u001b[0m\u001b[0m\n\u001b[0;32m--> 720\u001b[0;31m                 \u001b[0;32mraise\u001b[0m \u001b[0mTypeError\u001b[0m\u001b[0;34m(\u001b[0m\u001b[0mx\u001b[0m\u001b[0;34m)\u001b[0m\u001b[0;34m\u001b[0m\u001b[0;34m\u001b[0m\u001b[0m\n\u001b[0m\u001b[1;32m    721\u001b[0m \u001b[0;34m\u001b[0m\u001b[0m\n",
      "\u001b[0;31mTypeError\u001b[0m: ECL says: THROW: The catch MACSYMA-QUIT is undefined.",
      "\nDuring handling of the above exception, another exception occurred:\n",
      "\u001b[0;31mRuntimeError\u001b[0m                              Traceback (most recent call last)",
      "\u001b[0;32m/opt/sagemath-9.3/local/lib/python3.7/site-packages/sage/interfaces/interface.py\u001b[0m in \u001b[0;36m__init__\u001b[0;34m(self, parent, value, is_name, name)\u001b[0m\n\u001b[1;32m    717\u001b[0m             \u001b[0;32mtry\u001b[0m\u001b[0;34m:\u001b[0m\u001b[0;34m\u001b[0m\u001b[0;34m\u001b[0m\u001b[0m\n\u001b[0;32m--> 718\u001b[0;31m                 \u001b[0mself\u001b[0m\u001b[0;34m.\u001b[0m\u001b[0m_name\u001b[0m \u001b[0;34m=\u001b[0m \u001b[0mparent\u001b[0m\u001b[0;34m.\u001b[0m\u001b[0m_create\u001b[0m\u001b[0;34m(\u001b[0m\u001b[0mvalue\u001b[0m\u001b[0;34m,\u001b[0m \u001b[0mname\u001b[0m\u001b[0;34m=\u001b[0m\u001b[0mname\u001b[0m\u001b[0;34m)\u001b[0m\u001b[0;34m\u001b[0m\u001b[0;34m\u001b[0m\u001b[0m\n\u001b[0m\u001b[1;32m    719\u001b[0m             \u001b[0;32mexcept\u001b[0m \u001b[0;34m(\u001b[0m\u001b[0mTypeError\u001b[0m\u001b[0;34m,\u001b[0m \u001b[0mRuntimeError\u001b[0m\u001b[0;34m,\u001b[0m \u001b[0mValueError\u001b[0m\u001b[0;34m)\u001b[0m \u001b[0;32mas\u001b[0m \u001b[0mx\u001b[0m\u001b[0;34m:\u001b[0m\u001b[0;34m\u001b[0m\u001b[0;34m\u001b[0m\u001b[0m\n",
      "\u001b[0;32m/opt/sagemath-9.3/local/lib/python3.7/site-packages/sage/interfaces/maxima_lib.py\u001b[0m in \u001b[0;36m_create\u001b[0;34m(self, value, name)\u001b[0m\n\u001b[1;32m    603\u001b[0m             \u001b[0;32melse\u001b[0m\u001b[0;34m:\u001b[0m\u001b[0;34m\u001b[0m\u001b[0;34m\u001b[0m\u001b[0m\n\u001b[0;32m--> 604\u001b[0;31m                 \u001b[0mself\u001b[0m\u001b[0;34m.\u001b[0m\u001b[0mset\u001b[0m\u001b[0;34m(\u001b[0m\u001b[0mname\u001b[0m\u001b[0;34m,\u001b[0m \u001b[0mvalue\u001b[0m\u001b[0;34m)\u001b[0m\u001b[0;34m\u001b[0m\u001b[0;34m\u001b[0m\u001b[0m\n\u001b[0m\u001b[1;32m    605\u001b[0m         \u001b[0;32mexcept\u001b[0m \u001b[0mRuntimeError\u001b[0m \u001b[0;32mas\u001b[0m \u001b[0merror\u001b[0m\u001b[0;34m:\u001b[0m\u001b[0;34m\u001b[0m\u001b[0;34m\u001b[0m\u001b[0m\n",
      "\u001b[0;32m/opt/sagemath-9.3/local/lib/python3.7/site-packages/sage/interfaces/maxima_lib.py\u001b[0m in \u001b[0;36mset\u001b[0;34m(self, var, value)\u001b[0m\n\u001b[1;32m    511\u001b[0m         \u001b[0mcmd\u001b[0m \u001b[0;34m=\u001b[0m \u001b[0;34m'%s : %s$'\u001b[0m\u001b[0;34m%\u001b[0m\u001b[0;34m(\u001b[0m\u001b[0mvar\u001b[0m\u001b[0;34m,\u001b[0m \u001b[0mvalue\u001b[0m\u001b[0;34m.\u001b[0m\u001b[0mrstrip\u001b[0m\u001b[0;34m(\u001b[0m\u001b[0;34m';'\u001b[0m\u001b[0;34m)\u001b[0m\u001b[0;34m)\u001b[0m\u001b[0;34m\u001b[0m\u001b[0;34m\u001b[0m\u001b[0m\n\u001b[0;32m--> 512\u001b[0;31m         \u001b[0mself\u001b[0m\u001b[0;34m.\u001b[0m\u001b[0meval\u001b[0m\u001b[0;34m(\u001b[0m\u001b[0mcmd\u001b[0m\u001b[0;34m)\u001b[0m\u001b[0;34m\u001b[0m\u001b[0;34m\u001b[0m\u001b[0m\n\u001b[0m\u001b[1;32m    513\u001b[0m \u001b[0;34m\u001b[0m\u001b[0m\n",
      "\u001b[0;32m/opt/sagemath-9.3/local/lib/python3.7/site-packages/sage/interfaces/maxima_lib.py\u001b[0m in \u001b[0;36m_eval_line\u001b[0;34m(self, line, locals, reformat, **kwds)\u001b[0m\n\u001b[1;32m    457\u001b[0m                 \u001b[0;32mif\u001b[0m \u001b[0mstatement\u001b[0m\u001b[0;34m:\u001b[0m\u001b[0;34m\u001b[0m\u001b[0;34m\u001b[0m\u001b[0m\n\u001b[0;32m--> 458\u001b[0;31m                     \u001b[0mmaxima_eval\u001b[0m\u001b[0;34m(\u001b[0m\u001b[0;34m\"#$%s$\"\u001b[0m \u001b[0;34m%\u001b[0m \u001b[0mstatement\u001b[0m\u001b[0;34m)\u001b[0m\u001b[0;34m\u001b[0m\u001b[0;34m\u001b[0m\u001b[0m\n\u001b[0m\u001b[1;32m    459\u001b[0m         \u001b[0;32mif\u001b[0m \u001b[0;32mnot\u001b[0m \u001b[0mreformat\u001b[0m\u001b[0;34m:\u001b[0m\u001b[0;34m\u001b[0m\u001b[0;34m\u001b[0m\u001b[0m\n",
      "\u001b[0;32m/opt/sagemath-9.3/local/lib/python3.7/site-packages/sage/libs/ecl.pyx\u001b[0m in \u001b[0;36msage.libs.ecl.EclObject.__call__ (build/cythonized/sage/libs/ecl.c:8609)\u001b[0;34m()\u001b[0m\n\u001b[1;32m    852\u001b[0m         \"\"\"\n\u001b[0;32m--> 853\u001b[0;31m         \u001b[0mlispargs\u001b[0m \u001b[0;34m=\u001b[0m \u001b[0mEclObject\u001b[0m\u001b[0;34m(\u001b[0m\u001b[0mlist\u001b[0m\u001b[0;34m(\u001b[0m\u001b[0margs\u001b[0m\u001b[0;34m)\u001b[0m\u001b[0;34m)\u001b[0m\u001b[0;34m\u001b[0m\u001b[0;34m\u001b[0m\u001b[0m\n\u001b[0m\u001b[1;32m    854\u001b[0m         \u001b[0;32mreturn\u001b[0m \u001b[0mecl_wrap\u001b[0m\u001b[0;34m(\u001b[0m\u001b[0mecl_safe_apply\u001b[0m\u001b[0;34m(\u001b[0m\u001b[0mself\u001b[0m\u001b[0;34m.\u001b[0m\u001b[0mobj\u001b[0m\u001b[0;34m,\u001b[0m\u001b[0;34m(\u001b[0m\u001b[0;34m<\u001b[0m\u001b[0mEclObject\u001b[0m\u001b[0;34m>\u001b[0m\u001b[0mlispargs\u001b[0m\u001b[0;34m)\u001b[0m\u001b[0;34m.\u001b[0m\u001b[0mobj\u001b[0m\u001b[0;34m)\u001b[0m\u001b[0;34m)\u001b[0m\u001b[0;34m\u001b[0m\u001b[0;34m\u001b[0m\u001b[0m\n",
      "\u001b[0;32m/opt/sagemath-9.3/local/lib/python3.7/site-packages/sage/libs/ecl.pyx\u001b[0m in \u001b[0;36msage.libs.ecl.EclObject.__init__ (build/cythonized/sage/libs/ecl.c:8072)\u001b[0;34m()\u001b[0m\n\u001b[1;32m    713\u001b[0m         \u001b[0;32melif\u001b[0m \u001b[0mlen\u001b[0m\u001b[0;34m(\u001b[0m\u001b[0margs\u001b[0m\u001b[0;34m)\u001b[0m \u001b[0;34m==\u001b[0m \u001b[0;36m1\u001b[0m\u001b[0;34m:\u001b[0m\u001b[0;34m\u001b[0m\u001b[0;34m\u001b[0m\u001b[0m\n\u001b[0;32m--> 714\u001b[0;31m             \u001b[0mself\u001b[0m\u001b[0;34m.\u001b[0m\u001b[0mset_obj\u001b[0m\u001b[0;34m(\u001b[0m\u001b[0mpython_to_ecl\u001b[0m\u001b[0;34m(\u001b[0m\u001b[0margs\u001b[0m\u001b[0;34m[\u001b[0m\u001b[0;36m0\u001b[0m\u001b[0;34m]\u001b[0m\u001b[0;34m,\u001b[0m \u001b[0;32mTrue\u001b[0m\u001b[0;34m)\u001b[0m\u001b[0;34m)\u001b[0m\u001b[0;34m\u001b[0m\u001b[0;34m\u001b[0m\u001b[0m\n\u001b[0m\u001b[1;32m    715\u001b[0m         \u001b[0;32melif\u001b[0m \u001b[0mlen\u001b[0m\u001b[0;34m(\u001b[0m\u001b[0margs\u001b[0m\u001b[0;34m)\u001b[0m \u001b[0;34m==\u001b[0m \u001b[0;36m2\u001b[0m\u001b[0;34m:\u001b[0m\u001b[0;34m\u001b[0m\u001b[0;34m\u001b[0m\u001b[0m\n",
      "\u001b[0;32m/opt/sagemath-9.3/local/lib/python3.7/site-packages/sage/libs/ecl.pyx\u001b[0m in \u001b[0;36msage.libs.ecl.python_to_ecl (build/cythonized/sage/libs/ecl.c:7058)\u001b[0;34m()\u001b[0m\n\u001b[1;32m    487\u001b[0m         \u001b[0;32melse\u001b[0m\u001b[0;34m:\u001b[0m\u001b[0;34m\u001b[0m\u001b[0;34m\u001b[0m\u001b[0m\n\u001b[0;32m--> 488\u001b[0;31m             \u001b[0mL\u001b[0m \u001b[0;34m=\u001b[0m \u001b[0mcl_cons\u001b[0m\u001b[0;34m(\u001b[0m\u001b[0mpython_to_ecl\u001b[0m\u001b[0;34m(\u001b[0m\u001b[0mpyobj\u001b[0m\u001b[0;34m[\u001b[0m\u001b[0;36m0\u001b[0m\u001b[0;34m]\u001b[0m\u001b[0;34m,\u001b[0m \u001b[0mread_strings\u001b[0m\u001b[0;34m)\u001b[0m\u001b[0;34m,\u001b[0m\u001b[0mCnil\u001b[0m\u001b[0;34m)\u001b[0m\u001b[0;34m\u001b[0m\u001b[0;34m\u001b[0m\u001b[0m\n\u001b[0m\u001b[1;32m    489\u001b[0m             \u001b[0mptr\u001b[0m \u001b[0;34m=\u001b[0m \u001b[0mL\u001b[0m\u001b[0;34m\u001b[0m\u001b[0;34m\u001b[0m\u001b[0m\n",
      "\u001b[0;32m/opt/sagemath-9.3/local/lib/python3.7/site-packages/sage/libs/ecl.pyx\u001b[0m in \u001b[0;36msage.libs.ecl.python_to_ecl (build/cythonized/sage/libs/ecl.c:6695)\u001b[0;34m()\u001b[0m\n\u001b[1;32m    463\u001b[0m         \u001b[0;32mif\u001b[0m \u001b[0mread_strings\u001b[0m\u001b[0;34m:\u001b[0m\u001b[0;34m\u001b[0m\u001b[0;34m\u001b[0m\u001b[0m\n\u001b[0;32m--> 464\u001b[0;31m             \u001b[0;32mreturn\u001b[0m \u001b[0mecl_safe_funcall\u001b[0m\u001b[0;34m(\u001b[0m\u001b[0mread_from_string_clobj\u001b[0m\u001b[0;34m,\u001b[0m \u001b[0mo\u001b[0m\u001b[0;34m)\u001b[0m\u001b[0;34m\u001b[0m\u001b[0;34m\u001b[0m\u001b[0m\n\u001b[0m\u001b[1;32m    465\u001b[0m         \u001b[0;32melse\u001b[0m\u001b[0;34m:\u001b[0m\u001b[0;34m\u001b[0m\u001b[0;34m\u001b[0m\u001b[0m\n",
      "\u001b[0;32m/opt/sagemath-9.3/local/lib/python3.7/site-packages/sage/libs/ecl.pyx\u001b[0m in \u001b[0;36msage.libs.ecl.ecl_safe_funcall (build/cythonized/sage/libs/ecl.c:5743)\u001b[0;34m()\u001b[0m\n\u001b[1;32m    351\u001b[0m     \u001b[0;32mif\u001b[0m \u001b[0merror\u001b[0m \u001b[0;34m!=\u001b[0m \u001b[0mNULL\u001b[0m\u001b[0;34m:\u001b[0m\u001b[0;34m\u001b[0m\u001b[0;34m\u001b[0m\u001b[0m\n\u001b[0;32m--> 352\u001b[0;31m         raise RuntimeError(\"ECL says: {}\".format(\n\u001b[0m\u001b[1;32m    353\u001b[0m             ecl_string_to_python(error)))\n",
      "\u001b[0;31mRuntimeError\u001b[0m: ECL says: THROW: The catch MACSYMA-QUIT is undefined.",
      "\nDuring handling of the above exception, another exception occurred:\n",
      "\u001b[0;31mTypeError\u001b[0m                                 Traceback (most recent call last)",
      "\u001b[0;32m/opt/sagemath-9.3/local/lib/python3.7/site-packages/sage/interfaces/interface.py\u001b[0m in \u001b[0;36m__call__\u001b[0;34m(self, x, name)\u001b[0m\n\u001b[1;32m    312\u001b[0m             \u001b[0;32mtry\u001b[0m\u001b[0;34m:\u001b[0m\u001b[0;34m\u001b[0m\u001b[0;34m\u001b[0m\u001b[0m\n\u001b[0;32m--> 313\u001b[0;31m                 \u001b[0;32mreturn\u001b[0m \u001b[0mcls\u001b[0m\u001b[0;34m(\u001b[0m\u001b[0mself\u001b[0m\u001b[0;34m,\u001b[0m \u001b[0mstr\u001b[0m\u001b[0;34m(\u001b[0m\u001b[0mx\u001b[0m\u001b[0;34m)\u001b[0m\u001b[0;34m,\u001b[0m \u001b[0mname\u001b[0m\u001b[0;34m=\u001b[0m\u001b[0mname\u001b[0m\u001b[0;34m)\u001b[0m\u001b[0;34m\u001b[0m\u001b[0;34m\u001b[0m\u001b[0m\n\u001b[0m\u001b[1;32m    314\u001b[0m             \u001b[0;32mexcept\u001b[0m \u001b[0mTypeError\u001b[0m\u001b[0;34m:\u001b[0m\u001b[0;34m\u001b[0m\u001b[0;34m\u001b[0m\u001b[0m\n",
      "\u001b[0;32m/opt/sagemath-9.3/local/lib/python3.7/site-packages/sage/interfaces/interface.py\u001b[0m in \u001b[0;36m__init__\u001b[0;34m(self, parent, value, is_name, name)\u001b[0m\n\u001b[1;32m    719\u001b[0m             \u001b[0;32mexcept\u001b[0m \u001b[0;34m(\u001b[0m\u001b[0mTypeError\u001b[0m\u001b[0;34m,\u001b[0m \u001b[0mRuntimeError\u001b[0m\u001b[0;34m,\u001b[0m \u001b[0mValueError\u001b[0m\u001b[0;34m)\u001b[0m \u001b[0;32mas\u001b[0m \u001b[0mx\u001b[0m\u001b[0;34m:\u001b[0m\u001b[0;34m\u001b[0m\u001b[0;34m\u001b[0m\u001b[0m\n\u001b[0;32m--> 720\u001b[0;31m                 \u001b[0;32mraise\u001b[0m \u001b[0mTypeError\u001b[0m\u001b[0;34m(\u001b[0m\u001b[0mx\u001b[0m\u001b[0;34m)\u001b[0m\u001b[0;34m\u001b[0m\u001b[0;34m\u001b[0m\u001b[0m\n\u001b[0m\u001b[1;32m    721\u001b[0m \u001b[0;34m\u001b[0m\u001b[0m\n",
      "\u001b[0;31mTypeError\u001b[0m: ECL says: THROW: The catch MACSYMA-QUIT is undefined.",
      "\nDuring handling of the above exception, another exception occurred:\n",
      "\u001b[0;31mTypeError\u001b[0m                                 Traceback (most recent call last)",
      "\u001b[0;32m<ipython-input-68-b34cbf3bfb51>\u001b[0m in \u001b[0;36m<module>\u001b[0;34m\u001b[0m\n\u001b[1;32m      7\u001b[0m              \u001b[0mA\u001b[0m \u001b[0;34m+\u001b[0m \u001b[0mB\u001b[0m \u001b[0;34m+\u001b[0m \u001b[0mC\u001b[0m \u001b[0;34m+\u001b[0m \u001b[0mD\u001b[0m \u001b[0;34m==\u001b[0m \u001b[0mInteger\u001b[0m\u001b[0;34m(\u001b[0m\u001b[0;36m1\u001b[0m\u001b[0;34m)\u001b[0m\u001b[0;34m\u001b[0m\u001b[0;34m\u001b[0m\u001b[0m\n\u001b[1;32m      8\u001b[0m             ]\n\u001b[0;32m----> 9\u001b[0;31m             ,A,B,C,D)\n\u001b[0m\u001b[1;32m     10\u001b[0m \u001b[0;34m\u001b[0m\u001b[0m\n\u001b[1;32m     11\u001b[0m \u001b[0mprint\u001b[0m\u001b[0;34m(\u001b[0m\u001b[0mS\u001b[0m\u001b[0;34m)\u001b[0m\u001b[0;34m\u001b[0m\u001b[0;34m\u001b[0m\u001b[0m\n",
      "\u001b[0;32m/opt/sagemath-9.3/local/lib/python3.7/site-packages/sage/symbolic/relation.py\u001b[0m in \u001b[0;36msolve\u001b[0;34m(f, *args, **kwds)\u001b[0m\n\u001b[1;32m   1104\u001b[0m \u001b[0;34m\u001b[0m\u001b[0m\n\u001b[1;32m   1105\u001b[0m     \u001b[0;32mfrom\u001b[0m \u001b[0msage\u001b[0m\u001b[0;34m.\u001b[0m\u001b[0mcalculus\u001b[0m\u001b[0;34m.\u001b[0m\u001b[0mcalculus\u001b[0m \u001b[0;32mimport\u001b[0m \u001b[0mmaxima\u001b[0m\u001b[0;34m\u001b[0m\u001b[0;34m\u001b[0m\u001b[0m\n\u001b[0;32m-> 1106\u001b[0;31m     \u001b[0mm\u001b[0m \u001b[0;34m=\u001b[0m \u001b[0mmaxima\u001b[0m\u001b[0;34m(\u001b[0m\u001b[0mf\u001b[0m\u001b[0;34m)\u001b[0m\u001b[0;34m\u001b[0m\u001b[0;34m\u001b[0m\u001b[0m\n\u001b[0m\u001b[1;32m   1107\u001b[0m \u001b[0;34m\u001b[0m\u001b[0m\n\u001b[1;32m   1108\u001b[0m     \u001b[0;32mtry\u001b[0m\u001b[0;34m:\u001b[0m\u001b[0;34m\u001b[0m\u001b[0;34m\u001b[0m\u001b[0m\n",
      "\u001b[0;32m/opt/sagemath-9.3/local/lib/python3.7/site-packages/sage/interfaces/interface.py\u001b[0m in \u001b[0;36m__call__\u001b[0;34m(self, x, name)\u001b[0m\n\u001b[1;32m    313\u001b[0m                 \u001b[0;32mreturn\u001b[0m \u001b[0mcls\u001b[0m\u001b[0;34m(\u001b[0m\u001b[0mself\u001b[0m\u001b[0;34m,\u001b[0m \u001b[0mstr\u001b[0m\u001b[0;34m(\u001b[0m\u001b[0mx\u001b[0m\u001b[0;34m)\u001b[0m\u001b[0;34m,\u001b[0m \u001b[0mname\u001b[0m\u001b[0;34m=\u001b[0m\u001b[0mname\u001b[0m\u001b[0;34m)\u001b[0m\u001b[0;34m\u001b[0m\u001b[0;34m\u001b[0m\u001b[0m\n\u001b[1;32m    314\u001b[0m             \u001b[0;32mexcept\u001b[0m \u001b[0mTypeError\u001b[0m\u001b[0;34m:\u001b[0m\u001b[0;34m\u001b[0m\u001b[0;34m\u001b[0m\u001b[0m\n\u001b[0;32m--> 315\u001b[0;31m                 \u001b[0;32mraise\u001b[0m \u001b[0mTypeError\u001b[0m\u001b[0;34m(\u001b[0m\u001b[0mmsg\u001b[0m\u001b[0;34m)\u001b[0m\u001b[0;34m\u001b[0m\u001b[0;34m\u001b[0m\u001b[0m\n\u001b[0m\u001b[1;32m    316\u001b[0m \u001b[0;34m\u001b[0m\u001b[0m\n\u001b[1;32m    317\u001b[0m     \u001b[0;32mdef\u001b[0m \u001b[0m_coerce_from_special_method\u001b[0m\u001b[0;34m(\u001b[0m\u001b[0mself\u001b[0m\u001b[0;34m,\u001b[0m \u001b[0mx\u001b[0m\u001b[0;34m)\u001b[0m\u001b[0;34m:\u001b[0m\u001b[0;34m\u001b[0m\u001b[0;34m\u001b[0m\u001b[0m\n",
      "\u001b[0;31mTypeError\u001b[0m: ECL says: THROW: The catch MACSYMA-QUIT is undefined."
     ]
    }
   ],
   "source": [
    "var('A B C D q s1 s2 s3 s4')\n",
    "\n",
    "S = solve([A*(s1+s2+q) == B*q + C*q + D,\n",
    "             B*(1+q) == A*s1 + D*q*s3,\n",
    "             C*(1+q) == A*s2 + D*q*s4,\n",
    "             D*(1+q*(s3+s4)) == A*q + B + C,\n",
    "             A + B + C + D == 1\n",
    "            ]\n",
    "            ,A,B,C,D)\n",
    "\n",
    "print(S)"
   ]
  },
  {
   "cell_type": "code",
   "execution_count": 67,
   "metadata": {},
   "outputs": [
    {
     "data": {
      "text/html": [
       "<html><script type=\"math/tex; mode=display\">\\newcommand{\\Bold}[1]{\\mathbf{#1}}32</script></html>"
      ],
      "text/latex": [
       "$$\\newcommand{\\Bold}[1]{\\mathbf{#1}}32$$"
      ],
      "text/plain": [
       "32"
      ]
     },
     "metadata": {},
     "output_type": "display_data"
    },
    {
     "data": {
      "text/html": [
       "<html><script type=\"math/tex; mode=display\">\\newcommand{\\Bold}[1]{\\mathbf{#1}}\\frac{q^{2} {\\left(s_{3} + s_{4}\\right)} + q + 1}{q^{2} {\\left(2 \\, s_{3} + 2 \\, s_{4} + 1\\right)} + {\\left(q {\\left(s_{3} + s_{4}\\right)} + 2\\right)} s_{1} + {\\left(q {\\left(s_{3} + s_{4}\\right)} + 2\\right)} s_{2} + 2 \\, q + 1}</script></html>"
      ],
      "text/latex": [
       "$$\\newcommand{\\Bold}[1]{\\mathbf{#1}}\\frac{q^{2} {\\left(s_{3} + s_{4}\\right)} + q + 1}{q^{2} {\\left(2 \\, s_{3} + 2 \\, s_{4} + 1\\right)} + {\\left(q {\\left(s_{3} + s_{4}\\right)} + 2\\right)} s_{1} + {\\left(q {\\left(s_{3} + s_{4}\\right)} + 2\\right)} s_{2} + 2 \\, q + 1}$$"
      ],
      "text/plain": [
       "(q^2*(s3 + s4) + q + 1)/(q^2*(2*s3 + 2*s4 + 1) + (q*(s3 + s4) + 2)*s1 + (q*(s3 + s4) + 2)*s2 + 2*q + 1)"
      ]
     },
     "metadata": {},
     "output_type": "display_data"
    },
    {
     "data": {
      "text/html": [
       "<html><script type=\"math/tex; mode=display\">\\newcommand{\\Bold}[1]{\\mathbf{#1}}\\frac{q^{3} s_{3} + q^{2} s_{3} + q s_{2} s_{3} + {\\left(q^{2} {\\left(s_{3} + s_{4}\\right)} + q {\\left(s_{3} + 1\\right)} + 1\\right)} s_{1}}{q^{3} {\\left(2 \\, s_{3} + 2 \\, s_{4} + 1\\right)} + q^{2} {\\left(2 \\, s_{3} + 2 \\, s_{4} + 3\\right)} + {\\left(q^{2} {\\left(s_{3} + s_{4}\\right)} + q {\\left(s_{3} + s_{4} + 2\\right)} + 2\\right)} s_{1} + {\\left(q^{2} {\\left(s_{3} + s_{4}\\right)} + q {\\left(s_{3} + s_{4} + 2\\right)} + 2\\right)} s_{2} + 3 \\, q + 1}</script></html>"
      ],
      "text/latex": [
       "$$\\newcommand{\\Bold}[1]{\\mathbf{#1}}\\frac{q^{3} s_{3} + q^{2} s_{3} + q s_{2} s_{3} + {\\left(q^{2} {\\left(s_{3} + s_{4}\\right)} + q {\\left(s_{3} + 1\\right)} + 1\\right)} s_{1}}{q^{3} {\\left(2 \\, s_{3} + 2 \\, s_{4} + 1\\right)} + q^{2} {\\left(2 \\, s_{3} + 2 \\, s_{4} + 3\\right)} + {\\left(q^{2} {\\left(s_{3} + s_{4}\\right)} + q {\\left(s_{3} + s_{4} + 2\\right)} + 2\\right)} s_{1} + {\\left(q^{2} {\\left(s_{3} + s_{4}\\right)} + q {\\left(s_{3} + s_{4} + 2\\right)} + 2\\right)} s_{2} + 3 \\, q + 1}$$"
      ],
      "text/plain": [
       "(q^3*s3 + q^2*s3 + q*s2*s3 + (q^2*(s3 + s4) + q*(s3 + 1) + 1)*s1)/(q^3*(2*s3 + 2*s4 + 1) + q^2*(2*s3 + 2*s4 + 3) + (q^2*(s3 + s4) + q*(s3 + s4 + 2) + 2)*s1 + (q^2*(s3 + s4) + q*(s3 + s4 + 2) + 2)*s2 + 3*q + 1)"
      ]
     },
     "metadata": {},
     "output_type": "display_data"
    },
    {
     "data": {
      "text/html": [
       "<html><script type=\"math/tex; mode=display\">\\newcommand{\\Bold}[1]{\\mathbf{#1}}\\frac{q^{3} s_{4} + q^{2} s_{4} + q s_{1} s_{4} + {\\left(q^{2} {\\left(s_{3} + s_{4}\\right)} + q {\\left(s_{4} + 1\\right)} + 1\\right)} s_{2}}{q^{3} {\\left(2 \\, s_{3} + 2 \\, s_{4} + 1\\right)} + q^{2} {\\left(2 \\, s_{3} + 2 \\, s_{4} + 3\\right)} + {\\left(q^{2} {\\left(s_{3} + s_{4}\\right)} + q {\\left(s_{3} + s_{4} + 2\\right)} + 2\\right)} s_{1} + {\\left(q^{2} {\\left(s_{3} + s_{4}\\right)} + q {\\left(s_{3} + s_{4} + 2\\right)} + 2\\right)} s_{2} + 3 \\, q + 1}</script></html>"
      ],
      "text/latex": [
       "$$\\newcommand{\\Bold}[1]{\\mathbf{#1}}\\frac{q^{3} s_{4} + q^{2} s_{4} + q s_{1} s_{4} + {\\left(q^{2} {\\left(s_{3} + s_{4}\\right)} + q {\\left(s_{4} + 1\\right)} + 1\\right)} s_{2}}{q^{3} {\\left(2 \\, s_{3} + 2 \\, s_{4} + 1\\right)} + q^{2} {\\left(2 \\, s_{3} + 2 \\, s_{4} + 3\\right)} + {\\left(q^{2} {\\left(s_{3} + s_{4}\\right)} + q {\\left(s_{3} + s_{4} + 2\\right)} + 2\\right)} s_{1} + {\\left(q^{2} {\\left(s_{3} + s_{4}\\right)} + q {\\left(s_{3} + s_{4} + 2\\right)} + 2\\right)} s_{2} + 3 \\, q + 1}$$"
      ],
      "text/plain": [
       "(q^3*s4 + q^2*s4 + q*s1*s4 + (q^2*(s3 + s4) + q*(s4 + 1) + 1)*s2)/(q^3*(2*s3 + 2*s4 + 1) + q^2*(2*s3 + 2*s4 + 3) + (q^2*(s3 + s4) + q*(s3 + s4 + 2) + 2)*s1 + (q^2*(s3 + s4) + q*(s3 + s4 + 2) + 2)*s2 + 3*q + 1)"
      ]
     },
     "metadata": {},
     "output_type": "display_data"
    },
    {
     "data": {
      "text/html": [
       "<html><script type=\"math/tex; mode=display\">\\newcommand{\\Bold}[1]{\\mathbf{#1}}\\frac{q^{2} + q + s_{1} + s_{2}}{q^{2} {\\left(2 \\, s_{3} + 2 \\, s_{4} + 1\\right)} + {\\left(q {\\left(s_{3} + s_{4}\\right)} + 2\\right)} s_{1} + {\\left(q {\\left(s_{3} + s_{4}\\right)} + 2\\right)} s_{2} + 2 \\, q + 1}</script></html>"
      ],
      "text/latex": [
       "$$\\newcommand{\\Bold}[1]{\\mathbf{#1}}\\frac{q^{2} + q + s_{1} + s_{2}}{q^{2} {\\left(2 \\, s_{3} + 2 \\, s_{4} + 1\\right)} + {\\left(q {\\left(s_{3} + s_{4}\\right)} + 2\\right)} s_{1} + {\\left(q {\\left(s_{3} + s_{4}\\right)} + 2\\right)} s_{2} + 2 \\, q + 1}$$"
      ],
      "text/plain": [
       "(q^2 + q + s1 + s2)/(q^2*(2*s3 + 2*s4 + 1) + (q*(s3 + s4) + 2)*s1 + (q*(s3 + s4) + 2)*s2 + 2*q + 1)"
      ]
     },
     "metadata": {},
     "output_type": "display_data"
    }
   ],
   "source": [
    "f1 = (q^2*(s3 + s4) + q + 1)/(q^2*(2*s3 + 2*s4 + 1) + (q*(s3 + s4) + 2)*s1 + (q*(s3 + s4) + 2)*s2 + 2*q + 1)\n",
    "f2 =(q^3*s3 + q^2*s3 + q*s2*s3 + (q^2*(s3 + s4) + q*(s3 + 1) + 1)*s1)/(q^3*(2*s3 + 2*s4 + 1) + q^2*(2*s3 + 2*s4 + 3) + (q^2*(s3 + s4) + q*(s3 + s4 + 2) + 2)*s1 + (q^2*(s3 + s4) + q*(s3 + s4 + 2) + 2)*s2 + 3*q + 1)\n",
    "f3 = (q^3*s4 + q^2*s4 + q*s1*s4 + (q^2*(s3 + s4) + q*(s4 + 1) + 1)*s2)/(q^3*(2*s3 + 2*s4 + 1) + q^2*(2*s3 + 2*s4 + 3) + (q^2*(s3 + s4) + q*(s3 + s4 + 2) + 2)*s1 + (q^2*(s3 + s4) + q*(s3 + s4 + 2) + 2)*s2 + 3*q + 1)\n",
    "f4 = (q^2 + q + s1 + s2)/(q^2*(2*s3 + 2*s4 + 1) + (q*(s3 + s4) + 2)*s1 + (q*(s3 + s4) + 2)*s2 + 2*q + 1)\n",
    "\n",
    "F = [f1,f2,f3,f4]\n",
    "\n",
    "Z = f2.denominator()\n",
    "\n",
    "display(Z.subs(q=1,s1=1,s2=1,s3=1,s4=1))\n",
    "\n",
    "for f in F:\n",
    "    display((f.subs(s1=s1).subs(s2=s2)))"
   ]
  },
  {
   "cell_type": "code",
   "execution_count": 64,
   "metadata": {},
   "outputs": [
    {
     "data": {
      "text/html": [
       "<html><script type=\"math/tex; mode=display\">\\newcommand{\\Bold}[1]{\\mathbf{#1}}32</script></html>"
      ],
      "text/latex": [
       "$$\\newcommand{\\Bold}[1]{\\mathbf{#1}}32$$"
      ],
      "text/plain": [
       "32"
      ]
     },
     "metadata": {},
     "output_type": "display_data"
    },
    {
     "data": {
      "text/html": [
       "<html><script type=\"math/tex; mode=display\">\\newcommand{\\Bold}[1]{\\mathbf{#1}}2 \\, q^{3} s_{3} + q^{2} s_{1} s_{3} + q^{2} s_{2} s_{3} + 2 \\, q^{3} s_{4} + q^{2} s_{1} s_{4} + q^{2} s_{2} s_{4} + q^{3} + 2 \\, q^{2} s_{3} + q s_{1} s_{3} + q s_{2} s_{3} + 2 \\, q^{2} s_{4} + q s_{1} s_{4} + q s_{2} s_{4} + 3 \\, q^{2} + 2 \\, q s_{1} + 2 \\, q s_{2} + 3 \\, q + 2 \\, s_{1} + 2 \\, s_{2} + 1</script></html>"
      ],
      "text/latex": [
       "$$\\newcommand{\\Bold}[1]{\\mathbf{#1}}2 \\, q^{3} s_{3} + q^{2} s_{1} s_{3} + q^{2} s_{2} s_{3} + 2 \\, q^{3} s_{4} + q^{2} s_{1} s_{4} + q^{2} s_{2} s_{4} + q^{3} + 2 \\, q^{2} s_{3} + q s_{1} s_{3} + q s_{2} s_{3} + 2 \\, q^{2} s_{4} + q s_{1} s_{4} + q s_{2} s_{4} + 3 \\, q^{2} + 2 \\, q s_{1} + 2 \\, q s_{2} + 3 \\, q + 2 \\, s_{1} + 2 \\, s_{2} + 1$$"
      ],
      "text/plain": [
       "2*q^3*s3 + q^2*s1*s3 + q^2*s2*s3 + 2*q^3*s4 + q^2*s1*s4 + q^2*s2*s4 + q^3 + 2*q^2*s3 + q*s1*s3 + q*s2*s3 + 2*q^2*s4 + q*s1*s4 + q*s2*s4 + 3*q^2 + 2*q*s1 + 2*q*s2 + 3*q + 2*s1 + 2*s2 + 1"
      ]
     },
     "metadata": {},
     "output_type": "display_data"
    }
   ],
   "source": [
    "Z = f2.denominator()\n",
    "\n",
    "display(Z.subs(q=1,s1=1,s2=1,s3=1,s4=1))\n",
    "\n",
    "display(Z)"
   ]
  },
  {
   "cell_type": "code",
   "execution_count": 60,
   "metadata": {},
   "outputs": [
    {
     "data": {
      "text/html": [
       "<html><script type=\"math/tex; mode=display\">\\newcommand{\\Bold}[1]{\\mathbf{#1}}\\frac{{\\left(2 \\, q^{2} s_{1} + q s_{1}^{2} + 2 \\, q^{2} s_{2} + 2 \\, q s_{1} s_{2} + q s_{2}^{2} + q^{2} + 2 \\, q + 2 \\, s_{1} + 2 \\, s_{2} + 1\\right)} r_{14}}{q^{2} + q + s_{1} + s_{2}}</script></html>"
      ],
      "text/latex": [
       "$$\\newcommand{\\Bold}[1]{\\mathbf{#1}}\\frac{{\\left(2 \\, q^{2} s_{1} + q s_{1}^{2} + 2 \\, q^{2} s_{2} + 2 \\, q s_{1} s_{2} + q s_{2}^{2} + q^{2} + 2 \\, q + 2 \\, s_{1} + 2 \\, s_{2} + 1\\right)} r_{14}}{q^{2} + q + s_{1} + s_{2}}$$"
      ],
      "text/plain": [
       "(2*q^2*s1 + q*s1^2 + 2*q^2*s2 + 2*q*s1*s2 + q*s2^2 + q^2 + 2*q + 2*s1 + 2*s2 + 1)*r14/(q^2 + q + s1 + s2)"
      ]
     },
     "metadata": {},
     "output_type": "display_data"
    },
    {
     "data": {
      "text/html": [
       "<html><script type=\"math/tex; mode=display\">\\newcommand{\\Bold}[1]{\\mathbf{#1}}\\frac{{\\left(q^{2} s_{1} + q^{2} s_{2} + q + 1\\right)} r_{14}}{q^{2} + q + s_{1} + s_{2}}</script></html>"
      ],
      "text/latex": [
       "$$\\newcommand{\\Bold}[1]{\\mathbf{#1}}\\frac{{\\left(q^{2} s_{1} + q^{2} s_{2} + q + 1\\right)} r_{14}}{q^{2} + q + s_{1} + s_{2}}$$"
      ],
      "text/plain": [
       "(q^2*s1 + q^2*s2 + q + 1)*r14/(q^2 + q + s1 + s2)"
      ]
     },
     "metadata": {},
     "output_type": "display_data"
    },
    {
     "data": {
      "text/html": [
       "<html><script type=\"math/tex; mode=display\">\\newcommand{\\Bold}[1]{\\mathbf{#1}}\\frac{{\\left(q^{2} + q s_{1} + q s_{2} + 1\\right)} r_{14} s_{1}}{q^{2} + q + s_{1} + s_{2}}</script></html>"
      ],
      "text/latex": [
       "$$\\newcommand{\\Bold}[1]{\\mathbf{#1}}\\frac{{\\left(q^{2} + q s_{1} + q s_{2} + 1\\right)} r_{14} s_{1}}{q^{2} + q + s_{1} + s_{2}}$$"
      ],
      "text/plain": [
       "(q^2 + q*s1 + q*s2 + 1)*r14*s1/(q^2 + q + s1 + s2)"
      ]
     },
     "metadata": {},
     "output_type": "display_data"
    },
    {
     "data": {
      "text/html": [
       "<html><script type=\"math/tex; mode=display\">\\newcommand{\\Bold}[1]{\\mathbf{#1}}\\frac{{\\left(q^{2} + q s_{1} + q s_{2} + 1\\right)} r_{14} s_{2}}{q^{2} + q + s_{1} + s_{2}}</script></html>"
      ],
      "text/latex": [
       "$$\\newcommand{\\Bold}[1]{\\mathbf{#1}}\\frac{{\\left(q^{2} + q s_{1} + q s_{2} + 1\\right)} r_{14} s_{2}}{q^{2} + q + s_{1} + s_{2}}$$"
      ],
      "text/plain": [
       "(q^2 + q*s1 + q*s2 + 1)*r14*s2/(q^2 + q + s1 + s2)"
      ]
     },
     "metadata": {},
     "output_type": "display_data"
    },
    {
     "data": {
      "text/html": [
       "<html><script type=\"math/tex; mode=display\">\\newcommand{\\Bold}[1]{\\mathbf{#1}}r_{14}</script></html>"
      ],
      "text/latex": [
       "$$\\newcommand{\\Bold}[1]{\\mathbf{#1}}r_{14}$$"
      ],
      "text/plain": [
       "r14"
      ]
     },
     "metadata": {},
     "output_type": "display_data"
    }
   ],
   "source": [
    "#Nice case:\n",
    "var(\"r14\")\n",
    "\n",
    "f1 = (q^2*r14*s1 + q^2*r14*s2 + q*r14 + r14)/(q^2 + q + s1 + s2)\n",
    "f2 = (q*r14*s1^2 + q*r14*s1*s2 + (q^2*r14 + r14)*s1)/(q^2 + q + s1 + s2)\n",
    "f3 = (q*r14*s2^2 + (q^2*r14 + q*r14*s1 + r14)*s2)/(q^2 + q + s1 + s2)\n",
    "f4 = r14\n",
    "\n",
    "display((f1+f2+f3+f4).factor())\n",
    "\n",
    "F = [f1,f2,f3,f4]\n",
    "\n",
    "for f in F:\n",
    "    display((f.subs(s1=s1).subs(s2=s2)))"
   ]
  },
  {
   "cell_type": "code",
   "execution_count": 20,
   "metadata": {},
   "outputs": [
    {
     "name": "stdout",
     "output_type": "stream",
     "text": [
      "[\n",
      "[A == (q^2*(s4 + s5 + s6) + q + 1)/(q^2*(2*s4 + 2*s5 + 2*s6 + 1) + (q*(s4 + s5 + s6) + 2)*s1 + (q*(s4 + s5 + s6) + 2)*s2 + (q*(s4 + s5 + s6) + 2)*s3 + 2*q + 1), B == (q^3*s4 + q^2*s4 + q*s2*s4 + q*s3*s4 + (q^2*(s4 + s5 + s6) + q*(s4 + 1) + 1)*s1)/(q^3*(2*s4 + 2*s5 + 2*s6 + 1) + q^2*(2*s4 + 2*s5 + 2*s6 + 3) + (q^2*(s4 + s5 + s6) + q*(s4 + s5 + s6 + 2) + 2)*s1 + (q^2*(s4 + s5 + s6) + q*(s4 + s5 + s6 + 2) + 2)*s2 + (q^2*(s4 + s5 + s6) + q*(s4 + s5 + s6 + 2) + 2)*s3 + 3*q + 1), C == (q^3*s5 + q^2*s5 + q*s1*s5 + q*s3*s5 + (q^2*(s4 + s5 + s6) + q*(s5 + 1) + 1)*s2)/(q^3*(2*s4 + 2*s5 + 2*s6 + 1) + q^2*(2*s4 + 2*s5 + 2*s6 + 3) + (q^2*(s4 + s5 + s6) + q*(s4 + s5 + s6 + 2) + 2)*s1 + (q^2*(s4 + s5 + s6) + q*(s4 + s5 + s6 + 2) + 2)*s2 + (q^2*(s4 + s5 + s6) + q*(s4 + s5 + s6 + 2) + 2)*s3 + 3*q + 1), D == (q^3*s6 + q^2*s6 + q*s1*s6 + q*s2*s6 + (q^2*(s4 + s5 + s6) + q*(s6 + 1) + 1)*s3)/(q^3*(2*s4 + 2*s5 + 2*s6 + 1) + q^2*(2*s4 + 2*s5 + 2*s6 + 3) + (q^2*(s4 + s5 + s6) + q*(s4 + s5 + s6 + 2) + 2)*s1 + (q^2*(s4 + s5 + s6) + q*(s4 + s5 + s6 + 2) + 2)*s2 + (q^2*(s4 + s5 + s6) + q*(s4 + s5 + s6 + 2) + 2)*s3 + 3*q + 1), E == (q^2 + q + s1 + s2 + s3)/(q^2*(2*s4 + 2*s5 + 2*s6 + 1) + (q*(s4 + s5 + s6) + 2)*s1 + (q*(s4 + s5 + s6) + 2)*s2 + (q*(s4 + s5 + s6) + 2)*s3 + 2*q + 1)]\n",
      "]\n"
     ]
    }
   ],
   "source": [
    "var('A B C D E q s1 s2 s3 s4 s5 s6')\n",
    "\n",
    "S = solve([A*(s1+s2+s3+q) == B*q + C*q + D*q + E,\n",
    "             B*(1+q) == A*s1 + E*q*s4,\n",
    "             C*(1+q) == A*s2 + E*q*s5,\n",
    "             D*(1+q) == A*s3 + E*q*s6,\n",
    "             E*(1+q*(s4+s5+s6)) == A*q + B + C + D,\n",
    "             A+B+C+D+E == 1\n",
    "            ]\n",
    "            ,A,B,C,D,E)\n",
    "\n",
    "print(S)"
   ]
  },
  {
   "cell_type": "code",
   "execution_count": 22,
   "metadata": {},
   "outputs": [
    {
     "data": {
      "text/html": [
       "<html><script type=\"math/tex; mode=display\">\\newcommand{\\Bold}[1]{\\mathbf{#1}}50</script></html>"
      ],
      "text/latex": [
       "$$\\newcommand{\\Bold}[1]{\\mathbf{#1}}50$$"
      ],
      "text/plain": [
       "50"
      ]
     },
     "metadata": {},
     "output_type": "display_data"
    },
    {
     "data": {
      "text/html": [
       "<html><script type=\"math/tex; mode=display\">\\newcommand{\\Bold}[1]{\\mathbf{#1}}\\frac{q^{2} s_{4} + q^{2} s_{5} + q^{2} s_{6} + q + 1}{2 \\, q^{2} s_{4} + q s_{1} s_{4} + q s_{2} s_{4} + q s_{3} s_{4} + 2 \\, q^{2} s_{5} + q s_{1} s_{5} + q s_{2} s_{5} + q s_{3} s_{5} + 2 \\, q^{2} s_{6} + q s_{1} s_{6} + q s_{2} s_{6} + q s_{3} s_{6} + q^{2} + 2 \\, q + 2 \\, s_{1} + 2 \\, s_{2} + 2 \\, s_{3} + 1}</script></html>"
      ],
      "text/latex": [
       "$$\\newcommand{\\Bold}[1]{\\mathbf{#1}}\\frac{q^{2} s_{4} + q^{2} s_{5} + q^{2} s_{6} + q + 1}{2 \\, q^{2} s_{4} + q s_{1} s_{4} + q s_{2} s_{4} + q s_{3} s_{4} + 2 \\, q^{2} s_{5} + q s_{1} s_{5} + q s_{2} s_{5} + q s_{3} s_{5} + 2 \\, q^{2} s_{6} + q s_{1} s_{6} + q s_{2} s_{6} + q s_{3} s_{6} + q^{2} + 2 \\, q + 2 \\, s_{1} + 2 \\, s_{2} + 2 \\, s_{3} + 1}$$"
      ],
      "text/plain": [
       "(q^2*s4 + q^2*s5 + q^2*s6 + q + 1)/(2*q^2*s4 + q*s1*s4 + q*s2*s4 + q*s3*s4 + 2*q^2*s5 + q*s1*s5 + q*s2*s5 + q*s3*s5 + 2*q^2*s6 + q*s1*s6 + q*s2*s6 + q*s3*s6 + q^2 + 2*q + 2*s1 + 2*s2 + 2*s3 + 1)"
      ]
     },
     "metadata": {},
     "output_type": "display_data"
    },
    {
     "data": {
      "text/html": [
       "<html><script type=\"math/tex; mode=display\">\\newcommand{\\Bold}[1]{\\mathbf{#1}}\\frac{q^{3} s_{4} + q^{2} s_{1} s_{4} + q^{2} s_{1} s_{5} + q^{2} s_{1} s_{6} + q^{2} s_{4} + q s_{1} s_{4} + q s_{2} s_{4} + q s_{3} s_{4} + q s_{1} + s_{1}}{{\\left(2 \\, q^{2} s_{4} + q s_{1} s_{4} + q s_{2} s_{4} + q s_{3} s_{4} + 2 \\, q^{2} s_{5} + q s_{1} s_{5} + q s_{2} s_{5} + q s_{3} s_{5} + 2 \\, q^{2} s_{6} + q s_{1} s_{6} + q s_{2} s_{6} + q s_{3} s_{6} + q^{2} + 2 \\, q + 2 \\, s_{1} + 2 \\, s_{2} + 2 \\, s_{3} + 1\\right)} {\\left(q + 1\\right)}}</script></html>"
      ],
      "text/latex": [
       "$$\\newcommand{\\Bold}[1]{\\mathbf{#1}}\\frac{q^{3} s_{4} + q^{2} s_{1} s_{4} + q^{2} s_{1} s_{5} + q^{2} s_{1} s_{6} + q^{2} s_{4} + q s_{1} s_{4} + q s_{2} s_{4} + q s_{3} s_{4} + q s_{1} + s_{1}}{{\\left(2 \\, q^{2} s_{4} + q s_{1} s_{4} + q s_{2} s_{4} + q s_{3} s_{4} + 2 \\, q^{2} s_{5} + q s_{1} s_{5} + q s_{2} s_{5} + q s_{3} s_{5} + 2 \\, q^{2} s_{6} + q s_{1} s_{6} + q s_{2} s_{6} + q s_{3} s_{6} + q^{2} + 2 \\, q + 2 \\, s_{1} + 2 \\, s_{2} + 2 \\, s_{3} + 1\\right)} {\\left(q + 1\\right)}}$$"
      ],
      "text/plain": [
       "(q^3*s4 + q^2*s1*s4 + q^2*s1*s5 + q^2*s1*s6 + q^2*s4 + q*s1*s4 + q*s2*s4 + q*s3*s4 + q*s1 + s1)/((2*q^2*s4 + q*s1*s4 + q*s2*s4 + q*s3*s4 + 2*q^2*s5 + q*s1*s5 + q*s2*s5 + q*s3*s5 + 2*q^2*s6 + q*s1*s6 + q*s2*s6 + q*s3*s6 + q^2 + 2*q + 2*s1 + 2*s2 + 2*s3 + 1)*(q + 1))"
      ]
     },
     "metadata": {},
     "output_type": "display_data"
    },
    {
     "data": {
      "text/html": [
       "<html><script type=\"math/tex; mode=display\">\\newcommand{\\Bold}[1]{\\mathbf{#1}}\\frac{q^{2} s_{2} s_{4} + q^{3} s_{5} + q^{2} s_{2} s_{5} + q^{2} s_{2} s_{6} + q^{2} s_{5} + q s_{1} s_{5} + q s_{2} s_{5} + q s_{3} s_{5} + q s_{2} + s_{2}}{{\\left(2 \\, q^{2} s_{4} + q s_{1} s_{4} + q s_{2} s_{4} + q s_{3} s_{4} + 2 \\, q^{2} s_{5} + q s_{1} s_{5} + q s_{2} s_{5} + q s_{3} s_{5} + 2 \\, q^{2} s_{6} + q s_{1} s_{6} + q s_{2} s_{6} + q s_{3} s_{6} + q^{2} + 2 \\, q + 2 \\, s_{1} + 2 \\, s_{2} + 2 \\, s_{3} + 1\\right)} {\\left(q + 1\\right)}}</script></html>"
      ],
      "text/latex": [
       "$$\\newcommand{\\Bold}[1]{\\mathbf{#1}}\\frac{q^{2} s_{2} s_{4} + q^{3} s_{5} + q^{2} s_{2} s_{5} + q^{2} s_{2} s_{6} + q^{2} s_{5} + q s_{1} s_{5} + q s_{2} s_{5} + q s_{3} s_{5} + q s_{2} + s_{2}}{{\\left(2 \\, q^{2} s_{4} + q s_{1} s_{4} + q s_{2} s_{4} + q s_{3} s_{4} + 2 \\, q^{2} s_{5} + q s_{1} s_{5} + q s_{2} s_{5} + q s_{3} s_{5} + 2 \\, q^{2} s_{6} + q s_{1} s_{6} + q s_{2} s_{6} + q s_{3} s_{6} + q^{2} + 2 \\, q + 2 \\, s_{1} + 2 \\, s_{2} + 2 \\, s_{3} + 1\\right)} {\\left(q + 1\\right)}}$$"
      ],
      "text/plain": [
       "(q^2*s2*s4 + q^3*s5 + q^2*s2*s5 + q^2*s2*s6 + q^2*s5 + q*s1*s5 + q*s2*s5 + q*s3*s5 + q*s2 + s2)/((2*q^2*s4 + q*s1*s4 + q*s2*s4 + q*s3*s4 + 2*q^2*s5 + q*s1*s5 + q*s2*s5 + q*s3*s5 + 2*q^2*s6 + q*s1*s6 + q*s2*s6 + q*s3*s6 + q^2 + 2*q + 2*s1 + 2*s2 + 2*s3 + 1)*(q + 1))"
      ]
     },
     "metadata": {},
     "output_type": "display_data"
    },
    {
     "data": {
      "text/html": [
       "<html><script type=\"math/tex; mode=display\">\\newcommand{\\Bold}[1]{\\mathbf{#1}}\\frac{q^{2} s_{3} s_{4} + q^{2} s_{3} s_{5} + q^{3} s_{6} + q^{2} s_{3} s_{6} + q^{2} s_{6} + q s_{1} s_{6} + q s_{2} s_{6} + q s_{3} s_{6} + q s_{3} + s_{3}}{{\\left(2 \\, q^{2} s_{4} + q s_{1} s_{4} + q s_{2} s_{4} + q s_{3} s_{4} + 2 \\, q^{2} s_{5} + q s_{1} s_{5} + q s_{2} s_{5} + q s_{3} s_{5} + 2 \\, q^{2} s_{6} + q s_{1} s_{6} + q s_{2} s_{6} + q s_{3} s_{6} + q^{2} + 2 \\, q + 2 \\, s_{1} + 2 \\, s_{2} + 2 \\, s_{3} + 1\\right)} {\\left(q + 1\\right)}}</script></html>"
      ],
      "text/latex": [
       "$$\\newcommand{\\Bold}[1]{\\mathbf{#1}}\\frac{q^{2} s_{3} s_{4} + q^{2} s_{3} s_{5} + q^{3} s_{6} + q^{2} s_{3} s_{6} + q^{2} s_{6} + q s_{1} s_{6} + q s_{2} s_{6} + q s_{3} s_{6} + q s_{3} + s_{3}}{{\\left(2 \\, q^{2} s_{4} + q s_{1} s_{4} + q s_{2} s_{4} + q s_{3} s_{4} + 2 \\, q^{2} s_{5} + q s_{1} s_{5} + q s_{2} s_{5} + q s_{3} s_{5} + 2 \\, q^{2} s_{6} + q s_{1} s_{6} + q s_{2} s_{6} + q s_{3} s_{6} + q^{2} + 2 \\, q + 2 \\, s_{1} + 2 \\, s_{2} + 2 \\, s_{3} + 1\\right)} {\\left(q + 1\\right)}}$$"
      ],
      "text/plain": [
       "(q^2*s3*s4 + q^2*s3*s5 + q^3*s6 + q^2*s3*s6 + q^2*s6 + q*s1*s6 + q*s2*s6 + q*s3*s6 + q*s3 + s3)/((2*q^2*s4 + q*s1*s4 + q*s2*s4 + q*s3*s4 + 2*q^2*s5 + q*s1*s5 + q*s2*s5 + q*s3*s5 + 2*q^2*s6 + q*s1*s6 + q*s2*s6 + q*s3*s6 + q^2 + 2*q + 2*s1 + 2*s2 + 2*s3 + 1)*(q + 1))"
      ]
     },
     "metadata": {},
     "output_type": "display_data"
    },
    {
     "data": {
      "text/html": [
       "<html><script type=\"math/tex; mode=display\">\\newcommand{\\Bold}[1]{\\mathbf{#1}}\\frac{q^{2} + q + s_{1} + s_{2} + s_{3}}{2 \\, q^{2} s_{4} + q s_{1} s_{4} + q s_{2} s_{4} + q s_{3} s_{4} + 2 \\, q^{2} s_{5} + q s_{1} s_{5} + q s_{2} s_{5} + q s_{3} s_{5} + 2 \\, q^{2} s_{6} + q s_{1} s_{6} + q s_{2} s_{6} + q s_{3} s_{6} + q^{2} + 2 \\, q + 2 \\, s_{1} + 2 \\, s_{2} + 2 \\, s_{3} + 1}</script></html>"
      ],
      "text/latex": [
       "$$\\newcommand{\\Bold}[1]{\\mathbf{#1}}\\frac{q^{2} + q + s_{1} + s_{2} + s_{3}}{2 \\, q^{2} s_{4} + q s_{1} s_{4} + q s_{2} s_{4} + q s_{3} s_{4} + 2 \\, q^{2} s_{5} + q s_{1} s_{5} + q s_{2} s_{5} + q s_{3} s_{5} + 2 \\, q^{2} s_{6} + q s_{1} s_{6} + q s_{2} s_{6} + q s_{3} s_{6} + q^{2} + 2 \\, q + 2 \\, s_{1} + 2 \\, s_{2} + 2 \\, s_{3} + 1}$$"
      ],
      "text/plain": [
       "(q^2 + q + s1 + s2 + s3)/(2*q^2*s4 + q*s1*s4 + q*s2*s4 + q*s3*s4 + 2*q^2*s5 + q*s1*s5 + q*s2*s5 + q*s3*s5 + 2*q^2*s6 + q*s1*s6 + q*s2*s6 + q*s3*s6 + q^2 + 2*q + 2*s1 + 2*s2 + 2*s3 + 1)"
      ]
     },
     "metadata": {},
     "output_type": "display_data"
    }
   ],
   "source": [
    "f1 = (q^2*(s4 + s5 + s6) + q + 1)/(q^2*(2*s4 + 2*s5 + 2*s6 + 1) + (q*(s4 + s5 + s6) + 2)*s1 + (q*(s4 + s5 + s6) + 2)*s2 + (q*(s4 + s5 + s6) + 2)*s3 + 2*q + 1)\n",
    "f2 = (q^3*s4 + q^2*s4 + q*s2*s4 + q*s3*s4 + (q^2*(s4 + s5 + s6) + q*(s4 + 1) + 1)*s1)/(q^3*(2*s4 + 2*s5 + 2*s6 + 1) + q^2*(2*s4 + 2*s5 + 2*s6 + 3) + (q^2*(s4 + s5 + s6) + q*(s4 + s5 + s6 + 2) + 2)*s1 + (q^2*(s4 + s5 + s6) + q*(s4 + s5 + s6 + 2) + 2)*s2 + (q^2*(s4 + s5 + s6) + q*(s4 + s5 + s6 + 2) + 2)*s3 + 3*q + 1)\n",
    "f3 = (q^3*s5 + q^2*s5 + q*s1*s5 + q*s3*s5 + (q^2*(s4 + s5 + s6) + q*(s5 + 1) + 1)*s2)/(q^3*(2*s4 + 2*s5 + 2*s6 + 1) + q^2*(2*s4 + 2*s5 + 2*s6 + 3) + (q^2*(s4 + s5 + s6) + q*(s4 + s5 + s6 + 2) + 2)*s1 + (q^2*(s4 + s5 + s6) + q*(s4 + s5 + s6 + 2) + 2)*s2 + (q^2*(s4 + s5 + s6) + q*(s4 + s5 + s6 + 2) + 2)*s3 + 3*q + 1)\n",
    "f4 = (q^3*s6 + q^2*s6 + q*s1*s6 + q*s2*s6 + (q^2*(s4 + s5 + s6) + q*(s6 + 1) + 1)*s3)/(q^3*(2*s4 + 2*s5 + 2*s6 + 1) + q^2*(2*s4 + 2*s5 + 2*s6 + 3) + (q^2*(s4 + s5 + s6) + q*(s4 + s5 + s6 + 2) + 2)*s1 + (q^2*(s4 + s5 + s6) + q*(s4 + s5 + s6 + 2) + 2)*s2 + (q^2*(s4 + s5 + s6) + q*(s4 + s5 + s6 + 2) + 2)*s3 + 3*q + 1)\n",
    "f5 = (q^2 + q + s1 + s2 + s3)/(q^2*(2*s4 + 2*s5 + 2*s6 + 1) + (q*(s4 + s5 + s6) + 2)*s1 + (q*(s4 + s5 + s6) + 2)*s2 + (q*(s4 + s5 + s6) + 2)*s3 + 2*q + 1)\n",
    "\n",
    "Z = f2.denominator()\n",
    "\n",
    "display(Z.subs(q=1,s1=1,s2=1,s3=1,s4=1,s5=1,s6=1))\n",
    "\n",
    "F = [f1,f2,f3,f4,f5]\n",
    "\n",
    "for f in F:\n",
    "    display((f.subs(s1=s1).subs(s2=s2)).factor())"
   ]
  },
  {
   "cell_type": "code",
   "execution_count": 24,
   "metadata": {},
   "outputs": [
    {
     "name": "stdout",
     "output_type": "stream",
     "text": [
      "[\n",
      "[A == (q^4*(s3 + s4) + q^3*(s3 + s4 + 1) + q^2*(s4 + 2) + 2*q + 1)/(q^4*(3*s3 + 2*s4 + 1) + q^3*(4*s3 + 2*s4 + 3) + q^2*(s3 + 2*s4 + 4) + (q^3*(s3 + s4) + q^2*(2*s3 + 2*s4 + 1) + q*(s3 + s4 + 4) + 3)*s1 + (q^3*(s3 + s4) + q^2*(2*s3 + s4 + 2) + q*(s3 + s4 + 2) + 2)*s2 + 3*q + 1), B == (q^4*s3 + q^3*s3 + q^2*s2*s3 + (q^3*(s3 + s4) + q^2*(s3 + s4 + 1) + 2*q + 1)*s1)/(q^4*(3*s3 + 2*s4 + 1) + q^3*(4*s3 + 2*s4 + 3) + q^2*(s3 + 2*s4 + 4) + (q^3*(s3 + s4) + q^2*(2*s3 + 2*s4 + 1) + q*(s3 + s4 + 4) + 3)*s1 + (q^3*(s3 + s4) + q^2*(2*s3 + s4 + 2) + q*(s3 + s4 + 2) + 2)*s2 + 3*q + 1), C == (q^4*s3 + 2*q^3*s3 + q^2*s3 + (q^2*(s3 + s4) + q*(s3 + 1) + 1)*s1 + (q^2*s3 + q*s3)*s2)/(q^4*(3*s3 + 2*s4 + 1) + q^3*(4*s3 + 2*s4 + 3) + q^2*(s3 + 2*s4 + 4) + (q^3*(s3 + s4) + q^2*(2*s3 + 2*s4 + 1) + q*(s3 + s4 + 4) + 3)*s1 + (q^3*(s3 + s4) + q^2*(2*s3 + s4 + 2) + q*(s3 + s4 + 2) + 2)*s2 + 3*q + 1), D == (q^4*s4 + q^3*s4 + q^2*s4 + q*s1*s4 + (q^3*(s3 + s4) + q^2*(s4 + 1) + q*(s4 + 1) + 1)*s2)/(q^4*(3*s3 + 2*s4 + 1) + q^3*(4*s3 + 2*s4 + 3) + q^2*(s3 + 2*s4 + 4) + (q^3*(s3 + s4) + q^2*(2*s3 + 2*s4 + 1) + q*(s3 + s4 + 4) + 3)*s1 + (q^3*(s3 + s4) + q^2*(2*s3 + s4 + 2) + q*(s3 + s4 + 2) + 2)*s2 + 3*q + 1), E == (q^4 + 2*q^3 + 2*q^2 + (q + 1)*s1 + (q^2 + q + 1)*s2 + q)/(q^4*(3*s3 + 2*s4 + 1) + q^3*(4*s3 + 2*s4 + 3) + q^2*(s3 + 2*s4 + 4) + (q^3*(s3 + s4) + q^2*(2*s3 + 2*s4 + 1) + q*(s3 + s4 + 4) + 3)*s1 + (q^3*(s3 + s4) + q^2*(2*s3 + s4 + 2) + q*(s3 + s4 + 2) + 2)*s2 + 3*q + 1)]\n",
      "]\n"
     ]
    }
   ],
   "source": [
    "var('A B C D E q s1 s2 s3 s4')\n",
    "\n",
    "S = solve([A*(s1+s2+q) == B*q + D*q + E,\n",
    "             B*(1+q) == C*q + A*s1,\n",
    "             C*(1+q) == B + E*q*s3,\n",
    "             D*(1+q) == A*s2 + E*q*s4,\n",
    "             E*(1+q*(s3+s4)) == A*q + C + D,\n",
    "             A+B+C+D+E == 1\n",
    "            ]\n",
    "            ,A,B,C,D,E)\n",
    "\n",
    "print(S)"
   ]
  },
  {
   "cell_type": "code",
   "execution_count": 71,
   "metadata": {},
   "outputs": [
    {
     "name": "stdout",
     "output_type": "stream",
     "text": [
      "[\n",
      "[A == (q^4*(s3 + s4) + q^3*(s3 + s4 + 1) + q^2*(s4 + 2) + 2*q + 1)/(q^4*(3*s3 + 2*s4 + 1) + q^3*(4*s3 + 2*s4 + 3) + q^2*(s3 + 2*s4 + 4) + (q^3*(s3 + s4) + q^2*(2*s3 + 2*s4 + 1) + q*(s3 + s4 + 4) + 3)*s1 + (q^3*(s3 + s4) + q^2*(2*s3 + s4 + 2) + q*(s3 + s4 + 2) + 2)*s2 + 3*q + 1), B == (q^4*s3 + q^3*s3 + q^2*s2*s3 + (q^3*(s3 + s4) + q^2*(s3 + s4 + 1) + 2*q + 1)*s1)/(q^4*(3*s3 + 2*s4 + 1) + q^3*(4*s3 + 2*s4 + 3) + q^2*(s3 + 2*s4 + 4) + (q^3*(s3 + s4) + q^2*(2*s3 + 2*s4 + 1) + q*(s3 + s4 + 4) + 3)*s1 + (q^3*(s3 + s4) + q^2*(2*s3 + s4 + 2) + q*(s3 + s4 + 2) + 2)*s2 + 3*q + 1), C == (q^4*s3 + 2*q^3*s3 + q^2*s3 + (q^2*(s3 + s4) + q*(s3 + 1) + 1)*s1 + (q^2*s3 + q*s3)*s2)/(q^4*(3*s3 + 2*s4 + 1) + q^3*(4*s3 + 2*s4 + 3) + q^2*(s3 + 2*s4 + 4) + (q^3*(s3 + s4) + q^2*(2*s3 + 2*s4 + 1) + q*(s3 + s4 + 4) + 3)*s1 + (q^3*(s3 + s4) + q^2*(2*s3 + s4 + 2) + q*(s3 + s4 + 2) + 2)*s2 + 3*q + 1), D == (q^4*s4 + q^3*s4 + q^2*s4 + q*s1*s4 + (q^3*(s3 + s4) + q^2*(s4 + 1) + q*(s4 + 1) + 1)*s2)/(q^4*(3*s3 + 2*s4 + 1) + q^3*(4*s3 + 2*s4 + 3) + q^2*(s3 + 2*s4 + 4) + (q^3*(s3 + s4) + q^2*(2*s3 + 2*s4 + 1) + q*(s3 + s4 + 4) + 3)*s1 + (q^3*(s3 + s4) + q^2*(2*s3 + s4 + 2) + q*(s3 + s4 + 2) + 2)*s2 + 3*q + 1), E == (q^4 + 2*q^3 + 2*q^2 + (q + 1)*s1 + (q^2 + q + 1)*s2 + q)/(q^4*(3*s3 + 2*s4 + 1) + q^3*(4*s3 + 2*s4 + 3) + q^2*(s3 + 2*s4 + 4) + (q^3*(s3 + s4) + q^2*(2*s3 + 2*s4 + 1) + q*(s3 + s4 + 4) + 3)*s1 + (q^3*(s3 + s4) + q^2*(2*s3 + s4 + 2) + q*(s3 + s4 + 2) + 2)*s2 + 3*q + 1)]\n",
      "]\n"
     ]
    }
   ],
   "source": [
    "eqs = [A*(s1+s2+q) == B*q + D*q + E,\n",
    "             B*(1+q) == C*q + A*s1,\n",
    "             C*(1+q) == B + E*q*s3,\n",
    "             D*(1+q) == A*s2 + E*q*s4,\n",
    "             E*(1+q*(s3+s4)) == A*q + C + D]\n",
    "\n",
    "eqs.append(A+B+C+D+E == 1)\n",
    "\n",
    "S = solve(eqs,A,B,C,D,E)\n",
    "\n",
    "print(S)"
   ]
  },
  {
   "cell_type": "code",
   "execution_count": 48,
   "metadata": {},
   "outputs": [
    {
     "data": {
      "text/html": [
       "<html><script type=\"math/tex; mode=display\">\\newcommand{\\Bold}[1]{\\mathbf{#1}}55</script></html>"
      ],
      "text/latex": [
       "$$\\newcommand{\\Bold}[1]{\\mathbf{#1}}55$$"
      ],
      "text/plain": [
       "55"
      ]
     },
     "metadata": {},
     "output_type": "display_data"
    }
   ],
   "source": [
    "Z=(q^4*(3*s3 + 2*s4 + 1) + q^3*(4*s3 + 2*s4 + 3) + q^2*(s3 + 2*s4 + 4) + (q^3*(s3 + s4) + q^2*(2*s3 + 2*s4 + 1) + q*(s3 + s4 + 4) + 3)*s1 + (q^3*(s3 + s4) + q^2*(2*s3 + s4 + 2) + q*(s3 + s4 + 2) + 2)*s2 + 3*q + 1)\n",
    "\n",
    "display(Z.subs(q=1,s1=1,s2=1,s3=1,s4=1))"
   ]
  },
  {
   "cell_type": "code",
   "execution_count": 18,
   "metadata": {},
   "outputs": [
    {
     "data": {
      "text/html": [
       "<html><script type=\"math/tex; mode=display\">\\newcommand{\\Bold}[1]{\\mathbf{#1}}55</script></html>"
      ],
      "text/latex": [
       "$$\\newcommand{\\Bold}[1]{\\mathbf{#1}}55$$"
      ],
      "text/plain": [
       "55"
      ]
     },
     "metadata": {},
     "output_type": "display_data"
    },
    {
     "data": {
      "text/html": [
       "<html><script type=\"math/tex; mode=display\">\\newcommand{\\Bold}[1]{\\mathbf{#1}}\\frac{q^{4} s_{3} + q^{4} s_{4} + q^{3} s_{3} + q^{3} s_{4} + q^{3} + q^{2} s_{4} + 2 \\, q^{2} + 2 \\, q + 1}{3 \\, q^{4} s_{3} + q^{3} s_{1} s_{3} + q^{3} s_{2} s_{3} + 2 \\, q^{4} s_{4} + q^{3} s_{1} s_{4} + q^{3} s_{2} s_{4} + q^{4} + 4 \\, q^{3} s_{3} + 2 \\, q^{2} s_{1} s_{3} + 2 \\, q^{2} s_{2} s_{3} + 2 \\, q^{3} s_{4} + 2 \\, q^{2} s_{1} s_{4} + q^{2} s_{2} s_{4} + 3 \\, q^{3} + q^{2} s_{1} + 2 \\, q^{2} s_{2} + q^{2} s_{3} + q s_{1} s_{3} + q s_{2} s_{3} + 2 \\, q^{2} s_{4} + q s_{1} s_{4} + q s_{2} s_{4} + 4 \\, q^{2} + 4 \\, q s_{1} + 2 \\, q s_{2} + 3 \\, q + 3 \\, s_{1} + 2 \\, s_{2} + 1}</script></html>"
      ],
      "text/latex": [
       "$$\\newcommand{\\Bold}[1]{\\mathbf{#1}}\\frac{q^{4} s_{3} + q^{4} s_{4} + q^{3} s_{3} + q^{3} s_{4} + q^{3} + q^{2} s_{4} + 2 \\, q^{2} + 2 \\, q + 1}{3 \\, q^{4} s_{3} + q^{3} s_{1} s_{3} + q^{3} s_{2} s_{3} + 2 \\, q^{4} s_{4} + q^{3} s_{1} s_{4} + q^{3} s_{2} s_{4} + q^{4} + 4 \\, q^{3} s_{3} + 2 \\, q^{2} s_{1} s_{3} + 2 \\, q^{2} s_{2} s_{3} + 2 \\, q^{3} s_{4} + 2 \\, q^{2} s_{1} s_{4} + q^{2} s_{2} s_{4} + 3 \\, q^{3} + q^{2} s_{1} + 2 \\, q^{2} s_{2} + q^{2} s_{3} + q s_{1} s_{3} + q s_{2} s_{3} + 2 \\, q^{2} s_{4} + q s_{1} s_{4} + q s_{2} s_{4} + 4 \\, q^{2} + 4 \\, q s_{1} + 2 \\, q s_{2} + 3 \\, q + 3 \\, s_{1} + 2 \\, s_{2} + 1}$$"
      ],
      "text/plain": [
       "(q^4*s3 + q^4*s4 + q^3*s3 + q^3*s4 + q^3 + q^2*s4 + 2*q^2 + 2*q + 1)/(3*q^4*s3 + q^3*s1*s3 + q^3*s2*s3 + 2*q^4*s4 + q^3*s1*s4 + q^3*s2*s4 + q^4 + 4*q^3*s3 + 2*q^2*s1*s3 + 2*q^2*s2*s3 + 2*q^3*s4 + 2*q^2*s1*s4 + q^2*s2*s4 + 3*q^3 + q^2*s1 + 2*q^2*s2 + q^2*s3 + q*s1*s3 + q*s2*s3 + 2*q^2*s4 + q*s1*s4 + q*s2*s4 + 4*q^2 + 4*q*s1 + 2*q*s2 + 3*q + 3*s1 + 2*s2 + 1)"
      ]
     },
     "metadata": {},
     "output_type": "display_data"
    },
    {
     "data": {
      "text/html": [
       "<html><script type=\"math/tex; mode=display\">\\newcommand{\\Bold}[1]{\\mathbf{#1}}\\frac{q^{4} s_{3} + q^{3} s_{1} s_{3} + q^{3} s_{1} s_{4} + q^{3} s_{3} + q^{2} s_{1} s_{3} + q^{2} s_{2} s_{3} + q^{2} s_{1} s_{4} + q^{2} s_{1} + 2 \\, q s_{1} + s_{1}}{3 \\, q^{4} s_{3} + q^{3} s_{1} s_{3} + q^{3} s_{2} s_{3} + 2 \\, q^{4} s_{4} + q^{3} s_{1} s_{4} + q^{3} s_{2} s_{4} + q^{4} + 4 \\, q^{3} s_{3} + 2 \\, q^{2} s_{1} s_{3} + 2 \\, q^{2} s_{2} s_{3} + 2 \\, q^{3} s_{4} + 2 \\, q^{2} s_{1} s_{4} + q^{2} s_{2} s_{4} + 3 \\, q^{3} + q^{2} s_{1} + 2 \\, q^{2} s_{2} + q^{2} s_{3} + q s_{1} s_{3} + q s_{2} s_{3} + 2 \\, q^{2} s_{4} + q s_{1} s_{4} + q s_{2} s_{4} + 4 \\, q^{2} + 4 \\, q s_{1} + 2 \\, q s_{2} + 3 \\, q + 3 \\, s_{1} + 2 \\, s_{2} + 1}</script></html>"
      ],
      "text/latex": [
       "$$\\newcommand{\\Bold}[1]{\\mathbf{#1}}\\frac{q^{4} s_{3} + q^{3} s_{1} s_{3} + q^{3} s_{1} s_{4} + q^{3} s_{3} + q^{2} s_{1} s_{3} + q^{2} s_{2} s_{3} + q^{2} s_{1} s_{4} + q^{2} s_{1} + 2 \\, q s_{1} + s_{1}}{3 \\, q^{4} s_{3} + q^{3} s_{1} s_{3} + q^{3} s_{2} s_{3} + 2 \\, q^{4} s_{4} + q^{3} s_{1} s_{4} + q^{3} s_{2} s_{4} + q^{4} + 4 \\, q^{3} s_{3} + 2 \\, q^{2} s_{1} s_{3} + 2 \\, q^{2} s_{2} s_{3} + 2 \\, q^{3} s_{4} + 2 \\, q^{2} s_{1} s_{4} + q^{2} s_{2} s_{4} + 3 \\, q^{3} + q^{2} s_{1} + 2 \\, q^{2} s_{2} + q^{2} s_{3} + q s_{1} s_{3} + q s_{2} s_{3} + 2 \\, q^{2} s_{4} + q s_{1} s_{4} + q s_{2} s_{4} + 4 \\, q^{2} + 4 \\, q s_{1} + 2 \\, q s_{2} + 3 \\, q + 3 \\, s_{1} + 2 \\, s_{2} + 1}$$"
      ],
      "text/plain": [
       "(q^4*s3 + q^3*s1*s3 + q^3*s1*s4 + q^3*s3 + q^2*s1*s3 + q^2*s2*s3 + q^2*s1*s4 + q^2*s1 + 2*q*s1 + s1)/(3*q^4*s3 + q^3*s1*s3 + q^3*s2*s3 + 2*q^4*s4 + q^3*s1*s4 + q^3*s2*s4 + q^4 + 4*q^3*s3 + 2*q^2*s1*s3 + 2*q^2*s2*s3 + 2*q^3*s4 + 2*q^2*s1*s4 + q^2*s2*s4 + 3*q^3 + q^2*s1 + 2*q^2*s2 + q^2*s3 + q*s1*s3 + q*s2*s3 + 2*q^2*s4 + q*s1*s4 + q*s2*s4 + 4*q^2 + 4*q*s1 + 2*q*s2 + 3*q + 3*s1 + 2*s2 + 1)"
      ]
     },
     "metadata": {},
     "output_type": "display_data"
    },
    {
     "data": {
      "text/html": [
       "<html><script type=\"math/tex; mode=display\">\\newcommand{\\Bold}[1]{\\mathbf{#1}}\\frac{q^{4} s_{3} + 2 \\, q^{3} s_{3} + q^{2} s_{1} s_{3} + q^{2} s_{2} s_{3} + q^{2} s_{1} s_{4} + q^{2} s_{3} + q s_{1} s_{3} + q s_{2} s_{3} + q s_{1} + s_{1}}{3 \\, q^{4} s_{3} + q^{3} s_{1} s_{3} + q^{3} s_{2} s_{3} + 2 \\, q^{4} s_{4} + q^{3} s_{1} s_{4} + q^{3} s_{2} s_{4} + q^{4} + 4 \\, q^{3} s_{3} + 2 \\, q^{2} s_{1} s_{3} + 2 \\, q^{2} s_{2} s_{3} + 2 \\, q^{3} s_{4} + 2 \\, q^{2} s_{1} s_{4} + q^{2} s_{2} s_{4} + 3 \\, q^{3} + q^{2} s_{1} + 2 \\, q^{2} s_{2} + q^{2} s_{3} + q s_{1} s_{3} + q s_{2} s_{3} + 2 \\, q^{2} s_{4} + q s_{1} s_{4} + q s_{2} s_{4} + 4 \\, q^{2} + 4 \\, q s_{1} + 2 \\, q s_{2} + 3 \\, q + 3 \\, s_{1} + 2 \\, s_{2} + 1}</script></html>"
      ],
      "text/latex": [
       "$$\\newcommand{\\Bold}[1]{\\mathbf{#1}}\\frac{q^{4} s_{3} + 2 \\, q^{3} s_{3} + q^{2} s_{1} s_{3} + q^{2} s_{2} s_{3} + q^{2} s_{1} s_{4} + q^{2} s_{3} + q s_{1} s_{3} + q s_{2} s_{3} + q s_{1} + s_{1}}{3 \\, q^{4} s_{3} + q^{3} s_{1} s_{3} + q^{3} s_{2} s_{3} + 2 \\, q^{4} s_{4} + q^{3} s_{1} s_{4} + q^{3} s_{2} s_{4} + q^{4} + 4 \\, q^{3} s_{3} + 2 \\, q^{2} s_{1} s_{3} + 2 \\, q^{2} s_{2} s_{3} + 2 \\, q^{3} s_{4} + 2 \\, q^{2} s_{1} s_{4} + q^{2} s_{2} s_{4} + 3 \\, q^{3} + q^{2} s_{1} + 2 \\, q^{2} s_{2} + q^{2} s_{3} + q s_{1} s_{3} + q s_{2} s_{3} + 2 \\, q^{2} s_{4} + q s_{1} s_{4} + q s_{2} s_{4} + 4 \\, q^{2} + 4 \\, q s_{1} + 2 \\, q s_{2} + 3 \\, q + 3 \\, s_{1} + 2 \\, s_{2} + 1}$$"
      ],
      "text/plain": [
       "(q^4*s3 + 2*q^3*s3 + q^2*s1*s3 + q^2*s2*s3 + q^2*s1*s4 + q^2*s3 + q*s1*s3 + q*s2*s3 + q*s1 + s1)/(3*q^4*s3 + q^3*s1*s3 + q^3*s2*s3 + 2*q^4*s4 + q^3*s1*s4 + q^3*s2*s4 + q^4 + 4*q^3*s3 + 2*q^2*s1*s3 + 2*q^2*s2*s3 + 2*q^3*s4 + 2*q^2*s1*s4 + q^2*s2*s4 + 3*q^3 + q^2*s1 + 2*q^2*s2 + q^2*s3 + q*s1*s3 + q*s2*s3 + 2*q^2*s4 + q*s1*s4 + q*s2*s4 + 4*q^2 + 4*q*s1 + 2*q*s2 + 3*q + 3*s1 + 2*s2 + 1)"
      ]
     },
     "metadata": {},
     "output_type": "display_data"
    },
    {
     "data": {
      "text/html": [
       "<html><script type=\"math/tex; mode=display\">\\newcommand{\\Bold}[1]{\\mathbf{#1}}\\frac{q^{3} s_{2} s_{3} + q^{4} s_{4} + q^{3} s_{2} s_{4} + q^{3} s_{4} + q^{2} s_{2} s_{4} + q^{2} s_{2} + q^{2} s_{4} + q s_{1} s_{4} + q s_{2} s_{4} + q s_{2} + s_{2}}{3 \\, q^{4} s_{3} + q^{3} s_{1} s_{3} + q^{3} s_{2} s_{3} + 2 \\, q^{4} s_{4} + q^{3} s_{1} s_{4} + q^{3} s_{2} s_{4} + q^{4} + 4 \\, q^{3} s_{3} + 2 \\, q^{2} s_{1} s_{3} + 2 \\, q^{2} s_{2} s_{3} + 2 \\, q^{3} s_{4} + 2 \\, q^{2} s_{1} s_{4} + q^{2} s_{2} s_{4} + 3 \\, q^{3} + q^{2} s_{1} + 2 \\, q^{2} s_{2} + q^{2} s_{3} + q s_{1} s_{3} + q s_{2} s_{3} + 2 \\, q^{2} s_{4} + q s_{1} s_{4} + q s_{2} s_{4} + 4 \\, q^{2} + 4 \\, q s_{1} + 2 \\, q s_{2} + 3 \\, q + 3 \\, s_{1} + 2 \\, s_{2} + 1}</script></html>"
      ],
      "text/latex": [
       "$$\\newcommand{\\Bold}[1]{\\mathbf{#1}}\\frac{q^{3} s_{2} s_{3} + q^{4} s_{4} + q^{3} s_{2} s_{4} + q^{3} s_{4} + q^{2} s_{2} s_{4} + q^{2} s_{2} + q^{2} s_{4} + q s_{1} s_{4} + q s_{2} s_{4} + q s_{2} + s_{2}}{3 \\, q^{4} s_{3} + q^{3} s_{1} s_{3} + q^{3} s_{2} s_{3} + 2 \\, q^{4} s_{4} + q^{3} s_{1} s_{4} + q^{3} s_{2} s_{4} + q^{4} + 4 \\, q^{3} s_{3} + 2 \\, q^{2} s_{1} s_{3} + 2 \\, q^{2} s_{2} s_{3} + 2 \\, q^{3} s_{4} + 2 \\, q^{2} s_{1} s_{4} + q^{2} s_{2} s_{4} + 3 \\, q^{3} + q^{2} s_{1} + 2 \\, q^{2} s_{2} + q^{2} s_{3} + q s_{1} s_{3} + q s_{2} s_{3} + 2 \\, q^{2} s_{4} + q s_{1} s_{4} + q s_{2} s_{4} + 4 \\, q^{2} + 4 \\, q s_{1} + 2 \\, q s_{2} + 3 \\, q + 3 \\, s_{1} + 2 \\, s_{2} + 1}$$"
      ],
      "text/plain": [
       "(q^3*s2*s3 + q^4*s4 + q^3*s2*s4 + q^3*s4 + q^2*s2*s4 + q^2*s2 + q^2*s4 + q*s1*s4 + q*s2*s4 + q*s2 + s2)/(3*q^4*s3 + q^3*s1*s3 + q^3*s2*s3 + 2*q^4*s4 + q^3*s1*s4 + q^3*s2*s4 + q^4 + 4*q^3*s3 + 2*q^2*s1*s3 + 2*q^2*s2*s3 + 2*q^3*s4 + 2*q^2*s1*s4 + q^2*s2*s4 + 3*q^3 + q^2*s1 + 2*q^2*s2 + q^2*s3 + q*s1*s3 + q*s2*s3 + 2*q^2*s4 + q*s1*s4 + q*s2*s4 + 4*q^2 + 4*q*s1 + 2*q*s2 + 3*q + 3*s1 + 2*s2 + 1)"
      ]
     },
     "metadata": {},
     "output_type": "display_data"
    },
    {
     "data": {
      "text/html": [
       "<html><script type=\"math/tex; mode=display\">\\newcommand{\\Bold}[1]{\\mathbf{#1}}\\frac{q^{4} + 2 \\, q^{3} + q^{2} s_{2} + 2 \\, q^{2} + q s_{1} + q s_{2} + q + s_{1} + s_{2}}{3 \\, q^{4} s_{3} + q^{3} s_{1} s_{3} + q^{3} s_{2} s_{3} + 2 \\, q^{4} s_{4} + q^{3} s_{1} s_{4} + q^{3} s_{2} s_{4} + q^{4} + 4 \\, q^{3} s_{3} + 2 \\, q^{2} s_{1} s_{3} + 2 \\, q^{2} s_{2} s_{3} + 2 \\, q^{3} s_{4} + 2 \\, q^{2} s_{1} s_{4} + q^{2} s_{2} s_{4} + 3 \\, q^{3} + q^{2} s_{1} + 2 \\, q^{2} s_{2} + q^{2} s_{3} + q s_{1} s_{3} + q s_{2} s_{3} + 2 \\, q^{2} s_{4} + q s_{1} s_{4} + q s_{2} s_{4} + 4 \\, q^{2} + 4 \\, q s_{1} + 2 \\, q s_{2} + 3 \\, q + 3 \\, s_{1} + 2 \\, s_{2} + 1}</script></html>"
      ],
      "text/latex": [
       "$$\\newcommand{\\Bold}[1]{\\mathbf{#1}}\\frac{q^{4} + 2 \\, q^{3} + q^{2} s_{2} + 2 \\, q^{2} + q s_{1} + q s_{2} + q + s_{1} + s_{2}}{3 \\, q^{4} s_{3} + q^{3} s_{1} s_{3} + q^{3} s_{2} s_{3} + 2 \\, q^{4} s_{4} + q^{3} s_{1} s_{4} + q^{3} s_{2} s_{4} + q^{4} + 4 \\, q^{3} s_{3} + 2 \\, q^{2} s_{1} s_{3} + 2 \\, q^{2} s_{2} s_{3} + 2 \\, q^{3} s_{4} + 2 \\, q^{2} s_{1} s_{4} + q^{2} s_{2} s_{4} + 3 \\, q^{3} + q^{2} s_{1} + 2 \\, q^{2} s_{2} + q^{2} s_{3} + q s_{1} s_{3} + q s_{2} s_{3} + 2 \\, q^{2} s_{4} + q s_{1} s_{4} + q s_{2} s_{4} + 4 \\, q^{2} + 4 \\, q s_{1} + 2 \\, q s_{2} + 3 \\, q + 3 \\, s_{1} + 2 \\, s_{2} + 1}$$"
      ],
      "text/plain": [
       "(q^4 + 2*q^3 + q^2*s2 + 2*q^2 + q*s1 + q*s2 + q + s1 + s2)/(3*q^4*s3 + q^3*s1*s3 + q^3*s2*s3 + 2*q^4*s4 + q^3*s1*s4 + q^3*s2*s4 + q^4 + 4*q^3*s3 + 2*q^2*s1*s3 + 2*q^2*s2*s3 + 2*q^3*s4 + 2*q^2*s1*s4 + q^2*s2*s4 + 3*q^3 + q^2*s1 + 2*q^2*s2 + q^2*s3 + q*s1*s3 + q*s2*s3 + 2*q^2*s4 + q*s1*s4 + q*s2*s4 + 4*q^2 + 4*q*s1 + 2*q*s2 + 3*q + 3*s1 + 2*s2 + 1)"
      ]
     },
     "metadata": {},
     "output_type": "display_data"
    }
   ],
   "source": [
    "f1 = (q^4*(s3 + s4) + q^3*(s3 + s4 + 1) + q^2*(s4 + 2) + 2*q + 1)/(q^4*(3*s3 + 2*s4 + 1) + q^3*(4*s3 + 2*s4 + 3) + q^2*(s3 + 2*s4 + 4) + (q^3*(s3 + s4) + q^2*(2*s3 + 2*s4 + 1) + q*(s3 + s4 + 4) + 3)*s1 + (q^3*(s3 + s4) + q^2*(2*s3 + s4 + 2) + q*(s3 + s4 + 2) + 2)*s2 + 3*q + 1)\n",
    "f2 = (q^4*s3 + q^3*s3 + q^2*s2*s3 + (q^3*(s3 + s4) + q^2*(s3 + s4 + 1) + 2*q + 1)*s1)/(q^4*(3*s3 + 2*s4 + 1) + q^3*(4*s3 + 2*s4 + 3) + q^2*(s3 + 2*s4 + 4) + (q^3*(s3 + s4) + q^2*(2*s3 + 2*s4 + 1) + q*(s3 + s4 + 4) + 3)*s1 + (q^3*(s3 + s4) + q^2*(2*s3 + s4 + 2) + q*(s3 + s4 + 2) + 2)*s2 + 3*q + 1)\n",
    "f3 = (q^4*s3 + 2*q^3*s3 + q^2*s3 + (q^2*(s3 + s4) + q*(s3 + 1) + 1)*s1 + (q^2*s3 + q*s3)*s2)/(q^4*(3*s3 + 2*s4 + 1) + q^3*(4*s3 + 2*s4 + 3) + q^2*(s3 + 2*s4 + 4) + (q^3*(s3 + s4) + q^2*(2*s3 + 2*s4 + 1) + q*(s3 + s4 + 4) + 3)*s1 + (q^3*(s3 + s4) + q^2*(2*s3 + s4 + 2) + q*(s3 + s4 + 2) + 2)*s2 + 3*q + 1)\n",
    "f4 = (q^4*s4 + q^3*s4 + q^2*s4 + q*s1*s4 + (q^3*(s3 + s4) + q^2*(s4 + 1) + q*(s4 + 1) + 1)*s2)/(q^4*(3*s3 + 2*s4 + 1) + q^3*(4*s3 + 2*s4 + 3) + q^2*(s3 + 2*s4 + 4) + (q^3*(s3 + s4) + q^2*(2*s3 + 2*s4 + 1) + q*(s3 + s4 + 4) + 3)*s1 + (q^3*(s3 + s4) + q^2*(2*s3 + s4 + 2) + q*(s3 + s4 + 2) + 2)*s2 + 3*q + 1)\n",
    "f5 = (q^4 + 2*q^3 + 2*q^2 + (q + 1)*s1 + (q^2 + q + 1)*s2 + q)/(q^4*(3*s3 + 2*s4 + 1) + q^3*(4*s3 + 2*s4 + 3) + q^2*(s3 + 2*s4 + 4) + (q^3*(s3 + s4) + q^2*(2*s3 + 2*s4 + 1) + q*(s3 + s4 + 4) + 3)*s1 + (q^3*(s3 + s4) + q^2*(2*s3 + s4 + 2) + q*(s3 + s4 + 2) + 2)*s2 + 3*q + 1)\n",
    "F = [f1,f2,f3,f4,f5]\n",
    "\n",
    "Z = f1.denominator()\n",
    "display(Z.subs(q=1,s1=1,s2=1,s3=1,s4=1))\n",
    "\n",
    "\n",
    "for f in F:\n",
    "    display(f.factor())"
   ]
  },
  {
   "cell_type": "code",
   "execution_count": 61,
   "metadata": {},
   "outputs": [
    {
     "data": {
      "text/html": [
       "<html><script type=\"math/tex; mode=display\">\\newcommand{\\Bold}[1]{\\mathbf{#1}}5 \\cdot 11</script></html>"
      ],
      "text/latex": [
       "$$\\newcommand{\\Bold}[1]{\\mathbf{#1}}5 \\cdot 11$$"
      ],
      "text/plain": [
       "5 * 11"
      ]
     },
     "metadata": {},
     "output_type": "display_data"
    }
   ],
   "source": [
    "Z = (q^4*(3*s3 + 2*s4 + 1) + q^3*(4*s3 + 2*s4 + 3) + q^2*(s3 + 2*s4 + 4) + (q^3*(s3 + s4) + q^2*(2*s3 + 2*s4 + 1) + q*(s3 + s4 + 4) + 3)*s1 + (q^3*(s3 + s4) + q^2*(2*s3 + s4 + 2) + q*(s3 + s4 + 2) + 2)*s2 + 3*q + 1)\n",
    "N = Z.subs(q=1,s1=1,s2=1,s3=1,s4=1)\n",
    "display(factor(int(N)))"
   ]
  },
  {
   "cell_type": "code",
   "execution_count": 81,
   "metadata": {},
   "outputs": [
    {
     "name": "stdout",
     "output_type": "stream",
     "text": [
      "[\n",
      "[A == ((s1*s4^2 + 2*s1*s4)*q^4 + (s1*s4^2 + (s1^2 + 3*s1)*s4 + 2*s1)*q^3 + (s1^2 + (s1^2 + 3*s1)*s4 + 4*s1)*q^2 + (q^5*(s4 + 1) + ((s1 + 2)*s4 + s1 + 4)*q^4 + 2*q^3*(s1 + 2) + q^2*(s1 + 1))*s3^2 + (3*s1^2 + s1*s4 + 4*s1)*q + s1^2 + ((s1*s4 + s1)*q^2 + q*s1 + s1)*s2 + ((s4^2 + 3*s4 + 2)*q^5 + (s1*s4^2 + (3*s1 + 4)*s4 + s1 + 6)*q^4 + ((s1^2 + 4*s1 + 4)*s4 + 5*s1 + 8)*q^3 + (s1^2 + (s1 + 1)*s4 + 7*s1 + 6)*q^2 + (s1^2 + 2*s1 + 2)*q + (q^4*(s4 + 1) + ((s1 + 1)*s4 + s1 + 2)*q^3 + q^2*(s1 + 2) + q*(s1 + 1))*s2)*s3 + 2*s1)/((2*s4^2 + 5*s4 + 2)*q^5 + ((2*s1 + 7)*s4^2 + 7*(s1 + 2)*s4 + 3*s1 + 6)*q^4 + ((4*s1 + 5)*s4^2 + s1^2 + (2*s1^2 + 16*s1 + 17)*s4 + 12*s1 + 10)*q^3 + ((2*s1 + 1)*s4^2 + 5*s1^2 + 4*(s1^2 + 4*s1 + 3)*s4 + 17*s1 + 10)*q^2 + (q^3*(s4 + 1) + q^2*(3*s4 + 5) + (2*(s1 + 1)*s4 + 3*s1 + 7)*q + 3*s1 + 2)*s2^2 + (q^5*(3*s4 + 2) + ((2*s1 + 3)*s4 + 2*s1 + 7)*q^4 + q^3*(3*s1 + 5) + q^2*(s1 + 1) + (2*q^4*(s4 + 1) + ((s1 + 1)*s4 + s1 + 4)*q^3 + 2*q^2*(s1 + 1))*s2)*s3^2 + (7*s1^2 + (2*s1^2 + 7*s1 + 3)*s4 + 14*s1 + 6)*q + 2*s1^2 + ((2*s4^2 + 4*s4 + 3)*q^4 + ((s1 + 3)*s4^2 + 2*(2*s1 + 7)*s4 + 2*s1 + 12)*q^3 + ((2*s1 + 1)*s4^2 + (s1^2 + 12*s1 + 14)*s4 + 14*s1 + 17)*q^2 + (3*s1^2 + 2*(s1^2 + 4*s1 + 2)*s4 + 14*s1 + 14)*q + 3*s1^2 + 10*s1 + 5)*s2 + ((3*s4^2 + 10*s4 + 5)*q^5 + ((2*s1 + 3)*s4^2 + 2*(4*s1 + 7)*s4 + 4*s1 + 14)*q^4 + (s1*s4^2 + s1^2 + 2*(s1^2 + 6*s1 + 7)*s4 + 14*s1 + 17)*q^3 + (3*s1^2 + (s1^2 + 4*s1 + 2)*s4 + 14*s1 + 12)*q^2 + (2*q^3*(s4 + 1) + ((s1 + 1)*s4 + s1 + 4)*q^2 + 2*q*(s1 + 1))*s2^2 + (2*s1^2 + 4*s1 + 3)*q + ((2*s4^2 + 8*s4 + 7)*q^4 + (s1*s4^2 + 6*(s1 + 2)*s4 + 4*s1 + 16)*q^3 + ((s1^2 + 6*s1 + 4)*s4 + 12*s1 + 16)*q^2 + (2*s1^2 + 8*s1 + 7)*q)*s2)*s3 + 5*s1 + 2), B == ((s4^2 + 2*s4)*q^5 + ((s1 + 6)*s4 + 4*s4^2)*q^4 + 2*((s1 + 4)*s4 + 2*s4^2)*q^3 + (2*(s1 + 3)*s4 + s4^2)*q^2 + (q^2*(s4 + 1) + q*(s4 + 3) + 1)*s2^2 + (q^5*s4 + (q^4*(s4 + 1) + q^3)*s2)*s3^2 + q*(s1 + 2)*s4 + ((s4^2 + s4)*q^4 + ((s1 + 5)*s4 + 2*s4^2 + 2)*q^3 + ((s1 + 7)*s4 + s4^2 + s1 + 4)*q^2 + ((s1 + 2)*s4 + s1 + 4)*q + s1 + 2)*s2 + ((s4^2 + 3*s4)*q^5 + ((s1 + 4)*s4 + 2*s4^2)*q^4 + q^3*(s1 + 4)*s4 + (q^3*(s4 + 1) + q^2)*s2^2 + q^2*s4 + ((s4^2 + 3*s4 + 2)*q^4 + ((s1 + 4)*s4 + 3)*q^3 + q^2*(s1 + s4 + 3) + q)*s2)*s3)/((2*s4^2 + 5*s4 + 2)*q^5 + ((2*s1 + 7)*s4^2 + 7*(s1 + 2)*s4 + 3*s1 + 6)*q^4 + ((4*s1 + 5)*s4^2 + s1^2 + (2*s1^2 + 16*s1 + 17)*s4 + 12*s1 + 10)*q^3 + ((2*s1 + 1)*s4^2 + 5*s1^2 + 4*(s1^2 + 4*s1 + 3)*s4 + 17*s1 + 10)*q^2 + (q^3*(s4 + 1) + q^2*(3*s4 + 5) + (2*(s1 + 1)*s4 + 3*s1 + 7)*q + 3*s1 + 2)*s2^2 + (q^5*(3*s4 + 2) + ((2*s1 + 3)*s4 + 2*s1 + 7)*q^4 + q^3*(3*s1 + 5) + q^2*(s1 + 1) + (2*q^4*(s4 + 1) + ((s1 + 1)*s4 + s1 + 4)*q^3 + 2*q^2*(s1 + 1))*s2)*s3^2 + (7*s1^2 + (2*s1^2 + 7*s1 + 3)*s4 + 14*s1 + 6)*q + 2*s1^2 + ((2*s4^2 + 4*s4 + 3)*q^4 + ((s1 + 3)*s4^2 + 2*(2*s1 + 7)*s4 + 2*s1 + 12)*q^3 + ((2*s1 + 1)*s4^2 + (s1^2 + 12*s1 + 14)*s4 + 14*s1 + 17)*q^2 + (3*s1^2 + 2*(s1^2 + 4*s1 + 2)*s4 + 14*s1 + 14)*q + 3*s1^2 + 10*s1 + 5)*s2 + ((3*s4^2 + 10*s4 + 5)*q^5 + ((2*s1 + 3)*s4^2 + 2*(4*s1 + 7)*s4 + 4*s1 + 14)*q^4 + (s1*s4^2 + s1^2 + 2*(s1^2 + 6*s1 + 7)*s4 + 14*s1 + 17)*q^3 + (3*s1^2 + (s1^2 + 4*s1 + 2)*s4 + 14*s1 + 12)*q^2 + (2*q^3*(s4 + 1) + ((s1 + 1)*s4 + s1 + 4)*q^2 + 2*q*(s1 + 1))*s2^2 + (2*s1^2 + 4*s1 + 3)*q + ((2*s4^2 + 8*s4 + 7)*q^4 + (s1*s4^2 + 6*(s1 + 2)*s4 + 4*s1 + 16)*q^3 + ((s1^2 + 6*s1 + 4)*s4 + 12*s1 + 16)*q^2 + (2*s1^2 + 8*s1 + 7)*q)*s2)*s3 + 5*s1 + 2), C == ((s1*s4^2 + 2*s1*s4)*q^4 + (2*s1*s4^2 + (s1^2 + 4*s1)*s4)*q^3 + (s1*s4^2 + 2*(s1^2 + 2*s1)*s4)*q^2 + ((s1*s4 + s1)*q + s1)*s2^2 + (q^5*s4 + q^4*(s1 + 1)*s4 + (q^4*(s4 + 1) + ((s1 + 1)*s4 + s1 + 2)*q^3 + q^2*(s1 + 1))*s2)*s3^2 + (s1^2 + 2*s1)*q*s4 + ((s1*s4^2 + 2*s1*s4)*q^3 + (s1*s4^2 + (s1^2 + 4*s1)*s4 + 2*s1)*q^2 + (s1^2 + (s1^2 + 3*s1)*s4 + 2*s1)*q + s1^2 + 2*s1)*s2 + ((s4^2 + 2*s4)*q^5 + ((s1 + 1)*s4^2 + (3*s1 + 2)*s4)*q^4 + (s1*s4^2 + (s1^2 + 4*s1 + 2)*s4)*q^3 + (s1^2 + 2*s1)*q^2*s4 + (q^3*(s4 + 1) + ((s1 + 1)*s4 + s1 + 2)*q^2 + q*(s1 + 1))*s2^2 + ((s4^2 + 3*s4 + 2)*q^4 + (s1*s4^2 + 4*(s1 + 1)*s4 + 2*s1 + 4)*q^3 + ((s1^2 + 4*s1 + 2)*s4 + 4*s1 + 4)*q^2 + (s1^2 + 3*s1 + 2)*q)*s2)*s3)/((2*s4^2 + 5*s4 + 2)*q^5 + ((2*s1 + 7)*s4^2 + 7*(s1 + 2)*s4 + 3*s1 + 6)*q^4 + ((4*s1 + 5)*s4^2 + s1^2 + (2*s1^2 + 16*s1 + 17)*s4 + 12*s1 + 10)*q^3 + ((2*s1 + 1)*s4^2 + 5*s1^2 + 4*(s1^2 + 4*s1 + 3)*s4 + 17*s1 + 10)*q^2 + (q^3*(s4 + 1) + q^2*(3*s4 + 5) + (2*(s1 + 1)*s4 + 3*s1 + 7)*q + 3*s1 + 2)*s2^2 + (q^5*(3*s4 + 2) + ((2*s1 + 3)*s4 + 2*s1 + 7)*q^4 + q^3*(3*s1 + 5) + q^2*(s1 + 1) + (2*q^4*(s4 + 1) + ((s1 + 1)*s4 + s1 + 4)*q^3 + 2*q^2*(s1 + 1))*s2)*s3^2 + (7*s1^2 + (2*s1^2 + 7*s1 + 3)*s4 + 14*s1 + 6)*q + 2*s1^2 + ((2*s4^2 + 4*s4 + 3)*q^4 + ((s1 + 3)*s4^2 + 2*(2*s1 + 7)*s4 + 2*s1 + 12)*q^3 + ((2*s1 + 1)*s4^2 + (s1^2 + 12*s1 + 14)*s4 + 14*s1 + 17)*q^2 + (3*s1^2 + 2*(s1^2 + 4*s1 + 2)*s4 + 14*s1 + 14)*q + 3*s1^2 + 10*s1 + 5)*s2 + ((3*s4^2 + 10*s4 + 5)*q^5 + ((2*s1 + 3)*s4^2 + 2*(4*s1 + 7)*s4 + 4*s1 + 14)*q^4 + (s1*s4^2 + s1^2 + 2*(s1^2 + 6*s1 + 7)*s4 + 14*s1 + 17)*q^3 + (3*s1^2 + (s1^2 + 4*s1 + 2)*s4 + 14*s1 + 12)*q^2 + (2*q^3*(s4 + 1) + ((s1 + 1)*s4 + s1 + 4)*q^2 + 2*q*(s1 + 1))*s2^2 + (2*s1^2 + 4*s1 + 3)*q + ((2*s4^2 + 8*s4 + 7)*q^4 + (s1*s4^2 + 6*(s1 + 2)*s4 + 4*s1 + 16)*q^3 + ((s1^2 + 6*s1 + 4)*s4 + 12*s1 + 16)*q^2 + (2*s1^2 + 8*s1 + 7)*q)*s2)*s3 + 5*s1 + 2), D == ((s4^2 + 2*s4)*q^5 + ((s1 + 4)*s4 + 3*s4^2)*q^4 + ((s1 + 1)*s4^2 + (3*s1 + 4)*s4)*q^3 + (s1*s4^2 + (s1^2 + 3*s1 + 2)*s4)*q^2 + (q^3*(s4 + 1) + 2*q^2*(s4 + 2) + ((s1 + 1)*s4 + 2*s1 + 4)*q + s1 + 1)*s2^2 + (s1^2 + 2*s1)*q*s4 + ((s4^2 + 2*s4 + 2)*q^4 + ((s1 + 7)*s4 + s4^2 + s1 + 6)*q^3 + (s1*s4^2 + (4*s1 + 5)*s4 + 4*s1 + 8)*q^2 + ((s1^2 + 3*s1 + 1)*s4 + 4*s1 + 6)*q + s1^2 + 3*s1 + 2)*s2 + (q^5*s4 + q^4*s4 + q^3*(s1 + 1)*s4 + (q^4*(s4 + 1) + q^3*(s4 + 2) + ((s1 + 1)*s4 + s1 + 2)*q^2 + q*(s1 + 1))*s2)*s3)/((2*s4^2 + 5*s4 + 2)*q^5 + ((2*s1 + 7)*s4^2 + 7*(s1 + 2)*s4 + 3*s1 + 6)*q^4 + ((4*s1 + 5)*s4^2 + s1^2 + (2*s1^2 + 16*s1 + 17)*s4 + 12*s1 + 10)*q^3 + ((2*s1 + 1)*s4^2 + 5*s1^2 + 4*(s1^2 + 4*s1 + 3)*s4 + 17*s1 + 10)*q^2 + (q^3*(s4 + 1) + q^2*(3*s4 + 5) + (2*(s1 + 1)*s4 + 3*s1 + 7)*q + 3*s1 + 2)*s2^2 + (q^5*(3*s4 + 2) + ((2*s1 + 3)*s4 + 2*s1 + 7)*q^4 + q^3*(3*s1 + 5) + q^2*(s1 + 1) + (2*q^4*(s4 + 1) + ((s1 + 1)*s4 + s1 + 4)*q^3 + 2*q^2*(s1 + 1))*s2)*s3^2 + (7*s1^2 + (2*s1^2 + 7*s1 + 3)*s4 + 14*s1 + 6)*q + 2*s1^2 + ((2*s4^2 + 4*s4 + 3)*q^4 + ((s1 + 3)*s4^2 + 2*(2*s1 + 7)*s4 + 2*s1 + 12)*q^3 + ((2*s1 + 1)*s4^2 + (s1^2 + 12*s1 + 14)*s4 + 14*s1 + 17)*q^2 + (3*s1^2 + 2*(s1^2 + 4*s1 + 2)*s4 + 14*s1 + 14)*q + 3*s1^2 + 10*s1 + 5)*s2 + ((3*s4^2 + 10*s4 + 5)*q^5 + ((2*s1 + 3)*s4^2 + 2*(4*s1 + 7)*s4 + 4*s1 + 14)*q^4 + (s1*s4^2 + s1^2 + 2*(s1^2 + 6*s1 + 7)*s4 + 14*s1 + 17)*q^3 + (3*s1^2 + (s1^2 + 4*s1 + 2)*s4 + 14*s1 + 12)*q^2 + (2*q^3*(s4 + 1) + ((s1 + 1)*s4 + s1 + 4)*q^2 + 2*q*(s1 + 1))*s2^2 + (2*s1^2 + 4*s1 + 3)*q + ((2*s4^2 + 8*s4 + 7)*q^4 + (s1*s4^2 + 6*(s1 + 2)*s4 + 4*s1 + 16)*q^3 + ((s1^2 + 6*s1 + 4)*s4 + 12*s1 + 16)*q^2 + (2*s1^2 + 8*s1 + 7)*q)*s2)*s3 + 5*s1 + 2), E == ((s1*s4 + 2*s1)*q^4 + (s1^2 + 2*s1*s4 + 6*s1)*q^3 + 2*(2*s1^2 + s1*s4 + 4*s1)*q^2 + s1*s2^2 + (q^5 + q^4*(s1 + 3) + q^3*(s1 + 1) + (q^3 + q^2*(s1 + 1))*s2)*s3^2 + (4*s1^2 + s1*s4 + 6*s1)*q + s1^2 + (q^3*s1 + (s1*s4 + 4*s1)*q^2 + (2*s1^2 + s1*s4 + 4*s1)*q + s1^2 + 3*s1)*s2 + (q^5*(s4 + 2) + ((s1 + 1)*s4 + 2*s1 + 4)*q^4 + (s1^2 + (s1 + 1)*s4 + 7*s1 + 4)*q^3 + (2*s1^2 + s1*s4 + 5*s1 + 2)*q^2 + (q^2 + q*(s1 + 1))*s2^2 + (s1^2 + s1)*q + (q^4 + q^3*(s1 + s4 + 3) + (s1*s4 + 4*s1 + 3)*q^2 + (s1^2 + 3*s1 + 2)*q)*s2)*s3 + 2*s1)/((2*s4^2 + 5*s4 + 2)*q^5 + ((2*s1 + 7)*s4^2 + 7*(s1 + 2)*s4 + 3*s1 + 6)*q^4 + ((4*s1 + 5)*s4^2 + s1^2 + (2*s1^2 + 16*s1 + 17)*s4 + 12*s1 + 10)*q^3 + ((2*s1 + 1)*s4^2 + 5*s1^2 + 4*(s1^2 + 4*s1 + 3)*s4 + 17*s1 + 10)*q^2 + (q^3*(s4 + 1) + q^2*(3*s4 + 5) + (2*(s1 + 1)*s4 + 3*s1 + 7)*q + 3*s1 + 2)*s2^2 + (q^5*(3*s4 + 2) + ((2*s1 + 3)*s4 + 2*s1 + 7)*q^4 + q^3*(3*s1 + 5) + q^2*(s1 + 1) + (2*q^4*(s4 + 1) + ((s1 + 1)*s4 + s1 + 4)*q^3 + 2*q^2*(s1 + 1))*s2)*s3^2 + (7*s1^2 + (2*s1^2 + 7*s1 + 3)*s4 + 14*s1 + 6)*q + 2*s1^2 + ((2*s4^2 + 4*s4 + 3)*q^4 + ((s1 + 3)*s4^2 + 2*(2*s1 + 7)*s4 + 2*s1 + 12)*q^3 + ((2*s1 + 1)*s4^2 + (s1^2 + 12*s1 + 14)*s4 + 14*s1 + 17)*q^2 + (3*s1^2 + 2*(s1^2 + 4*s1 + 2)*s4 + 14*s1 + 14)*q + 3*s1^2 + 10*s1 + 5)*s2 + ((3*s4^2 + 10*s4 + 5)*q^5 + ((2*s1 + 3)*s4^2 + 2*(4*s1 + 7)*s4 + 4*s1 + 14)*q^4 + (s1*s4^2 + s1^2 + 2*(s1^2 + 6*s1 + 7)*s4 + 14*s1 + 17)*q^3 + (3*s1^2 + (s1^2 + 4*s1 + 2)*s4 + 14*s1 + 12)*q^2 + (2*q^3*(s4 + 1) + ((s1 + 1)*s4 + s1 + 4)*q^2 + 2*q*(s1 + 1))*s2^2 + (2*s1^2 + 4*s1 + 3)*q + ((2*s4^2 + 8*s4 + 7)*q^4 + (s1*s4^2 + 6*(s1 + 2)*s4 + 4*s1 + 16)*q^3 + ((s1^2 + 6*s1 + 4)*s4 + 12*s1 + 16)*q^2 + (2*s1^2 + 8*s1 + 7)*q)*s2)*s3 + 5*s1 + 2), F == (q^5*(s4 + 2) + q^4*(s1 + 4*s4 + 6) + ((2*s1 + 5)*s4 + 4*s1 + 10)*q^3 + (2*(s1 + 2)*s4 + 5*s1 + 10)*q^2 + q*(4*s1 + s4 + 6) + (q^4*(s4 + 1) + 2*q^3*(s4 + 2) + ((s1 + 2)*s4 + 2*s1 + 5)*q^2 + q*(2*s1 + s4 + 4) + 1)*s2 + (q^5 + q^4*(s1 + 2*s4 + 4) + ((s1 + 2)*s4 + 2*s1 + 5)*q^3 + 2*q^2*(s1 + 2) + q*(s1 + 1) + (q^3*(s4 + 2) + q^2*(s1 + 2))*s2)*s3 + s1 + 2)/((2*s4^2 + 5*s4 + 2)*q^5 + ((2*s1 + 7)*s4^2 + 7*(s1 + 2)*s4 + 3*s1 + 6)*q^4 + ((4*s1 + 5)*s4^2 + s1^2 + (2*s1^2 + 16*s1 + 17)*s4 + 12*s1 + 10)*q^3 + ((2*s1 + 1)*s4^2 + 5*s1^2 + 4*(s1^2 + 4*s1 + 3)*s4 + 17*s1 + 10)*q^2 + (q^3*(s4 + 1) + q^2*(3*s4 + 5) + (2*(s1 + 1)*s4 + 3*s1 + 7)*q + 3*s1 + 2)*s2^2 + (q^5*(3*s4 + 2) + ((2*s1 + 3)*s4 + 2*s1 + 7)*q^4 + q^3*(3*s1 + 5) + q^2*(s1 + 1) + (2*q^4*(s4 + 1) + ((s1 + 1)*s4 + s1 + 4)*q^3 + 2*q^2*(s1 + 1))*s2)*s3^2 + (7*s1^2 + (2*s1^2 + 7*s1 + 3)*s4 + 14*s1 + 6)*q + 2*s1^2 + ((2*s4^2 + 4*s4 + 3)*q^4 + ((s1 + 3)*s4^2 + 2*(2*s1 + 7)*s4 + 2*s1 + 12)*q^3 + ((2*s1 + 1)*s4^2 + (s1^2 + 12*s1 + 14)*s4 + 14*s1 + 17)*q^2 + (3*s1^2 + 2*(s1^2 + 4*s1 + 2)*s4 + 14*s1 + 14)*q + 3*s1^2 + 10*s1 + 5)*s2 + ((3*s4^2 + 10*s4 + 5)*q^5 + ((2*s1 + 3)*s4^2 + 2*(4*s1 + 7)*s4 + 4*s1 + 14)*q^4 + (s1*s4^2 + s1^2 + 2*(s1^2 + 6*s1 + 7)*s4 + 14*s1 + 17)*q^3 + (3*s1^2 + (s1^2 + 4*s1 + 2)*s4 + 14*s1 + 12)*q^2 + (2*q^3*(s4 + 1) + ((s1 + 1)*s4 + s1 + 4)*q^2 + 2*q*(s1 + 1))*s2^2 + (2*s1^2 + 4*s1 + 3)*q + ((2*s4^2 + 8*s4 + 7)*q^4 + (s1*s4^2 + 6*(s1 + 2)*s4 + 4*s1 + 16)*q^3 + ((s1^2 + 6*s1 + 4)*s4 + 12*s1 + 16)*q^2 + (2*s1^2 + 8*s1 + 7)*q)*s2)*s3 + 5*s1 + 2)]\n",
      "]\n"
     ]
    }
   ],
   "source": [
    "var('A B C D E F q s1 s2 s3 s4')\n",
    "\n",
    "S = solve([A*(1+q+s2) == C*q + E + F*q*s3,\n",
    "           B*(1+q+s1) == C*q + D + F*q*s4,\n",
    "           C*(1+q+1+q) == A*s2 + B*s1 + D*q*s3 + E*q*s4,\n",
    "           D*(1+q+q*s3) == B*q + C + F*s2,\n",
    "           E*(1+q+q*s4) == A*q + C + F*s1,\n",
    "           F*(s1+s2+q*s3+q*s4) == A + B + D*q + E*q,\n",
    "           A+B+C+D+E+F == 1\n",
    "            ]\n",
    "            ,A,B,C,D,E,F)\n",
    "\n",
    "print(S)"
   ]
  },
  {
   "cell_type": "code",
   "execution_count": 59,
   "metadata": {},
   "outputs": [
    {
     "data": {
      "text/html": [
       "<html><script type=\"math/tex; mode=display\">\\newcommand{\\Bold}[1]{\\mathbf{#1}}2^{8} \\cdot 3</script></html>"
      ],
      "text/latex": [
       "$$\\newcommand{\\Bold}[1]{\\mathbf{#1}}2^{8} \\cdot 3$$"
      ],
      "text/plain": [
       "2^8 * 3"
      ]
     },
     "metadata": {},
     "output_type": "display_data"
    }
   ],
   "source": [
    "Z = ((2*s4^2 + 5*s4 + 2)*q^5 + ((2*s1 + 7)*s4^2 + 7*(s1 + 2)*s4 + 3*s1 + 6)*q^4 + ((4*s1 + 5)*s4^2 + s1^2 + (2*s1^2 + 16*s1 + 17)*s4 + 12*s1 + 10)*q^3 + ((2*s1 + 1)*s4^2 + 5*s1^2 + 4*(s1^2 + 4*s1 + 3)*s4 + 17*s1 + 10)*q^2 + (q^3*(s4 + 1) + q^2*(3*s4 + 5) + (2*(s1 + 1)*s4 + 3*s1 + 7)*q + 3*s1 + 2)*s2^2 + (q^5*(3*s4 + 2) + ((2*s1 + 3)*s4 + 2*s1 + 7)*q^4 + q^3*(3*s1 + 5) + q^2*(s1 + 1) + (2*q^4*(s4 + 1) + ((s1 + 1)*s4 + s1 + 4)*q^3 + 2*q^2*(s1 + 1))*s2)*s3^2 + (7*s1^2 + (2*s1^2 + 7*s1 + 3)*s4 + 14*s1 + 6)*q + 2*s1^2 + ((2*s4^2 + 4*s4 + 3)*q^4 + ((s1 + 3)*s4^2 + 2*(2*s1 + 7)*s4 + 2*s1 + 12)*q^3 + ((2*s1 + 1)*s4^2 + (s1^2 + 12*s1 + 14)*s4 + 14*s1 + 17)*q^2 + (3*s1^2 + 2*(s1^2 + 4*s1 + 2)*s4 + 14*s1 + 14)*q + 3*s1^2 + 10*s1 + 5)*s2 + ((3*s4^2 + 10*s4 + 5)*q^5 + ((2*s1 + 3)*s4^2 + 2*(4*s1 + 7)*s4 + 4*s1 + 14)*q^4 + (s1*s4^2 + s1^2 + 2*(s1^2 + 6*s1 + 7)*s4 + 14*s1 + 17)*q^3 + (3*s1^2 + (s1^2 + 4*s1 + 2)*s4 + 14*s1 + 12)*q^2 + (2*q^3*(s4 + 1) + ((s1 + 1)*s4 + s1 + 4)*q^2 + 2*q*(s1 + 1))*s2^2 + (2*s1^2 + 4*s1 + 3)*q + ((2*s4^2 + 8*s4 + 7)*q^4 + (s1*s4^2 + 6*(s1 + 2)*s4 + 4*s1 + 16)*q^3 + ((s1^2 + 6*s1 + 4)*s4 + 12*s1 + 16)*q^2 + (2*s1^2 + 8*s1 + 7)*q)*s2)*s3 + 5*s1 + 2)\n",
    "N = Z.subs(q=1,s1=1,s2=1,s3=1,s4=1)\n",
    "display(factor(int(N)))"
   ]
  },
  {
   "cell_type": "code",
   "execution_count": 88,
   "metadata": {},
   "outputs": [
    {
     "data": {
      "text/html": [
       "<html><script type=\"math/tex; mode=display\">\\newcommand{\\Bold}[1]{\\mathbf{#1}}B = \\frac{{\\left(s_{4}^{2} + 2 \\, s_{4}\\right)} q^{5} + {\\left({\\left(s_{1} + 6\\right)} s_{4} + 4 \\, s_{4}^{2}\\right)} q^{4} + 2 \\, {\\left({\\left(s_{1} + 4\\right)} s_{4} + 2 \\, s_{4}^{2}\\right)} q^{3} + {\\left(2 \\, {\\left(s_{1} + 3\\right)} s_{4} + s_{4}^{2}\\right)} q^{2} + {\\left(q^{2} {\\left(s_{4} + 1\\right)} + q {\\left(s_{4} + 3\\right)} + 1\\right)} s_{2}^{2} + {\\left(q^{5} s_{4} + {\\left(q^{4} {\\left(s_{4} + 1\\right)} + q^{3}\\right)} s_{2}\\right)} s_{3}^{2} + q {\\left(s_{1} + 2\\right)} s_{4} + {\\left({\\left(s_{4}^{2} + s_{4}\\right)} q^{4} + {\\left({\\left(s_{1} + 5\\right)} s_{4} + 2 \\, s_{4}^{2} + 2\\right)} q^{3} + {\\left({\\left(s_{1} + 7\\right)} s_{4} + s_{4}^{2} + s_{1} + 4\\right)} q^{2} + {\\left({\\left(s_{1} + 2\\right)} s_{4} + s_{1} + 4\\right)} q + s_{1} + 2\\right)} s_{2} + {\\left({\\left(s_{4}^{2} + 3 \\, s_{4}\\right)} q^{5} + {\\left({\\left(s_{1} + 4\\right)} s_{4} + 2 \\, s_{4}^{2}\\right)} q^{4} + q^{3} {\\left(s_{1} + 4\\right)} s_{4} + {\\left(q^{3} {\\left(s_{4} + 1\\right)} + q^{2}\\right)} s_{2}^{2} + q^{2} s_{4} + {\\left({\\left(s_{4}^{2} + 3 \\, s_{4} + 2\\right)} q^{4} + {\\left({\\left(s_{1} + 4\\right)} s_{4} + 3\\right)} q^{3} + q^{2} {\\left(s_{1} + s_{4} + 3\\right)} + q\\right)} s_{2}\\right)} s_{3}}{{\\left(2 \\, s_{4}^{2} + 5 \\, s_{4} + 2\\right)} q^{5} + {\\left({\\left(2 \\, s_{1} + 7\\right)} s_{4}^{2} + 7 \\, {\\left(s_{1} + 2\\right)} s_{4} + 3 \\, s_{1} + 6\\right)} q^{4} + {\\left({\\left(4 \\, s_{1} + 5\\right)} s_{4}^{2} + s_{1}^{2} + {\\left(2 \\, s_{1}^{2} + 16 \\, s_{1} + 17\\right)} s_{4} + 12 \\, s_{1} + 10\\right)} q^{3} + {\\left({\\left(2 \\, s_{1} + 1\\right)} s_{4}^{2} + 5 \\, s_{1}^{2} + 4 \\, {\\left(s_{1}^{2} + 4 \\, s_{1} + 3\\right)} s_{4} + 17 \\, s_{1} + 10\\right)} q^{2} + {\\left(q^{3} {\\left(s_{4} + 1\\right)} + q^{2} {\\left(3 \\, s_{4} + 5\\right)} + {\\left(2 \\, {\\left(s_{1} + 1\\right)} s_{4} + 3 \\, s_{1} + 7\\right)} q + 3 \\, s_{1} + 2\\right)} s_{2}^{2} + {\\left(q^{5} {\\left(3 \\, s_{4} + 2\\right)} + {\\left({\\left(2 \\, s_{1} + 3\\right)} s_{4} + 2 \\, s_{1} + 7\\right)} q^{4} + q^{3} {\\left(3 \\, s_{1} + 5\\right)} + q^{2} {\\left(s_{1} + 1\\right)} + {\\left(2 \\, q^{4} {\\left(s_{4} + 1\\right)} + {\\left({\\left(s_{1} + 1\\right)} s_{4} + s_{1} + 4\\right)} q^{3} + 2 \\, q^{2} {\\left(s_{1} + 1\\right)}\\right)} s_{2}\\right)} s_{3}^{2} + {\\left(7 \\, s_{1}^{2} + {\\left(2 \\, s_{1}^{2} + 7 \\, s_{1} + 3\\right)} s_{4} + 14 \\, s_{1} + 6\\right)} q + 2 \\, s_{1}^{2} + {\\left({\\left(2 \\, s_{4}^{2} + 4 \\, s_{4} + 3\\right)} q^{4} + {\\left({\\left(s_{1} + 3\\right)} s_{4}^{2} + 2 \\, {\\left(2 \\, s_{1} + 7\\right)} s_{4} + 2 \\, s_{1} + 12\\right)} q^{3} + {\\left({\\left(2 \\, s_{1} + 1\\right)} s_{4}^{2} + {\\left(s_{1}^{2} + 12 \\, s_{1} + 14\\right)} s_{4} + 14 \\, s_{1} + 17\\right)} q^{2} + {\\left(3 \\, s_{1}^{2} + 2 \\, {\\left(s_{1}^{2} + 4 \\, s_{1} + 2\\right)} s_{4} + 14 \\, s_{1} + 14\\right)} q + 3 \\, s_{1}^{2} + 10 \\, s_{1} + 5\\right)} s_{2} + {\\left({\\left(3 \\, s_{4}^{2} + 10 \\, s_{4} + 5\\right)} q^{5} + {\\left({\\left(2 \\, s_{1} + 3\\right)} s_{4}^{2} + 2 \\, {\\left(4 \\, s_{1} + 7\\right)} s_{4} + 4 \\, s_{1} + 14\\right)} q^{4} + {\\left(s_{1} s_{4}^{2} + s_{1}^{2} + 2 \\, {\\left(s_{1}^{2} + 6 \\, s_{1} + 7\\right)} s_{4} + 14 \\, s_{1} + 17\\right)} q^{3} + {\\left(3 \\, s_{1}^{2} + {\\left(s_{1}^{2} + 4 \\, s_{1} + 2\\right)} s_{4} + 14 \\, s_{1} + 12\\right)} q^{2} + {\\left(2 \\, q^{3} {\\left(s_{4} + 1\\right)} + {\\left({\\left(s_{1} + 1\\right)} s_{4} + s_{1} + 4\\right)} q^{2} + 2 \\, q {\\left(s_{1} + 1\\right)}\\right)} s_{2}^{2} + {\\left(2 \\, s_{1}^{2} + 4 \\, s_{1} + 3\\right)} q + {\\left({\\left(2 \\, s_{4}^{2} + 8 \\, s_{4} + 7\\right)} q^{4} + {\\left(s_{1} s_{4}^{2} + 6 \\, {\\left(s_{1} + 2\\right)} s_{4} + 4 \\, s_{1} + 16\\right)} q^{3} + {\\left({\\left(s_{1}^{2} + 6 \\, s_{1} + 4\\right)} s_{4} + 12 \\, s_{1} + 16\\right)} q^{2} + {\\left(2 \\, s_{1}^{2} + 8 \\, s_{1} + 7\\right)} q\\right)} s_{2}\\right)} s_{3} + 5 \\, s_{1} + 2}</script></html>"
      ],
      "text/latex": [
       "$$\\newcommand{\\Bold}[1]{\\mathbf{#1}}B = \\frac{{\\left(s_{4}^{2} + 2 \\, s_{4}\\right)} q^{5} + {\\left({\\left(s_{1} + 6\\right)} s_{4} + 4 \\, s_{4}^{2}\\right)} q^{4} + 2 \\, {\\left({\\left(s_{1} + 4\\right)} s_{4} + 2 \\, s_{4}^{2}\\right)} q^{3} + {\\left(2 \\, {\\left(s_{1} + 3\\right)} s_{4} + s_{4}^{2}\\right)} q^{2} + {\\left(q^{2} {\\left(s_{4} + 1\\right)} + q {\\left(s_{4} + 3\\right)} + 1\\right)} s_{2}^{2} + {\\left(q^{5} s_{4} + {\\left(q^{4} {\\left(s_{4} + 1\\right)} + q^{3}\\right)} s_{2}\\right)} s_{3}^{2} + q {\\left(s_{1} + 2\\right)} s_{4} + {\\left({\\left(s_{4}^{2} + s_{4}\\right)} q^{4} + {\\left({\\left(s_{1} + 5\\right)} s_{4} + 2 \\, s_{4}^{2} + 2\\right)} q^{3} + {\\left({\\left(s_{1} + 7\\right)} s_{4} + s_{4}^{2} + s_{1} + 4\\right)} q^{2} + {\\left({\\left(s_{1} + 2\\right)} s_{4} + s_{1} + 4\\right)} q + s_{1} + 2\\right)} s_{2} + {\\left({\\left(s_{4}^{2} + 3 \\, s_{4}\\right)} q^{5} + {\\left({\\left(s_{1} + 4\\right)} s_{4} + 2 \\, s_{4}^{2}\\right)} q^{4} + q^{3} {\\left(s_{1} + 4\\right)} s_{4} + {\\left(q^{3} {\\left(s_{4} + 1\\right)} + q^{2}\\right)} s_{2}^{2} + q^{2} s_{4} + {\\left({\\left(s_{4}^{2} + 3 \\, s_{4} + 2\\right)} q^{4} + {\\left({\\left(s_{1} + 4\\right)} s_{4} + 3\\right)} q^{3} + q^{2} {\\left(s_{1} + s_{4} + 3\\right)} + q\\right)} s_{2}\\right)} s_{3}}{{\\left(2 \\, s_{4}^{2} + 5 \\, s_{4} + 2\\right)} q^{5} + {\\left({\\left(2 \\, s_{1} + 7\\right)} s_{4}^{2} + 7 \\, {\\left(s_{1} + 2\\right)} s_{4} + 3 \\, s_{1} + 6\\right)} q^{4} + {\\left({\\left(4 \\, s_{1} + 5\\right)} s_{4}^{2} + s_{1}^{2} + {\\left(2 \\, s_{1}^{2} + 16 \\, s_{1} + 17\\right)} s_{4} + 12 \\, s_{1} + 10\\right)} q^{3} + {\\left({\\left(2 \\, s_{1} + 1\\right)} s_{4}^{2} + 5 \\, s_{1}^{2} + 4 \\, {\\left(s_{1}^{2} + 4 \\, s_{1} + 3\\right)} s_{4} + 17 \\, s_{1} + 10\\right)} q^{2} + {\\left(q^{3} {\\left(s_{4} + 1\\right)} + q^{2} {\\left(3 \\, s_{4} + 5\\right)} + {\\left(2 \\, {\\left(s_{1} + 1\\right)} s_{4} + 3 \\, s_{1} + 7\\right)} q + 3 \\, s_{1} + 2\\right)} s_{2}^{2} + {\\left(q^{5} {\\left(3 \\, s_{4} + 2\\right)} + {\\left({\\left(2 \\, s_{1} + 3\\right)} s_{4} + 2 \\, s_{1} + 7\\right)} q^{4} + q^{3} {\\left(3 \\, s_{1} + 5\\right)} + q^{2} {\\left(s_{1} + 1\\right)} + {\\left(2 \\, q^{4} {\\left(s_{4} + 1\\right)} + {\\left({\\left(s_{1} + 1\\right)} s_{4} + s_{1} + 4\\right)} q^{3} + 2 \\, q^{2} {\\left(s_{1} + 1\\right)}\\right)} s_{2}\\right)} s_{3}^{2} + {\\left(7 \\, s_{1}^{2} + {\\left(2 \\, s_{1}^{2} + 7 \\, s_{1} + 3\\right)} s_{4} + 14 \\, s_{1} + 6\\right)} q + 2 \\, s_{1}^{2} + {\\left({\\left(2 \\, s_{4}^{2} + 4 \\, s_{4} + 3\\right)} q^{4} + {\\left({\\left(s_{1} + 3\\right)} s_{4}^{2} + 2 \\, {\\left(2 \\, s_{1} + 7\\right)} s_{4} + 2 \\, s_{1} + 12\\right)} q^{3} + {\\left({\\left(2 \\, s_{1} + 1\\right)} s_{4}^{2} + {\\left(s_{1}^{2} + 12 \\, s_{1} + 14\\right)} s_{4} + 14 \\, s_{1} + 17\\right)} q^{2} + {\\left(3 \\, s_{1}^{2} + 2 \\, {\\left(s_{1}^{2} + 4 \\, s_{1} + 2\\right)} s_{4} + 14 \\, s_{1} + 14\\right)} q + 3 \\, s_{1}^{2} + 10 \\, s_{1} + 5\\right)} s_{2} + {\\left({\\left(3 \\, s_{4}^{2} + 10 \\, s_{4} + 5\\right)} q^{5} + {\\left({\\left(2 \\, s_{1} + 3\\right)} s_{4}^{2} + 2 \\, {\\left(4 \\, s_{1} + 7\\right)} s_{4} + 4 \\, s_{1} + 14\\right)} q^{4} + {\\left(s_{1} s_{4}^{2} + s_{1}^{2} + 2 \\, {\\left(s_{1}^{2} + 6 \\, s_{1} + 7\\right)} s_{4} + 14 \\, s_{1} + 17\\right)} q^{3} + {\\left(3 \\, s_{1}^{2} + {\\left(s_{1}^{2} + 4 \\, s_{1} + 2\\right)} s_{4} + 14 \\, s_{1} + 12\\right)} q^{2} + {\\left(2 \\, q^{3} {\\left(s_{4} + 1\\right)} + {\\left({\\left(s_{1} + 1\\right)} s_{4} + s_{1} + 4\\right)} q^{2} + 2 \\, q {\\left(s_{1} + 1\\right)}\\right)} s_{2}^{2} + {\\left(2 \\, s_{1}^{2} + 4 \\, s_{1} + 3\\right)} q + {\\left({\\left(2 \\, s_{4}^{2} + 8 \\, s_{4} + 7\\right)} q^{4} + {\\left(s_{1} s_{4}^{2} + 6 \\, {\\left(s_{1} + 2\\right)} s_{4} + 4 \\, s_{1} + 16\\right)} q^{3} + {\\left({\\left(s_{1}^{2} + 6 \\, s_{1} + 4\\right)} s_{4} + 12 \\, s_{1} + 16\\right)} q^{2} + {\\left(2 \\, s_{1}^{2} + 8 \\, s_{1} + 7\\right)} q\\right)} s_{2}\\right)} s_{3} + 5 \\, s_{1} + 2}$$"
      ],
      "text/plain": [
       "B == ((s4^2 + 2*s4)*q^5 + ((s1 + 6)*s4 + 4*s4^2)*q^4 + 2*((s1 + 4)*s4 + 2*s4^2)*q^3 + (2*(s1 + 3)*s4 + s4^2)*q^2 + (q^2*(s4 + 1) + q*(s4 + 3) + 1)*s2^2 + (q^5*s4 + (q^4*(s4 + 1) + q^3)*s2)*s3^2 + q*(s1 + 2)*s4 + ((s4^2 + s4)*q^4 + ((s1 + 5)*s4 + 2*s4^2 + 2)*q^3 + ((s1 + 7)*s4 + s4^2 + s1 + 4)*q^2 + ((s1 + 2)*s4 + s1 + 4)*q + s1 + 2)*s2 + ((s4^2 + 3*s4)*q^5 + ((s1 + 4)*s4 + 2*s4^2)*q^4 + q^3*(s1 + 4)*s4 + (q^3*(s4 + 1) + q^2)*s2^2 + q^2*s4 + ((s4^2 + 3*s4 + 2)*q^4 + ((s1 + 4)*s4 + 3)*q^3 + q^2*(s1 + s4 + 3) + q)*s2)*s3)/((2*s4^2 + 5*s4 + 2)*q^5 + ((2*s1 + 7)*s4^2 + 7*(s1 + 2)*s4 + 3*s1 + 6)*q^4 + ((4*s1 + 5)*s4^2 + s1^2 + (2*s1^2 + 16*s1 + 17)*s4 + 12*s1 + 10)*q^3 + ((2*s1 + 1)*s4^2 + 5*s1^2 + 4*(s1^2 + 4*s1 + 3)*s4 + 17*s1 + 10)*q^2 + (q^3*(s4 + 1) + q^2*(3*s4 + 5) + (2*(s1 + 1)*s4 + 3*s1 + 7)*q + 3*s1 + 2)*s2^2 + (q^5*(3*s4 + 2) + ((2*s1 + 3)*s4 + 2*s1 + 7)*q^4 + q^3*(3*s1 + 5) + q^2*(s1 + 1) + (2*q^4*(s4 + 1) + ((s1 + 1)*s4 + s1 + 4)*q^3 + 2*q^2*(s1 + 1))*s2)*s3^2 + (7*s1^2 + (2*s1^2 + 7*s1 + 3)*s4 + 14*s1 + 6)*q + 2*s1^2 + ((2*s4^2 + 4*s4 + 3)*q^4 + ((s1 + 3)*s4^2 + 2*(2*s1 + 7)*s4 + 2*s1 + 12)*q^3 + ((2*s1 + 1)*s4^2 + (s1^2 + 12*s1 + 14)*s4 + 14*s1 + 17)*q^2 + (3*s1^2 + 2*(s1^2 + 4*s1 + 2)*s4 + 14*s1 + 14)*q + 3*s1^2 + 10*s1 + 5)*s2 + ((3*s4^2 + 10*s4 + 5)*q^5 + ((2*s1 + 3)*s4^2 + 2*(4*s1 + 7)*s4 + 4*s1 + 14)*q^4 + (s1*s4^2 + s1^2 + 2*(s1^2 + 6*s1 + 7)*s4 + 14*s1 + 17)*q^3 + (3*s1^2 + (s1^2 + 4*s1 + 2)*s4 + 14*s1 + 12)*q^2 + (2*q^3*(s4 + 1) + ((s1 + 1)*s4 + s1 + 4)*q^2 + 2*q*(s1 + 1))*s2^2 + (2*s1^2 + 4*s1 + 3)*q + ((2*s4^2 + 8*s4 + 7)*q^4 + (s1*s4^2 + 6*(s1 + 2)*s4 + 4*s1 + 16)*q^3 + ((s1^2 + 6*s1 + 4)*s4 + 12*s1 + 16)*q^2 + (2*s1^2 + 8*s1 + 7)*q)*s2)*s3 + 5*s1 + 2)"
      ]
     },
     "metadata": {},
     "output_type": "display_data"
    }
   ],
   "source": [
    "display(S[0][1])"
   ]
  },
  {
   "cell_type": "code",
   "execution_count": null,
   "metadata": {},
   "outputs": [],
   "source": []
  },
  {
   "cell_type": "markdown",
   "metadata": {},
   "source": [
    "# General Case"
   ]
  },
  {
   "cell_type": "code",
   "execution_count": 208,
   "metadata": {
    "scrolled": false
   },
   "outputs": [
    {
     "data": {
      "text/html": [
       "<html><script type=\"math/tex; mode=display\">\\newcommand{\\Bold}[1]{\\mathbf{#1}}1</script></html>"
      ],
      "text/latex": [
       "$$\\newcommand{\\Bold}[1]{\\mathbf{#1}}1$$"
      ],
      "text/plain": [
       "1"
      ]
     },
     "metadata": {},
     "output_type": "display_data"
    },
    {
     "data": {
      "text/html": [
       "<html><script type=\"math/tex; mode=display\">\\newcommand{\\Bold}[1]{\\mathbf{#1}}A_{0}</script></html>"
      ],
      "text/latex": [
       "$$\\newcommand{\\Bold}[1]{\\mathbf{#1}}A_{0}$$"
      ],
      "text/plain": [
       "A0"
      ]
     },
     "metadata": {},
     "output_type": "display_data"
    },
    {
     "data": {
      "text/html": [
       "<html><script type=\"math/tex; mode=display\">\\newcommand{\\Bold}[1]{\\mathbf{#1}}\\frac{q^{2} s_{5} + q^{2} s_{6} + q^{2} s_{7} + q^{2} s_{8} + q + 1}{2 \\, q^{2} s_{5} + q s_{1} s_{5} + q s_{2} s_{5} + q s_{3} s_{5} + q s_{4} s_{5} + 2 \\, q^{2} s_{6} + q s_{1} s_{6} + q s_{2} s_{6} + q s_{3} s_{6} + q s_{4} s_{6} + 2 \\, q^{2} s_{7} + q s_{1} s_{7} + q s_{2} s_{7} + q s_{3} s_{7} + q s_{4} s_{7} + 2 \\, q^{2} s_{8} + q s_{1} s_{8} + q s_{2} s_{8} + q s_{3} s_{8} + q s_{4} s_{8} + q^{2} + 2 \\, q + 2 \\, s_{1} + 2 \\, s_{2} + 2 \\, s_{3} + 2 \\, s_{4} + 1}</script></html>"
      ],
      "text/latex": [
       "$$\\newcommand{\\Bold}[1]{\\mathbf{#1}}\\frac{q^{2} s_{5} + q^{2} s_{6} + q^{2} s_{7} + q^{2} s_{8} + q + 1}{2 \\, q^{2} s_{5} + q s_{1} s_{5} + q s_{2} s_{5} + q s_{3} s_{5} + q s_{4} s_{5} + 2 \\, q^{2} s_{6} + q s_{1} s_{6} + q s_{2} s_{6} + q s_{3} s_{6} + q s_{4} s_{6} + 2 \\, q^{2} s_{7} + q s_{1} s_{7} + q s_{2} s_{7} + q s_{3} s_{7} + q s_{4} s_{7} + 2 \\, q^{2} s_{8} + q s_{1} s_{8} + q s_{2} s_{8} + q s_{3} s_{8} + q s_{4} s_{8} + q^{2} + 2 \\, q + 2 \\, s_{1} + 2 \\, s_{2} + 2 \\, s_{3} + 2 \\, s_{4} + 1}$$"
      ],
      "text/plain": [
       "(q^2*s5 + q^2*s6 + q^2*s7 + q^2*s8 + q + 1)/(2*q^2*s5 + q*s1*s5 + q*s2*s5 + q*s3*s5 + q*s4*s5 + 2*q^2*s6 + q*s1*s6 + q*s2*s6 + q*s3*s6 + q*s4*s6 + 2*q^2*s7 + q*s1*s7 + q*s2*s7 + q*s3*s7 + q*s4*s7 + 2*q^2*s8 + q*s1*s8 + q*s2*s8 + q*s3*s8 + q*s4*s8 + q^2 + 2*q + 2*s1 + 2*s2 + 2*s3 + 2*s4 + 1)"
      ]
     },
     "metadata": {},
     "output_type": "display_data"
    },
    {
     "name": "stdout",
     "output_type": "stream",
     "text": [
      "-----\n"
     ]
    },
    {
     "data": {
      "text/html": [
       "<html><script type=\"math/tex; mode=display\">\\newcommand{\\Bold}[1]{\\mathbf{#1}}A_{1}</script></html>"
      ],
      "text/latex": [
       "$$\\newcommand{\\Bold}[1]{\\mathbf{#1}}A_{1}$$"
      ],
      "text/plain": [
       "A1"
      ]
     },
     "metadata": {},
     "output_type": "display_data"
    },
    {
     "data": {
      "text/html": [
       "<html><script type=\"math/tex; mode=display\">\\newcommand{\\Bold}[1]{\\mathbf{#1}}\\frac{q^{3} s_{5} + q^{2} s_{1} s_{5} + q^{2} s_{1} s_{6} + q^{2} s_{1} s_{7} + q^{2} s_{1} s_{8} + q^{2} s_{5} + q s_{1} s_{5} + q s_{2} s_{5} + q s_{3} s_{5} + q s_{4} s_{5} + q s_{1} + s_{1}}{{\\left(2 \\, q^{2} s_{5} + q s_{1} s_{5} + q s_{2} s_{5} + q s_{3} s_{5} + q s_{4} s_{5} + 2 \\, q^{2} s_{6} + q s_{1} s_{6} + q s_{2} s_{6} + q s_{3} s_{6} + q s_{4} s_{6} + 2 \\, q^{2} s_{7} + q s_{1} s_{7} + q s_{2} s_{7} + q s_{3} s_{7} + q s_{4} s_{7} + 2 \\, q^{2} s_{8} + q s_{1} s_{8} + q s_{2} s_{8} + q s_{3} s_{8} + q s_{4} s_{8} + q^{2} + 2 \\, q + 2 \\, s_{1} + 2 \\, s_{2} + 2 \\, s_{3} + 2 \\, s_{4} + 1\\right)} {\\left(q + 1\\right)}}</script></html>"
      ],
      "text/latex": [
       "$$\\newcommand{\\Bold}[1]{\\mathbf{#1}}\\frac{q^{3} s_{5} + q^{2} s_{1} s_{5} + q^{2} s_{1} s_{6} + q^{2} s_{1} s_{7} + q^{2} s_{1} s_{8} + q^{2} s_{5} + q s_{1} s_{5} + q s_{2} s_{5} + q s_{3} s_{5} + q s_{4} s_{5} + q s_{1} + s_{1}}{{\\left(2 \\, q^{2} s_{5} + q s_{1} s_{5} + q s_{2} s_{5} + q s_{3} s_{5} + q s_{4} s_{5} + 2 \\, q^{2} s_{6} + q s_{1} s_{6} + q s_{2} s_{6} + q s_{3} s_{6} + q s_{4} s_{6} + 2 \\, q^{2} s_{7} + q s_{1} s_{7} + q s_{2} s_{7} + q s_{3} s_{7} + q s_{4} s_{7} + 2 \\, q^{2} s_{8} + q s_{1} s_{8} + q s_{2} s_{8} + q s_{3} s_{8} + q s_{4} s_{8} + q^{2} + 2 \\, q + 2 \\, s_{1} + 2 \\, s_{2} + 2 \\, s_{3} + 2 \\, s_{4} + 1\\right)} {\\left(q + 1\\right)}}$$"
      ],
      "text/plain": [
       "(q^3*s5 + q^2*s1*s5 + q^2*s1*s6 + q^2*s1*s7 + q^2*s1*s8 + q^2*s5 + q*s1*s5 + q*s2*s5 + q*s3*s5 + q*s4*s5 + q*s1 + s1)/((2*q^2*s5 + q*s1*s5 + q*s2*s5 + q*s3*s5 + q*s4*s5 + 2*q^2*s6 + q*s1*s6 + q*s2*s6 + q*s3*s6 + q*s4*s6 + 2*q^2*s7 + q*s1*s7 + q*s2*s7 + q*s3*s7 + q*s4*s7 + 2*q^2*s8 + q*s1*s8 + q*s2*s8 + q*s3*s8 + q*s4*s8 + q^2 + 2*q + 2*s1 + 2*s2 + 2*s3 + 2*s4 + 1)*(q + 1))"
      ]
     },
     "metadata": {},
     "output_type": "display_data"
    },
    {
     "name": "stdout",
     "output_type": "stream",
     "text": [
      "-----\n"
     ]
    },
    {
     "data": {
      "text/html": [
       "<html><script type=\"math/tex; mode=display\">\\newcommand{\\Bold}[1]{\\mathbf{#1}}A_{2}</script></html>"
      ],
      "text/latex": [
       "$$\\newcommand{\\Bold}[1]{\\mathbf{#1}}A_{2}$$"
      ],
      "text/plain": [
       "A2"
      ]
     },
     "metadata": {},
     "output_type": "display_data"
    },
    {
     "data": {
      "text/html": [
       "<html><script type=\"math/tex; mode=display\">\\newcommand{\\Bold}[1]{\\mathbf{#1}}\\frac{q^{2} s_{2} s_{5} + q^{3} s_{6} + q^{2} s_{2} s_{6} + q^{2} s_{2} s_{7} + q^{2} s_{2} s_{8} + q^{2} s_{6} + q s_{1} s_{6} + q s_{2} s_{6} + q s_{3} s_{6} + q s_{4} s_{6} + q s_{2} + s_{2}}{{\\left(2 \\, q^{2} s_{5} + q s_{1} s_{5} + q s_{2} s_{5} + q s_{3} s_{5} + q s_{4} s_{5} + 2 \\, q^{2} s_{6} + q s_{1} s_{6} + q s_{2} s_{6} + q s_{3} s_{6} + q s_{4} s_{6} + 2 \\, q^{2} s_{7} + q s_{1} s_{7} + q s_{2} s_{7} + q s_{3} s_{7} + q s_{4} s_{7} + 2 \\, q^{2} s_{8} + q s_{1} s_{8} + q s_{2} s_{8} + q s_{3} s_{8} + q s_{4} s_{8} + q^{2} + 2 \\, q + 2 \\, s_{1} + 2 \\, s_{2} + 2 \\, s_{3} + 2 \\, s_{4} + 1\\right)} {\\left(q + 1\\right)}}</script></html>"
      ],
      "text/latex": [
       "$$\\newcommand{\\Bold}[1]{\\mathbf{#1}}\\frac{q^{2} s_{2} s_{5} + q^{3} s_{6} + q^{2} s_{2} s_{6} + q^{2} s_{2} s_{7} + q^{2} s_{2} s_{8} + q^{2} s_{6} + q s_{1} s_{6} + q s_{2} s_{6} + q s_{3} s_{6} + q s_{4} s_{6} + q s_{2} + s_{2}}{{\\left(2 \\, q^{2} s_{5} + q s_{1} s_{5} + q s_{2} s_{5} + q s_{3} s_{5} + q s_{4} s_{5} + 2 \\, q^{2} s_{6} + q s_{1} s_{6} + q s_{2} s_{6} + q s_{3} s_{6} + q s_{4} s_{6} + 2 \\, q^{2} s_{7} + q s_{1} s_{7} + q s_{2} s_{7} + q s_{3} s_{7} + q s_{4} s_{7} + 2 \\, q^{2} s_{8} + q s_{1} s_{8} + q s_{2} s_{8} + q s_{3} s_{8} + q s_{4} s_{8} + q^{2} + 2 \\, q + 2 \\, s_{1} + 2 \\, s_{2} + 2 \\, s_{3} + 2 \\, s_{4} + 1\\right)} {\\left(q + 1\\right)}}$$"
      ],
      "text/plain": [
       "(q^2*s2*s5 + q^3*s6 + q^2*s2*s6 + q^2*s2*s7 + q^2*s2*s8 + q^2*s6 + q*s1*s6 + q*s2*s6 + q*s3*s6 + q*s4*s6 + q*s2 + s2)/((2*q^2*s5 + q*s1*s5 + q*s2*s5 + q*s3*s5 + q*s4*s5 + 2*q^2*s6 + q*s1*s6 + q*s2*s6 + q*s3*s6 + q*s4*s6 + 2*q^2*s7 + q*s1*s7 + q*s2*s7 + q*s3*s7 + q*s4*s7 + 2*q^2*s8 + q*s1*s8 + q*s2*s8 + q*s3*s8 + q*s4*s8 + q^2 + 2*q + 2*s1 + 2*s2 + 2*s3 + 2*s4 + 1)*(q + 1))"
      ]
     },
     "metadata": {},
     "output_type": "display_data"
    },
    {
     "name": "stdout",
     "output_type": "stream",
     "text": [
      "-----\n"
     ]
    },
    {
     "data": {
      "text/html": [
       "<html><script type=\"math/tex; mode=display\">\\newcommand{\\Bold}[1]{\\mathbf{#1}}A_{3}</script></html>"
      ],
      "text/latex": [
       "$$\\newcommand{\\Bold}[1]{\\mathbf{#1}}A_{3}$$"
      ],
      "text/plain": [
       "A3"
      ]
     },
     "metadata": {},
     "output_type": "display_data"
    },
    {
     "data": {
      "text/html": [
       "<html><script type=\"math/tex; mode=display\">\\newcommand{\\Bold}[1]{\\mathbf{#1}}\\frac{q^{2} s_{3} s_{5} + q^{2} s_{3} s_{6} + q^{3} s_{7} + q^{2} s_{3} s_{7} + q^{2} s_{3} s_{8} + q^{2} s_{7} + q s_{1} s_{7} + q s_{2} s_{7} + q s_{3} s_{7} + q s_{4} s_{7} + q s_{3} + s_{3}}{{\\left(2 \\, q^{2} s_{5} + q s_{1} s_{5} + q s_{2} s_{5} + q s_{3} s_{5} + q s_{4} s_{5} + 2 \\, q^{2} s_{6} + q s_{1} s_{6} + q s_{2} s_{6} + q s_{3} s_{6} + q s_{4} s_{6} + 2 \\, q^{2} s_{7} + q s_{1} s_{7} + q s_{2} s_{7} + q s_{3} s_{7} + q s_{4} s_{7} + 2 \\, q^{2} s_{8} + q s_{1} s_{8} + q s_{2} s_{8} + q s_{3} s_{8} + q s_{4} s_{8} + q^{2} + 2 \\, q + 2 \\, s_{1} + 2 \\, s_{2} + 2 \\, s_{3} + 2 \\, s_{4} + 1\\right)} {\\left(q + 1\\right)}}</script></html>"
      ],
      "text/latex": [
       "$$\\newcommand{\\Bold}[1]{\\mathbf{#1}}\\frac{q^{2} s_{3} s_{5} + q^{2} s_{3} s_{6} + q^{3} s_{7} + q^{2} s_{3} s_{7} + q^{2} s_{3} s_{8} + q^{2} s_{7} + q s_{1} s_{7} + q s_{2} s_{7} + q s_{3} s_{7} + q s_{4} s_{7} + q s_{3} + s_{3}}{{\\left(2 \\, q^{2} s_{5} + q s_{1} s_{5} + q s_{2} s_{5} + q s_{3} s_{5} + q s_{4} s_{5} + 2 \\, q^{2} s_{6} + q s_{1} s_{6} + q s_{2} s_{6} + q s_{3} s_{6} + q s_{4} s_{6} + 2 \\, q^{2} s_{7} + q s_{1} s_{7} + q s_{2} s_{7} + q s_{3} s_{7} + q s_{4} s_{7} + 2 \\, q^{2} s_{8} + q s_{1} s_{8} + q s_{2} s_{8} + q s_{3} s_{8} + q s_{4} s_{8} + q^{2} + 2 \\, q + 2 \\, s_{1} + 2 \\, s_{2} + 2 \\, s_{3} + 2 \\, s_{4} + 1\\right)} {\\left(q + 1\\right)}}$$"
      ],
      "text/plain": [
       "(q^2*s3*s5 + q^2*s3*s6 + q^3*s7 + q^2*s3*s7 + q^2*s3*s8 + q^2*s7 + q*s1*s7 + q*s2*s7 + q*s3*s7 + q*s4*s7 + q*s3 + s3)/((2*q^2*s5 + q*s1*s5 + q*s2*s5 + q*s3*s5 + q*s4*s5 + 2*q^2*s6 + q*s1*s6 + q*s2*s6 + q*s3*s6 + q*s4*s6 + 2*q^2*s7 + q*s1*s7 + q*s2*s7 + q*s3*s7 + q*s4*s7 + 2*q^2*s8 + q*s1*s8 + q*s2*s8 + q*s3*s8 + q*s4*s8 + q^2 + 2*q + 2*s1 + 2*s2 + 2*s3 + 2*s4 + 1)*(q + 1))"
      ]
     },
     "metadata": {},
     "output_type": "display_data"
    },
    {
     "name": "stdout",
     "output_type": "stream",
     "text": [
      "-----\n"
     ]
    },
    {
     "data": {
      "text/html": [
       "<html><script type=\"math/tex; mode=display\">\\newcommand{\\Bold}[1]{\\mathbf{#1}}A_{4}</script></html>"
      ],
      "text/latex": [
       "$$\\newcommand{\\Bold}[1]{\\mathbf{#1}}A_{4}$$"
      ],
      "text/plain": [
       "A4"
      ]
     },
     "metadata": {},
     "output_type": "display_data"
    },
    {
     "data": {
      "text/html": [
       "<html><script type=\"math/tex; mode=display\">\\newcommand{\\Bold}[1]{\\mathbf{#1}}\\frac{q^{2} s_{4} s_{5} + q^{2} s_{4} s_{6} + q^{2} s_{4} s_{7} + q^{3} s_{8} + q^{2} s_{4} s_{8} + q^{2} s_{8} + q s_{1} s_{8} + q s_{2} s_{8} + q s_{3} s_{8} + q s_{4} s_{8} + q s_{4} + s_{4}}{{\\left(2 \\, q^{2} s_{5} + q s_{1} s_{5} + q s_{2} s_{5} + q s_{3} s_{5} + q s_{4} s_{5} + 2 \\, q^{2} s_{6} + q s_{1} s_{6} + q s_{2} s_{6} + q s_{3} s_{6} + q s_{4} s_{6} + 2 \\, q^{2} s_{7} + q s_{1} s_{7} + q s_{2} s_{7} + q s_{3} s_{7} + q s_{4} s_{7} + 2 \\, q^{2} s_{8} + q s_{1} s_{8} + q s_{2} s_{8} + q s_{3} s_{8} + q s_{4} s_{8} + q^{2} + 2 \\, q + 2 \\, s_{1} + 2 \\, s_{2} + 2 \\, s_{3} + 2 \\, s_{4} + 1\\right)} {\\left(q + 1\\right)}}</script></html>"
      ],
      "text/latex": [
       "$$\\newcommand{\\Bold}[1]{\\mathbf{#1}}\\frac{q^{2} s_{4} s_{5} + q^{2} s_{4} s_{6} + q^{2} s_{4} s_{7} + q^{3} s_{8} + q^{2} s_{4} s_{8} + q^{2} s_{8} + q s_{1} s_{8} + q s_{2} s_{8} + q s_{3} s_{8} + q s_{4} s_{8} + q s_{4} + s_{4}}{{\\left(2 \\, q^{2} s_{5} + q s_{1} s_{5} + q s_{2} s_{5} + q s_{3} s_{5} + q s_{4} s_{5} + 2 \\, q^{2} s_{6} + q s_{1} s_{6} + q s_{2} s_{6} + q s_{3} s_{6} + q s_{4} s_{6} + 2 \\, q^{2} s_{7} + q s_{1} s_{7} + q s_{2} s_{7} + q s_{3} s_{7} + q s_{4} s_{7} + 2 \\, q^{2} s_{8} + q s_{1} s_{8} + q s_{2} s_{8} + q s_{3} s_{8} + q s_{4} s_{8} + q^{2} + 2 \\, q + 2 \\, s_{1} + 2 \\, s_{2} + 2 \\, s_{3} + 2 \\, s_{4} + 1\\right)} {\\left(q + 1\\right)}}$$"
      ],
      "text/plain": [
       "(q^2*s4*s5 + q^2*s4*s6 + q^2*s4*s7 + q^3*s8 + q^2*s4*s8 + q^2*s8 + q*s1*s8 + q*s2*s8 + q*s3*s8 + q*s4*s8 + q*s4 + s4)/((2*q^2*s5 + q*s1*s5 + q*s2*s5 + q*s3*s5 + q*s4*s5 + 2*q^2*s6 + q*s1*s6 + q*s2*s6 + q*s3*s6 + q*s4*s6 + 2*q^2*s7 + q*s1*s7 + q*s2*s7 + q*s3*s7 + q*s4*s7 + 2*q^2*s8 + q*s1*s8 + q*s2*s8 + q*s3*s8 + q*s4*s8 + q^2 + 2*q + 2*s1 + 2*s2 + 2*s3 + 2*s4 + 1)*(q + 1))"
      ]
     },
     "metadata": {},
     "output_type": "display_data"
    },
    {
     "name": "stdout",
     "output_type": "stream",
     "text": [
      "-----\n"
     ]
    },
    {
     "data": {
      "text/html": [
       "<html><script type=\"math/tex; mode=display\">\\newcommand{\\Bold}[1]{\\mathbf{#1}}A_{5}</script></html>"
      ],
      "text/latex": [
       "$$\\newcommand{\\Bold}[1]{\\mathbf{#1}}A_{5}$$"
      ],
      "text/plain": [
       "A5"
      ]
     },
     "metadata": {},
     "output_type": "display_data"
    },
    {
     "data": {
      "text/html": [
       "<html><script type=\"math/tex; mode=display\">\\newcommand{\\Bold}[1]{\\mathbf{#1}}\\frac{q^{2} + q + s_{1} + s_{2} + s_{3} + s_{4}}{2 \\, q^{2} s_{5} + q s_{1} s_{5} + q s_{2} s_{5} + q s_{3} s_{5} + q s_{4} s_{5} + 2 \\, q^{2} s_{6} + q s_{1} s_{6} + q s_{2} s_{6} + q s_{3} s_{6} + q s_{4} s_{6} + 2 \\, q^{2} s_{7} + q s_{1} s_{7} + q s_{2} s_{7} + q s_{3} s_{7} + q s_{4} s_{7} + 2 \\, q^{2} s_{8} + q s_{1} s_{8} + q s_{2} s_{8} + q s_{3} s_{8} + q s_{4} s_{8} + q^{2} + 2 \\, q + 2 \\, s_{1} + 2 \\, s_{2} + 2 \\, s_{3} + 2 \\, s_{4} + 1}</script></html>"
      ],
      "text/latex": [
       "$$\\newcommand{\\Bold}[1]{\\mathbf{#1}}\\frac{q^{2} + q + s_{1} + s_{2} + s_{3} + s_{4}}{2 \\, q^{2} s_{5} + q s_{1} s_{5} + q s_{2} s_{5} + q s_{3} s_{5} + q s_{4} s_{5} + 2 \\, q^{2} s_{6} + q s_{1} s_{6} + q s_{2} s_{6} + q s_{3} s_{6} + q s_{4} s_{6} + 2 \\, q^{2} s_{7} + q s_{1} s_{7} + q s_{2} s_{7} + q s_{3} s_{7} + q s_{4} s_{7} + 2 \\, q^{2} s_{8} + q s_{1} s_{8} + q s_{2} s_{8} + q s_{3} s_{8} + q s_{4} s_{8} + q^{2} + 2 \\, q + 2 \\, s_{1} + 2 \\, s_{2} + 2 \\, s_{3} + 2 \\, s_{4} + 1}$$"
      ],
      "text/plain": [
       "(q^2 + q + s1 + s2 + s3 + s4)/(2*q^2*s5 + q*s1*s5 + q*s2*s5 + q*s3*s5 + q*s4*s5 + 2*q^2*s6 + q*s1*s6 + q*s2*s6 + q*s3*s6 + q*s4*s6 + 2*q^2*s7 + q*s1*s7 + q*s2*s7 + q*s3*s7 + q*s4*s7 + 2*q^2*s8 + q*s1*s8 + q*s2*s8 + q*s3*s8 + q*s4*s8 + q^2 + 2*q + 2*s1 + 2*s2 + 2*s3 + 2*s4 + 1)"
      ]
     },
     "metadata": {},
     "output_type": "display_data"
    },
    {
     "name": "stdout",
     "output_type": "stream",
     "text": [
      "-----\n"
     ]
    }
   ],
   "source": [
    "variables = \"\"\n",
    "\n",
    "N = 4\n",
    "\n",
    "for i in range(N+2):\n",
    "    variables += \"A\"+str(i)+\",\"\n",
    "    \n",
    "for k in range(2*N):\n",
    "    variables += \"s\"+str(k+1)+\",\"\n",
    "    \n",
    "V = var(variables)\n",
    "\n",
    "# display(V)\n",
    "\n",
    "norm = 0\n",
    "for m in range(N+2):\n",
    "    norm += V[m]\n",
    "    \n",
    "eqs = [norm==1]\n",
    "\n",
    "for j in range(N+2):\n",
    "    if j == 0:\n",
    "        LHS = V[j]*q\n",
    "        RHS = V[N+1]\n",
    "        for k in range(1,N+1):\n",
    "            LHS += V[j]*V[N+1+k]\n",
    "            RHS += V[k]*q\n",
    "        eqs.append(LHS == RHS)\n",
    "        \n",
    "    elif j==N+1:\n",
    "        LHS = V[N+1]\n",
    "        RHS = V[0]*q\n",
    "        for k in range(1,N+1):\n",
    "            LHS += V[j]*q*V[N+1+N+k]\n",
    "            RHS += V[k]\n",
    "        eqs.append(LHS == RHS)\n",
    "        \n",
    "    else:\n",
    "        RHS = V[j]*(1+q)\n",
    "        LHS = V[0]*V[N+1+j] + V[N+1]*q*V[2*N+1+j]\n",
    "        eqs.append(LHS == RHS)\n",
    "        \n",
    "# for e in eqs:\n",
    "#     display(e)\n",
    "        \n",
    "S = solve(eqs,V[0],V[1],V[2],V[3],V[4],V[5]\n",
    "          #,V[6],V[7],V[8],V[9],V[10],V[11],V[12],V[13],V[14],V[15]\n",
    "          ,solution_dict=True)\n",
    "\n",
    "display(len(S))\n",
    "\n",
    "for k in range(N+2):\n",
    "    display(V[k])\n",
    "    display((S[0][V[k]]).factor())\n",
    "    \n",
    "    print(\"-----\")"
   ]
  },
  {
   "cell_type": "code",
   "execution_count": 209,
   "metadata": {},
   "outputs": [
    {
     "data": {
      "text/html": [
       "<html><script type=\"math/tex; mode=display\">\\newcommand{\\Bold}[1]{\\mathbf{#1}}72</script></html>"
      ],
      "text/latex": [
       "$$\\newcommand{\\Bold}[1]{\\mathbf{#1}}72$$"
      ],
      "text/plain": [
       "72"
      ]
     },
     "metadata": {},
     "output_type": "display_data"
    }
   ],
   "source": [
    "Z = S[0][V[1]].factor().denominator()\n",
    "\n",
    "ev = Z.subs(q=1,s1=1,s2=1,s3=1,s4=1,s5=1,s6=1,s7=1,s8=1,s9=1,s10=1,\n",
    "            s11=1,s12=1,s13=1,s14=1,s15=1,s16=1,s17=1,s18=1,s19=1,s20=1,\n",
    "            s21=1,s22=1,s23=1,s24=1,s25=1,s26=1,s27=1,s28=1,s29=1,s30=1)\n",
    "\n",
    "display(ev)"
   ]
  },
  {
   "cell_type": "code",
   "execution_count": null,
   "metadata": {},
   "outputs": [],
   "source": []
  },
  {
   "cell_type": "code",
   "execution_count": null,
   "metadata": {},
   "outputs": [],
   "source": []
  }
 ],
 "metadata": {
  "kernelspec": {
   "display_name": "SageMath 9.3",
   "language": "sage",
   "name": "sagemath"
  },
  "language_info": {
   "codemirror_mode": {
    "name": "ipython",
    "version": 3
   },
   "file_extension": ".py",
   "mimetype": "text/x-python",
   "name": "python",
   "nbconvert_exporter": "python",
   "pygments_lexer": "ipython3",
   "version": "3.7.10"
  }
 },
 "nbformat": 4,
 "nbformat_minor": 4
}
